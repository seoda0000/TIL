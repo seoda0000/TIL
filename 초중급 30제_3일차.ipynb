{
 "cells": [
  {
   "cell_type": "markdown",
   "id": "9ab6e390-840f-4b38-ba7f-fcc9a9e9314f",
   "metadata": {},
   "source": [
    "# 김왼손의 왼손코딩 1일 1파이썬 : 초중급자를 위한 파이썬 30제\n",
    "https://www.inflearn.com/course/%ED%8C%8C%EC%9D%B4%EC%8D%AC-%EC%98%88%EC%A0%9C\n",
    "## CheckiO : https://py.checkio.org/mission/search/\n",
    "#### 2022-04-13 3일차 seoda0000"
   ]
  },
  {
   "cell_type": "markdown",
   "id": "f376ec03-d275-44a9-82c9-4e5bde22f9b2",
   "metadata": {},
   "source": [
    "-------------------------"
   ]
  },
  {
   "cell_type": "markdown",
   "id": "fa9d089f-5a9b-4fa7-980a-031fb32260f7",
   "metadata": {},
   "source": [
    "## **Today I Learned** \n",
    "* #### **sorted(data, key=lambda x: x[정렬대상 값의 키])**\n",
    "    리스트를 key를 기준으로 정렬함. lambda를 통해 요소인 딕셔너리를 설정.\n",
    "* #### **if args**\n",
    "    빈값을 확인할 때 이용하면 편리하다.\n",
    "* #### **if not list**\n",
    "    빈 리스트을 확인할 때 이용하면 편리하다.\n",
    "* #### **args의 타입은 tuple**\n",
    "    max, min 등 바로 사용 가능하다.\n",
    "* #### **list[시작값:끝값+1:steps]**\n",
    "    slicing으로 바로 원하는 list를 얻을 수 있다.\n",
    "* #### **else를 매번 쓸 필요는 없다.**"
   ]
  },
  {
   "cell_type": "markdown",
   "id": "79a6f08d-a5e8-4463-b577-ae32535a7d8a",
   "metadata": {},
   "source": [
    "---------------"
   ]
  },
  {
   "cell_type": "markdown",
   "id": "88441af8-846d-41b7-bfc4-217cd11a9cba",
   "metadata": {},
   "source": [
    "## 8. Bigger Price\n",
    "You have a table with all available goods in the store. The data is represented as a list of dicts\n",
    "\n",
    "Your mission here is to find the TOP most expensive goods. The amount we are looking for will be given as a first argument and the whole data as the second one\n",
    "\n",
    "* Input: int and list of dicts. Each dicts has two keys \"name\" and \"price\"\n",
    "\n",
    "* Output: the same as the second Input argument."
   ]
  },
  {
   "cell_type": "code",
   "execution_count": 22,
   "id": "fe290bd3-61e1-4e25-9e3c-313c8608d048",
   "metadata": {},
   "outputs": [],
   "source": [
    "#try\n",
    "\n",
    "def bigger_price(n: int, lst: list) -> list:\n",
    "    price_list = []\n",
    "    for i in lst:\n",
    "        price_list.append(i[\"price\"])\n",
    "    price_list.sort(reverse = True)\n",
    "    price_list = price_list[:n]\n",
    "    final = []\n",
    "    for j in price_list:\n",
    "        for i in lst:\n",
    "            if i[\"price\"] == j:\n",
    "                final.append(i)\n",
    "    return final"
   ]
  },
  {
   "cell_type": "code",
   "execution_count": 23,
   "id": "fdae51c2-6cd8-4c3a-ba18-f8cc7b246ff4",
   "metadata": {},
   "outputs": [
    {
     "name": "stdout",
     "output_type": "stream",
     "text": [
      "Done! Looks like it is fine. Go and check it\n"
     ]
    }
   ],
   "source": [
    "assert bigger_price(2, [\n",
    "    {\"name\": \"bread\", \"price\": 100},\n",
    "    {\"name\": \"wine\", \"price\": 138},\n",
    "    {\"name\": \"meat\", \"price\": 15},\n",
    "    {\"name\": \"water\", \"price\": 1}\n",
    "]) == [\n",
    "    {\"name\": \"wine\", \"price\": 138},\n",
    "    {\"name\": \"bread\", \"price\": 100}\n",
    "], \"First\"\n",
    "\n",
    "assert bigger_price(1, [\n",
    "    {\"name\": \"pen\", \"price\": 5},\n",
    "    {\"name\": \"whiteboard\", \"price\": 170}\n",
    "]) == [{\"name\": \"whiteboard\", \"price\": 170}], \"Second\"\n",
    "\n",
    "print('Done! Looks like it is fine. Go and check it')"
   ]
  },
  {
   "cell_type": "markdown",
   "id": "1406e7d3-2563-454d-a326-36aac7c8291b",
   "metadata": {},
   "source": [
    "* #### **sorted(data, key=lambda x: x[정렬대상 값의 키])**\n",
    "    리스트를 key를 기준으로 정렬함. lambda를 통해 요소인 딕셔너리를 설정."
   ]
  },
  {
   "cell_type": "code",
   "execution_count": 26,
   "id": "15ea58e2-b83f-4e85-b0f2-87c955e2f396",
   "metadata": {},
   "outputs": [],
   "source": [
    "#answer\n",
    "\n",
    "def bigger_price(limit: int, data: list) -> list:\n",
    "    return sorted(data, key=lambda x: x['price'], reverse=True)[:limit]"
   ]
  },
  {
   "cell_type": "code",
   "execution_count": 25,
   "id": "a0713700-5de0-4695-b1f4-97e6420cafe1",
   "metadata": {},
   "outputs": [
    {
     "name": "stdout",
     "output_type": "stream",
     "text": [
      "Done! Looks like it is fine. Go and check it\n"
     ]
    }
   ],
   "source": [
    "assert bigger_price(2, [\n",
    "    {\"name\": \"bread\", \"price\": 100},\n",
    "    {\"name\": \"wine\", \"price\": 138},\n",
    "    {\"name\": \"meat\", \"price\": 15},\n",
    "    {\"name\": \"water\", \"price\": 1}\n",
    "]) == [\n",
    "    {\"name\": \"wine\", \"price\": 138},\n",
    "    {\"name\": \"bread\", \"price\": 100}\n",
    "], \"First\"\n",
    "\n",
    "assert bigger_price(1, [\n",
    "    {\"name\": \"pen\", \"price\": 5},\n",
    "    {\"name\": \"whiteboard\", \"price\": 170}\n",
    "]) == [{\"name\": \"whiteboard\", \"price\": 170}], \"Second\"\n",
    "\n",
    "print('Done! Looks like it is fine. Go and check it')"
   ]
  },
  {
   "cell_type": "markdown",
   "id": "74aaf35d-f73b-4837-9a54-53e07ab844c2",
   "metadata": {},
   "source": [
    "## 9. Fizz Buss\n",
    "\"Fizz buzz\" is a word game we will use to teach the robots about division. Let's learn computers.\n",
    "\n",
    "You should write a function that will receive a positive integer and return:\n",
    "\n",
    "\"Fizz Buzz\" if the number is divisible by 3 and by 5;\n",
    "\n",
    "\"Fizz\" if the number is divisible by 3;\n",
    "\n",
    "\"Buzz\" if the number is divisible by 5;\n",
    "\n",
    "The number as a string for other cases.\n",
    "* Input: A number as an integer.\n",
    "* Output: The answer as a string."
   ]
  },
  {
   "cell_type": "code",
   "execution_count": 27,
   "id": "0606e5e0-a18d-459e-bd1c-200b074f3fe8",
   "metadata": {},
   "outputs": [],
   "source": [
    "def fizz_buzz(n: int) -> str:\n",
    "    if n % 3 == 0 and n % 5 == 0:\n",
    "        return \"Fizz Buzz\"\n",
    "    elif n % 3 == 0:\n",
    "        return \"Fizz\"\n",
    "    elif n % 5 == 0:\n",
    "        return \"Buzz\"\n",
    "    else:\n",
    "        return str(n)"
   ]
  },
  {
   "cell_type": "code",
   "execution_count": 29,
   "id": "3467511d-3569-46f1-8564-f2f4cf0ccff7",
   "metadata": {},
   "outputs": [],
   "source": [
    "assert fizz_buzz(15) == \"Fizz Buzz\"\n",
    "assert fizz_buzz(6) == \"Fizz\"\n",
    "assert fizz_buzz(5) == \"Buzz\"\n",
    "assert fizz_buzz(7) == \"7\""
   ]
  },
  {
   "cell_type": "markdown",
   "id": "9e21de52-972a-42db-9d07-5f6944a6ed4b",
   "metadata": {},
   "source": [
    "## 10. The Most Numbers\n",
    "You are given an array of numbers (floats). You should find the difference between the maximum and minimum element. Your function should be able to handle an undefined amount of arguments. For an empty argument list, the function should return 0.\n",
    "\n",
    "Floating-point numbers are represented in computer hardware as base 2 (binary) fractions. So we should check the result with ±0.001 precision.\n",
    "\n",
    "Think about how to work with an arbitrary number of arguments.\n",
    "\n",
    "* Input: An arbitrary number of arguments as numbers (int, float).\n",
    "* Output: The difference between maximum and minimum as a number (int, float)."
   ]
  },
  {
   "cell_type": "code",
   "execution_count": 49,
   "id": "20cad447-e7aa-4d23-869b-686e310f607b",
   "metadata": {},
   "outputs": [],
   "source": [
    "#try\n",
    "\n",
    "def the_most_numbers(*args: (float, int)) -> (float, int):\n",
    "        if len(args) == 0:\n",
    "            return 0\n",
    "        return max(list(args)) - min(list(args))"
   ]
  },
  {
   "cell_type": "code",
   "execution_count": 50,
   "id": "05b932f2-fd49-4063-9e2e-6b3276e2e57e",
   "metadata": {},
   "outputs": [
    {
     "data": {
      "text/plain": [
       "0"
      ]
     },
     "execution_count": 50,
     "metadata": {},
     "output_type": "execute_result"
    }
   ],
   "source": [
    "the_most_numbers()"
   ]
  },
  {
   "cell_type": "code",
   "execution_count": 51,
   "id": "ca5a3620-d4f1-4848-a0e7-99427a2f8a7c",
   "metadata": {},
   "outputs": [
    {
     "data": {
      "text/plain": [
       "2"
      ]
     },
     "execution_count": 51,
     "metadata": {},
     "output_type": "execute_result"
    }
   ],
   "source": [
    "the_most_numbers(3, 4, 5)"
   ]
  },
  {
   "cell_type": "markdown",
   "id": "c9e184c9-dec7-43c2-ab17-841938d1e430",
   "metadata": {},
   "source": [
    "* #### **빈값을 확인할 때는 if args를 이용하면 편리하다.**\n",
    "* #### **args의 타입은 tuple이다. max, min 등 바로 사용 가능하다.**"
   ]
  },
  {
   "cell_type": "code",
   "execution_count": 52,
   "id": "83541f79-8e96-43bb-9726-46b79e04d9d6",
   "metadata": {},
   "outputs": [],
   "source": [
    "#answer\n",
    "\n",
    "def the_most_numbers(*args):\n",
    "        if args:\n",
    "            return max(args) - min(args)\n",
    "        else:\n",
    "            return 0"
   ]
  },
  {
   "cell_type": "code",
   "execution_count": 53,
   "id": "9ca45d6c-14f5-4623-bb9c-6edc3c61c295",
   "metadata": {},
   "outputs": [
    {
     "data": {
      "text/plain": [
       "0"
      ]
     },
     "execution_count": 53,
     "metadata": {},
     "output_type": "execute_result"
    }
   ],
   "source": [
    "the_most_numbers()"
   ]
  },
  {
   "cell_type": "code",
   "execution_count": 54,
   "id": "7d968e71-a365-4637-8722-9e9e73a3008e",
   "metadata": {},
   "outputs": [
    {
     "data": {
      "text/plain": [
       "2"
      ]
     },
     "execution_count": 54,
     "metadata": {},
     "output_type": "execute_result"
    }
   ],
   "source": [
    "the_most_numbers(3, 4, 5)"
   ]
  },
  {
   "cell_type": "markdown",
   "id": "c9144ab3-b4f0-4312-95a6-3f2abd22da4a",
   "metadata": {},
   "source": [
    "## 11. Even the Last\n",
    "You are given an array of integers. You should find the sum of the integers with even indexes (0th, 2nd, 4th...). Then multiply this summed number and the final element of the array together. Don't forget that the first element has an index of 0.\n",
    "\n",
    "For an empty array, the result will always be 0 (zero).\n",
    "\n",
    "* Input: A list of integers.\n",
    "* Output: The number as an integer."
   ]
  },
  {
   "cell_type": "code",
   "execution_count": 59,
   "id": "97c652f0-249d-4edd-a1b7-8957b88bde66",
   "metadata": {},
   "outputs": [],
   "source": [
    "#try\n",
    "def even_the_last(lst: list) -> int:\n",
    "    n = len(lst)\n",
    "    if n == 0:\n",
    "        return 0\n",
    "    else:\n",
    "        sumlist = []\n",
    "        for i in range(0, n, 2):\n",
    "            sumlist.append(lst[i])\n",
    "        return sum(sumlist) * lst[-1]"
   ]
  },
  {
   "cell_type": "code",
   "execution_count": 61,
   "id": "a3fb205a-85eb-4d81-a6fc-a57e3815b783",
   "metadata": {},
   "outputs": [
    {
     "name": "stdout",
     "output_type": "stream",
     "text": [
      "Coding complete? Click 'Check' to review your tests and earn cool rewards!\n"
     ]
    }
   ],
   "source": [
    "assert even_the_last([0, 1, 2, 3, 4, 5]) == 30, \"(0+2+4)*5=30\"\n",
    "assert even_the_last([1, 3, 5]) == 30, \"(1+5)*5=30\"\n",
    "assert even_the_last([6]) == 36, \"(6)*6=36\"\n",
    "assert even_the_last([]) == 0, \"An empty array = 0\"\n",
    "print(\"Coding complete? Click 'Check' to review your tests and earn cool rewards!\")"
   ]
  },
  {
   "cell_type": "markdown",
   "id": "131e86a9-5275-48ab-905b-579a436b966d",
   "metadata": {},
   "source": [
    "* #### **빈 리스트을 확인할 때는 if not list를 이용하면 편리하다.**\n",
    "* #### **else를 매번 쓸 필요는 없다.**\n",
    "* #### **list[시작값:끝값+1:steps]**\n",
    "    slicing으로 바로 원하는 list를 얻을 수 있다."
   ]
  },
  {
   "cell_type": "code",
   "execution_count": 64,
   "id": "41dd5b7e-60d6-4ad7-bfd7-ee7f5b861cc4",
   "metadata": {},
   "outputs": [],
   "source": [
    "#answer\n",
    "def even_the_last(lst: list) -> int:\n",
    "    if not lst:\n",
    "        return 0\n",
    "    return sum(lst[::2]) * lst[-1]"
   ]
  },
  {
   "cell_type": "code",
   "execution_count": 65,
   "id": "3b9ba97d-c7c1-440c-8ea6-0aeb5c669a8f",
   "metadata": {},
   "outputs": [
    {
     "name": "stdout",
     "output_type": "stream",
     "text": [
      "Coding complete? Click 'Check' to review your tests and earn cool rewards!\n"
     ]
    }
   ],
   "source": [
    "assert even_the_last([0, 1, 2, 3, 4, 5]) == 30, \"(0+2+4)*5=30\"\n",
    "assert even_the_last([1, 3, 5]) == 30, \"(1+5)*5=30\"\n",
    "assert even_the_last([6]) == 36, \"(6)*6=36\"\n",
    "assert even_the_last([]) == 0, \"An empty array = 0\"\n",
    "print(\"Coding complete? Click 'Check' to review your tests and earn cool rewards!\")"
   ]
  }
 ],
 "metadata": {
  "kernelspec": {
   "display_name": "Python 3",
   "language": "python",
   "name": "python3"
  },
  "language_info": {
   "codemirror_mode": {
    "name": "ipython",
    "version": 3
   },
   "file_extension": ".py",
   "mimetype": "text/x-python",
   "name": "python",
   "nbconvert_exporter": "python",
   "pygments_lexer": "ipython3",
   "version": "3.8.8"
  }
 },
 "nbformat": 4,
 "nbformat_minor": 5
}
