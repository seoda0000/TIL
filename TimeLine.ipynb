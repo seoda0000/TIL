{
 "cells": [
  {
   "cell_type": "code",
   "execution_count": 2,
   "id": "e30689ac-0317-42a8-8a0a-9bc62cac3859",
   "metadata": {},
   "outputs": [],
   "source": [
    "import pandas as pd\n",
    "import matplotlib.pyplot as plt\n",
    "import numpy as np"
   ]
  },
  {
   "cell_type": "code",
   "execution_count": 3,
   "id": "b919c215-44d6-48bf-8d98-f66872db82d9",
   "metadata": {},
   "outputs": [
    {
     "data": {
      "text/html": [
       "<div>\n",
       "<style scoped>\n",
       "    .dataframe tbody tr th:only-of-type {\n",
       "        vertical-align: middle;\n",
       "    }\n",
       "\n",
       "    .dataframe tbody tr th {\n",
       "        vertical-align: top;\n",
       "    }\n",
       "\n",
       "    .dataframe thead th {\n",
       "        text-align: right;\n",
       "    }\n",
       "</style>\n",
       "<table border=\"1\" class=\"dataframe\">\n",
       "  <thead>\n",
       "    <tr style=\"text-align: right;\">\n",
       "      <th></th>\n",
       "      <th>Task</th>\n",
       "      <th>Department</th>\n",
       "      <th>Start</th>\n",
       "      <th>End</th>\n",
       "      <th>start_num</th>\n",
       "      <th>end_num</th>\n",
       "      <th>days_start_to_end</th>\n",
       "    </tr>\n",
       "  </thead>\n",
       "  <tbody>\n",
       "    <tr>\n",
       "      <th>0</th>\n",
       "      <td>Product Design</td>\n",
       "      <td>Product Plan</td>\n",
       "      <td>2021-11-04</td>\n",
       "      <td>2021-11-09</td>\n",
       "      <td>1</td>\n",
       "      <td>6</td>\n",
       "      <td>5</td>\n",
       "    </tr>\n",
       "    <tr>\n",
       "      <th>1</th>\n",
       "      <td>Mechanism Design</td>\n",
       "      <td>HW</td>\n",
       "      <td>2021-11-11</td>\n",
       "      <td>2021-11-20</td>\n",
       "      <td>8</td>\n",
       "      <td>17</td>\n",
       "      <td>7</td>\n",
       "    </tr>\n",
       "    <tr>\n",
       "      <th>2</th>\n",
       "      <td>3D CAD</td>\n",
       "      <td>HW</td>\n",
       "      <td>2021-11-18</td>\n",
       "      <td>2021-11-26</td>\n",
       "      <td>15</td>\n",
       "      <td>22</td>\n",
       "      <td>7</td>\n",
       "    </tr>\n",
       "    <tr>\n",
       "      <th>3</th>\n",
       "      <td>3D Simulation</td>\n",
       "      <td>HW</td>\n",
       "      <td>2021-11-26</td>\n",
       "      <td>2021-12-03</td>\n",
       "      <td>22</td>\n",
       "      <td>29</td>\n",
       "      <td>7</td>\n",
       "    </tr>\n",
       "    <tr>\n",
       "      <th>4</th>\n",
       "      <td>Motor Driving</td>\n",
       "      <td>SW</td>\n",
       "      <td>2021-11-11</td>\n",
       "      <td>2021-11-18</td>\n",
       "      <td>8</td>\n",
       "      <td>15</td>\n",
       "      <td>7</td>\n",
       "    </tr>\n",
       "    <tr>\n",
       "      <th>5</th>\n",
       "      <td>Gyro Sensing</td>\n",
       "      <td>SW</td>\n",
       "      <td>2021-11-18</td>\n",
       "      <td>2021-11-26</td>\n",
       "      <td>15</td>\n",
       "      <td>22</td>\n",
       "      <td>7</td>\n",
       "    </tr>\n",
       "    <tr>\n",
       "      <th>6</th>\n",
       "      <td>Potential Client Survey</td>\n",
       "      <td>Marketing</td>\n",
       "      <td>2021-11-17</td>\n",
       "      <td>2021-11-21</td>\n",
       "      <td>14</td>\n",
       "      <td>18</td>\n",
       "      <td>14</td>\n",
       "    </tr>\n",
       "    <tr>\n",
       "      <th>7</th>\n",
       "      <td>Market Research</td>\n",
       "      <td>Marketing</td>\n",
       "      <td>2021-11-10</td>\n",
       "      <td>2021-11-17</td>\n",
       "      <td>7</td>\n",
       "      <td>14</td>\n",
       "      <td>7</td>\n",
       "    </tr>\n",
       "    <tr>\n",
       "      <th>8</th>\n",
       "      <td>PR Planning</td>\n",
       "      <td>Marketing</td>\n",
       "      <td>2021-12-01</td>\n",
       "      <td>2021-12-07</td>\n",
       "      <td>27</td>\n",
       "      <td>33</td>\n",
       "      <td>11</td>\n",
       "    </tr>\n",
       "  </tbody>\n",
       "</table>\n",
       "</div>"
      ],
      "text/plain": [
       "                      Task    Department      Start        End  start_num  \\\n",
       "0           Product Design  Product Plan 2021-11-04 2021-11-09          1   \n",
       "1         Mechanism Design            HW 2021-11-11 2021-11-20          8   \n",
       "2                   3D CAD            HW 2021-11-18 2021-11-26         15   \n",
       "3            3D Simulation            HW 2021-11-26 2021-12-03         22   \n",
       "4            Motor Driving            SW 2021-11-11 2021-11-18          8   \n",
       "5             Gyro Sensing            SW 2021-11-18 2021-11-26         15   \n",
       "6  Potential Client Survey     Marketing 2021-11-17 2021-11-21         14   \n",
       "7          Market Research     Marketing 2021-11-10 2021-11-17          7   \n",
       "8              PR Planning     Marketing 2021-12-01 2021-12-07         27   \n",
       "\n",
       "   end_num  days_start_to_end  \n",
       "0        6                  5  \n",
       "1       17                  7  \n",
       "2       22                  7  \n",
       "3       29                  7  \n",
       "4       15                  7  \n",
       "5       22                  7  \n",
       "6       18                 14  \n",
       "7       14                  7  \n",
       "8       33                 11  "
      ]
     },
     "execution_count": 3,
     "metadata": {},
     "output_type": "execute_result"
    }
   ],
   "source": [
    "df = pd.read_excel('plan.xlsx')\n",
    "df"
   ]
  },
  {
   "cell_type": "code",
   "execution_count": 4,
   "id": "5f5103af-ce7f-4af1-9fb6-46e89057fb8e",
   "metadata": {},
   "outputs": [],
   "source": [
    "# project start date\n",
    "proj_start = df.Start.min()\n",
    "# number of days from project start to task start\n",
    "df['start_num'] = (df.Start-proj_start).dt.days\n",
    "# number of days from project start to end of tasks\n",
    "df['end_num'] = (df.End-proj_start).dt.days\n",
    "# days between start and end of each task\n",
    "df['days_start_to_end'] = df.end_num - df.start_num"
   ]
  },
  {
   "cell_type": "code",
   "execution_count": 5,
   "id": "3ba69127-3b58-49dd-bc08-d2eba81b0c49",
   "metadata": {},
   "outputs": [
    {
     "data": {
      "image/png": "[encoded data removed]",
      "text/plain": [
       "<Figure size 1152x432 with 1 Axes>"
      ]
     },
     "metadata": {
      "needs_background": "light"
     },
     "output_type": "display_data"
    }
   ],
   "source": [
    "fig, ax = plt.subplots(1, figsize=(16,6))\n",
    "ax.barh(df.Task, df.days_start_to_end, left=df.start_num)\n",
    "plt.show()"
   ]
  },
  {
   "cell_type": "code",
   "execution_count": 6,
   "id": "3c887028-05ef-43e6-860d-98897e370513",
   "metadata": {},
   "outputs": [],
   "source": [
    "# create a column with the color for each department\n",
    "def color(row):\n",
    "    c_dict = {'Product Plan':'#E64646', 'HW':'#E69646', 'SW':'#34D05C', 'Marketing':'#34D0C3'}\n",
    "    return c_dict[row['Department']]\n",
    "df['color'] = df.apply(color, axis=1)"
   ]
  },
  {
   "cell_type": "code",
   "execution_count": 7,
   "id": "86a8080f-c44d-4672-8546-3d246dfdbc4f",
   "metadata": {},
   "outputs": [
    {
     "data": {
      "image/png": "[encoded data removed]",
      "text/plain": [
       "<Figure size 1152x576 with 1 Axes>"
      ]
     },
     "metadata": {
      "needs_background": "light"
     },
     "output_type": "display_data"
    }
   ],
   "source": [
    "from matplotlib.patches import Patch\n",
    "plt.rc('font', size=15)  \n",
    "fig, ax = plt.subplots(1, figsize=(16,8))\n",
    "ax.barh(df.Task, df.days_start_to_end, left=df.start_num, color=df.color)\n",
    "##### LEGENDS #####\n",
    "c_dict = {'Product Plan':'#E64646', 'HW':'#E69646', 'SW':'#34D05C', 'Marketing':'#34D0C3'}\n",
    "legend_elements = [Patch(facecolor=c_dict[i], label=i)  for i in c_dict]\n",
    "plt.legend(handles=legend_elements)\n",
    "##### TICKS #####\n",
    "xticks = np.arange(0, df.end_num.max()+1, 3)\n",
    "xticks_labels = pd.date_range(proj_start, end=df.End.max()).strftime(\"%m/%d\")\n",
    "xticks_minor = np.arange(0, df.end_num.max()+1, 1)\n",
    "ax.set_xticks(xticks)\n",
    "ax.set_xticks(xticks_minor, minor=True)\n",
    "ax.set_xticklabels(xticks_labels[::3])\n",
    "#plt.show()\n",
    "plt.savefig(\"TimeLine.png\", bbox_inches='tight')"
   ]
  },
  {
   "cell_type": "code",
   "execution_count": null,
   "id": "29ffcd39-3069-4116-8d1a-52f4aa62d108",
   "metadata": {},
   "outputs": [],
   "source": []
  },
  {
   "cell_type": "code",
   "execution_count": null,
   "id": "e910e1ab-0f5f-44cd-93fa-c46346b11b58",
   "metadata": {},
   "outputs": [],
   "source": []
  }
 ],
 "metadata": {
  "kernelspec": {
   "display_name": "Python 3",
   "language": "python",
   "name": "python3"
  },
  "language_info": {
   "codemirror_mode": {
    "name": "ipython",
    "version": 3
   },
   "file_extension": ".py",
   "mimetype": "text/x-python",
   "name": "python",
   "nbconvert_exporter": "python",
   "pygments_lexer": "ipython3",
   "version": "3.8.8"
  }
 },
 "nbformat": 4,
 "nbformat_minor": 5
}
