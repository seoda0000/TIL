{
 "cells": [
  {
   "cell_type": "markdown",
   "id": "efebf200-172f-4b4c-b31e-bd01af04f69c",
   "metadata": {},
   "source": [
    "#### **프로그래머스** https://programmers.co.kr/learn/challenges\n",
    "##### 코딩테스트 연습 2022-05-11 16일차 seoda0000"
   ]
  },
  {
   "cell_type": "markdown",
   "id": "01d2438b-9adb-4ff8-b35b-4f8fc349cfc7",
   "metadata": {},
   "source": [
    "--------------------"
   ]
  },
  {
   "cell_type": "markdown",
   "id": "7b013e9c-4d1b-4e40-b722-4bb0f9b573df",
   "metadata": {},
   "source": [
    "### Review"
   ]
  },
  {
   "cell_type": "code",
   "execution_count": 2,
   "id": "d39a05b2-2b41-4ed6-af35-78b278f4560e",
   "metadata": {},
   "outputs": [
    {
     "name": "stdout",
     "output_type": "stream",
     "text": [
      "9 20\n"
     ]
    }
   ],
   "source": [
    "a, b = 5, 4\n",
    "a, b = a+b, a*b\n",
    "print(a, b)"
   ]
  },
  {
   "cell_type": "markdown",
   "id": "6a01c2fa-0d12-45b8-96d3-e19f0f93f827",
   "metadata": {},
   "source": [
    "# **TIL**\n",
    "\n",
    "* 문자열 비교 연산\n",
    "    * 첫번째 인덱스의 요소를 ascii숫자로 바꿔서 비교한다. 이때 둘이 같다면, 다음 인덱스도 차례로 비교한다.\n",
    "    \n",
    "------------------\n",
    "#### 미래의 나에게...\n",
    "* 쉽게 생각하자. 잘 안 풀리면 조작하는 데이터의 관점을 바꿔보자.\n",
    "* 논리적으로 순차적으로 생각하기.\n",
    "* 무작정 코드를 짧게 줄이는 건 도움이 되지 않는다. 개체를 단순하게 만들자.\n",
    "* 리스트의 구성요소 기준으로 차례대로 생각해보자. (런타임을 줄여야 한다!)\n",
    "* for 구문은 되도록 필수적일 때만 사용하자.\n",
    "* 인덱스를 활용하자.\n",
    "* 최대값과 최소값에 유의하자."
   ]
  },
  {
   "cell_type": "markdown",
   "id": "e158152f-113b-495f-aab3-421be8463340",
   "metadata": {},
   "source": [
    "---------------------\n",
    "정렬\n",
    "\n",
    "## **가장 큰 수**\n",
    "\n",
    "* 0 또는 양의 정수가 담긴 배열 numbers가 매개변수로 주어질 때, 순서를 재배치하여 만들 수 있는 가장 큰 수를 문자열로 바꾸어 return 하도록 solution 함수를 작성해주세요."
   ]
  },
  {
   "cell_type": "code",
   "execution_count": 15,
   "id": "cd109476-3b39-442e-96f6-7deb07c798e2",
   "metadata": {},
   "outputs": [],
   "source": [
    "#try score:53.3/100\n",
    "def solution(numbers):\n",
    "    numbers = [str(i) for i in numbers]\n",
    "    numbers.sort(key = lambda x : (x[0], x[-1]), reverse = True)\n",
    "    \n",
    "    return \"\".join(numbers)"
   ]
  },
  {
   "cell_type": "code",
   "execution_count": 16,
   "id": "8386e4b0-4af5-4845-8dea-41c0d4608738",
   "metadata": {},
   "outputs": [
    {
     "data": {
      "text/plain": [
       "'9534330'"
      ]
     },
     "execution_count": 16,
     "metadata": {},
     "output_type": "execute_result"
    }
   ],
   "source": [
    "solution([3, 30, 34, 5, 9])"
   ]
  },
  {
   "cell_type": "code",
   "execution_count": 17,
   "id": "75f4f943-4e16-42f8-8c68-e258d5d6d525",
   "metadata": {},
   "outputs": [
    {
     "data": {
      "text/plain": [
       "'6210'"
      ]
     },
     "execution_count": 17,
     "metadata": {},
     "output_type": "execute_result"
    }
   ],
   "source": [
    "solution([6, 10, 2])"
   ]
  },
  {
   "cell_type": "markdown",
   "id": "efb426e4-e350-41e5-adfa-4daabdb88d01",
   "metadata": {},
   "source": [
    "* 숫자를 str로 변환한 후, 앞자리부터 하나씩 비교하여 정렬하려고 했다. 그러나 lambda 안에 for 함수를 쓰지 못하여 숫자의 길이를 반영하지 못했다.\n",
    "------------------\n",
    "* numbers의 요소가 1000 이하인 점을 활용하여 문자열에 3을 곱하여 비교한다.\n",
    "    * 만약 9와 90의 경우, 그냥 비교하면 90이 9를 앞선다.\n",
    "    * 그러나 999와 909090을 비교하면 999가 909090을 앞선다.\n",
    "* 최대값과 최소값에 유의하자.\n",
    "    * 리스트의 모든 요소가 0일 경우 출력값이 \"0000\"으로 나오지 않도록 마지막에 int로 바꾼 후 다시 str로 교체한다.\n",
    "* 문자열 비교 연산\n",
    "    *첫번째 인덱스의 요소를 ascii숫자로 바꿔서 비교한다. 이때 둘이 같다면, 다음 인덱스도 차례로 비교한다."
   ]
  },
  {
   "cell_type": "code",
   "execution_count": 18,
   "id": "cd193c20-bb97-4aa2-bba9-c1ba2729bc8c",
   "metadata": {},
   "outputs": [],
   "source": [
    "#answer\n",
    "def solution(numbers):\n",
    "    numbers = [str(i) for i in numbers]\n",
    "\n",
    "    numbers.sort(key = lambda x : x * 3, reverse = True)\n",
    "    \n",
    "    return str(int(\"\".join(numbers)))"
   ]
  },
  {
   "cell_type": "code",
   "execution_count": 19,
   "id": "972f5afe-2402-4f9f-8333-ad99abd07c57",
   "metadata": {},
   "outputs": [
    {
     "data": {
      "text/plain": [
       "'9534330'"
      ]
     },
     "execution_count": 19,
     "metadata": {},
     "output_type": "execute_result"
    }
   ],
   "source": [
    "solution([3, 30, 34, 5, 9])"
   ]
  },
  {
   "cell_type": "code",
   "execution_count": 20,
   "id": "8206bd39-a524-42a7-8442-74644c75a2f4",
   "metadata": {},
   "outputs": [
    {
     "data": {
      "text/plain": [
       "'6210'"
      ]
     },
     "execution_count": 20,
     "metadata": {},
     "output_type": "execute_result"
    }
   ],
   "source": [
    "solution([6, 10, 2])"
   ]
  },
  {
   "cell_type": "code",
   "execution_count": 21,
   "id": "a337d841-6bbc-498e-8d4f-a7a97c8a3add",
   "metadata": {},
   "outputs": [
    {
     "data": {
      "text/plain": [
       "'0'"
      ]
     },
     "execution_count": 21,
     "metadata": {},
     "output_type": "execute_result"
    }
   ],
   "source": [
    "solution([0, 0, 0])"
   ]
  }
 ],
 "metadata": {
  "kernelspec": {
   "display_name": "Python 3",
   "language": "python",
   "name": "python3"
  },
  "language_info": {
   "codemirror_mode": {
    "name": "ipython",
    "version": 3
   },
   "file_extension": ".py",
   "mimetype": "text/x-python",
   "name": "python",
   "nbconvert_exporter": "python",
   "pygments_lexer": "ipython3",
   "version": "3.8.8"
  }
 },
 "nbformat": 4,
 "nbformat_minor": 5
}
