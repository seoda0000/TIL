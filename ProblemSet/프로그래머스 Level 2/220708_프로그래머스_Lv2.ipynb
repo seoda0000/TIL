{
 "cells": [
  {
   "cell_type": "markdown",
   "id": "efebf200-172f-4b4c-b31e-bd01af04f69c",
   "metadata": {},
   "source": [
    "#### **프로그래머스** https://programmers.co.kr/learn/challenges\n",
    "##### 코딩테스트 연습 2022-06-16 22일차 seoda0000"
   ]
  },
  {
   "cell_type": "markdown",
   "id": "01d2438b-9adb-4ff8-b35b-4f8fc349cfc7",
   "metadata": {},
   "source": [
    "--------------------"
   ]
  },
  {
   "cell_type": "markdown",
   "id": "7b013e9c-4d1b-4e40-b722-4bb0f9b573df",
   "metadata": {},
   "source": [
    "### Review"
   ]
  },
  {
   "cell_type": "markdown",
   "id": "6a01c2fa-0d12-45b8-96d3-e19f0f93f827",
   "metadata": {},
   "source": [
    "# **TIL**\n",
    "\n",
    "    \n",
    "------------------\n",
    "#### 미래의 나에게...\n",
    "* 쉽게 생각하자. 잘 안 풀리면 조작하는 데이터의 관점을 바꿔보자.\n",
    "* 논리적으로 순차적으로 생각하기.\n",
    "* 무작정 코드를 짧게 줄이는 건 도움이 되지 않는다. 개체를 단순하게 만들자.\n",
    "* 리스트의 구성요소 기준으로 차례대로 생각해보자. (런타임을 줄여야 한다!)\n",
    "* for 구문은 되도록 필수적일 때만 사용하자.\n",
    "* 인덱스를 활용하자.\n",
    "* 최대값과 최소값에 유의하자.\n",
    "* 보조 리스트를 만들어 사용하는 것이 효율성이 더 높다.\n",
    "* 미지수로 두고 법칙을 발견하자.\n",
    "* 논리의 순서를 뒤바꾸어 더욱 쉽게 구현할 수 있다."
   ]
  },
  {
   "cell_type": "markdown",
   "id": "e158152f-113b-495f-aab3-421be8463340",
   "metadata": {},
   "source": [
    "---------------------\n",
    "2021 KAKAO BLIND RECRUITMENT\n",
    "\n",
    "## **순위 검색**\n",
    "\n",
    "* 조건을 만족하는 사람 중 코딩테스트 점수를 X점 이상 받은 사람은 모두 몇 명인가?"
   ]
  },
  {
   "cell_type": "code",
   "execution_count": 35,
   "id": "73dec0e9-fa11-4779-a708-6b8d6d82f06c",
   "metadata": {},
   "outputs": [],
   "source": [
    "#try1 score 40/100\n",
    "def solution(info, query):\n",
    "    iflst = []\n",
    "    answer = [0] * len(query)\n",
    "    for i in info:\n",
    "        iflst.append(i.split())\n",
    "    \n",
    "    for q in range(len(query)):\n",
    "        qlst = query[q].replace(\"and\", \"\").split()\n",
    "        \n",
    "        for i in iflst:\n",
    "            if qlst[0] ==\"-\" or qlst[0] in i:\n",
    "                if qlst[1] ==\"-\" or qlst[1] in i:\n",
    "                    if qlst[2] ==\"-\" or qlst[2] in i:\n",
    "                        if qlst[3] ==\"-\" or qlst[3] in i:\n",
    "                            if int(i[4]) >= int(qlst[4]):\n",
    "                                answer[q] += 1\n",
    "        \n",
    "    \n",
    "    return answer"
   ]
  },
  {
   "cell_type": "code",
   "execution_count": 36,
   "id": "610bef76-cc1f-43b6-913b-ba89145abf78",
   "metadata": {},
   "outputs": [
    {
     "data": {
      "text/plain": [
       "[1, 1, 1, 1, 2, 4]"
      ]
     },
     "execution_count": 36,
     "metadata": {},
     "output_type": "execute_result"
    }
   ],
   "source": [
    "solution([\"java backend junior pizza 150\",\"python frontend senior chicken 210\",\n",
    "          \"python frontend senior chicken 150\",\"cpp backend senior pizza 260\",\n",
    "          \"java backend junior chicken 80\",\"python backend senior chicken 50\"],\n",
    "         \n",
    "        [\"java and backend and junior and pizza 100\",\"python and frontend and senior and chicken 200\",\n",
    "         \"cpp and - and senior and pizza 250\",\"- and backend and senior and - 150\",\n",
    "         \"- and - and - and chicken 100\",\"- and - and - and - 150\"])"
   ]
  },
  {
   "cell_type": "markdown",
   "id": "47a0167f-29f7-4a34-a1ea-db2cce90b85d",
   "metadata": {},
   "source": [
    "* 0으로 이루어진 리스트를 만들고, 모든 조건을 충족하면 1씩 더하도록 했다."
   ]
  },
  {
   "cell_type": "code",
   "execution_count": 107,
   "id": "9fd1bb86-73db-417a-99ba-336aed8ab9f8",
   "metadata": {},
   "outputs": [],
   "source": [
    "#try2 score 40/100\n",
    "import re\n",
    "def solution(info, query):\n",
    "    answer = [len(info)] * len(query)\n",
    "    \n",
    "    for q in range(len(query)):\n",
    "        qlst = query[q].replace(\"and\", \"\").split()\n",
    "        \n",
    "        for i in info:\n",
    "            if qlst[0] != \"-\" and qlst[0] not in i:\n",
    "                answer[q] -= 1\n",
    "                continue\n",
    "            if qlst[1] != \"-\" and qlst[1] not in i:\n",
    "                answer[q] -= 1\n",
    "                continue\n",
    "            if qlst[2] != \"-\" and qlst[2] not in i:\n",
    "                answer[q] -= 1\n",
    "                continue\n",
    "            if qlst[3] != \"-\" and qlst[3] not in i:\n",
    "                answer[q] -= 1\n",
    "                continue\n",
    "            if int(re.findall(\"\\d+\", i)[0]) < int(qlst[4]):\n",
    "                answer[q] -= 1\n",
    "        \n",
    "    \n",
    "    return answer"
   ]
  },
  {
   "cell_type": "code",
   "execution_count": 108,
   "id": "f2abdfd8-6541-4538-a7b7-ef73a0511628",
   "metadata": {},
   "outputs": [
    {
     "data": {
      "text/plain": [
       "[1, 1, 1, 1, 2, 4]"
      ]
     },
     "execution_count": 108,
     "metadata": {},
     "output_type": "execute_result"
    }
   ],
   "source": [
    "solution([\"java backend junior pizza 150\",\"python frontend senior chicken 210\",\n",
    "          \"python frontend senior chicken 150\",\"cpp backend senior pizza 260\",\n",
    "          \"java backend junior chicken 80\",\"python backend senior chicken 50\"],\n",
    "         \n",
    "        [\"java and backend and junior and pizza 100\",\"python and frontend and senior and chicken 200\",\n",
    "         \"cpp and - and senior and pizza 250\",\"- and backend and senior and - 150\",\n",
    "         \"- and - and - and chicken 100\",\"- and - and - and - 150\"])"
   ]
  },
  {
   "cell_type": "markdown",
   "id": "206e3208-1ac3-4ff8-b75e-23228e096ee4",
   "metadata": {},
   "source": [
    "* 최대 숫자로 이루어진 리스트를 만들고, 조건에 부합하지 않는 즉시 1씩 빼도록 했다.\n",
    "* re를 활용해보았다.\n",
    "* 효율성을 위해 방식을 바꾸었는데 결국 방법만 반대로지 똑같은 단계를 밟은 것 같다.\n",
    "* 이후 솔루션 리뷰를 해야 한다."
   ]
  },
  {
   "cell_type": "code",
   "execution_count": 109,
   "id": "20e82b0d-5910-435e-b087-d56733cc0a20",
   "metadata": {},
   "outputs": [],
   "source": [
    "def solution(info, query):\n",
    "    data = dict()\n",
    "    for a in ['cpp', 'java', 'python', '-']:\n",
    "        for b in ['backend', 'frontend', '-']:\n",
    "            for c in ['junior', 'senior', '-']:\n",
    "                for d in ['chicken', 'pizza', '-']:\n",
    "                    data.setdefault((a, b, c, d), list())\n",
    "    for i in info:\n",
    "        i = i.split()\n",
    "        for a in [i[0], '-']:\n",
    "            for b in [i[1], '-']:\n",
    "                for c in [i[2], '-']:\n",
    "                    for d in [i[3], '-']:\n",
    "                        data[(a, b, c, d)].append(int(i[4]))\n",
    "\n",
    "    for k in data:\n",
    "        data[k].sort()\n",
    "\n",
    "        # print(k, data[k])\n",
    "\n",
    "    answer = list()\n",
    "    for q in query:\n",
    "        q = q.split()\n",
    "\n",
    "        pool = data[(q[0], q[2], q[4], q[6])]\n",
    "        find = int(q[7])\n",
    "        l = 0\n",
    "        r = len(pool)\n",
    "        mid = 0\n",
    "        while l < r:\n",
    "            mid = (r+l)//2\n",
    "            if pool[mid] >= find:\n",
    "                r = mid\n",
    "            else:\n",
    "                l = mid+1\n",
    "            # print(l, r, mid, answer)\n",
    "        # answer.append((pool, find, mid))\n",
    "        answer.append(len(pool)-l)\n",
    "\n",
    "    return answer"
   ]
  },
  {
   "cell_type": "code",
   "execution_count": 110,
   "id": "f49ff0ee-1154-4808-a0df-6cfc11a858d1",
   "metadata": {},
   "outputs": [
    {
     "data": {
      "text/plain": [
       "[1, 1, 1, 1, 2, 4]"
      ]
     },
     "execution_count": 110,
     "metadata": {},
     "output_type": "execute_result"
    }
   ],
   "source": [
    "solution([\"java backend junior pizza 150\",\"python frontend senior chicken 210\",\n",
    "          \"python frontend senior chicken 150\",\"cpp backend senior pizza 260\",\n",
    "          \"java backend junior chicken 80\",\"python backend senior chicken 50\"],\n",
    "         \n",
    "        [\"java and backend and junior and pizza 100\",\"python and frontend and senior and chicken 200\",\n",
    "         \"cpp and - and senior and pizza 250\",\"- and backend and senior and - 150\",\n",
    "         \"- and - and - and chicken 100\",\"- and - and - and - 150\"])"
   ]
  }
 ],
 "metadata": {
  "kernelspec": {
   "display_name": "Python 3",
   "language": "python",
   "name": "python3"
  },
  "language_info": {
   "codemirror_mode": {
    "name": "ipython",
    "version": 3
   },
   "file_extension": ".py",
   "mimetype": "text/x-python",
   "name": "python",
   "nbconvert_exporter": "python",
   "pygments_lexer": "ipython3",
   "version": "3.8.8"
  }
 },
 "nbformat": 4,
 "nbformat_minor": 5
}
