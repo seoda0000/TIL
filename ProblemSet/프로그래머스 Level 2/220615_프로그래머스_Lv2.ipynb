{
 "cells": [
  {
   "cell_type": "markdown",
   "id": "efebf200-172f-4b4c-b31e-bd01af04f69c",
   "metadata": {},
   "source": [
    "#### **프로그래머스** https://programmers.co.kr/learn/challenges\n",
    "##### 코딩테스트 연습 2022-06-15 21일차 seoda0000"
   ]
  },
  {
   "cell_type": "markdown",
   "id": "01d2438b-9adb-4ff8-b35b-4f8fc349cfc7",
   "metadata": {},
   "source": [
    "--------------------"
   ]
  },
  {
   "cell_type": "markdown",
   "id": "7b013e9c-4d1b-4e40-b722-4bb0f9b573df",
   "metadata": {},
   "source": [
    "### Review"
   ]
  },
  {
   "cell_type": "code",
   "execution_count": 132,
   "id": "c1e82add-6a02-4031-b938-1ea925e81684",
   "metadata": {},
   "outputs": [
    {
     "data": {
      "text/plain": [
       "True"
      ]
     },
     "execution_count": 132,
     "metadata": {},
     "output_type": "execute_result"
    }
   ],
   "source": [
    "\"345\".isdigit()"
   ]
  },
  {
   "cell_type": "code",
   "execution_count": 141,
   "id": "b7e36e55-65ad-457f-8f70-5ee5c7a3b6f9",
   "metadata": {},
   "outputs": [],
   "source": [
    "from operator import itemgetter"
   ]
  },
  {
   "cell_type": "code",
   "execution_count": 142,
   "id": "7bb885cc-1a82-48cd-adbb-357c0391bf3d",
   "metadata": {},
   "outputs": [
    {
     "data": {
      "text/plain": [
       "[{'id': 10, 'name': 'ann'},\n",
       " {'id': 1, 'name': 'cindy'},\n",
       " {'id': 3, 'name': 'hellen'}]"
      ]
     },
     "execution_count": 142,
     "metadata": {},
     "output_type": "execute_result"
    }
   ],
   "source": [
    "sorted([{\"id\": 1, \"name\" : \"cindy\"}, {\"id\": 10, \"name\" : \"ann\"}, {\"id\": 3, \"name\" : \"hellen\"}], key = itemgetter(\"name\"))"
   ]
  },
  {
   "cell_type": "code",
   "execution_count": 143,
   "id": "cc823160-1c84-4359-a93b-ee1152f88554",
   "metadata": {},
   "outputs": [
    {
     "data": {
      "text/plain": [
       "[(1, 'a'), (13, 'b'), (2, 'z')]"
      ]
     },
     "execution_count": 143,
     "metadata": {},
     "output_type": "execute_result"
    }
   ],
   "source": [
    "sorted([(1, \"a\"), (2, \"z\"), (13, \"b\")], key = itemgetter(1))"
   ]
  },
  {
   "cell_type": "code",
   "execution_count": 147,
   "id": "1e2b4335-1e04-4e40-b096-b828d1a47c41",
   "metadata": {},
   "outputs": [
    {
     "data": {
      "text/plain": [
       "['123456', '9', '80']"
      ]
     },
     "execution_count": 147,
     "metadata": {},
     "output_type": "execute_result"
    }
   ],
   "source": [
    "import re\n",
    "re.findall(\"\\d+\", \"123456냠냠냠냠냠흥.#$9%80\")"
   ]
  },
  {
   "cell_type": "markdown",
   "id": "6a01c2fa-0d12-45b8-96d3-e19f0f93f827",
   "metadata": {},
   "source": [
    "# **TIL**\n",
    "\n",
    "    \n",
    "------------------\n",
    "#### 미래의 나에게...\n",
    "* 쉽게 생각하자. 잘 안 풀리면 조작하는 데이터의 관점을 바꿔보자.\n",
    "* 논리적으로 순차적으로 생각하기.\n",
    "* 무작정 코드를 짧게 줄이는 건 도움이 되지 않는다. 개체를 단순하게 만들자.\n",
    "* 리스트의 구성요소 기준으로 차례대로 생각해보자. (런타임을 줄여야 한다!)\n",
    "* for 구문은 되도록 필수적일 때만 사용하자.\n",
    "* 인덱스를 활용하자.\n",
    "* 최대값과 최소값에 유의하자.\n",
    "* 보조 리스트를 만들어 사용하는 것이 효율성이 더 높다.\n",
    "* 미지수로 두고 법칙을 발견하자.\n",
    "* 논리의 순서를 뒤바꾸어 더욱 쉽게 구현할 수 있다."
   ]
  },
  {
   "cell_type": "markdown",
   "id": "e158152f-113b-495f-aab3-421be8463340",
   "metadata": {},
   "source": [
    "---------------------\n",
    "완전 탐색\n",
    "\n",
    "## **카펫**\n",
    "\n",
    "* Leo는 카펫을 사러 갔다가 아래 그림과 같이 중앙에는 노란색으로 칠해져 있고 테두리 1줄은 갈색으로 칠해져 있는 격자 모양 카펫을 봤습니다.\n",
    "* Leo는 집으로 돌아와서 아까 본 카펫의 노란색과 갈색으로 색칠된 격자의 개수는 기억했지만, 전체 카펫의 크기는 기억하지 못했습니다.\n",
    "* Leo가 본 카펫에서 갈색 격자의 수 brown, 노란색 격자의 수 yellow가 매개변수로 주어질 때 카펫의 가로, 세로 크기를 순서대로 배열에 담아 return 하도록 solution 함수를 작성해주세요."
   ]
  },
  {
   "cell_type": "code",
   "execution_count": 124,
   "id": "8f921021-d0b9-495d-a545-a1a2cd03944e",
   "metadata": {},
   "outputs": [],
   "source": [
    "#try1 score 100/100\n",
    "def solution(brown, yellow):\n",
    "    n = brown + yellow\n",
    "    \n",
    "    for i in range(1, int((yellow)**0.5)+1):\n",
    "        if yellow % i == 0 and (i+2)*(yellow/i+2)<=n:\n",
    "            y_lst = sorted([i, int(yellow/i)], reverse = True)\n",
    "            \n",
    "    for i in range(1, int((n)**0.5)+1):\n",
    "        if n % i == 0 and n/i > y_lst[0] + 1 and i > y_lst[1] +1:\n",
    "            n_lst=[int(n/i), i]\n",
    "            \n",
    "    return n_lst"
   ]
  },
  {
   "cell_type": "code",
   "execution_count": 128,
   "id": "a6bfe899-94ab-4165-91d0-7aa3d7f2f458",
   "metadata": {},
   "outputs": [],
   "source": [
    "assert solution(10, 2) == [4, 3]\n",
    "assert solution(8, 1) == [3, 3]\n",
    "assert solution(24, 24) == [8, 6]"
   ]
  },
  {
   "cell_type": "markdown",
   "id": "dcb34f26-6e80-49a6-804d-77e14d205c8d",
   "metadata": {},
   "source": [
    "각 조건을 차례대로 적용하였다.\n",
    "\n",
    "노란격자의 변이 될 수 있는 조건\n",
    "1. 노란격자의 약수일 것.\n",
    "2. 각 변에 2를 더한 값의 곱이 n보다 작을 것.\n",
    "\n",
    "전체격자의 변이 될 수 있는 조건\n",
    "1. 전체격자의 약수일 것.\n",
    "2. 노란격자의 변보다 2는 클 것\n",
    "-------------------------\n",
    "\n",
    "넓이가 아닌 둘레를 기준으로 하면 조금 더 쉽게 풀 수 있다."
   ]
  },
  {
   "cell_type": "code",
   "execution_count": 129,
   "id": "090c2a8c-2afd-474f-b18a-edcffc7d1fc3",
   "metadata": {},
   "outputs": [],
   "source": [
    "def solution(brown, yellow):\n",
    "    for i in range(1, int(yellow**(1/2))+1):\n",
    "        if yellow % i == 0:\n",
    "            if 2*(i + yellow//i) == brown-4:\n",
    "                return [yellow//i+2, i+2]"
   ]
  },
  {
   "cell_type": "code",
   "execution_count": 130,
   "id": "c81a30ff-365a-413a-9ef0-4be49530d900",
   "metadata": {},
   "outputs": [],
   "source": [
    "assert solution(10, 2) == [4, 3]\n",
    "assert solution(8, 1) == [3, 3]\n",
    "assert solution(24, 24) == [8, 6]"
   ]
  }
 ],
 "metadata": {
  "kernelspec": {
   "display_name": "Python 3",
   "language": "python",
   "name": "python3"
  },
  "language_info": {
   "codemirror_mode": {
    "name": "ipython",
    "version": 3
   },
   "file_extension": ".py",
   "mimetype": "text/x-python",
   "name": "python",
   "nbconvert_exporter": "python",
   "pygments_lexer": "ipython3",
   "version": "3.8.8"
  }
 },
 "nbformat": 4,
 "nbformat_minor": 5
}
