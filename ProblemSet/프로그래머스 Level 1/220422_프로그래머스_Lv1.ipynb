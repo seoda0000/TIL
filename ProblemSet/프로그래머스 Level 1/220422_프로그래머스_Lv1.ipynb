{
 "cells": [
  {
   "cell_type": "markdown",
   "id": "efebf200-172f-4b4c-b31e-bd01af04f69c",
   "metadata": {},
   "source": [
    "#### **프로그래머스** https://programmers.co.kr/learn/challenges\n",
    "##### 코딩테스트 연습 2022-04-22 1일차 seoda0000"
   ]
  },
  {
   "cell_type": "markdown",
   "id": "01d2438b-9adb-4ff8-b35b-4f8fc349cfc7",
   "metadata": {},
   "source": [
    "--------------------"
   ]
  },
  {
   "cell_type": "markdown",
   "id": "6a01c2fa-0d12-45b8-96d3-e19f0f93f827",
   "metadata": {},
   "source": [
    "# **TIL**\n",
    "* #### **for key, value in dic.items():**\n",
    "dic.items()를 활용하여 key와 value를 for구문에 사용할 수 있다.\n",
    "* #### **sum(absolutes if sign else -absolutes for absolutes, sign in zip(absolutes, signs))**\n",
    "##### if구문을 함수 안에 사용할 수도 있다.\n",
    "##### zip으로 리스트를 묶어 for에 활용할 수도 있다."
   ]
  },
  {
   "cell_type": "markdown",
   "id": "d7edf3aa-1b6d-4e5b-9908-7d7ced5a1b7f",
   "metadata": {},
   "source": [
    "------------------------------------"
   ]
  },
  {
   "cell_type": "markdown",
   "id": "6f459257-045f-460e-88b8-a4654315019c",
   "metadata": {},
   "source": [
    "2021 카카오 채용연계형 인턴십\n",
    "## **숫자 문자열과 영단어**\n",
    "\n",
    "#### 영어단어와 숫자로 뒤섞인 구문을 모두 숫자로 바꾸어라.\n",
    "#### 4eightsix9 -> 4869"
   ]
  },
  {
   "cell_type": "code",
   "execution_count": 2,
   "id": "3e5f541f-9a5a-42cb-a818-cd9082db5d45",
   "metadata": {},
   "outputs": [],
   "source": [
    "#try\n",
    "def solution(s):\n",
    "    lst = {\"zero\":\"0\", \"one\":\"1\", \"two\":\"2\", \"three\":\"3\", \"four\":\"4\", \n",
    "           \"five\":\"5\", \"six\":\"6\", \"seven\":\"7\", \"eight\":\"8\", \"nine\":\"9\"}\n",
    "    for i in list(lst.keys()):\n",
    "        s = s.replace(i, lst[i])\n",
    "    return int(s)"
   ]
  },
  {
   "cell_type": "markdown",
   "id": "13bc7f89-4883-4653-9e4a-62131970a18a",
   "metadata": {},
   "source": [
    "* #### **for key, value in num_dic.items():**\n",
    "dic.items()를 활용하여 key와 value를 for구문에 사용할 수 있다."
   ]
  },
  {
   "cell_type": "code",
   "execution_count": 3,
   "id": "00637f86-0ed2-4768-92cd-a317daa0bdb4",
   "metadata": {},
   "outputs": [],
   "source": [
    "#answer\n",
    "num_dic = {\"zero\":\"0\", \"one\":\"1\", \"two\":\"2\", \"three\":\"3\", \"four\":\"4\", \"five\":\"5\", \"six\":\"6\", \"seven\":\"7\", \"eight\":\"8\", \"nine\":\"9\"}\n",
    "\n",
    "def solution(s):\n",
    "    answer = s\n",
    "    for key, value in num_dic.items():\n",
    "        answer = answer.replace(key, value)\n",
    "    return int(answer)"
   ]
  },
  {
   "cell_type": "markdown",
   "id": "e158152f-113b-495f-aab3-421be8463340",
   "metadata": {},
   "source": [
    "---------------------\n",
    "월간 코드 챌린지 시즌2\n",
    "## **음양 더하기**\n",
    "\n",
    "어떤 정수들이 있습니다. 이 정수들의 절댓값을 차례대로 담은 정수 배열 absolutes와 이 정수들의 부호를 차례대로 담은 불리언 배열 signs가 매개변수로 주어집니다. 실제 정수들의 합을 구하여 return 하도록 solution 함수를 완성해주세요.\n",
    "* ex) absolutes = [3, 4, 5], signs = [True, False, True], answer = 4"
   ]
  },
  {
   "cell_type": "code",
   "execution_count": 5,
   "id": "4aaecc04-a694-44a7-b5cb-d8d915705ffd",
   "metadata": {},
   "outputs": [],
   "source": [
    "#try\n",
    "def solution(absolutes, signs):\n",
    "    n = len(absolutes)\n",
    "    for i in range(n):\n",
    "        if signs[i] == True:\n",
    "            signs[i] = 1\n",
    "        else:\n",
    "            signs[i] = -1\n",
    "            \n",
    "    answer = 0\n",
    "    for i in range(n):\n",
    "        answer += absolutes[i] * signs[i]\n",
    "    return answer"
   ]
  },
  {
   "cell_type": "markdown",
   "id": "56a9bea3-b3d9-43f3-9ddf-a614ad0ae4f4",
   "metadata": {},
   "source": [
    "* #### **sum(absolutes if sign else -absolutes for absolutes, sign in zip(absolutes, signs))**\n",
    "##### if구문을 함수 안에 사용할 수도 있다.\n",
    "##### zip으로 리스트를 묶어 for에 활용할 수도 있다."
   ]
  },
  {
   "cell_type": "code",
   "execution_count": 6,
   "id": "6573695c-6021-4a8b-9715-6b3508d41ae1",
   "metadata": {},
   "outputs": [],
   "source": [
    "#answer\n",
    "def solution(absolutes, signs):\n",
    "    return sum(absolutes if sign else -absolutes for absolutes, sign in zip(absolutes, signs))"
   ]
  }
 ],
 "metadata": {
  "kernelspec": {
   "display_name": "Python 3",
   "language": "python",
   "name": "python3"
  },
  "language_info": {
   "codemirror_mode": {
    "name": "ipython",
    "version": 3
   },
   "file_extension": ".py",
   "mimetype": "text/x-python",
   "name": "python",
   "nbconvert_exporter": "python",
   "pygments_lexer": "ipython3",
   "version": "3.8.8"
  }
 },
 "nbformat": 4,
 "nbformat_minor": 5
}
