{
 "cells": [
  {
   "cell_type": "markdown",
   "id": "efebf200-172f-4b4c-b31e-bd01af04f69c",
   "metadata": {},
   "source": [
    "#### **프로그래머스** https://programmers.co.kr/learn/challenges\n",
    "##### 코딩테스트 연습 2022-04-27 6일차 seoda0000"
   ]
  },
  {
   "cell_type": "markdown",
   "id": "01d2438b-9adb-4ff8-b35b-4f8fc349cfc7",
   "metadata": {},
   "source": [
    "--------------------"
   ]
  },
  {
   "cell_type": "markdown",
   "id": "6a01c2fa-0d12-45b8-96d3-e19f0f93f827",
   "metadata": {},
   "source": [
    "# **TIL**\n",
    "\n",
    "* #### **숫자 | 숫자**\n",
    "    * 두 숫자를 2진법으로 변환 후, 각 자릿수의 가장 큰 수 (1 > 0)를 적용한 후, 다시 10진법으로 나타내 return한다.\n",
    "    * 숫자를 set처럼 다루면 2진법으로 변환되어 각 자릿수를 요소로 갖는다.\n",
    "\n",
    "* #### **str.rjust(전체 자리 숫자, 공백이 있을 경우 공백을 채울 텍스트)**\n",
    "    * 문자열을 오른쪽 정렬해서 보기좋게 출력할 때 쓴다.\n",
    "    * 공백을 공백 그대로 두려면 아무것도 입력하지 않으면 된다.\n",
    "* #### **str.zfill(전체 자리 숫자)**\n",
    "    * 0을 왼쪽에 채워주는 역할을 한다.\n",
    "\n",
    "\n",
    "------------------\n",
    "#### 미래의 나에게...\n",
    "* 쉽게 생각하자. 잘 안 풀리면 조작하는 데이터의 관점을 바꿔보자.\n",
    "* 논리적으로 순차적으로 생각하기.\n",
    "* 코드를 짰으나 실행 시간이 오래 걸렸다. 간단히 코드를 짜는 방법을 알아두자.\n",
    "* 무작정 코드를 짧게 줄이는 건 도움이 되지 않는다. 개체를 단순하게 만들자.\n"
   ]
  },
  {
   "cell_type": "markdown",
   "id": "e158152f-113b-495f-aab3-421be8463340",
   "metadata": {},
   "source": [
    "---------------------\n",
    "찾아라 프로그래밍 마에스터\n",
    "## **폰켓몬**\n",
    "\n",
    "N마리 폰켓몬의 종류 번호가 담긴 배열 nums가 매개변수로 주어질 때, N/2마리의 폰켓몬을 선택하는 방법 중, 가장 많은 종류의 폰켓몬을 선택하는 방법을 찾아, 그때의 폰켓몬 종류 번호의 개수를 return 하도록 solution 함수를 완성해주세요."
   ]
  },
  {
   "cell_type": "code",
   "execution_count": 1,
   "id": "18350bd2-9fc0-4970-b27d-f9893d7cbf38",
   "metadata": {},
   "outputs": [],
   "source": [
    "#try1 score 100/100\n",
    "def solution(nums):\n",
    "    \n",
    "    #종류 최대값\n",
    "    n = len(set(nums))\n",
    "    \n",
    "    #고를 수 있는 폰켓몬 수랑 비교\n",
    "    answer = min(n, len(nums)/2)\n",
    "    return answer"
   ]
  },
  {
   "cell_type": "code",
   "execution_count": 2,
   "id": "328f701e-e4a8-45e1-b036-b8747027d7a5",
   "metadata": {},
   "outputs": [
    {
     "data": {
      "text/plain": [
       "2.0"
      ]
     },
     "execution_count": 2,
     "metadata": {},
     "output_type": "execute_result"
    }
   ],
   "source": [
    "solution([3,1,2,3])"
   ]
  },
  {
   "cell_type": "code",
   "execution_count": 3,
   "id": "609af9b8-6362-413c-9878-0a13fc8d2f51",
   "metadata": {},
   "outputs": [
    {
     "data": {
      "text/plain": [
       "3"
      ]
     },
     "execution_count": 3,
     "metadata": {},
     "output_type": "execute_result"
    }
   ],
   "source": [
    "solution([3,3,3,2,2,4])"
   ]
  },
  {
   "cell_type": "code",
   "execution_count": 4,
   "id": "e5a4c919-2a4b-4b4d-8f6f-380a859f4fff",
   "metadata": {},
   "outputs": [
    {
     "data": {
      "text/plain": [
       "2"
      ]
     },
     "execution_count": 4,
     "metadata": {},
     "output_type": "execute_result"
    }
   ],
   "source": [
    "solution([3,3,3,2,2,2])"
   ]
  },
  {
   "cell_type": "markdown",
   "id": "9d9747e0-7811-4174-848f-6ee45d937aef",
   "metadata": {},
   "source": [
    "* set을 이용하여 종류의 갯수를 구하고, 고를 수 있는 폰켓몬 수와 비교하여 풀었다."
   ]
  },
  {
   "cell_type": "markdown",
   "id": "a9354f6b-1745-4d51-b010-a2bd7cf1ceb0",
   "metadata": {},
   "source": [
    "---------------------\n",
    "2018 KAKAO BLIND RECRUITMENT\n",
    "## **비밀지도**\n",
    "\n",
    "1. 지도는 한 변의 길이가 n인 정사각형 배열 형태로, 각 칸은 \"공백\"(\" \") 또는 \"벽\"(\"#\") 두 종류로 이루어져 있다.\n",
    "2. 전체 지도는 두 장의 지도를 겹쳐서 얻을 수 있다. 각각 \"지도 1\"과 \"지도 2\"라고 하자. 지도 1 또는 지도 2 중 어느 하나라도 벽인 부분은 전체 지도에서도 벽이다. 지도 1과 지도 2에서 모두 공백인 부분은 전체 지도에서도 공백이다.\n",
    "3. \"지도 1\"과 \"지도 2\"는 각각 정수 배열로 암호화되어 있다.\n",
    "4. 암호화된 배열은 지도의 각 가로줄에서 벽 부분을 1, 공백 부분을 0으로 부호화했을 때 얻어지는 이진수에 해당하는 값의 배열이다.\n",
    "\n",
    "* 원래의 비밀지도를 해독하여 '#', 공백으로 구성된 문자열 배열로 출력하라."
   ]
  },
  {
   "cell_type": "code",
   "execution_count": 12,
   "id": "cd150704-6bfc-44e8-84a8-4ded20ab29d1",
   "metadata": {},
   "outputs": [],
   "source": [
    "#try1 score 100/100\n",
    "\n",
    "def solution(n, arr1, arr2):\n",
    "    \n",
    "    #이진법으로 변환\n",
    "    arr1 = [list(format(i, 'b')) for i in arr1]\n",
    "    arr2 = [list(format(i, 'b')) for i in arr2]\n",
    "    \n",
    "    #빈칸에 0을 채워넣기\n",
    "    for i in arr1:\n",
    "        while len(i) < n:\n",
    "            i.insert(0, \"0\")\n",
    "    for i in arr2:\n",
    "        while len(i) < n:\n",
    "            i.insert(0, \"0\")\n",
    "    \n",
    "    #두 지도를 겹쳐서 벽의 위치를 해독. 큰 숫자를 return\n",
    "    result = []\n",
    "    for i in range(n):\n",
    "        ilst = []\n",
    "        for j in range(n):\n",
    "            ilst.append(max(arr1[i][j], arr2[i][j]))\n",
    "        result.append(ilst)\n",
    "    \n",
    "    #숫자를 #과 공백으로 변환\n",
    "    m = []\n",
    "    for i in result:\n",
    "        d = \"\"\n",
    "        for j in i:\n",
    "            if j == \"1\":\n",
    "                d += \"#\"\n",
    "            else:\n",
    "                d += \" \"\n",
    "        m.append(d)\n",
    "\n",
    "    return m"
   ]
  },
  {
   "cell_type": "code",
   "execution_count": 7,
   "id": "1d842ed2-138f-4736-931e-e18003cb018b",
   "metadata": {},
   "outputs": [
    {
     "data": {
      "text/plain": [
       "['#####', '# # #', '### #', '#  ##', '#####']"
      ]
     },
     "execution_count": 7,
     "metadata": {},
     "output_type": "execute_result"
    }
   ],
   "source": [
    "solution(5, [9, 20, 28, 18, 11], [30, 1, 21, 17, 28])"
   ]
  },
  {
   "cell_type": "code",
   "execution_count": 8,
   "id": "d89fa32f-6c5c-426a-955a-a6c3a79d09f2",
   "metadata": {},
   "outputs": [
    {
     "data": {
      "text/plain": [
       "['######', '###  #', '##  ##', ' #### ', ' #####', '### # ']"
      ]
     },
     "execution_count": 8,
     "metadata": {},
     "output_type": "execute_result"
    }
   ],
   "source": [
    "solution(6, [46, 33, 33 ,22, 31, 50], [27 ,56, 19, 14, 14, 10])"
   ]
  },
  {
   "cell_type": "code",
   "execution_count": 70,
   "id": "b91b70fb-2836-43d7-af73-f9ffeb8dcfd6",
   "metadata": {},
   "outputs": [],
   "source": [
    "#try2 score 100/100\n",
    "\n",
    "def solution(n, arr1, arr2):\n",
    "    \n",
    "    #이진법으로 변환\n",
    "    arr1 = [format(i, 'b') for i in arr1]\n",
    "    arr2 = [format(i, 'b') for i in arr2]\n",
    "    \n",
    "    #빈칸에 0을 채워넣기\n",
    "    for i in range(n):\n",
    "        while len(arr1[i]) < n:\n",
    "            arr1[i] = \"0\" + arr1[i]\n",
    "            \n",
    "    for i in range(n):\n",
    "        while len(arr2[i]) < n:\n",
    "            arr2[i] = \"0\" + arr2[i]\n",
    "    \n",
    "    #두 지도를 겹쳐서 벽의 위치를 해독. 큰 숫자를 return\n",
    "    result = []\n",
    "    for i in range(n):\n",
    "        wall = \"\"\n",
    "        for j in range(n):\n",
    "            wall += max(arr1[i][j], arr2[i][j])\n",
    "        result.append(wall)\n",
    "    \n",
    "    #숫자를 #과 공백으로 변환. replace를 활용했다.\n",
    "    \n",
    "    for i in range(n):\n",
    "        result[i] = result[i].replace(\"1\", \"#\")\n",
    "        result[i] = result[i].replace(\"0\", \" \")\n",
    "        \n",
    "\n",
    "    return result"
   ]
  },
  {
   "cell_type": "code",
   "execution_count": 68,
   "id": "df8bcae5-9378-4d9f-a1f0-8457a6cda291",
   "metadata": {},
   "outputs": [
    {
     "data": {
      "text/plain": [
       "['#####', '# # #', '### #', '#  ##', '#####']"
      ]
     },
     "execution_count": 68,
     "metadata": {},
     "output_type": "execute_result"
    }
   ],
   "source": [
    "solution(5, [9, 20, 28, 18, 11], [30, 1, 21, 17, 28])"
   ]
  },
  {
   "cell_type": "code",
   "execution_count": 69,
   "id": "67447714-7b3a-4a33-8ff2-99fbf4ff1458",
   "metadata": {},
   "outputs": [
    {
     "data": {
      "text/plain": [
       "['######', '###  #', '##  ##', ' #### ', ' #####', '### # ']"
      ]
     },
     "execution_count": 69,
     "metadata": {},
     "output_type": "execute_result"
    }
   ],
   "source": [
    "solution(6, [46, 33, 33 ,22, 31, 50], [27 ,56, 19, 14, 14, 10])"
   ]
  },
  {
   "cell_type": "markdown",
   "id": "c5cf68dd-4bc3-421d-b580-c648f165e434",
   "metadata": {},
   "source": [
    "* 단계적으로 풀었다. 메소드를 잘 알지 못하여 돌아갔다.\n",
    "* 처음에는 리스트, 이후로는 str을 개체로 풀었다.\n",
    "* 리스트에 for을 사용할 경우 리스트 개체를 명시해서 적용해야 한다.\n",
    "\n",
    "-------------------------\n",
    "* #### **숫자 | 숫자**\n",
    "    * 두 숫자를 2진법으로 변환 후, 각 자릿수의 가장 큰 수 (1 > 0)를 적용한 후, 다시 10진법으로 나타내 return한다.\n",
    "    * 숫자를 set처럼 다루면 2진법으로 변환되어 각 자릿수를 요소로 갖는다.\n",
    "\n",
    "* #### **str.rjust(전체 자리 숫자, 공백이 있을 경우 공백을 채울 텍스트)**\n",
    "    * 문자열을 오른쪽 정렬해서 보기좋게 출력할 때 쓴다.\n",
    "    * 공백을 공백 그대로 두려면 아무것도 입력하지 않으면 된다.\n",
    "* #### **str.zfill(전체 자리 숫자)**\n",
    "    * 0을 왼쪽에 채워주는 역할을 한다."
   ]
  },
  {
   "cell_type": "code",
   "execution_count": 75,
   "id": "c38fd68a-1862-43f1-ba23-a0c0591e0ce1",
   "metadata": {},
   "outputs": [],
   "source": [
    "def solution(n, arr1, arr2):\n",
    "    answer = []\n",
    "    for i,j in zip(arr1,arr2):\n",
    "        a12 = bin(i|j)[2:])\n",
    "        a12=a12.rjust(n,'0')\n",
    "        a12=a12.replace('1','#')\n",
    "        a12=a12.replace('0',' ')\n",
    "        answer.append(a12)\n",
    "    return answer"
   ]
  },
  {
   "cell_type": "code",
   "execution_count": 76,
   "id": "effff998-06c2-4c77-91ee-03dcf1429191",
   "metadata": {},
   "outputs": [
    {
     "data": {
      "text/plain": [
       "['#####', '# # #', '### #', '#  ##', '#####']"
      ]
     },
     "execution_count": 76,
     "metadata": {},
     "output_type": "execute_result"
    }
   ],
   "source": [
    "solution(5, [9, 20, 28, 18, 11], [30, 1, 21, 17, 28])"
   ]
  },
  {
   "cell_type": "code",
   "execution_count": 77,
   "id": "fe09df05-3cfd-4679-b45a-a917e0ade1fb",
   "metadata": {},
   "outputs": [
    {
     "data": {
      "text/plain": [
       "['######', '###  #', '##  ##', ' #### ', ' #####', '### # ']"
      ]
     },
     "execution_count": 77,
     "metadata": {},
     "output_type": "execute_result"
    }
   ],
   "source": [
    "solution(6, [46, 33, 33 ,22, 31, 50], [27 ,56, 19, 14, 14, 10])"
   ]
  }
 ],
 "metadata": {
  "kernelspec": {
   "display_name": "Python 3",
   "language": "python",
   "name": "python3"
  },
  "language_info": {
   "codemirror_mode": {
    "name": "ipython",
    "version": 3
   },
   "file_extension": ".py",
   "mimetype": "text/x-python",
   "name": "python",
   "nbconvert_exporter": "python",
   "pygments_lexer": "ipython3",
   "version": "3.8.8"
  }
 },
 "nbformat": 4,
 "nbformat_minor": 5
}
