{
 "cells": [
  {
   "cell_type": "markdown",
   "id": "efebf200-172f-4b4c-b31e-bd01af04f69c",
   "metadata": {},
   "source": [
    "#### **프로그래머스** https://programmers.co.kr/learn/challenges\n",
    "##### 코딩테스트 연습 2022-04-28 7일차 seoda0000"
   ]
  },
  {
   "cell_type": "markdown",
   "id": "01d2438b-9adb-4ff8-b35b-4f8fc349cfc7",
   "metadata": {},
   "source": [
    "--------------------"
   ]
  },
  {
   "cell_type": "markdown",
   "id": "ea5bd884-c3b4-4c2f-b3f3-e106463bf41a",
   "metadata": {},
   "source": [
    "### Review"
   ]
  },
  {
   "cell_type": "markdown",
   "id": "b953afea-c050-4746-8bc9-3a51f279f423",
   "metadata": {},
   "source": [
    "* #### **str.rjust(전체 자리 숫자, 공백이 있을 경우 공백을 채울 텍스트)**\n",
    "    * 문자열을 오른쪽 정렬해서 보기좋게 출력할 때 쓴다.\n",
    "    * 공백을 공백 그대로 두려면 아무것도 입력하지 않으면 된다.\n",
    "* #### **str.zfill(전체 자리 숫자)**\n",
    "    * 0을 왼쪽에 채워주는 역할을 한다."
   ]
  },
  {
   "cell_type": "code",
   "execution_count": 4,
   "id": "a60cb3d1-b7c9-4748-b3c6-7b5447c5a34f",
   "metadata": {},
   "outputs": [
    {
     "data": {
      "text/plain": [
       "'하하하하얍'"
      ]
     },
     "execution_count": 4,
     "metadata": {},
     "output_type": "execute_result"
    }
   ],
   "source": [
    "\"얍\".rjust(5, \"하\")"
   ]
  },
  {
   "cell_type": "code",
   "execution_count": 3,
   "id": "1ed5c6bf-9727-4040-bfa0-86b34fd05f84",
   "metadata": {},
   "outputs": [
    {
     "data": {
      "text/plain": [
       "'00011'"
      ]
     },
     "execution_count": 3,
     "metadata": {},
     "output_type": "execute_result"
    }
   ],
   "source": [
    "\"11\".zfill(5)"
   ]
  },
  {
   "cell_type": "markdown",
   "id": "6a01c2fa-0d12-45b8-96d3-e19f0f93f827",
   "metadata": {},
   "source": [
    "# **TIL**\n",
    "\n",
    "* #### **약수의 갯수가 홀수려면 제곱수여야 한다.**\n",
    "\n",
    "\n",
    "------------------\n",
    "#### 미래의 나에게...\n",
    "* 쉽게 생각하자. 잘 안 풀리면 조작하는 데이터의 관점을 바꿔보자.\n",
    "* 논리적으로 순차적으로 생각하기.\n",
    "* 코드를 짰으나 실행 시간이 오래 걸렸다. 간단히 코드를 짜는 방법을 알아두자.\n",
    "* 무작정 코드를 짧게 줄이는 건 도움이 되지 않는다. 개체를 단순하게 만들자.\n"
   ]
  },
  {
   "cell_type": "markdown",
   "id": "e158152f-113b-495f-aab3-421be8463340",
   "metadata": {},
   "source": [
    "---------------------\n",
    "월간 코드 챌린지 시즌2\n",
    "\n",
    "## **약수의 개수와 덧셈**\n",
    "\n",
    "두 정수 left와 right가 매개변수로 주어집니다. left부터 right까지의 모든 수들 중에서, 약수의 개수가 짝수인 수는 더하고, 약수의 개수가 홀수인 수는 뺀 수를 return 하도록 solution 함수를 완성해주세요."
   ]
  },
  {
   "cell_type": "code",
   "execution_count": 19,
   "id": "e8c9d279-ae97-4ac8-92e2-174284e4d6f7",
   "metadata": {},
   "outputs": [],
   "source": [
    "#try1 score 100/100\n",
    "def solution(left, right):\n",
    "    solution = 0\n",
    "    \n",
    "    for i in range(left, right+1):\n",
    "        jem = 0\n",
    "        \n",
    "        #소수의 개수 구하기\n",
    "        \n",
    "        for j in range(1, i+1):\n",
    "            if i % j == 0:\n",
    "                jem += 1\n",
    "                \n",
    "        #개수가 홀수인지 짝수인지 구분\n",
    "        \n",
    "        if jem % 2 == 0:\n",
    "            solution += i\n",
    "        else:\n",
    "            solution -= i\n",
    "                \n",
    "    return solution"
   ]
  },
  {
   "cell_type": "code",
   "execution_count": 29,
   "id": "35f9970f-43e5-4c38-bdef-827689f7863a",
   "metadata": {},
   "outputs": [],
   "source": [
    "#try2 score 100/100\n",
    "def solution(left, right):\n",
    "    solution = 0\n",
    "    for i in range(left, right+1):\n",
    "        \n",
    "        #소수의 개수 구하기\n",
    "        \n",
    "        jem = sum([1 if i%j == 0 else 0 for j in range(1, i+1)])\n",
    "        \n",
    "        #개수가 홀수인지 짝수인지 구분\n",
    "        \n",
    "        if jem % 2 == 0:\n",
    "            solution += i\n",
    "        else:\n",
    "            solution -= i\n",
    "                \n",
    "    return solution"
   ]
  },
  {
   "cell_type": "code",
   "execution_count": 22,
   "id": "2ce22eeb-2025-4317-a034-d4469307d513",
   "metadata": {},
   "outputs": [
    {
     "data": {
      "text/plain": [
       "43"
      ]
     },
     "execution_count": 22,
     "metadata": {},
     "output_type": "execute_result"
    }
   ],
   "source": [
    "solution(13, 17)\n",
    "#43"
   ]
  },
  {
   "cell_type": "code",
   "execution_count": 23,
   "id": "7606cb0b-ada5-4044-ad96-51f2a691aff0",
   "metadata": {},
   "outputs": [
    {
     "data": {
      "text/plain": [
       "52"
      ]
     },
     "execution_count": 23,
     "metadata": {},
     "output_type": "execute_result"
    }
   ],
   "source": [
    "solution(24, 27)\n",
    "#52"
   ]
  },
  {
   "cell_type": "markdown",
   "id": "ad1abd24-2a60-4785-8930-36500f156002",
   "metadata": {},
   "source": [
    "* 각각의 약수의 갯수를 구하고, 그 갯수가 홀수인지 파악하여 solution에 식을 적용했다.\n",
    "----------------------\n",
    "* #### **약수의 갯수가 홀수려면 제곱수여야 한다.**"
   ]
  },
  {
   "cell_type": "code",
   "execution_count": 25,
   "id": "67a1fa75-a4bd-4b03-bf9f-70a5fea36534",
   "metadata": {},
   "outputs": [],
   "source": [
    "def solution(left, right):\n",
    "    answer = 0\n",
    "    for i in range(left,right+1):\n",
    "        if int(i**0.5)==i**0.5:\n",
    "            answer -= i\n",
    "        else:\n",
    "            answer += i\n",
    "    return answer"
   ]
  },
  {
   "cell_type": "code",
   "execution_count": 26,
   "id": "47add0cd-231c-49f0-a35c-5983b89d81e9",
   "metadata": {},
   "outputs": [
    {
     "data": {
      "text/plain": [
       "43"
      ]
     },
     "execution_count": 26,
     "metadata": {},
     "output_type": "execute_result"
    }
   ],
   "source": [
    "solution(13, 17)\n",
    "#43"
   ]
  },
  {
   "cell_type": "code",
   "execution_count": 28,
   "id": "6e6f0d6d-e818-403d-aec1-c8630e39e7cc",
   "metadata": {},
   "outputs": [
    {
     "data": {
      "text/plain": [
       "52"
      ]
     },
     "execution_count": 28,
     "metadata": {},
     "output_type": "execute_result"
    }
   ],
   "source": [
    "solution(24, 27)\n",
    "#52"
   ]
  }
 ],
 "metadata": {
  "kernelspec": {
   "display_name": "Python 3",
   "language": "python",
   "name": "python3"
  },
  "language_info": {
   "codemirror_mode": {
    "name": "ipython",
    "version": 3
   },
   "file_extension": ".py",
   "mimetype": "text/x-python",
   "name": "python",
   "nbconvert_exporter": "python",
   "pygments_lexer": "ipython3",
   "version": "3.8.8"
  }
 },
 "nbformat": 4,
 "nbformat_minor": 5
}
