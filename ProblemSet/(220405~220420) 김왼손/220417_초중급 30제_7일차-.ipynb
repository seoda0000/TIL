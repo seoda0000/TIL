{
 "cells": [
  {
   "cell_type": "markdown",
   "id": "9ab6e390-840f-4b38-ba7f-fcc9a9e9314f",
   "metadata": {},
   "source": [
    "# 김왼손의 왼손코딩 1일 1파이썬 : 초중급자를 위한 파이썬 30제\n",
    "https://www.inflearn.com/course/%ED%8C%8C%EC%9D%B4%EC%8D%AC-%EC%98%88%EC%A0%9C\n",
    "## CheckiO : https://py.checkio.org/mission/search/\n",
    "#### 2022-04-17 7일차 seoda0000"
   ]
  },
  {
   "cell_type": "markdown",
   "id": "f376ec03-d275-44a9-82c9-4e5bde22f9b2",
   "metadata": {},
   "source": [
    "-------------------------"
   ]
  },
  {
   "cell_type": "markdown",
   "id": "fa9d089f-5a9b-4fa7-980a-031fb32260f7",
   "metadata": {},
   "source": [
    "## **Today I Learned**     \n",
    "* #### **max(array, key=array.count)**\n",
    "    key를 array.count로 설정하여 빈도수를 기준으로 최대값 도출. 다른 메서드도 가능한 것으로 추측된다."
   ]
  },
  {
   "cell_type": "markdown",
   "id": "79a6f08d-a5e8-4463-b577-ae32535a7d8a",
   "metadata": {},
   "source": [
    "---------------"
   ]
  },
  {
   "cell_type": "markdown",
   "id": "88441af8-846d-41b7-bfc4-217cd11a9cba",
   "metadata": {},
   "source": [
    "## 19. The Most Frequent\n",
    "You have a sequence of strings, and you’d like to determine the most frequently occurring string in the sequence. It can be only one.\n",
    "\n",
    "* Input: non empty list of strings.\n",
    "* Output: a string."
   ]
  },
  {
   "cell_type": "code",
   "execution_count": 3,
   "id": "70ab5bb4-0f4c-44d1-a593-dacb85a52d47",
   "metadata": {},
   "outputs": [
    {
     "data": {
      "text/plain": [
       "2"
      ]
     },
     "execution_count": 3,
     "metadata": {},
     "output_type": "execute_result"
    }
   ],
   "source": [
    "[1, 2, 3, 1].count(1)"
   ]
  },
  {
   "cell_type": "code",
   "execution_count": 9,
   "id": "c072fe0f-166c-407b-bd01-1cb82a359067",
   "metadata": {},
   "outputs": [],
   "source": [
    "#try\n",
    "def most_frequent(lst: list) -> str:\n",
    "    a = {}\n",
    "    for i in lst:\n",
    "        a[lst.count(i)] = i\n",
    "    return a[max(a.keys())]"
   ]
  },
  {
   "cell_type": "code",
   "execution_count": 10,
   "id": "d4e996e6-8005-4fab-aaeb-8b18bfb14008",
   "metadata": {},
   "outputs": [
    {
     "data": {
      "text/plain": [
       "'a'"
      ]
     },
     "execution_count": 10,
     "metadata": {},
     "output_type": "execute_result"
    }
   ],
   "source": [
    "most_frequent([\n",
    "        'a', 'b', 'c', \n",
    "        'a', 'b',\n",
    "        'a'\n",
    "    ]) "
   ]
  },
  {
   "cell_type": "markdown",
   "id": "13ec1b98-8e1c-4ba4-9726-2fe7ca2c1c86",
   "metadata": {},
   "source": [
    "* #### **max(array, key=array.count)**\n",
    "    key를 array.count로 설정하여 빈도수를 기준으로 최대값 도출."
   ]
  },
  {
   "cell_type": "code",
   "execution_count": 13,
   "id": "0f860e40-8f28-4c8d-ad3c-48245af5ca74",
   "metadata": {},
   "outputs": [],
   "source": [
    "#answer\n",
    "def most_frequent(lst: list) -> str:\n",
    "    return max(lst, key = lst.count)"
   ]
  },
  {
   "cell_type": "code",
   "execution_count": 14,
   "id": "d7cc76e5-8458-4c03-820d-e7517f2f7c0b",
   "metadata": {},
   "outputs": [
    {
     "data": {
      "text/plain": [
       "'a'"
      ]
     },
     "execution_count": 14,
     "metadata": {},
     "output_type": "execute_result"
    }
   ],
   "source": [
    "most_frequent([\n",
    "        'a', 'b', 'c', \n",
    "        'a', 'b',\n",
    "        'a'\n",
    "    ]) "
   ]
  }
 ],
 "metadata": {
  "kernelspec": {
   "display_name": "Python 3",
   "language": "python",
   "name": "python3"
  },
  "language_info": {
   "codemirror_mode": {
    "name": "ipython",
    "version": 3
   },
   "file_extension": ".py",
   "mimetype": "text/x-python",
   "name": "python",
   "nbconvert_exporter": "python",
   "pygments_lexer": "ipython3",
   "version": "3.8.8"
  }
 },
 "nbformat": 4,
 "nbformat_minor": 5
}
