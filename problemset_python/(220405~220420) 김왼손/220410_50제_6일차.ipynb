{
 "cells": [
  {
   "cell_type": "markdown",
   "id": "9ab6e390-840f-4b38-ba7f-fcc9a9e9314f",
   "metadata": {},
   "source": [
    "# 김왼손의 왼손코딩 1일 1파이썬 : 초급자를 위한 파이썬 50제\n",
    "## 30 seconds of code\n",
    "### 2022-04-10 6일차"
   ]
  },
  {
   "cell_type": "markdown",
   "id": "88441af8-846d-41b7-bfc4-217cd11a9cba",
   "metadata": {},
   "source": [
    "## 44 sum_by\n",
    "Returns the sum of a list, after mapping each element to a value using the provided function.\n",
    "\n",
    "Use map() with fn to map each element to a value using the provided function, use sum()to return the sum of the values."
   ]
  },
  {
   "cell_type": "code",
   "execution_count": 1,
   "id": "b3666a4d-e449-4b05-9f3f-9564f72bcd5a",
   "metadata": {},
   "outputs": [],
   "source": [
    "def sum_by(lst, fn):\n",
    "    return sum(map(fn, lst))"
   ]
  },
  {
   "cell_type": "code",
   "execution_count": 3,
   "id": "5db1a1cc-3d06-492d-a29e-a69999862b9c",
   "metadata": {},
   "outputs": [
    {
     "data": {
      "text/plain": [
       "17"
      ]
     },
     "execution_count": 3,
     "metadata": {},
     "output_type": "execute_result"
    }
   ],
   "source": [
    "sum_by([{\"n\":4}, {\"n\":5, \"m\":1}, {\"n\":6}, {\"n\":2}], lambda x : x[\"n\"])"
   ]
  },
  {
   "cell_type": "markdown",
   "id": "39c98cc8-8419-483b-bbea-0612a2bc6c16",
   "metadata": {},
   "source": [
    "## 45 tail\n",
    "Returns all elements in a list except for the first one.\n",
    "\n",
    "Return lst[1:] if the list's length is more than 1, otherwise, return the whole list."
   ]
  },
  {
   "cell_type": "code",
   "execution_count": 6,
   "id": "d60b1aa6-4e38-42e8-8a8b-a5ce16198ec3",
   "metadata": {},
   "outputs": [],
   "source": [
    "def tail(lst):\n",
    "    return lst[1:] if len(lst) > 1 else lst"
   ]
  },
  {
   "cell_type": "code",
   "execution_count": 7,
   "id": "cc47bb9d-87ae-414e-b5d1-3e3baaf5573a",
   "metadata": {},
   "outputs": [
    {
     "data": {
      "text/plain": [
       "[1]"
      ]
     },
     "execution_count": 7,
     "metadata": {},
     "output_type": "execute_result"
    }
   ],
   "source": [
    "tail([1])"
   ]
  },
  {
   "cell_type": "markdown",
   "id": "67337572-443c-4fad-b283-3e3c7e228cc7",
   "metadata": {},
   "source": [
    "## 46 take\n",
    "Returns a list with n elements removed from the beginning.\n",
    "\n",
    "* **앞에서부터 n개의 값을 가져오세요. remove은 지우다가 아니라 가져오다로 해석됨!!!**\n",
    "\n",
    "Use slice notation to create a slice of the list with n elements taken from the beginning."
   ]
  },
  {
   "cell_type": "code",
   "execution_count": 17,
   "id": "e2a56bcf-6260-4a4e-84ff-2cb1c28f21a9",
   "metadata": {},
   "outputs": [],
   "source": [
    "def take(lst, n = 1):\n",
    "    return lst[:n]"
   ]
  },
  {
   "cell_type": "code",
   "execution_count": 18,
   "id": "38b90a85-c32f-4b2b-8b22-458e2aac3b6c",
   "metadata": {},
   "outputs": [
    {
     "data": {
      "text/plain": [
       "[1, 2, 3]"
      ]
     },
     "execution_count": 18,
     "metadata": {},
     "output_type": "execute_result"
    }
   ],
   "source": [
    "take([1, 2, 3, 4, 5], 3)"
   ]
  },
  {
   "cell_type": "markdown",
   "id": "dd78201b-73ed-467a-a837-2d65fc378aab",
   "metadata": {},
   "source": [
    "## 47 take_right\n",
    "Returns a list with n elements removed from the end.\n",
    "\n",
    "Use slice notation to create a slice of the list with n elements taken from the end."
   ]
  },
  {
   "cell_type": "code",
   "execution_count": 15,
   "id": "7b52a72a-0392-4be4-8df4-c6da27d64baa",
   "metadata": {},
   "outputs": [],
   "source": [
    "def take_right(lst, n = 1):\n",
    "    return lst[-n:]"
   ]
  },
  {
   "cell_type": "code",
   "execution_count": 16,
   "id": "47654132-52d2-41fa-bcfb-d180dafbe2c0",
   "metadata": {},
   "outputs": [
    {
     "data": {
      "text/plain": [
       "[3, 4, 5]"
      ]
     },
     "execution_count": 16,
     "metadata": {},
     "output_type": "execute_result"
    }
   ],
   "source": [
    "take_right([1, 2, 3, 4, 5], 3)"
   ]
  },
  {
   "cell_type": "markdown",
   "id": "4360ab61-55e1-401a-a310-141ee6df5c59",
   "metadata": {},
   "source": [
    "## 48 union\n",
    "Returns every element that exists in any of the two lists once.\n",
    "\n",
    "Create a set with all values of a and b and convert to a list."
   ]
  },
  {
   "cell_type": "markdown",
   "id": "e8fce764-b866-4dab-b288-09a7a57cbef8",
   "metadata": {},
   "source": [
    "* **set은 + 쓸 수 없음! list는 사용 가능.**"
   ]
  },
  {
   "cell_type": "code",
   "execution_count": 23,
   "id": "8f5a5c21-d2b5-4791-b5c8-5ed59a8f8af4",
   "metadata": {},
   "outputs": [],
   "source": [
    "def union(a, b):\n",
    "    return list(set(a + b))"
   ]
  },
  {
   "cell_type": "code",
   "execution_count": 24,
   "id": "ce49a3c2-b6a2-4347-83a8-5cacee2d1669",
   "metadata": {},
   "outputs": [
    {
     "data": {
      "text/plain": [
       "[1, 2, 3, 4, 5, 6]"
      ]
     },
     "execution_count": 24,
     "metadata": {},
     "output_type": "execute_result"
    }
   ],
   "source": [
    "union([1, 2, 3,4], [5, 6])"
   ]
  },
  {
   "cell_type": "markdown",
   "id": "7e0cf682-4dd1-4008-89df-2e80aa9f0763",
   "metadata": {},
   "source": [
    "## 49 unique_elements\n",
    "Returns the unique elements in a given list.\n",
    "\n",
    "* **지정된 목록의 고유 요소를 반환합니다.**\n",
    "\n",
    "Create a set from the list to discard duplicated values, then return a list from it."
   ]
  },
  {
   "cell_type": "code",
   "execution_count": 25,
   "id": "917b2db7-18e9-4e94-b666-e2e54261e308",
   "metadata": {},
   "outputs": [],
   "source": [
    "def unique_elements(lst):\n",
    "    return list(set(lst))"
   ]
  },
  {
   "cell_type": "markdown",
   "id": "69e86fe3-2e7a-494d-9e74-2033aee55677",
   "metadata": {},
   "source": [
    "## 50 values_only\n",
    "Returns a flat list of all the values in a flat dictionary.\n",
    "\n",
    "Use dict.values() to return the values in the given dictionary. Return a list() of the previous result."
   ]
  },
  {
   "cell_type": "code",
   "execution_count": 26,
   "id": "625dc84b-e360-4761-aba0-ec052b6c60d9",
   "metadata": {},
   "outputs": [],
   "source": [
    "def values_only(dic):\n",
    "    return list(dic.values())"
   ]
  },
  {
   "cell_type": "code",
   "execution_count": 27,
   "id": "106d6dfa-8a45-43fd-856e-fe1facd2c5ee",
   "metadata": {},
   "outputs": [
    {
     "data": {
      "text/plain": [
       "[1, 2]"
      ]
     },
     "execution_count": 27,
     "metadata": {},
     "output_type": "execute_result"
    }
   ],
   "source": [
    "values_only({\"a\":1, \"b\":2})"
   ]
  }
 ],
 "metadata": {
  "kernelspec": {
   "display_name": "Python 3",
   "language": "python",
   "name": "python3"
  },
  "language_info": {
   "codemirror_mode": {
    "name": "ipython",
    "version": 3
   },
   "file_extension": ".py",
   "mimetype": "text/x-python",
   "name": "python",
   "nbconvert_exporter": "python",
   "pygments_lexer": "ipython3",
   "version": "3.8.8"
  }
 },
 "nbformat": 4,
 "nbformat_minor": 5
}
