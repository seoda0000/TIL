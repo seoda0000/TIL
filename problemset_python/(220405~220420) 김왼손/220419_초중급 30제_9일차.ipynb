{
 "cells": [
  {
   "cell_type": "markdown",
   "id": "9ab6e390-840f-4b38-ba7f-fcc9a9e9314f",
   "metadata": {},
   "source": [
    "# 김왼손의 왼손코딩 1일 1파이썬 : 초중급자를 위한 파이썬 30제\n",
    "https://www.inflearn.com/course/%ED%8C%8C%EC%9D%B4%EC%8D%AC-%EC%98%88%EC%A0%9C\n",
    "## CheckiO : https://py.checkio.org/mission/search/\n",
    "#### 2022-04-19 9일차 seoda0000"
   ]
  },
  {
   "cell_type": "markdown",
   "id": "f376ec03-d275-44a9-82c9-4e5bde22f9b2",
   "metadata": {},
   "source": [
    "-------------------------"
   ]
  },
  {
   "cell_type": "markdown",
   "id": "fa9d089f-5a9b-4fa7-980a-031fb32260f7",
   "metadata": {},
   "source": [
    "## **Today I Learned**     \n",
    "* #### **인덱싱은 음수값도 고려하자.**\n",
    "* #### **a, b = A, B**\n",
    "쉼표를 기준으로 순서대로 매칭된다.\n",
    "* #### **set1.intersection(set2)**\n",
    "교집합을 구한다\n",
    "* #### **','.join(list)**\n",
    "리스트 구성요소를 ,로 연결"
   ]
  },
  {
   "cell_type": "markdown",
   "id": "79a6f08d-a5e8-4463-b577-ae32535a7d8a",
   "metadata": {},
   "source": [
    "---------------"
   ]
  },
  {
   "cell_type": "markdown",
   "id": "2e7093a1-db29-4285-91b6-e14200db7dfd",
   "metadata": {},
   "source": [
    "## 25. Median\n",
    "A median is a numerical value separating the upper half of a sorted array of numbers from the lower half. In a list where there are an odd number of entities, the median is the number found in the middle of the array. If the array contains an even number of entities, then there is no single middle value, instead the median becomes the average of the two numbers found in the middle. For this mission, you are given a non-empty array of natural numbers (X). With it, you must separate the upper half of the numbers from the lower half and find the median.\n",
    "\n",
    "* Input: An array as a list of integers.\n",
    "* Output: The median as a float or an integer."
   ]
  },
  {
   "cell_type": "code",
   "execution_count": 1,
   "id": "afe75a2d-58d4-4420-890c-31b746e4fa7c",
   "metadata": {},
   "outputs": [],
   "source": [
    "#try\n",
    "def median(lst: list) -> float or int:\n",
    "    n = len(lst)\n",
    "    lst.sort()\n",
    "    if n % 2 == 0:\n",
    "        return (lst[int(n/2) -1] + lst[int(n/2)]) /2 \n",
    "    else:\n",
    "        return lst[n // 2]"
   ]
  },
  {
   "cell_type": "code",
   "execution_count": 2,
   "id": "648d1f5b-5f22-48be-9bea-f1288d230edd",
   "metadata": {},
   "outputs": [],
   "source": [
    "assert median([1, 2, 3, 4, 5]) == 3\n",
    "assert median([3, 1, 2, 5, 3]) == 3\n",
    "assert median([1, 300, 2, 200, 1]) == 2\n",
    "assert median([3, 6, 20, 99, 10, 15]) == 12.5"
   ]
  },
  {
   "cell_type": "markdown",
   "id": "19b50abd-ba52-4950-a700-1a5a8f6c1902",
   "metadata": {},
   "source": [
    "* #### **인덱싱은 음수값도 고려하자.**"
   ]
  },
  {
   "cell_type": "code",
   "execution_count": 4,
   "id": "5e1c2a76-2a88-4b65-ad58-8e0b3e750722",
   "metadata": {},
   "outputs": [],
   "source": [
    "#answer\n",
    "def median(lst: list) -> [float, int]:\n",
    "    lst.sort()\n",
    "    half = len(lst) // 2\n",
    "    \n",
    "    return (lst[half] + lst[-half-1]) / 2"
   ]
  },
  {
   "cell_type": "code",
   "execution_count": 5,
   "id": "438165f6-607f-4c3e-b4ec-a4f823070e83",
   "metadata": {},
   "outputs": [],
   "source": [
    "assert median([1, 2, 3, 4, 5]) == 3\n",
    "assert median([3, 1, 2, 5, 3]) == 3\n",
    "assert median([1, 300, 2, 200, 1]) == 2\n",
    "assert median([3, 6, 20, 99, 10, 15]) == 12.5"
   ]
  },
  {
   "cell_type": "markdown",
   "id": "ebb97d46-8dde-4eff-86bc-2098006b6362",
   "metadata": {},
   "source": [
    "## 26. I Love Python\n",
    "This mission is simple to solve. You are given a function called \"i_love_python\" which will only return the phrase - \"I love Python!\"\n",
    "\n",
    "Let's write an essay in python code which will explain why you love python (if you don't love it, when we will make an additional mission special for the haters). Publishing the default solution will only earn you 0 points as the goal is to earn points through votes for your code essay.\n",
    "\n",
    "* Input: Nothing.\n",
    "* Output: The string \"I love Python!\"."
   ]
  },
  {
   "cell_type": "code",
   "execution_count": 10,
   "id": "f9459e8f-107a-4969-9c61-b3f292635957",
   "metadata": {},
   "outputs": [],
   "source": [
    "def i_love_python():\n",
    "    \"\"\"\n",
    "    나는 파이썬이 좋다.\n",
    "    왜냐하면 바로바로 고칠 수 있어서 쉽기 때문이다.\n",
    "    게다가 막혀도 인터넷에 검색하면 대충 해결 가능하다.\n",
    "    문법도 직관적이다.\n",
    "    짱!\n",
    "    \"\"\"\n",
    "    return \"I love Python!\""
   ]
  },
  {
   "cell_type": "code",
   "execution_count": 11,
   "id": "cb9e73e3-a23f-48d2-966e-a003197e6504",
   "metadata": {},
   "outputs": [
    {
     "data": {
      "text/plain": [
       "'I love Python!'"
      ]
     },
     "execution_count": 11,
     "metadata": {},
     "output_type": "execute_result"
    }
   ],
   "source": [
    "i_love_python()"
   ]
  },
  {
   "cell_type": "markdown",
   "id": "9fdc5d9d-be1c-4117-a1ed-c56f26b9e7b7",
   "metadata": {},
   "source": [
    "## 27. Common Words\n",
    "Let's continue examining words. You are given two strings with words separated by commas. Try to find what is common between these strings. The words in the same string don't repeat.\n",
    "\n",
    "Your function should find all of the words that appear in both strings. The result must be represented as a string of words separated by commas in alphabetic order.\n",
    "\n",
    "* Input: Two arguments as strings.\n",
    "* Output: The common words as a string."
   ]
  },
  {
   "cell_type": "code",
   "execution_count": 33,
   "id": "f557b0ce-0b14-4151-af53-ed144845ca6e",
   "metadata": {},
   "outputs": [],
   "source": [
    "#try\n",
    "def common_words(str1: str, str2: str) -> str:\n",
    "    a = sorted(list(set(str1.split(',')) & set(str2.split(','))))\n",
    "    b = \"\"\n",
    "    for i in a:\n",
    "        b = b + i + \",\"\n",
    "    return b[:-1]"
   ]
  },
  {
   "cell_type": "code",
   "execution_count": 34,
   "id": "a68384f7-994a-4ef1-837d-e92751aac058",
   "metadata": {},
   "outputs": [],
   "source": [
    "assert common_words(\"hello,world\", \"hello,earth\") == \"hello\", \"Hello\"\n",
    "assert common_words(\"one,two,three\", \"four,five,six\") == \"\", \"Too different\"\n",
    "assert common_words(\"one,two,three\", \"four,five,one,two,six,three\") == \"one,three,two\", \"1 2 3\""
   ]
  },
  {
   "cell_type": "markdown",
   "id": "6b962244-e726-43a6-aa78-4fa994f02215",
   "metadata": {},
   "source": [
    "* #### **a, b = A, B**\n",
    "쉼표를 기준으로 순서대로 매칭된다.\n",
    "* #### **set1.intersection(set2)**\n",
    "교집합을 구한다\n",
    "* #### **','.join(list)**\n",
    "리스트 구성요소를 ,로 연결"
   ]
  },
  {
   "cell_type": "code",
   "execution_count": 35,
   "id": "4794837f-5a18-4893-8ca5-c6f9750c1bbe",
   "metadata": {},
   "outputs": [],
   "source": [
    "#answer\n",
    "def common_words(str1: str, str2: str) -> str:\n",
    "    set1, set2 = set(str1.split(',')), set(str2.split(','))\n",
    "    common = set1.intersection(set2)\n",
    "    \n",
    "    return ','.join(sorted(common))"
   ]
  },
  {
   "cell_type": "code",
   "execution_count": 36,
   "id": "3a791213-24f0-4635-a437-ddade47adeb3",
   "metadata": {},
   "outputs": [],
   "source": [
    "assert common_words(\"hello,world\", \"hello,earth\") == \"hello\", \"Hello\"\n",
    "assert common_words(\"one,two,three\", \"four,five,six\") == \"\", \"Too different\"\n",
    "assert common_words(\"one,two,three\", \"four,five,one,two,six,three\") == \"one,three,two\", \"1 2 3\""
   ]
  },
  {
   "cell_type": "markdown",
   "id": "01b7e063-15c0-4127-a89b-c8516c59add3",
   "metadata": {},
   "source": [
    "## 28 Verify Anagram\n",
    "An anagram is a type of word play, the result of rearranging the letters of a word or phrase to produce a new word or phrase, using all the original letters exactly once. Two words are anagrams to each other if we can get one from another by rearranging the letters. Anagrams are case-insensitive and don't take account whitespaces. For example: \"Gram Ring Mop\" and \"Programming\" are anagrams. But \"Hello\" and \"Ole Oh\" are not.\n",
    "\n",
    "You are given two words or phrase. Try to verify are they anagrams or not.\n",
    "\n",
    "* Input: Two arguments as strings.\n",
    "* Output: Are they anagrams or not as boolean (True or False)"
   ]
  },
  {
   "cell_type": "code",
   "execution_count": 61,
   "id": "51a35ee0-ad82-43f1-8f9d-c277238dba8f",
   "metadata": {},
   "outputs": [],
   "source": [
    "#try\n",
    "def verify_anagram(str1: str, str2: str) -> bool:\n",
    "    lst1, lst2 = sorted(list(str1.replace(\" \", \"\").lower())), sorted(list(str2.replace(\" \", \"\").lower()))\n",
    "    return lst1 == lst2"
   ]
  },
  {
   "cell_type": "code",
   "execution_count": 60,
   "id": "a30d1787-85d7-4cc5-b5ca-2413d4a958d3",
   "metadata": {},
   "outputs": [],
   "source": [
    "assert isinstance(verify_anagram(\"a\", 'z'), bool), \"Boolean!\"\n",
    "assert verify_anagram(\"Programming\", \"Gram Ring Mop\") == True, \"Gram of code\"\n",
    "assert verify_anagram(\"Hello\", \"Ole Oh\") == False, \"Hello! Ole Oh!\"\n",
    "assert verify_anagram(\"Kyoto\", \"Tokyo\") == True, \"The global warming crisis of 3002\""
   ]
  }
 ],
 "metadata": {
  "kernelspec": {
   "display_name": "Python 3",
   "language": "python",
   "name": "python3"
  },
  "language_info": {
   "codemirror_mode": {
    "name": "ipython",
    "version": 3
   },
   "file_extension": ".py",
   "mimetype": "text/x-python",
   "name": "python",
   "nbconvert_exporter": "python",
   "pygments_lexer": "ipython3",
   "version": "3.8.8"
  }
 },
 "nbformat": 4,
 "nbformat_minor": 5
}
