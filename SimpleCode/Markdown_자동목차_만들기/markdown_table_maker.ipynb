{
 "cells": [
  {
   "cell_type": "code",
   "execution_count": 1,
   "id": "1aac25c8",
   "metadata": {},
   "outputs": [],
   "source": [
    "# input으로 받아 리스트 만들기\n",
    "entire_md = list(input().split(\"  \"))\n",
    "\n",
    "# 공백 제거하기\n",
    "t_md = []\n",
    "for item in entire_md:\n",
    "    if len(item) >= 1:\n",
    "        t_md.append(item.strip())\n",
    "\n",
    "# 코드블럭 제거하기\n",
    "c_lst = []\n",
    "a = 1\n",
    "for i in t_md:\n",
    "    if \"```\" in i:\n",
    "        a *= -1\n",
    "    if a > 0:\n",
    "        c_lst.append(i)\n",
    "    \n",
    "        \n",
    "# #으로 시작하는 목차 추출하기\n",
    "table_md = []\n",
    "for item in c_lst:\n",
    "    if item[0] == \"#\":\n",
    "        table_md.append(item)\n",
    "\n",
    "# 링크 목차 구성하기\n",
    "out = \"\"\n",
    "for item in table_md:\n",
    "    if \"`\" not in item:\n",
    "        if \"###\" in item:\n",
    "            out += \"    + [\" + item[4:] + \"](#\" + item[4:].replace(\" \", \"-\") + \")\\n\"\n",
    "        elif \"##\" in item:\n",
    "            out += \"  * [\" + item[3:] + \"](#\" + item[3:].replace(\" \", \"-\") + \")\\n\"\n",
    "        elif \"#\" in item:\n",
    "            out += \"- [**\" + item[2:] + \"**](#\" + item[2:].replace(\" \", \"-\") + \")\\n\"\n",
    "print(out)"
   ]
  }
 ],
 "metadata": {
  "kernelspec": {
   "display_name": "Python 3.9.13 64-bit",
   "language": "python",
   "name": "python3"
  },
  "language_info": {
   "codemirror_mode": {
    "name": "ipython",
    "version": 3
   },
   "file_extension": ".py",
   "mimetype": "text/x-python",
   "name": "python",
   "nbconvert_exporter": "python",
   "pygments_lexer": "ipython3",
   "version": "3.9.13"
  },
  "toc": {
   "base_numbering": 1,
   "nav_menu": {},
   "number_sections": true,
   "sideBar": true,
   "skip_h1_title": false,
   "title_cell": "Table of Contents",
   "title_sidebar": "Contents",
   "toc_cell": false,
   "toc_position": {},
   "toc_section_display": true,
   "toc_window_display": false
  },
  "vscode": {
   "interpreter": {
    "hash": "3d3579b64ed644892bc49d0da2d1890659408e00eebf25200bc250e1696a02dd"
   }
  }
 },
 "nbformat": 4,
 "nbformat_minor": 5
}
