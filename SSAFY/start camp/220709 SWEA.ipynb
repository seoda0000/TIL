{
 "cells": [
  {
   "cell_type": "markdown",
   "id": "98dc5542-059a-4a84-b46a-f9d5d94e553c",
   "metadata": {},
   "source": [
    "# SWEA\n",
    "220709 seoda0000  \n",
    "https://swexpertacademy.com/main/main.do\n",
    "----------------------------"
   ]
  },
  {
   "cell_type": "code",
   "execution_count": 77,
   "id": "58748905-1ae9-472f-8224-879cde4c2ded",
   "metadata": {},
   "outputs": [],
   "source": [
    "import sys\n",
    "sys.stdin = open(\"input.txt\", \"r\")"
   ]
  },
  {
   "cell_type": "markdown",
   "id": "ce7c58d0-7749-4001-bf58-fc566ed6c5af",
   "metadata": {},
   "source": [
    "* input.txt 를 read only 형식으로 연 후, input을 입력할 때 키보드 대신 파일로부터 읽는다.\n",
    "* txt 파일이 한 폴도에 있어야 한다. (경로 설정 필요)\n",
    "* 주피터 노트북에선 안됨. 이후 파이참에서 시도."
   ]
  },
  {
   "cell_type": "code",
   "execution_count": null,
   "id": "8f4ca15e-68a9-42c3-b806-b5e5c2e0c503",
   "metadata": {},
   "outputs": [],
   "source": [
    "T = int(input())\n",
    "for t in range(1, T+1):\n",
    "    print(f\"#{t}\")\n",
    "    n = int(input())\n",
    "    s = \"\"\n",
    "    for i in range(n):\n",
    "        l = input().split()\n",
    "        A, num = l[0], int(l[1])\n",
    "        s += A * num\n",
    "        \n",
    "        while len(s) >= 10:\n",
    "            print(s[:10])\n",
    "            s = s[10:]\n",
    "    print(s)"
   ]
  },
  {
   "cell_type": "markdown",
   "id": "1dcd4f19-3cd5-4a5a-b7f2-f308a961ee06",
   "metadata": {},
   "source": [
    "* 주어지는 input Data를 확인하자!\n",
    "* While을 활용해서 10줄이 채워지면 10줄을 출력한다. 그리고 s에서 삭제한다."
   ]
  }
 ],
 "metadata": {
  "kernelspec": {
   "display_name": "Python 3",
   "language": "python",
   "name": "python3"
  },
  "language_info": {
   "codemirror_mode": {
    "name": "ipython",
    "version": 3
   },
   "file_extension": ".py",
   "mimetype": "text/x-python",
   "name": "python",
   "nbconvert_exporter": "python",
   "pygments_lexer": "ipython3",
   "version": "3.8.8"
  }
 },
 "nbformat": 4,
 "nbformat_minor": 5
}
