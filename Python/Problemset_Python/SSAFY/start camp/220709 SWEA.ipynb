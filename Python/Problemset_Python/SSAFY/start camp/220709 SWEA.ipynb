{
 "cells": [
  {
   "cell_type": "markdown",
   "id": "98dc5542-059a-4a84-b46a-f9d5d94e553c",
   "metadata": {},
   "source": [
    "# SWEA\n",
    "220709 seoda0000  \n",
    "https://swexpertacademy.com/main/main.do\n",
    "----------------------------"
   ]
  },
  {
   "cell_type": "code",
   "execution_count": 77,
   "id": "58748905-1ae9-472f-8224-879cde4c2ded",
   "metadata": {},
   "outputs": [],
   "source": [
    "import sys\n",
    "sys.stdin = open(\"input.txt\", \"r\")"
   ]
  },
  {
   "cell_type": "markdown",
   "id": "ce7c58d0-7749-4001-bf58-fc566ed6c5af",
   "metadata": {},
   "source": [
    "* input.txt 를 read only 형식으로 연 후, input을 입력할 때 키보드 대신 파일로부터 읽는다.\n",
    "* txt 파일이 한 폴도에 있어야 한다. (경로 설정 필요)\n",
    "* 주피터 노트북에선 안됨. 이후 파이참에서 시도."
   ]
  },
  {
   "cell_type": "code",
   "execution_count": 11,
   "id": "8f4ca15e-68a9-42c3-b806-b5e5c2e0c503",
   "metadata": {},
   "outputs": [
    {
     "name": "stdin",
     "output_type": "stream",
     "text": [
      " 1\n"
     ]
    },
    {
     "name": "stdout",
     "output_type": "stream",
     "text": [
      "#1\n"
     ]
    },
    {
     "name": "stdin",
     "output_type": "stream",
     "text": [
      " 1\n",
      " A 10\n"
     ]
    },
    {
     "name": "stdout",
     "output_type": "stream",
     "text": [
      "AAAAAAAAAA\n",
      "\n"
     ]
    }
   ],
   "source": [
    "T = int(input())\n",
    "for t in range(1, T+1):\n",
    "    print(f\"#{t}\")\n",
    "    n = int(input())\n",
    "    s = \"\"\n",
    "    for i in range(n):\n",
    "        l = input().split()\n",
    "        A, num = l[0], int(l[1])\n",
    "        s += A * num\n",
    "        \n",
    "        while len(s) >= 10:    #While을 활용해서 10줄이 채워지면 10줄을 출력한다.\n",
    "            print(s[:10])\n",
    "            s = s[10:]    #출력한 값을 s에서 삭제한다.\n",
    "    print(s)"
   ]
  },
  {
   "cell_type": "markdown",
   "id": "1dcd4f19-3cd5-4a5a-b7f2-f308a961ee06",
   "metadata": {},
   "source": [
    "* 주어지는 input Data를 확인하자!\n",
    "* While을 활용해서 10줄이 채워지면 10줄을 출력한다. 그리고 s에서 삭제한다."
   ]
  },
  {
   "cell_type": "code",
   "execution_count": 12,
   "id": "d294f7ac-49ef-44ae-b217-ed0efc2b787e",
   "metadata": {},
   "outputs": [
    {
     "name": "stdin",
     "output_type": "stream",
     "text": [
      " 1\n",
      " 3 5\n",
      " 1 2 3\n",
      " 4 5 6 7 8\n"
     ]
    },
    {
     "name": "stdout",
     "output_type": "stream",
     "text": [
      "#1 44\n"
     ]
    }
   ],
   "source": [
    "T = int(input())\n",
    "for t in range(1, T+1):\n",
    "    N, M = map(int, input().split())\n",
    "    A = list(map(int, input().split()))\n",
    "    B = list(map(int, input().split()))\n",
    "    lst = []\n",
    "    \n",
    "    #두 수의 블럭을 차례로 옮기면서 두 블럭 숫자의 곱의 가장 큰 합을 구한다.\n",
    "    \n",
    "    for i in range(abs(M - N) + 1):    #조합의 수 : 블럭 길이의 차이 + 1\n",
    "        \n",
    "        sumnum = 0\n",
    "        \n",
    "        #N이 클 때와 M이 클 때로 나눠서, 작은 쪽의 블럭을 한칸씩 옮기며 곱의 합을 구한다.\n",
    "        \n",
    "        if N < M:    \n",
    "            for j in range(N):\n",
    "                sumnum += A[j] * B[i]\n",
    "                i += 1\n",
    "        else:\n",
    "            for j in range(M):\n",
    "                sumnum += A[i] * B[j]\n",
    "                i += 1\n",
    "        lst.append(sumnum)\n",
    "            \n",
    "        \n",
    "    print(f\"#{t} {max(lst)}\")    #구한 곱의 합 중 가장 큰 값을 출력한다."
   ]
  },
  {
   "cell_type": "markdown",
   "id": "c8aef7fe-3416-428d-8b56-84187c68dac6",
   "metadata": {},
   "source": [
    "* 두 수의 블럭을 차례로 옮기면서 두 블럭 숫자의 곱의 가장 큰 합을 구한다.\n",
    "* 조합의 수 : 블럭 길이의 차이 + 1\n",
    "* N이 클 때와 M이 클 때로 나눠서, 작은 쪽의 블럭을 한칸씩 옮기며 곱의 합을 구한다.\n",
    "* 구한 곱의 합 중 가장 큰 값을 출력한다."
   ]
  }
 ],
 "metadata": {
  "kernelspec": {
   "display_name": "Python 3",
   "language": "python",
   "name": "python3"
  },
  "language_info": {
   "codemirror_mode": {
    "name": "ipython",
    "version": 3
   },
   "file_extension": ".py",
   "mimetype": "text/x-python",
   "name": "python",
   "nbconvert_exporter": "python",
   "pygments_lexer": "ipython3",
   "version": "3.8.8"
  }
 },
 "nbformat": 4,
 "nbformat_minor": 5
}
