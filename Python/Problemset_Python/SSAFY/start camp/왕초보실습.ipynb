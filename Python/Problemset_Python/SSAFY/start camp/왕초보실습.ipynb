{
 "cells": [
  {
   "cell_type": "markdown",
   "id": "bc25603f-6dcb-433b-9954-9eb898c5d29c",
   "metadata": {},
   "source": [
    "# 파이썬 실습\n",
    "### 220705 ~ 220706\n",
    "https://wikidocs.net/86465\n",
    "\n",
    "--------------------------------"
   ]
  },
  {
   "cell_type": "markdown",
   "id": "0cae1c9e-2379-4562-ad7f-894fbcdf4518",
   "metadata": {},
   "source": [
    "# TIL\n",
    "---------------------"
   ]
  },
  {
   "cell_type": "markdown",
   "id": "a5188e76-1511-4525-9a28-fdc241fcbeb4",
   "metadata": {},
   "source": [
    "# 연습문제 실습"
   ]
  },
  {
   "cell_type": "markdown",
   "id": "f614c5ed-0eea-460c-a294-fd5f720d55bd",
   "metadata": {},
   "source": [
    "* 몫과 나머지 한번에 구하기"
   ]
  },
  {
   "cell_type": "code",
   "execution_count": 13,
   "id": "3710068c-3826-4352-ae9d-660e0bc689fb",
   "metadata": {},
   "outputs": [
    {
     "data": {
      "text/plain": [
       "(6, 2)"
      ]
     },
     "execution_count": 13,
     "metadata": {},
     "output_type": "execute_result"
    }
   ],
   "source": [
    "divmod(50, 8)"
   ]
  },
  {
   "cell_type": "markdown",
   "id": "e3dc71cb-6f3b-483e-b606-06331b5b60e4",
   "metadata": {},
   "source": [
    "--------------\n",
    "## **2. 제어 구조**\n",
    "* input시 맨앞 공백 없애는 방법 : ''를 먼저 print하기"
   ]
  },
  {
   "cell_type": "code",
   "execution_count": 21,
   "id": "32ed5ff1-64fd-4f0b-b702-5ece8f36f13e",
   "metadata": {},
   "outputs": [
    {
     "name": "stdin",
     "output_type": "stream",
     "text": [
      " 3\n"
     ]
    },
    {
     "name": "stdout",
     "output_type": "stream",
     "text": [
      " 3\n",
      " 3\n",
      " 3\n"
     ]
    }
   ],
   "source": [
    "num = int(input())\n",
    "\n",
    "i = 0\n",
    "while i < num:\n",
    "    print('', num)\n",
    "    i += 1"
   ]
  },
  {
   "cell_type": "markdown",
   "id": "544ff350-fa5f-4a39-a0aa-7ee483e811e7",
   "metadata": {},
   "source": [
    "* print 내부의 쉼표 사이에는 자동으로 공백이 삽입된다."
   ]
  },
  {
   "cell_type": "code",
   "execution_count": 20,
   "id": "ad512bb7-b752-49f8-8a29-c1c4ec7a97d0",
   "metadata": {},
   "outputs": [
    {
     "name": "stdin",
     "output_type": "stream",
     "text": [
      " 3\n"
     ]
    },
    {
     "name": "stdout",
     "output_type": "stream",
     "text": [
      "1 1\n",
      "2 4\n",
      "3 9\n"
     ]
    }
   ],
   "source": [
    "num = int(input())\n",
    "i = 1\n",
    "\n",
    "while i <= num:\n",
    "    print(i, i**2)\n",
    "    i += 1"
   ]
  },
  {
   "cell_type": "markdown",
   "id": "4fa83482-da98-4fac-930c-bbebde5dd573",
   "metadata": {},
   "source": [
    "* print할 때 앞에 i를 붙이면 확인하기 편하다."
   ]
  },
  {
   "cell_type": "code",
   "execution_count": 28,
   "id": "76f5f9b2-da96-47ab-9e97-e626318ebdb9",
   "metadata": {},
   "outputs": [
    {
     "name": "stdout",
     "output_type": "stream",
     "text": [
      "1 60.0\n",
      "2 36.0\n",
      "3 21.6\n",
      "4 12.96\n",
      "5 7.776\n",
      "6 4.6656\n",
      "7 2.7994\n",
      "8 1.6796\n",
      "9 1.0078\n",
      "10 0.6047\n"
     ]
    }
   ],
   "source": [
    "i = 1\n",
    "n = 100\n",
    "bounce = 3 / 5\n",
    "while i <= 10:\n",
    "    n *= bounce\n",
    "    print(i, round(n, 4))\n",
    "    i += 1"
   ]
  },
  {
   "cell_type": "code",
   "execution_count": 32,
   "id": "187fede6-4caa-4792-8d99-971d3707c054",
   "metadata": {},
   "outputs": [
    {
     "name": "stdin",
     "output_type": "stream",
     "text": [
      " 3\n"
     ]
    },
    {
     "name": "stdout",
     "output_type": "stream",
     "text": [
      "삼\n"
     ]
    }
   ],
   "source": [
    "n = input()\n",
    "if n == \"1\":\n",
    "    print(\"일\")\n",
    "elif n == \"2\":\n",
    "    print(\"이\")\n",
    "elif n == \"3\":\n",
    "    print(\"삼\")"
   ]
  },
  {
   "cell_type": "code",
   "execution_count": 36,
   "id": "fc76118c-a492-46be-bd38-d3eda6d753c3",
   "metadata": {},
   "outputs": [
    {
     "name": "stdin",
     "output_type": "stream",
     "text": [
      " 1000000\n"
     ]
    },
    {
     "name": "stdout",
     "output_type": "stream",
     "text": [
      "1M\n"
     ]
    }
   ],
   "source": [
    "n = int(input())\n",
    "if n >= 1000000:\n",
    "    n = str(n // 1000000) + \"M\"\n",
    "print(n)"
   ]
  },
  {
   "cell_type": "code",
   "execution_count": 38,
   "id": "195ca76e-1eda-4a25-9d81-3cb9e2580020",
   "metadata": {},
   "outputs": [
    {
     "name": "stdin",
     "output_type": "stream",
     "text": [
      " 1\n",
      " 1\n",
      " 1\n",
      " 1\n",
      " 1\n",
      " 1\n",
      " 1\n",
      " 1\n",
      " 1\n",
      " 1\n",
      " -1\n"
     ]
    },
    {
     "name": "stdout",
     "output_type": "stream",
     "text": [
      "10\n"
     ]
    }
   ],
   "source": [
    "answer = 0\n",
    "\n",
    "while True:\n",
    "    n = int(input())\n",
    "    if n >= 0:\n",
    "        answer += n\n",
    "    else:\n",
    "        print(answer)\n",
    "        break"
   ]
  },
  {
   "cell_type": "code",
   "execution_count": 41,
   "id": "38b25f1d-e547-45e9-88b0-187e3a498600",
   "metadata": {},
   "outputs": [
    {
     "name": "stdin",
     "output_type": "stream",
     "text": [
      " 4000\n"
     ]
    },
    {
     "name": "stdout",
     "output_type": "stream",
     "text": [
      "4000 년은 윤년입니다.\n"
     ]
    }
   ],
   "source": [
    "n = int(input())\n",
    "if n % 4 != 0:\n",
    "    print(n, \"년은 평년입니다.\")\n",
    "elif n % 100 == 0 and n % 400 == 0:\n",
    "    print(n, \"년은 윤년입니다.\")\n",
    "elif n % 100 == 0:\n",
    "    print(n, \"년은 평년입니다.\")\n",
    "else:\n",
    "    print(n, \"년은 윤년입니다.\")"
   ]
  },
  {
   "cell_type": "code",
   "execution_count": 46,
   "id": "a1223490-8ce4-4712-b527-20e6605f089c",
   "metadata": {},
   "outputs": [
    {
     "name": "stdin",
     "output_type": "stream",
     "text": [
      " 3\n"
     ]
    },
    {
     "name": "stdout",
     "output_type": "stream",
     "text": [
      "1 1\n",
      "2 4\n",
      "3 9\n"
     ]
    }
   ],
   "source": [
    "n = int(input())\n",
    "for i in range(1, n+1):\n",
    "    print(i, (i) ** 2)"
   ]
  },
  {
   "cell_type": "code",
   "execution_count": null,
   "id": "904db224-82ed-413d-b580-816fc16c9227",
   "metadata": {},
   "outputs": [],
   "source": [
    "min, max = map(int, input().split())\n",
    "\n",
    "temp = int(input())\n",
    "\n",
    "while temp != -999:\n",
    "    if min <= temp <= max:\n",
    "        print('Nothing to report')\n",
    "        temp = int(input())\n",
    "    else:\n",
    "        print('Alert!')\n",
    "        break"
   ]
  },
  {
   "cell_type": "markdown",
   "id": "7887aed2-9d7b-4cf5-b9ed-45a958007e8f",
   "metadata": {},
   "source": [
    "------------------------------\n",
    "## 3. 함수"
   ]
  },
  {
   "cell_type": "code",
   "execution_count": 9,
   "id": "0e810fc5-3900-4afe-9308-6f63fafdda06",
   "metadata": {},
   "outputs": [],
   "source": [
    "def gugudan():\n",
    "    for i in range(2, 10):\n",
    "        for j in range(1, 10):\n",
    "            print(f'{i} * {j} = {i*j}')"
   ]
  },
  {
   "cell_type": "code",
   "execution_count": 10,
   "id": "3625feca-88ec-4a6d-b644-9ed8f37c3aa7",
   "metadata": {},
   "outputs": [
    {
     "name": "stdout",
     "output_type": "stream",
     "text": [
      "2 * 1 = 2\n",
      "2 * 2 = 4\n",
      "2 * 3 = 6\n",
      "2 * 4 = 8\n",
      "2 * 5 = 10\n",
      "2 * 6 = 12\n",
      "2 * 7 = 14\n",
      "2 * 8 = 16\n",
      "2 * 9 = 18\n",
      "3 * 1 = 3\n",
      "3 * 2 = 6\n",
      "3 * 3 = 9\n",
      "3 * 4 = 12\n",
      "3 * 5 = 15\n",
      "3 * 6 = 18\n",
      "3 * 7 = 21\n",
      "3 * 8 = 24\n",
      "3 * 9 = 27\n",
      "4 * 1 = 4\n",
      "4 * 2 = 8\n",
      "4 * 3 = 12\n",
      "4 * 4 = 16\n",
      "4 * 5 = 20\n",
      "4 * 6 = 24\n",
      "4 * 7 = 28\n",
      "4 * 8 = 32\n",
      "4 * 9 = 36\n",
      "5 * 1 = 5\n",
      "5 * 2 = 10\n",
      "5 * 3 = 15\n",
      "5 * 4 = 20\n",
      "5 * 5 = 25\n",
      "5 * 6 = 30\n",
      "5 * 7 = 35\n",
      "5 * 8 = 40\n",
      "5 * 9 = 45\n",
      "6 * 1 = 6\n",
      "6 * 2 = 12\n",
      "6 * 3 = 18\n",
      "6 * 4 = 24\n",
      "6 * 5 = 30\n",
      "6 * 6 = 36\n",
      "6 * 7 = 42\n",
      "6 * 8 = 48\n",
      "6 * 9 = 54\n",
      "7 * 1 = 7\n",
      "7 * 2 = 14\n",
      "7 * 3 = 21\n",
      "7 * 4 = 28\n",
      "7 * 5 = 35\n",
      "7 * 6 = 42\n",
      "7 * 7 = 49\n",
      "7 * 8 = 56\n",
      "7 * 9 = 63\n",
      "8 * 1 = 8\n",
      "8 * 2 = 16\n",
      "8 * 3 = 24\n",
      "8 * 4 = 32\n",
      "8 * 5 = 40\n",
      "8 * 6 = 48\n",
      "8 * 7 = 56\n",
      "8 * 8 = 64\n",
      "8 * 9 = 72\n",
      "9 * 1 = 9\n",
      "9 * 2 = 18\n",
      "9 * 3 = 27\n",
      "9 * 4 = 36\n",
      "9 * 5 = 45\n",
      "9 * 6 = 54\n",
      "9 * 7 = 63\n",
      "9 * 8 = 72\n",
      "9 * 9 = 81\n"
     ]
    }
   ],
   "source": [
    "gugudan()"
   ]
  },
  {
   "cell_type": "code",
   "execution_count": 11,
   "id": "654d5f9c-107a-4248-b2bb-d21a10c11699",
   "metadata": {},
   "outputs": [],
   "source": [
    "def quiz():\n",
    "    ans = input('1 + 2 = ')\n",
    "    return 1 + 2 == int(ans)"
   ]
  },
  {
   "cell_type": "code",
   "execution_count": 13,
   "id": "943c58b3-ce9e-4c2c-afae-c1a01cf64595",
   "metadata": {},
   "outputs": [
    {
     "name": "stdin",
     "output_type": "stream",
     "text": [
      "1 + 2 =  5\n"
     ]
    },
    {
     "data": {
      "text/plain": [
       "False"
      ]
     },
     "execution_count": 13,
     "metadata": {},
     "output_type": "execute_result"
    }
   ],
   "source": [
    "quiz()"
   ]
  },
  {
   "cell_type": "code",
   "execution_count": 17,
   "id": "2aeacd35-f6fe-4444-9ac4-1f3903423435",
   "metadata": {},
   "outputs": [],
   "source": [
    "def korean_number(i):\n",
    "    if i == 1:\n",
    "        return \"일\"\n",
    "    elif i == 2:\n",
    "        return \"이\"\n",
    "    elif i == 3:\n",
    "        return \"삼\"\n",
    "    elif i == 4:\n",
    "        return \"사\"\n",
    "    elif i == 5:\n",
    "        return \"오\"\n",
    "    elif i == 6:\n",
    "        return \"육\"\n",
    "    elif i == 7:\n",
    "        return \"칠\"\n",
    "    elif i == 8:\n",
    "        return \"팔\"\n",
    "    elif i == 9:\n",
    "        return \"구\"\n",
    "    elif i == 10:\n",
    "        return \"십\""
   ]
  },
  {
   "cell_type": "code",
   "execution_count": 19,
   "id": "85469206-b14f-40a5-9343-66f148d5fe2c",
   "metadata": {},
   "outputs": [
    {
     "data": {
      "text/plain": [
       "'팔'"
      ]
     },
     "execution_count": 19,
     "metadata": {},
     "output_type": "execute_result"
    }
   ],
   "source": [
    "korean_number(8)"
   ]
  },
  {
   "cell_type": "code",
   "execution_count": 20,
   "id": "ff81ef7f-c005-41ad-b867-3703d7f1e9ed",
   "metadata": {},
   "outputs": [],
   "source": [
    "def triple(a):\n",
    "    return a * 3"
   ]
  },
  {
   "cell_type": "code",
   "execution_count": 21,
   "id": "31223a37-82fe-4a70-9b68-6bb7a222ab73",
   "metadata": {},
   "outputs": [
    {
     "data": {
      "text/plain": [
       "'***'"
      ]
     },
     "execution_count": 21,
     "metadata": {},
     "output_type": "execute_result"
    }
   ],
   "source": [
    "triple(\"*\")"
   ]
  },
  {
   "cell_type": "code",
   "execution_count": 23,
   "id": "d9724e0f-be87-44de-9c69-8db3732c02f6",
   "metadata": {},
   "outputs": [
    {
     "data": {
      "text/plain": [
       "datetime.datetime(2022, 7, 6, 9, 31, 10, 286775)"
      ]
     },
     "execution_count": 23,
     "metadata": {},
     "output_type": "execute_result"
    }
   ],
   "source": [
    "from datetime import datetime\n",
    "today = datetime.today()\n",
    "today"
   ]
  },
  {
   "cell_type": "code",
   "execution_count": 24,
   "id": "25d3f256-e487-4feb-9a9b-0a258ffde0cd",
   "metadata": {},
   "outputs": [
    {
     "data": {
      "text/plain": [
       "2022"
      ]
     },
     "execution_count": 24,
     "metadata": {},
     "output_type": "execute_result"
    }
   ],
   "source": [
    "today.year"
   ]
  },
  {
   "cell_type": "code",
   "execution_count": 27,
   "id": "ec6fe6a7-ead2-4814-9fa3-ca407927cec7",
   "metadata": {},
   "outputs": [],
   "source": [
    "def korean_age(i):\n",
    "    from datetime import datetime\n",
    "    today = datetime.today()\n",
    "    return (today.year - i) + 1"
   ]
  },
  {
   "cell_type": "code",
   "execution_count": 28,
   "id": "55cea3a7-f5b9-4915-b801-59efa3af900d",
   "metadata": {},
   "outputs": [
    {
     "data": {
      "text/plain": [
       "26"
      ]
     },
     "execution_count": 28,
     "metadata": {},
     "output_type": "execute_result"
    }
   ],
   "source": [
    "korean_age(1997)"
   ]
  },
  {
   "cell_type": "code",
   "execution_count": 29,
   "id": "d73a819e-254b-4d06-88f2-6653a1cb84a4",
   "metadata": {},
   "outputs": [],
   "source": [
    "#이자 계산\n",
    "def simple_interest(p, r, t):\n",
    "    return p * r * t"
   ]
  },
  {
   "cell_type": "code",
   "execution_count": 30,
   "id": "23b5a1e3-a834-4398-911f-6a4a130dee3a",
   "metadata": {},
   "outputs": [
    {
     "data": {
      "text/plain": [
       "1937500.0"
      ]
     },
     "execution_count": 30,
     "metadata": {},
     "output_type": "execute_result"
    }
   ],
   "source": [
    "simple_interest(10000000, 0.03875, 5)"
   ]
  },
  {
   "cell_type": "code",
   "execution_count": 32,
   "id": "076622b8-4088-4adc-973b-2c99cf470a57",
   "metadata": {},
   "outputs": [
    {
     "data": {
      "text/plain": [
       "22916.666666666668"
      ]
     },
     "execution_count": 32,
     "metadata": {},
     "output_type": "execute_result"
    }
   ],
   "source": [
    "simple_interest(1100000, 0.05, 5/12)"
   ]
  },
  {
   "cell_type": "code",
   "execution_count": 31,
   "id": "804d43fe-6e42-4dee-8839-95f82d4897c1",
   "metadata": {},
   "outputs": [],
   "source": [
    "#원리금 계산\n",
    "def simple_interest_amount(p, r, t):\n",
    "    return p * (1 + r * t)"
   ]
  },
  {
   "cell_type": "code",
   "execution_count": 33,
   "id": "476c1560-d75a-410b-97fa-2b58a8949c7f",
   "metadata": {},
   "outputs": [
    {
     "data": {
      "text/plain": [
       "11937500.0"
      ]
     },
     "execution_count": 33,
     "metadata": {},
     "output_type": "execute_result"
    }
   ],
   "source": [
    "simple_interest_amount(10000000, 0.03875, 5)"
   ]
  },
  {
   "cell_type": "code",
   "execution_count": 34,
   "id": "53a1fa1c-47a4-4a11-b882-72716e362421",
   "metadata": {},
   "outputs": [
    {
     "data": {
      "text/plain": [
       "1122916.6666666665"
      ]
     },
     "execution_count": 34,
     "metadata": {},
     "output_type": "execute_result"
    }
   ],
   "source": [
    "simple_interest_amount(1100000, 0.05, 5/12)"
   ]
  },
  {
   "cell_type": "code",
   "execution_count": 35,
   "id": "a21d09c0-ba25-423d-ba66-2e585af9a93b",
   "metadata": {},
   "outputs": [],
   "source": [
    "#복리로 원리금 계산\n",
    "def compound_interest_amount(p, r, t, n):\n",
    "    return p * (1 + r / n) ** (n * t)"
   ]
  },
  {
   "cell_type": "code",
   "execution_count": 36,
   "id": "e4c0e801-50f2-4f92-80e6-80c081225f68",
   "metadata": {},
   "outputs": [
    {
     "data": {
      "text/plain": [
       "1938836.8221341055"
      ]
     },
     "execution_count": 36,
     "metadata": {},
     "output_type": "execute_result"
    }
   ],
   "source": [
    "compound_interest_amount(1500000, 0.043, 6, 4)"
   ]
  },
  {
   "cell_type": "code",
   "execution_count": 37,
   "id": "d4e7be36-c6ea-45e0-a10d-82f73e0f084b",
   "metadata": {},
   "outputs": [
    {
     "data": {
      "text/plain": [
       "1921236.0840000005"
      ]
     },
     "execution_count": 37,
     "metadata": {},
     "output_type": "execute_result"
    }
   ],
   "source": [
    "compound_interest_amount(1500000, 0.043, 6, 1/2)"
   ]
  },
  {
   "cell_type": "code",
   "execution_count": 59,
   "id": "6eb68289-9965-45a6-abc1-9f6d5b415ddf",
   "metadata": {},
   "outputs": [
    {
     "data": {
      "text/plain": [
       "True"
      ]
     },
     "execution_count": 59,
     "metadata": {},
     "output_type": "execute_result"
    }
   ],
   "source": [
    "\"3\".isdigit()"
   ]
  },
  {
   "cell_type": "code",
   "execution_count": 118,
   "id": "706fef54-2e77-40c0-bfd5-038cb7af68be",
   "metadata": {},
   "outputs": [
    {
     "data": {
      "text/plain": [
       "[2, 3]"
      ]
     },
     "execution_count": 118,
     "metadata": {},
     "output_type": "execute_result"
    }
   ],
   "source": [
    "a= [1, 2, 3]\n",
    "a.pop(0)\n",
    "a"
   ]
  },
  {
   "cell_type": "code",
   "execution_count": 137,
   "id": "76a29afc-2358-4c84-88c2-143957800eed",
   "metadata": {},
   "outputs": [
    {
     "data": {
      "text/plain": [
       "-1"
      ]
     },
     "execution_count": 137,
     "metadata": {},
     "output_type": "execute_result"
    }
   ],
   "source": [
    "\"abc\".find(\"e\")"
   ]
  },
  {
   "cell_type": "code",
   "execution_count": 167,
   "id": "370dbadd-a1ab-4ee4-8e97-d10a74c3169c",
   "metadata": {},
   "outputs": [
    {
     "name": "stdin",
     "output_type": "stream",
     "text": [
      " 툼 오브 호러: -\n"
     ]
    },
    {
     "name": "stdout",
     "output_type": "stream",
     "text": [
      "이름: 툼 오브 호러\n",
      "하한: None\n",
      "상한: None\n"
     ]
    }
   ],
   "source": [
    "def read(text):\n",
    "    lst = text.split(\": \")\n",
    "    ridename = lst.pop(0)\n",
    "    if lst[0].find(\"cm\") == -1:\n",
    "        cmmin = None\n",
    "        cmmax = None\n",
    "        return ridename, cmmin, cmmax\n",
    "    else:\n",
    "        numlst = lst[0].split(\"cm\")\n",
    "        cmmin = int(numlst.pop(0))\n",
    "        cmmax = None\n",
    "        \n",
    "        if numlst[0].find(\"~\") > -1:\n",
    "            cmmax = int(numlst[0][1:])\n",
    "            \n",
    "    return ridename, cmmin, cmmax\n",
    "    \n",
    "\n",
    "if __name__ == \"__main__\":\n",
    "    ridename, cmmin, cmmax = read(input())\n",
    "    print(\"이름:\", ridename)\n",
    "    print(\"하한:\", cmmin)\n",
    "    print(\"상한:\", cmmax)"
   ]
  },
  {
   "cell_type": "code",
   "execution_count": 161,
   "id": "ce4541ea-6562-4504-a5d4-621806febcf6",
   "metadata": {},
   "outputs": [
    {
     "data": {
      "text/plain": [
       "('와일드 윙', 110, None)"
      ]
     },
     "execution_count": 161,
     "metadata": {},
     "output_type": "execute_result"
    }
   ],
   "source": [
    "read(\"와일드 윙: 110cm 이상\")"
   ]
  },
  {
   "cell_type": "code",
   "execution_count": 162,
   "id": "1daf82c4-0c0c-45b3-8374-a37a2967b5ec",
   "metadata": {},
   "outputs": [
    {
     "data": {
      "text/plain": [
       "('플라이벤처', 140, 195)"
      ]
     },
     "execution_count": 162,
     "metadata": {},
     "output_type": "execute_result"
    }
   ],
   "source": [
    "read(\"플라이벤처: 140cm~195cm\")"
   ]
  },
  {
   "cell_type": "code",
   "execution_count": 168,
   "id": "bdb2d276-085c-4ae4-9d23-1a87b41e0385",
   "metadata": {},
   "outputs": [
    {
     "data": {
      "text/plain": [
       "('툼 오브 호러', None, None)"
      ]
     },
     "execution_count": 168,
     "metadata": {},
     "output_type": "execute_result"
    }
   ],
   "source": [
    "read(\"툼 오브 호러: -\")"
   ]
  },
  {
   "cell_type": "code",
   "execution_count": 169,
   "id": "8e9c8bca-99aa-4236-9e2b-9fa9defa0f58",
   "metadata": {},
   "outputs": [
    {
     "name": "stdin",
     "output_type": "stream",
     "text": [
      " 툼 오브 호러: -\n"
     ]
    },
    {
     "name": "stdout",
     "output_type": "stream",
     "text": [
      "이름: 툼 오브 호러\n",
      "하한: None\n",
      "상한: None\n"
     ]
    }
   ],
   "source": [
    "def read(text):\n",
    "    ridename, limit = map(str.strip, text.split(':'))\n",
    "    \n",
    "    cmmin = cmmax = None\n",
    "    if '~' in limit:\n",
    "        cmmin, cmmax = map(lambda x: int(x.replace('cm', '')), limit.split('~'))\n",
    "    elif \"이상\" in limit:\n",
    "        cmmin = int(limit.split(\"cm\")[0])\n",
    "\n",
    "    return ridename, cmmin, cmmax\n",
    "\n",
    "\n",
    "if __name__ == \"__main__\":\n",
    "    ridename, cmmin, cmmax = read(input())\n",
    "    print(\"이름:\", ridename)\n",
    "    print(\"하한:\", cmmin)\n",
    "    print(\"상한:\", cmmax)"
   ]
  },
  {
   "cell_type": "markdown",
   "id": "ca63d106-d596-4c34-b6aa-8f07d1ed60fd",
   "metadata": {},
   "source": [
    "------------------\n",
    "## 4. 자료형"
   ]
  },
  {
   "cell_type": "markdown",
   "id": "47b34a54-a926-4993-b63d-c28b7d714f8d",
   "metadata": {},
   "source": [
    "* 복소수 : complex"
   ]
  },
  {
   "cell_type": "code",
   "execution_count": 170,
   "id": "2868deec-8e9e-480b-823e-74f56758fa0c",
   "metadata": {},
   "outputs": [
    {
     "data": {
      "text/plain": [
       "complex"
      ]
     },
     "execution_count": 170,
     "metadata": {},
     "output_type": "execute_result"
    }
   ],
   "source": [
    "type(3+4j)"
   ]
  },
  {
   "cell_type": "markdown",
   "id": "0c240f26-3054-47e4-81f8-60ca67623109",
   "metadata": {},
   "source": [
    "* 시퀀스\n",
    "    * 문자열(str), 리스트(list), 튜플(tuple), 사용자 정의 클래스\n",
    "    * for 에 사용 가능"
   ]
  },
  {
   "cell_type": "code",
   "execution_count": 185,
   "id": "bd09bfbf-35e9-4db3-a5e0-460c77d7294e",
   "metadata": {},
   "outputs": [],
   "source": [
    "def palindrome(s):\n",
    "    s = s.lower().replace(\" \", \"\")\n",
    "    return s == s[::-1]"
   ]
  },
  {
   "cell_type": "code",
   "execution_count": 186,
   "id": "de0a6218-f411-4f67-a23f-92e8485445b9",
   "metadata": {},
   "outputs": [
    {
     "data": {
      "text/plain": [
       "True"
      ]
     },
     "execution_count": 186,
     "metadata": {},
     "output_type": "execute_result"
    }
   ],
   "source": [
    "palindrome('anna') #True"
   ]
  },
  {
   "cell_type": "code",
   "execution_count": 187,
   "id": "81864e54-6218-4e53-b4a4-5cb322a6ad66",
   "metadata": {},
   "outputs": [
    {
     "data": {
      "text/plain": [
       "False"
      ]
     },
     "execution_count": 187,
     "metadata": {},
     "output_type": "execute_result"
    }
   ],
   "source": [
    "palindrome('banana') #False"
   ]
  },
  {
   "cell_type": "code",
   "execution_count": 188,
   "id": "d70f5df6-26ed-4dd1-99d2-e2b475f840d7",
   "metadata": {},
   "outputs": [
    {
     "data": {
      "text/plain": [
       "True"
      ]
     },
     "execution_count": 188,
     "metadata": {},
     "output_type": "execute_result"
    }
   ],
   "source": [
    "palindrome('Anna')"
   ]
  },
  {
   "cell_type": "code",
   "execution_count": 189,
   "id": "0d70cd89-924e-4efb-98c2-40c7cb7856d1",
   "metadata": {},
   "outputs": [
    {
     "data": {
      "text/plain": [
       "True"
      ]
     },
     "execution_count": 189,
     "metadata": {},
     "output_type": "execute_result"
    }
   ],
   "source": [
    "palindrome('My gym')"
   ]
  },
  {
   "cell_type": "code",
   "execution_count": 190,
   "id": "d5ca18b1-4e79-44b2-a769-04a94531e9bd",
   "metadata": {},
   "outputs": [
    {
     "data": {
      "text/plain": [
       "[2, 3]"
      ]
     },
     "execution_count": 190,
     "metadata": {},
     "output_type": "execute_result"
    }
   ],
   "source": [
    "a = [1, 2, 3]\n",
    "del a[0]\n",
    "a"
   ]
  },
  {
   "cell_type": "markdown",
   "id": "05838b19-9f62-4db7-a77e-e2fbed026171",
   "metadata": {},
   "source": [
    "* pop() 마지막 원소 삭제"
   ]
  },
  {
   "cell_type": "code",
   "execution_count": 191,
   "id": "d31741f5-9952-42a7-bac0-84311278c182",
   "metadata": {},
   "outputs": [
    {
     "data": {
      "text/plain": [
       "([2], 3)"
      ]
     },
     "execution_count": 191,
     "metadata": {},
     "output_type": "execute_result"
    }
   ],
   "source": [
    "b = a.pop()\n",
    "a, b"
   ]
  },
  {
   "cell_type": "code",
   "execution_count": 192,
   "id": "71b5a9ac-96b0-4335-84fe-bc6bd665d163",
   "metadata": {},
   "outputs": [
    {
     "data": {
      "text/plain": [
       "[4]"
      ]
     },
     "execution_count": 192,
     "metadata": {},
     "output_type": "execute_result"
    }
   ],
   "source": [
    "a[0] = 4\n",
    "a"
   ]
  },
  {
   "cell_type": "code",
   "execution_count": 199,
   "id": "080bc5da-cc78-4048-9c9e-47145ddd7d5e",
   "metadata": {},
   "outputs": [],
   "source": [
    "def sumOfDigits(num):\n",
    "    return sum(list(map(int, list(str(num)))))"
   ]
  },
  {
   "cell_type": "code",
   "execution_count": 200,
   "id": "4a559bb6-540e-4007-82f6-fb88c2a1aeff",
   "metadata": {},
   "outputs": [
    {
     "data": {
      "text/plain": [
       "13"
      ]
     },
     "execution_count": 200,
     "metadata": {},
     "output_type": "execute_result"
    }
   ],
   "source": [
    "sumOfDigits(643)"
   ]
  },
  {
   "cell_type": "code",
   "execution_count": 201,
   "id": "92ee7197-bd5b-48ce-bec7-451b69c10c59",
   "metadata": {},
   "outputs": [
    {
     "data": {
      "text/plain": [
       "21"
      ]
     },
     "execution_count": 201,
     "metadata": {},
     "output_type": "execute_result"
    }
   ],
   "source": [
    "sumOfDigits(47253)"
   ]
  },
  {
   "cell_type": "markdown",
   "id": "139a4338-2203-4419-aee5-62b7c0d766ba",
   "metadata": {
    "tags": []
   },
   "source": [
    "------------------------------------\n",
    "## 5. 모듈"
   ]
  },
  {
   "cell_type": "code",
   "execution_count": 2,
   "id": "b4cc2424-23e3-4d68-9c3d-b61a44a6f673",
   "metadata": {},
   "outputs": [
    {
     "name": "stdout",
     "output_type": "stream",
     "text": [
      "     July 2013\n",
      "Mo Tu We Th Fr Sa Su\n",
      " 1  2  3  4  5  6  7\n",
      " 8  9 10 11 12 13 14\n",
      "15 16 17 18 19 20 21\n",
      "22 23 24 25 26 27 28\n",
      "29 30 31\n"
     ]
    }
   ],
   "source": [
    "import calendar\n",
    "calendar.prmonth(2013, 7)"
   ]
  },
  {
   "cell_type": "code",
   "execution_count": 63,
   "id": "fd1e803a-b771-4752-9e2d-70ae4a053af9",
   "metadata": {},
   "outputs": [
    {
     "data": {
      "text/plain": [
       "['Calendar',\n",
       " 'EPOCH',\n",
       " 'FRIDAY',\n",
       " 'February',\n",
       " 'HTMLCalendar',\n",
       " 'IllegalMonthError',\n",
       " 'IllegalWeekdayError',\n",
       " 'January',\n",
       " 'LocaleHTMLCalendar',\n",
       " 'LocaleTextCalendar',\n",
       " 'MONDAY',\n",
       " 'SATURDAY',\n",
       " 'SUNDAY',\n",
       " 'THURSDAY',\n",
       " 'TUESDAY',\n",
       " 'TextCalendar',\n",
       " 'WEDNESDAY',\n",
       " '_EPOCH_ORD',\n",
       " '__all__',\n",
       " '__builtins__',\n",
       " '__cached__',\n",
       " '__doc__',\n",
       " '__file__',\n",
       " '__loader__',\n",
       " '__name__',\n",
       " '__package__',\n",
       " '__spec__',\n",
       " '_colwidth',\n",
       " '_locale',\n",
       " '_localized_day',\n",
       " '_localized_month',\n",
       " '_monthlen',\n",
       " '_nextmonth',\n",
       " '_prevmonth',\n",
       " '_spacing',\n",
       " 'c',\n",
       " 'calendar',\n",
       " 'datetime',\n",
       " 'day_abbr',\n",
       " 'day_name',\n",
       " 'different_locale',\n",
       " 'error',\n",
       " 'firstweekday',\n",
       " 'format',\n",
       " 'formatstring',\n",
       " 'isleap',\n",
       " 'leapdays',\n",
       " 'main',\n",
       " 'mdays',\n",
       " 'month',\n",
       " 'month_abbr',\n",
       " 'month_name',\n",
       " 'monthcalendar',\n",
       " 'monthrange',\n",
       " 'prcal',\n",
       " 'prmonth',\n",
       " 'prweek',\n",
       " 'repeat',\n",
       " 'setfirstweekday',\n",
       " 'sys',\n",
       " 'timegm',\n",
       " 'week',\n",
       " 'weekday',\n",
       " 'weekheader']"
      ]
     },
     "execution_count": 63,
     "metadata": {},
     "output_type": "execute_result"
    }
   ],
   "source": [
    "dir(calendar)"
   ]
  },
  {
   "cell_type": "code",
   "execution_count": 64,
   "id": "8d825306-12ed-49f3-98be-73e75090d860",
   "metadata": {},
   "outputs": [
    {
     "data": {
      "text/plain": [
       "['isleap', 'leapdays']"
      ]
     },
     "execution_count": 64,
     "metadata": {},
     "output_type": "execute_result"
    }
   ],
   "source": [
    "[x for x in dir(calendar) if 'leap' in x]"
   ]
  },
  {
   "cell_type": "code",
   "execution_count": 66,
   "id": "9a6255c8-8c42-41e2-8272-aac504101984",
   "metadata": {},
   "outputs": [
    {
     "name": "stdout",
     "output_type": "stream",
     "text": [
      "Help on function isleap in module calendar:\n",
      "\n",
      "isleap(year)\n",
      "    Return True for leap years, False for non-leap years.\n",
      "\n"
     ]
    }
   ],
   "source": [
    "help(calendar.isleap)"
   ]
  },
  {
   "cell_type": "code",
   "execution_count": 67,
   "id": "5844e47e-5c59-4f7d-a683-c18fd010f00c",
   "metadata": {},
   "outputs": [
    {
     "data": {
      "text/plain": [
       "False"
      ]
     },
     "execution_count": 67,
     "metadata": {},
     "output_type": "execute_result"
    }
   ],
   "source": [
    "calendar.isleap(2077)"
   ]
  },
  {
   "cell_type": "code",
   "execution_count": 13,
   "id": "e24575bf-67eb-4659-9bbb-7591f8b5db81",
   "metadata": {},
   "outputs": [],
   "source": [
    "from tkinter import * # 전부 가져오기. 모듈 이름 쓸 필요 없다. (함수 이름 겹칠 수도 있음.)\n",
    "widget = Label(None, text='I love Python!')\n",
    "widget.pack() #무언가 뜨는 것 같은데 주피터노트북에선 뜨지 않는다."
   ]
  },
  {
   "cell_type": "code",
   "execution_count": 14,
   "id": "7cd9450c-6d09-4f08-860d-45f50692e376",
   "metadata": {},
   "outputs": [],
   "source": [
    "import tkinter\n",
    "tkinter.widget = tkinter.Label(None, text='I love Python!')\n",
    "tkinter.widget.pack()"
   ]
  },
  {
   "cell_type": "markdown",
   "id": "f615ad6b-f275-4a56-911e-b818711b2cf1",
   "metadata": {},
   "source": [
    "* 모듈 지우기"
   ]
  },
  {
   "cell_type": "code",
   "execution_count": 15,
   "id": "44a71e60-cd7f-44e1-bb35-f930584c62be",
   "metadata": {},
   "outputs": [],
   "source": [
    "del tkinter"
   ]
  },
  {
   "cell_type": "code",
   "execution_count": 1,
   "id": "f6e53d53-fdb4-4a06-86d5-4f6f5f770106",
   "metadata": {},
   "outputs": [],
   "source": [
    "import tkinter as tk\n",
    "\n",
    "s = \"Life is short\\nUse Python\"\n",
    "\n",
    "root = tk.Tk()\n",
    "t = tk.Text(root, height=2, width=13)\n",
    "t.insert(tk.END, s)\n",
    "t.pack()\n",
    "tk.mainloop()"
   ]
  },
  {
   "cell_type": "code",
   "execution_count": 12,
   "id": "bd2d88b0-c6cd-4db9-9c64-a1064028e590",
   "metadata": {},
   "outputs": [],
   "source": [
    "import calendar\n",
    "import tkinter as tk\n",
    "\n",
    "c = calendar.TextCalendar()\n",
    "m = c.formatmonth(2022, 7)\n",
    "root = tk.Tk()\n",
    "t = tk.Text(root, height=7, width=20)\n",
    "t.insert(tk.END, m)\n",
    "t.pack()\n",
    "tk.mainloop()"
   ]
  },
  {
   "cell_type": "code",
   "execution_count": 202,
   "id": "cdb1ae82-f946-41e3-a656-5cbae18ac772",
   "metadata": {},
   "outputs": [
    {
     "data": {
      "text/plain": [
       "('와일드 윙', 110, None)"
      ]
     },
     "execution_count": 202,
     "metadata": {},
     "output_type": "execute_result"
    }
   ],
   "source": [
    "read(\"\")"
   ]
  },
  {
   "cell_type": "code",
   "execution_count": 222,
   "id": "a6afc6b0-5e21-42d9-a04f-a3b1fcf9f4b7",
   "metadata": {},
   "outputs": [],
   "source": [
    "def allowedrides(height):\n",
    "    lst = list(map(read, \"\"\"와일드 윙: 110cm 이상\n",
    "드림보트: 120cm 이상\n",
    "자이안트 루프: 120cm 이상\n",
    "툼 오브 호러: -\n",
    "플라이벤처: 140cm~195cm\n",
    "회전목마: 100cm 이상\n",
    "매직 붕붕카: 110cm~140cm\"\"\".split(\"\\n\")))\n",
    "    result = []\n",
    "    for i in lst:\n",
    "        if i[1] == None:\n",
    "            result.append(i[0])\n",
    "        elif i[2] == None:\n",
    "            if height >= i[1]:\n",
    "                result.append(i[0])\n",
    "        else:\n",
    "            if height >= i[1] and height <= i[2]:\n",
    "                result.append(i[0])\n",
    "    return result"
   ]
  },
  {
   "cell_type": "code",
   "execution_count": 225,
   "id": "2e74f462-f0e0-42cb-8d57-5bb7b3e43382",
   "metadata": {},
   "outputs": [
    {
     "data": {
      "text/plain": [
       "['와일드 윙', '드림보트', '자이안트 루프', '툼 오브 호러', '플라이벤처', '회전목마']"
      ]
     },
     "execution_count": 225,
     "metadata": {},
     "output_type": "execute_result"
    }
   ],
   "source": [
    "allowedrides(150)"
   ]
  },
  {
   "cell_type": "code",
   "execution_count": 228,
   "id": "298d0de9-ca6a-465d-acaf-2e92e0b3f396",
   "metadata": {},
   "outputs": [],
   "source": [
    "def allowedrides(height):\n",
    "    lst = list(map(read, \"\"\"와일드 윙: 110cm 이상\n",
    "드림보트: 120cm 이상\n",
    "자이안트 루프: 120cm 이상\n",
    "툼 오브 호러: -\n",
    "플라이벤처: 140cm~195cm\n",
    "회전목마: 100cm 이상\n",
    "매직 붕붕카: 110cm~140cm\"\"\".split(\"\\n\")))\n",
    "    result = []\n",
    " \n",
    "    for i in lst:\n",
    "        ridename, cmmin, cmmax = i[0], i[1], i[2]\n",
    "        if (not cmmin and not cmmax) or (height >= cmmin and not cmmax) or (cmmin <= height <= cmmax):\n",
    "            result.append(ridename)\n",
    "    \n",
    "    return result"
   ]
  },
  {
   "cell_type": "code",
   "execution_count": 229,
   "id": "7ec1b91b-996e-47d7-ac71-e0cdaa275c92",
   "metadata": {},
   "outputs": [
    {
     "data": {
      "text/plain": [
       "['와일드 윙', '드림보트', '자이안트 루프', '툼 오브 호러', '플라이벤처', '회전목마']"
      ]
     },
     "execution_count": 229,
     "metadata": {},
     "output_type": "execute_result"
    }
   ],
   "source": [
    "allowedrides(150)"
   ]
  },
  {
   "cell_type": "code",
   "execution_count": 233,
   "id": "ae74a96a-cc43-4933-a451-a1e3d8373044",
   "metadata": {},
   "outputs": [],
   "source": [
    "#import sys\n",
    "\n",
    "#sys.path.append(\"../ch03\")\n",
    "\n",
    "#import ridereader"
   ]
  },
  {
   "cell_type": "code",
   "execution_count": 236,
   "id": "e1de4e0c-76be-4158-bfc5-fd9695b545de",
   "metadata": {},
   "outputs": [
    {
     "data": {
      "text/plain": [
       "{2}"
      ]
     },
     "execution_count": 236,
     "metadata": {},
     "output_type": "execute_result"
    }
   ],
   "source": [
    "{1, 2, 3} & {2}"
   ]
  },
  {
   "cell_type": "code",
   "execution_count": 243,
   "id": "1352696b-d139-4906-aa6c-43abbdb133a6",
   "metadata": {},
   "outputs": [],
   "source": [
    "def allowedrides_together(heights):\n",
    "    friends = heights.split()\n",
    "    lst = []\n",
    "    for f in friends:\n",
    "        lst.append(set(allowedrides(int(f))))\n",
    "    answer = lst[0]\n",
    "    for i in range(len(lst)-1):\n",
    "        answer = answer & lst[i+1]\n",
    "    return answer"
   ]
  },
  {
   "cell_type": "code",
   "execution_count": 244,
   "id": "43d86695-17c9-46dd-8e80-c922ae6aae5a",
   "metadata": {},
   "outputs": [
    {
     "data": {
      "text/plain": [
       "{'와일드 윙', '툼 오브 호러', '회전목마'}"
      ]
     },
     "execution_count": 244,
     "metadata": {},
     "output_type": "execute_result"
    }
   ],
   "source": [
    "allowedrides_together(\"110 120 179\")"
   ]
  },
  {
   "cell_type": "markdown",
   "id": "c07e18e8-e451-42de-9e17-aa91412e24ce",
   "metadata": {},
   "source": [
    "* set.intersection(*lst) : 리스트 내 모든 원소의 교집합 구하기"
   ]
  },
  {
   "cell_type": "code",
   "execution_count": 247,
   "id": "a7e5a51c-6e0e-4357-a7ee-e38a06a0a54f",
   "metadata": {},
   "outputs": [],
   "source": [
    "def allowedrides_together(heights):\n",
    "    friends = heights.split()\n",
    "    lst = []\n",
    "    for f in friends:\n",
    "        lst.append(set(allowedrides(int(f))))\n",
    "\n",
    "    return set.intersection(*lst)"
   ]
  },
  {
   "cell_type": "code",
   "execution_count": 248,
   "id": "59af73bb-f7f4-4e37-bd55-967c6b2b473a",
   "metadata": {},
   "outputs": [
    {
     "data": {
      "text/plain": [
       "{'와일드 윙', '툼 오브 호러', '회전목마'}"
      ]
     },
     "execution_count": 248,
     "metadata": {},
     "output_type": "execute_result"
    }
   ],
   "source": [
    "allowedrides_together(\"110 120 179\")"
   ]
  },
  {
   "cell_type": "markdown",
   "id": "ccd14ceb-4ef5-4cc1-8384-ab6e3b2de560",
   "metadata": {},
   "source": [
    "* sys : 파이썬 인터프리터를 제어할 수 있는 방법을 제공"
   ]
  },
  {
   "cell_type": "code",
   "execution_count": 249,
   "id": "4f4cb02e-ba35-4c33-afd5-d4d277679b03",
   "metadata": {},
   "outputs": [],
   "source": [
    "import sys"
   ]
  },
  {
   "cell_type": "code",
   "execution_count": 251,
   "id": "c2fea81f-5b32-4c43-9df7-7f85c017a99d",
   "metadata": {},
   "outputs": [
    {
     "data": {
      "text/plain": [
       "'In : '"
      ]
     },
     "execution_count": 251,
     "metadata": {},
     "output_type": "execute_result"
    }
   ],
   "source": [
    "sys.ps1"
   ]
  },
  {
   "cell_type": "markdown",
   "id": "fe11bcd6-9261-41f8-9ff2-83b09105d71c",
   "metadata": {},
   "source": [
    "* os : 운영체제(OS : Operating System)를 제어"
   ]
  },
  {
   "cell_type": "code",
   "execution_count": 252,
   "id": "05431a0d-307f-481c-854a-eb9955efc93f",
   "metadata": {},
   "outputs": [
    {
     "data": {
      "text/plain": [
       "'C:\\\\Users\\\\User\\\\Documents\\\\python'"
      ]
     },
     "execution_count": 252,
     "metadata": {},
     "output_type": "execute_result"
    }
   ],
   "source": [
    "import os\n",
    "os.getcwd()"
   ]
  },
  {
   "cell_type": "code",
   "execution_count": 253,
   "id": "db2e84f8-f363-45e1-a647-29cf595c43f1",
   "metadata": {},
   "outputs": [
    {
     "data": {
      "text/plain": [
       "['.ipynb_checkpoints',\n",
       " '2021',\n",
       " '2022',\n",
       " 'git',\n",
       " 'kaggle',\n",
       " 'medistep',\n",
       " 'Untitled.ipynb',\n",
       " '왕초보실습.ipynb',\n",
       " '확인.ipynb']"
      ]
     },
     "execution_count": 253,
     "metadata": {},
     "output_type": "execute_result"
    }
   ],
   "source": [
    "os.listdir() # 무슨 폴더가 있는지 확인"
   ]
  },
  {
   "cell_type": "code",
   "execution_count": 254,
   "id": "4221e722-9d7e-419c-aea1-c40446633602",
   "metadata": {},
   "outputs": [
    {
     "data": {
      "text/plain": [
       "'C:\\\\Users\\\\User\\\\Documents\\\\python\\\\git'"
      ]
     },
     "execution_count": 254,
     "metadata": {},
     "output_type": "execute_result"
    }
   ],
   "source": [
    "os.chdir('git') # 해당 폴더로 디렉토리 변경\n",
    "os.getcwd()"
   ]
  },
  {
   "cell_type": "code",
   "execution_count": 255,
   "id": "be743882-14ed-4b7e-a622-1fe48d036cea",
   "metadata": {},
   "outputs": [
    {
     "data": {
      "text/plain": [
       "'C:\\\\Users\\\\User\\\\Documents\\\\python'"
      ]
     },
     "execution_count": 255,
     "metadata": {},
     "output_type": "execute_result"
    }
   ],
   "source": [
    "os.chdir('..') # 상위 폴더로 디렉토리 변경\n",
    "os.getcwd()"
   ]
  },
  {
   "cell_type": "markdown",
   "id": "59d177f4-b057-467e-9594-f8a21e65aa41",
   "metadata": {},
   "source": [
    "* re : 정규 표현식(regular expression)을 이용해 문자열을 다루기\n",
    "     * 마침표(.)는 문자 아무거나 한 개를 뜻하고, 별표(*)는 0개 이상의 문자를 뜻한다."
   ]
  },
  {
   "cell_type": "code",
   "execution_count": 257,
   "id": "90333777-00f8-43e6-b340-a79760997103",
   "metadata": {},
   "outputs": [
    {
     "name": "stdout",
     "output_type": "stream",
     "text": [
      "Untitled.ipynb\n",
      "왕초보실습.ipynb\n",
      "확인.ipynb\n"
     ]
    }
   ],
   "source": [
    "import re, glob\n",
    "p = re.compile('.*p.*n.*')\n",
    "for i in glob.glob('*'):\n",
    "    m = p.match(i)\n",
    "    if m:\n",
    "        print(m.group())"
   ]
  },
  {
   "cell_type": "markdown",
   "id": "d0b0730f-2a2c-45cd-a62d-8b89776a1f92",
   "metadata": {},
   "source": [
    "* webbrowser : 페이지 열기"
   ]
  },
  {
   "cell_type": "code",
   "execution_count": 258,
   "id": "2410cbe0-b879-480b-82c0-797e15febaf4",
   "metadata": {},
   "outputs": [
    {
     "data": {
      "text/plain": [
       "True"
      ]
     },
     "execution_count": 258,
     "metadata": {},
     "output_type": "execute_result"
    }
   ],
   "source": [
    "import webbrowser\n",
    "url='http://www.python.org/'\n",
    "webbrowser.open(url)"
   ]
  },
  {
   "cell_type": "code",
   "execution_count": 259,
   "id": "86b21d4b-f3b5-4f93-b73c-47ebe7204497",
   "metadata": {},
   "outputs": [
    {
     "data": {
      "text/plain": [
       "0.14055583223021184"
      ]
     },
     "execution_count": 259,
     "metadata": {},
     "output_type": "execute_result"
    }
   ],
   "source": [
    "import random\n",
    "random.random() # 0이상 1미만의 난수"
   ]
  },
  {
   "cell_type": "code",
   "execution_count": 261,
   "id": "1e3c8657-b96c-4e68-937d-12693a2d8ce1",
   "metadata": {},
   "outputs": [
    {
     "data": {
      "text/plain": [
       "5"
      ]
     },
     "execution_count": 261,
     "metadata": {},
     "output_type": "execute_result"
    }
   ],
   "source": [
    "random.randrange(1,7) # 주사위. 정수 중 난수"
   ]
  },
  {
   "cell_type": "code",
   "execution_count": 264,
   "id": "b363bd3b-7fae-4693-84cb-e79456580566",
   "metadata": {},
   "outputs": [
    {
     "data": {
      "text/plain": [
       "['d', 'a', 'e', 'c', 'b']"
      ]
     },
     "execution_count": 264,
     "metadata": {},
     "output_type": "execute_result"
    }
   ],
   "source": [
    "abc = ['a', 'b', 'c', 'd', 'e']\n",
    "random.shuffle(abc) # 원소 섞기\n",
    "abc"
   ]
  },
  {
   "cell_type": "code",
   "execution_count": 266,
   "id": "a8872b20-ee05-4e34-a0a3-b193e12fcc29",
   "metadata": {},
   "outputs": [
    {
     "data": {
      "text/plain": [
       "'c'"
      ]
     },
     "execution_count": 266,
     "metadata": {},
     "output_type": "execute_result"
    }
   ],
   "source": [
    "random.choice(abc) # 아무 원소나 하나 뽑기"
   ]
  },
  {
   "cell_type": "code",
   "execution_count": 267,
   "id": "1781fb19-b881-476f-a9a3-2eddecd2683b",
   "metadata": {},
   "outputs": [
    {
     "data": {
      "text/plain": [
       "True"
      ]
     },
     "execution_count": 267,
     "metadata": {},
     "output_type": "execute_result"
    }
   ],
   "source": [
    "random.choice([True, False])"
   ]
  },
  {
   "cell_type": "markdown",
   "id": "a4cba0d3-8263-425f-90dd-7dd30a516980",
   "metadata": {},
   "source": [
    "--------------------------\n",
    "## 6. 파일"
   ]
  },
  {
   "cell_type": "code",
   "execution_count": 285,
   "id": "04ef0516-57f2-4844-98ec-32e2ba532f40",
   "metadata": {},
   "outputs": [
    {
     "data": {
      "text/plain": [
       "'Programming is fun.\\nVery fun!\\n\\nYou have to do it yourself...'"
      ]
     },
     "execution_count": 285,
     "metadata": {},
     "output_type": "execute_result"
    }
   ],
   "source": [
    "f = open('Python_for_Fun.txt')\n",
    "f.read()"
   ]
  },
  {
   "cell_type": "code",
   "execution_count": 287,
   "id": "29759db7-8802-4c80-a549-f7166dd2d806",
   "metadata": {},
   "outputs": [
    {
     "name": "stdout",
     "output_type": "stream",
     "text": [
      "Programming is fun.\n",
      "Very fun!\n",
      "\n",
      "You have to do it yourself...\n"
     ]
    }
   ],
   "source": [
    "f = open('Python_for_Fun.txt')\n",
    "print(f.read())"
   ]
  },
  {
   "cell_type": "markdown",
   "id": "6c87041a-ac14-451a-b3de-2749f47be6e6",
   "metadata": {},
   "source": [
    "* w : '파일에 데이터를 쓰겠다'는 사실을 알려줄 필요가 있음."
   ]
  },
  {
   "cell_type": "code",
   "execution_count": 288,
   "id": "7568ee84-7c76-4ea4-b6d6-a5754dfe78cb",
   "metadata": {},
   "outputs": [],
   "source": [
    "letter = open('letter.txt', 'w') # 새 파일 열기\n",
    "letter.write('Dear Father,')                      \n",
    "letter.close() # 꼭 닫아줘야 한다!"
   ]
  },
  {
   "cell_type": "code",
   "execution_count": 289,
   "id": "afb120d3-c894-4e0f-9098-014830ef632e",
   "metadata": {},
   "outputs": [],
   "source": [
    "letter = open('letter.txt', 'a+')\n",
    "letter.write('\\n\\nHow are you?')\n",
    "letter.close()"
   ]
  },
  {
   "cell_type": "code",
   "execution_count": 290,
   "id": "71b2604d-3025-443a-85a5-5c9c8ec598d9",
   "metadata": {},
   "outputs": [
    {
     "data": {
      "text/plain": [
       "'Dear Father,\\n\\nHow are you?'"
      ]
     },
     "execution_count": 290,
     "metadata": {},
     "output_type": "execute_result"
    }
   ],
   "source": [
    "letter = open('letter.txt')\n",
    "letter.read()"
   ]
  },
  {
   "cell_type": "code",
   "execution_count": 291,
   "id": "8df6f5e6-5ff4-4659-ab63-42e9851d72aa",
   "metadata": {},
   "outputs": [],
   "source": [
    "postcard = open('postcard.txt', 'w') # 새 파일 열기\n",
    "postcard.write('''                August 29, 1943\n",
    "Dear Iers:\n",
    "\n",
    "After surrender, health improved\n",
    "fifty percent.  Better food etc.\n",
    "Americans lost confidence\n",
    "in Philippines.  Am comfortable\n",
    "in Nippon.  Mother: Invest\n",
    "30%, salary, in business.  Love\n",
    "\n",
    "                (signed)\n",
    "                Frank G. Jonelis''')                      \n",
    "postcard.close() # 꼭 닫아줘야 한다!"
   ]
  },
  {
   "cell_type": "code",
   "execution_count": 297,
   "id": "a227725c-d63d-4cc1-b9e5-01be2ff6a569",
   "metadata": {},
   "outputs": [
    {
     "name": "stdout",
     "output_type": "stream",
     "text": [
      "                August 29, 1943\n",
      "Dear Iers:\n",
      "\n",
      "After surrender, health improved\n",
      "fifty percent.  Better food etc.\n",
      "Americans lost confidence\n",
      "in Philippines.  Am comfortable\n",
      "in Nippon.  Mother: Invest\n",
      "30%, salary, in business.  Love\n",
      "\n",
      "                (signed)\n",
      "                Frank G. Jonelis\n"
     ]
    }
   ],
   "source": [
    "postcard = open('postcard.txt')\n",
    "print(postcard.read())"
   ]
  },
  {
   "cell_type": "code",
   "execution_count": 300,
   "id": "581bbee9-7bab-4d35-b4a5-5c4a36e51267",
   "metadata": {},
   "outputs": [
    {
     "data": {
      "text/plain": [
       "'                August 29, 1943\\n'"
      ]
     },
     "execution_count": 300,
     "metadata": {},
     "output_type": "execute_result"
    }
   ],
   "source": [
    "postcard = open('postcard.txt')\n",
    "postcard.readline()"
   ]
  },
  {
   "cell_type": "code",
   "execution_count": 301,
   "id": "cefce3df-45a7-4e5b-8366-a40ed81b995d",
   "metadata": {},
   "outputs": [
    {
     "data": {
      "text/plain": [
       "'Dear Iers:\\n'"
      ]
     },
     "execution_count": 301,
     "metadata": {},
     "output_type": "execute_result"
    }
   ],
   "source": [
    "postcard.readline()"
   ]
  },
  {
   "cell_type": "code",
   "execution_count": 332,
   "id": "bc9b2702-456f-4530-9b9b-171a6a7c9cc7",
   "metadata": {},
   "outputs": [
    {
     "name": "stdout",
     "output_type": "stream",
     "text": [
      "After surrender, health improved\n",
      "fifty percent.  Better food etc.\n",
      "Americans lost confidence\n",
      "in Philippines.  Am comfortable\n",
      "in Nippon.  Mother: Invest\n",
      "30%, salary, in business.  Love\n"
     ]
    }
   ],
   "source": [
    "postcard = open('postcard.txt', \"r\")\n",
    "lines = postcard.read()\n",
    "head, body, tail = tuple(lines.split(\"\\n\\n\"))\n",
    "print(body)"
   ]
  },
  {
   "cell_type": "markdown",
   "id": "5b6b1967-72bd-44d2-b086-c4e7fb441764",
   "metadata": {},
   "source": [
    "* re.sub(\"[문자문자문자]\", \"대체할 문자\", str)"
   ]
  },
  {
   "cell_type": "code",
   "execution_count": 339,
   "id": "4f927903-229f-4e51-8d97-351ea1968a70",
   "metadata": {},
   "outputs": [
    {
     "name": "stdout",
     "output_type": "stream",
     "text": [
      "After surrender health improved\n",
      "fifty percent  Better food etc\n",
      "Americans lost confidence\n",
      "in Philippines  Am comfortable\n",
      "in Nippon  Mother Invest\n",
      "30% salary in business  Love\n"
     ]
    }
   ],
   "source": [
    "import re\n",
    "s = re.sub('[:,.]', '', body)\n",
    "print(s)"
   ]
  },
  {
   "cell_type": "code",
   "execution_count": 341,
   "id": "f21c8004-3681-4465-b824-68bc9cc50817",
   "metadata": {},
   "outputs": [
    {
     "name": "stdout",
     "output_type": "stream",
     "text": [
      "AFTER SURRENDER FIFTY PERCENT AMERICANS LOST IN PHILIPPINES IN NIPPON 30% SALARY\n"
     ]
    }
   ],
   "source": [
    "answer = []\n",
    "for i in s.split(\"\\n\"):\n",
    "    ilst = i.upper().split()\n",
    "    answer += ilst[:2]\n",
    "print(\" \".join(answer))"
   ]
  },
  {
   "cell_type": "code",
   "execution_count": 321,
   "id": "9ba22df6-8db0-42c8-8e55-47be4dd20694",
   "metadata": {},
   "outputs": [
    {
     "name": "stdout",
     "output_type": "stream",
     "text": [
      "*** 1. Full Text ***\n",
      "                August 29, 1943\n",
      "Dear Iers:\n",
      "\n",
      "After surrender, health improved\n",
      "fifty percent.  Better food etc.\n",
      "Americans lost confidence\n",
      "in Philippines.  Am comfortable\n",
      "in Nippon.  Mother: Invest\n",
      "30%, salary, in business.  Love\n",
      "\n",
      "                (signed)\n",
      "                Frank G. Jonelis\n",
      "\n",
      "*** 2. Body ***\n",
      "After surrender, health improved\n",
      "fifty percent.  Better food etc.\n",
      "Americans lost confidence\n",
      "in Philippines.  Am comfortable\n",
      "in Nippon.  Mother: Invest\n",
      "30%, salary, in business.  Love\n",
      "\n",
      "*** 3. Text without Punctuation ***\n",
      "After surrender health improved\n",
      "fifty percent  Better food etc\n",
      "Americans lost confidence\n",
      "in Philippines  Am comfortable\n",
      "in Nippon  Mother Invest\n",
      "30% salary in business  Love\n",
      "\n",
      "*** 4. Uppercase ***\n",
      "AFTER SURRENDER HEALTH IMPROVED\n",
      "FIFTY PERCENT  BETTER FOOD ETC\n",
      "AMERICANS LOST CONFIDENCE\n",
      "IN PHILIPPINES  AM COMFORTABLE\n",
      "IN NIPPON  MOTHER INVEST\n",
      "30% SALARY IN BUSINESS  LOVE\n",
      "\n",
      "*** 5. Secret Message ***\n",
      "AFTER SURRENDER FIFTY PERCENT AMERICANS LOST IN PHILIPPINES IN NIPPON 30% SALARY\n"
     ]
    }
   ],
   "source": [
    "# 1\n",
    "txt = open(\"postcard.txt\", \"r\").read()\n",
    "print(\"*** 1. Full Text ***\\n\" + txt + '\\n')\n",
    "\n",
    "# 2\n",
    "head, body, tail = tuple(txt.split('\\n\\n'))\n",
    "print(\"*** 2. Body ***\\n\" + body + '\\n')\n",
    "\n",
    "# 3\n",
    "import re\n",
    "s = re.sub('[:,\\.]', '', body)\n",
    "print(\"*** 3. Text without Punctuation ***\\n\" + s + '\\n')\n",
    "\n",
    "# 4\n",
    "s = s.upper()\n",
    "print(\"*** 4. Uppercase ***\\n\" + s + '\\n')\n",
    "\n",
    "# 5\n",
    "secret_words = []\n",
    "for line in s.split('\\n'):\n",
    "    secret_words += line.split()[:2]\n",
    "\n",
    "message = ' '.join(secret_words)\n",
    "print(\"*** 5. Secret Message ***\\n\" + message)"
   ]
  },
  {
   "cell_type": "code",
   "execution_count": 342,
   "id": "24646387-4e76-438a-9f41-d6679ff24350",
   "metadata": {},
   "outputs": [],
   "source": [
    "ko_en = open('ko_en.txt', 'w') # 새 파일 열기\n",
    "ko_en.write('''ko\ten\n",
    "나는 학생이다.\tI am a student.\n",
    "그녀는 내 언니이다.\tShe is my sister.\n",
    "그녀는 행복하다.\tShe is happy.\n",
    "너는 피곤하다.\tYou are tired.\n",
    "너는 집에 있다.\tYou are home.\n",
    "그들은 교실에 있다.\tThey are in the classroom.\n",
    "그녀는 작가이다.\tShe is a writer.\n",
    "그들은 친절하다.\tThey are kind.\n",
    "그들은 뉴욕에 있다.\tThey are in New York.\n",
    "그녀는 작가가 아니다.\tShe is not a writer.\n",
    "그들은 친절하지 않다.\tThey are not kind.\n",
    "그들은 뉴욕에 있지 않다.\tThey are not in New York.\n",
    "그녀는 작가인가요?\tIs she a writer?\n",
    "그들은 친절한가요?\tAre they kind?\n",
    "그들은 뉴욕에 있나요?\tAre they in New York?''')                      \n",
    "ko_en.close() # 꼭 닫아줘야 한다!\n"
   ]
  },
  {
   "cell_type": "code",
   "execution_count": 352,
   "id": "950c4409-a675-4626-96b3-e35b307f998b",
   "metadata": {},
   "outputs": [
    {
     "data": {
      "text/plain": [
       "{'ko': 'en',\n",
       " '나는 학생이다.': 'I am a student.',\n",
       " '그녀는 내 언니이다.': 'She is my sister.',\n",
       " '그녀는 행복하다.': 'She is happy.',\n",
       " '너는 피곤하다.': 'You are tired.',\n",
       " '너는 집에 있다.': 'You are home.',\n",
       " '그들은 교실에 있다.': 'They are in the classroom.',\n",
       " '그녀는 작가이다.': 'She is a writer.',\n",
       " '그들은 친절하다.': 'They are kind.',\n",
       " '그들은 뉴욕에 있다.': 'They are in New York.',\n",
       " '그녀는 작가가 아니다.': 'She is not a writer.',\n",
       " '그들은 친절하지 않다.': 'They are not kind.',\n",
       " '그들은 뉴욕에 있지 않다.': 'They are not in New York.',\n",
       " '그녀는 작가인가요?': 'Is she a writer?',\n",
       " '그들은 친절한가요?': 'Are they kind?',\n",
       " '그들은 뉴욕에 있나요?': 'Are they in New York?'}"
      ]
     },
     "execution_count": 352,
     "metadata": {},
     "output_type": "execute_result"
    }
   ],
   "source": [
    "ko_en = open('ko_en.txt', 'r')\n",
    "dic = {}\n",
    "for i in ko_en.readlines():\n",
    "    ilst = i.split(\"\\t\")\n",
    "    dic[ilst[0]] = ilst[1].replace(\"\\n\", \"\")\n",
    "dic"
   ]
  },
  {
   "cell_type": "code",
   "execution_count": 364,
   "id": "fb6968f3-ba71-436d-a36a-b58a2bb10ce6",
   "metadata": {},
   "outputs": [
    {
     "name": "stdout",
     "output_type": "stream",
     "text": [
      "Write the following sentence in English.\n",
      " 그들은 뉴욕에 있지 않다.\n"
     ]
    },
    {
     "name": "stdin",
     "output_type": "stream",
     "text": [
      "your answer:  She is not a writer.\n"
     ]
    },
    {
     "name": "stdout",
     "output_type": "stream",
     "text": [
      "result: Not Correct!\n",
      "right answer: They are not in New York.\n"
     ]
    }
   ],
   "source": [
    "a = random.choice(list(dic.keys()))\n",
    "print(\"Write the following sentence in English.\\n\", a)\n",
    "\n",
    "\n",
    "ans = input(\"your answer: \")\n",
    "\n",
    "if ans == dic[a]:\n",
    "    print(\"result: Correct!\")\n",
    "else:\n",
    "    print(\"result: Not Correct!\\nright answer:\", dic[a])"
   ]
  },
  {
   "cell_type": "markdown",
   "id": "bc3dc002-061e-4e42-afeb-de1cf1aa1231",
   "metadata": {},
   "source": [
    "* pickle : 복잡한 자료를 파일에 쓰고 읽는 방법"
   ]
  },
  {
   "cell_type": "code",
   "execution_count": 366,
   "id": "8b8b594f-286e-4758-8898-012a9028a25d",
   "metadata": {},
   "outputs": [],
   "source": [
    "users = {'kim':'3kid9', 'sun80':'393948', 'ljm':'py90390'}\n",
    "f = open('users', 'wb') #wb : 바이트 형식으로 쓰겠다\n",
    "import pickle\n",
    "pickle.dump(users, f) #users를 f에 기록\n",
    "f.close()"
   ]
  },
  {
   "cell_type": "code",
   "execution_count": 367,
   "id": "b987f4ef-a8d2-4560-a916-6e2fc634f78d",
   "metadata": {},
   "outputs": [
    {
     "name": "stdout",
     "output_type": "stream",
     "text": [
      "{'kim': '3kid9', 'sun80': '393948', 'ljm': 'py90390'}\n"
     ]
    }
   ],
   "source": [
    "f = open('users', 'rb')\n",
    "a = pickle.load(f)\n",
    "print(a)"
   ]
  },
  {
   "cell_type": "markdown",
   "id": "18c755b2-96b6-410c-8458-8e96c6f98151",
   "metadata": {},
   "source": [
    "* glob : 파일들의 리스트를 뽑을 때 사용"
   ]
  },
  {
   "cell_type": "code",
   "execution_count": 368,
   "id": "895bc484-7b70-4eb6-9817-52cfd3609d53",
   "metadata": {},
   "outputs": [
    {
     "data": {
      "text/plain": [
       "[]"
      ]
     },
     "execution_count": 368,
     "metadata": {},
     "output_type": "execute_result"
    }
   ],
   "source": [
    "from glob import glob\n",
    "glob('*.exe') #현재 디렉토리의 exe 파일"
   ]
  },
  {
   "cell_type": "code",
   "execution_count": 369,
   "id": "f8bebe5a-d41e-4149-9a2f-64960fd6c415",
   "metadata": {},
   "outputs": [
    {
     "data": {
      "text/plain": [
       "['ko_en.txt', 'letter.txt', 'postcard.txt', 'Python_for_Fun.txt']"
      ]
     },
     "execution_count": 369,
     "metadata": {},
     "output_type": "execute_result"
    }
   ],
   "source": [
    "glob('*.txt')"
   ]
  },
  {
   "cell_type": "markdown",
   "id": "f90bc0d2-58d4-4c91-98c2-7f2dfe80fbc4",
   "metadata": {},
   "source": [
    "*  r로 시작하는 원시(raw) 문자열"
   ]
  },
  {
   "cell_type": "code",
   "execution_count": 370,
   "id": "8ff63a01-beec-42e5-b06e-0c87aa1cefd5",
   "metadata": {},
   "outputs": [
    {
     "data": {
      "text/plain": [
       "['C:\\\\Users']"
      ]
     },
     "execution_count": 370,
     "metadata": {},
     "output_type": "execute_result"
    }
   ],
   "source": [
    "glob(r'C:\\U*')              # C:\\에서 이름이 U로 시작하는 디렉터리나 파일을 찾기"
   ]
  },
  {
   "cell_type": "markdown",
   "id": "5d06c893-4454-4375-9932-8b0d51d37bd9",
   "metadata": {},
   "source": [
    "* os.path"
   ]
  },
  {
   "cell_type": "code",
   "execution_count": 371,
   "id": "4533bfce-5a04-42ad-ac4f-bef682cf0bde",
   "metadata": {},
   "outputs": [],
   "source": [
    "from glob import glob\n",
    "from os.path import isdir"
   ]
  },
  {
   "cell_type": "code",
   "execution_count": 373,
   "id": "f3c7b921-c471-4efb-92a9-0cbbb9abd583",
   "metadata": {},
   "outputs": [
    {
     "name": "stdout",
     "output_type": "stream",
     "text": [
      "2021 <DIR>\n",
      "2022 <DIR>\n",
      "git <DIR>\n",
      "kaggle <DIR>\n",
      "ko_en.txt\n",
      "letter.txt\n",
      "medistep <DIR>\n",
      "postcard.txt\n",
      "Python_for_Fun.txt\n",
      "Untitled.ipynb\n",
      "users\n",
      "왕초보실습.ipynb\n",
      "확인.ipynb\n"
     ]
    }
   ],
   "source": [
    "for x in glob('*'):\n",
    "    if isdir(x):                # 디렉터리인가?\n",
    "        print(x, '<DIR>') # 맞다면 <DIR> 붙이기\n",
    "    else:\n",
    "        print(x)"
   ]
  },
  {
   "cell_type": "code",
   "execution_count": 375,
   "id": "ff4d66a2-2297-4c26-847a-c8d88c1545c6",
   "metadata": {},
   "outputs": [],
   "source": [
    "song1 = open(\"korean_national_anthem_1.txt\", \"w\")\n",
    "song1.write(\"\"\"동해 물과 백두산이 마르고 닳도록\n",
    "하느님이 보우하사 우리나라 만세.\n",
    "무궁화 삼천리 화려 강산\n",
    "대한 사람, 대한으로 길이 보전하세.\"\"\")\n",
    "song1.close()"
   ]
  },
  {
   "cell_type": "code",
   "execution_count": 376,
   "id": "76d39589-f233-4057-91f8-7734bb6a5287",
   "metadata": {},
   "outputs": [],
   "source": [
    "song2 = open(\"korean_national_anthem_2.txt\", \"w\")\n",
    "song2.write(\"\"\"남산 위에 저 소나무, 철갑을 두른 듯\n",
    "바람 서리 불변함은 우리 기상일세.\n",
    "무궁화 삼천리 화려 강산\n",
    "대한 사람, 대한으로 길이 보전하세.\"\"\")\n",
    "song2.close()"
   ]
  },
  {
   "cell_type": "code",
   "execution_count": 377,
   "id": "34f4bb28-9dd2-42f1-b164-715f1e521c4e",
   "metadata": {},
   "outputs": [],
   "source": [
    "song3 = open(\"korean_national_anthem_3.txt\", \"w\")\n",
    "song3.write(\"\"\"가을 하늘 공활한데 높고 구름 없이\n",
    "밝은 달은 우리 가슴 일편단심일세.\n",
    "무궁화 삼천리 화려 강산\n",
    "대한 사람, 대한으로 길이 보전하세.\"\"\")\n",
    "song3.close()"
   ]
  },
  {
   "cell_type": "code",
   "execution_count": 378,
   "id": "936ade7a-812a-4831-beac-4dfb92f5fbbe",
   "metadata": {},
   "outputs": [],
   "source": [
    "song4 = open(\"korean_national_anthem_4.txt\", \"w\")\n",
    "song4.write(\"\"\"이 기상과 이 맘으로 충성을 다하여\n",
    "괴로우나 즐거우나 나라 사랑하세.\n",
    "무궁화 삼천리 화려 강산\n",
    "대한 사람, 대한으로 길이 보전하세.\"\"\")\n",
    "song4.close()"
   ]
  },
  {
   "cell_type": "code",
   "execution_count": 391,
   "id": "f805ba2f-770d-46d3-a8fb-9644d38557ef",
   "metadata": {},
   "outputs": [],
   "source": [
    "song1 = open(\"korean_national_anthem_1.txt\", \"r\")\n",
    "song2 = open(\"korean_national_anthem_2.txt\", \"r\")\n",
    "song3 = open(\"korean_national_anthem_3.txt\", \"r\")\n",
    "song4 = open(\"korean_national_anthem_4.txt\", \"r\")"
   ]
  },
  {
   "cell_type": "code",
   "execution_count": 392,
   "id": "77908076-74f6-4e02-a7e4-2d654fd8a112",
   "metadata": {},
   "outputs": [],
   "source": [
    "song1 = song1.read()\n",
    "song2 = song2.read()\n",
    "song3 = song3.read()\n",
    "song4 = song4.read()"
   ]
  },
  {
   "cell_type": "code",
   "execution_count": 394,
   "id": "d8e85df4-1491-4fa3-831c-a74d1819c217",
   "metadata": {},
   "outputs": [],
   "source": [
    "out = open(\"out.txt\", \"w\")\n",
    "out.write(song1 + song2 + song3 + song4)\n",
    "out.close()"
   ]
  },
  {
   "cell_type": "code",
   "execution_count": 396,
   "id": "8b1f847c-a28d-49cd-bf2f-2e319fa8014e",
   "metadata": {},
   "outputs": [
    {
     "name": "stdout",
     "output_type": "stream",
     "text": [
      "동해 물과 백두산이 마르고 닳도록\n",
      "하느님이 보우하사 우리나라 만세.\n",
      "무궁화 삼천리 화려 강산\n",
      "대한 사람, 대한으로 길이 보전하세.남산 위에 저 소나무, 철갑을 두른 듯\n",
      "바람 서리 불변함은 우리 기상일세.\n",
      "무궁화 삼천리 화려 강산\n",
      "대한 사람, 대한으로 길이 보전하세.가을 하늘 공활한데 높고 구름 없이\n",
      "밝은 달은 우리 가슴 일편단심일세.\n",
      "무궁화 삼천리 화려 강산\n",
      "대한 사람, 대한으로 길이 보전하세.이 기상과 이 맘으로 충성을 다하여\n",
      "괴로우나 즐거우나 나라 사랑하세.\n",
      "무궁화 삼천리 화려 강산\n",
      "대한 사람, 대한으로 길이 보전하세.\n"
     ]
    }
   ],
   "source": [
    "out = open(\"out.txt\", \"r\")\n",
    "print(out.read())"
   ]
  },
  {
   "cell_type": "code",
   "execution_count": 397,
   "id": "ff923e9c-8c34-4ef4-9872-f0b4517c3d8b",
   "metadata": {},
   "outputs": [],
   "source": [
    "import glob\n",
    "\n",
    "outfile = open(\"out.txt\", \"wt\")\n",
    "\n",
    "for x in glob.glob(\"korean_national_anthem_?.txt\"):\n",
    "    infile = open(x, \"rt\")\n",
    "    #infile = open(x, \"rt\", encoding=\"utf-8-sig\") # https://stackoverflow.com/a/44573867\n",
    "    \n",
    "    outfile.write(x + '\\n')\n",
    "    outfile.write('-' * len(x) + '\\n')\n",
    "    outfile.write(infile.read() + \"\\n\\n\")\n",
    "\n",
    "outfile.close()"
   ]
  },
  {
   "cell_type": "code",
   "execution_count": 398,
   "id": "038dc3fd-d831-4570-92e3-0b94564fbaae",
   "metadata": {},
   "outputs": [
    {
     "name": "stdout",
     "output_type": "stream",
     "text": [
      "korean_national_anthem_1.txt\n",
      "----------------------------\n",
      "동해 물과 백두산이 마르고 닳도록\n",
      "하느님이 보우하사 우리나라 만세.\n",
      "무궁화 삼천리 화려 강산\n",
      "대한 사람, 대한으로 길이 보전하세.\n",
      "\n",
      "korean_national_anthem_2.txt\n",
      "----------------------------\n",
      "남산 위에 저 소나무, 철갑을 두른 듯\n",
      "바람 서리 불변함은 우리 기상일세.\n",
      "무궁화 삼천리 화려 강산\n",
      "대한 사람, 대한으로 길이 보전하세.\n",
      "\n",
      "korean_national_anthem_3.txt\n",
      "----------------------------\n",
      "가을 하늘 공활한데 높고 구름 없이\n",
      "밝은 달은 우리 가슴 일편단심일세.\n",
      "무궁화 삼천리 화려 강산\n",
      "대한 사람, 대한으로 길이 보전하세.\n",
      "\n",
      "korean_national_anthem_4.txt\n",
      "----------------------------\n",
      "이 기상과 이 맘으로 충성을 다하여\n",
      "괴로우나 즐거우나 나라 사랑하세.\n",
      "무궁화 삼천리 화려 강산\n",
      "대한 사람, 대한으로 길이 보전하세.\n",
      "\n",
      "\n"
     ]
    }
   ],
   "source": [
    "out = open(\"out.txt\", \"r\")\n",
    "print(out.read())"
   ]
  },
  {
   "cell_type": "markdown",
   "id": "efb4da95-9757-4775-8c14-d1ee4c646e45",
   "metadata": {},
   "source": [
    "## 7. 객체지향"
   ]
  },
  {
   "cell_type": "code",
   "execution_count": 400,
   "id": "cce69072-8215-4bd0-bd84-7585cd4c4781",
   "metadata": {},
   "outputs": [
    {
     "data": {
      "text/plain": [
       "'Lalala~'"
      ]
     },
     "execution_count": 400,
     "metadata": {},
     "output_type": "execute_result"
    }
   ],
   "source": [
    "class Singer:                      # 가수를 정의하겠느니라…\n",
    "    def sing(self):                # 노래하기 메서드 (클래스 내부에서 정의된 함수)\n",
    "        return \"Lalala~\"\n",
    "  \n",
    "taeji = Singer()                   # 태지를 만들어랏!\n",
    "taeji.sing()                       # 노래 한 곡 부탁해요~"
   ]
  },
  {
   "cell_type": "code",
   "execution_count": 401,
   "id": "39421eb1-309f-4219-88e7-c8863392727d",
   "metadata": {},
   "outputs": [
    {
     "data": {
      "text/plain": [
       "'Lalala~'"
      ]
     },
     "execution_count": 401,
     "metadata": {},
     "output_type": "execute_result"
    }
   ],
   "source": [
    "ricky = Singer()\n",
    "ricky.sing()"
   ]
  },
  {
   "cell_type": "code",
   "execution_count": 420,
   "id": "6bc442d6-6969-4634-ad29-ceb07440160b",
   "metadata": {},
   "outputs": [],
   "source": [
    "class Amazon:\n",
    "    strength = 20\n",
    "    dexterity = 25\n",
    "    vitality = 20\n",
    "    energy = 15\n",
    "    def attack(self):\n",
    "        return 'Jab!!!'\n",
    "    def exercise(self):\n",
    "        self.strength += 2\n",
    "        self.dexterity += 3\n",
    "        self.vitality += 1"
   ]
  },
  {
   "cell_type": "code",
   "execution_count": 421,
   "id": "1adb1ee0-5b95-4733-ae63-8e107ae7eadc",
   "metadata": {},
   "outputs": [],
   "source": [
    "jane = Amazon()\n",
    "mary = Amazon()"
   ]
  },
  {
   "cell_type": "code",
   "execution_count": 426,
   "id": "9b1676d4-1294-4d9b-a1ad-b0db22642d2f",
   "metadata": {},
   "outputs": [
    {
     "data": {
      "text/plain": [
       "20"
      ]
     },
     "execution_count": 426,
     "metadata": {},
     "output_type": "execute_result"
    }
   ],
   "source": [
    "jane.strength"
   ]
  },
  {
   "cell_type": "code",
   "execution_count": 429,
   "id": "9b076f7d-cab6-4d83-a6ca-19de795f93a8",
   "metadata": {},
   "outputs": [
    {
     "data": {
      "text/plain": [
       "'Jab!!!'"
      ]
     },
     "execution_count": 429,
     "metadata": {},
     "output_type": "execute_result"
    }
   ],
   "source": [
    "jane.attack()"
   ]
  },
  {
   "cell_type": "code",
   "execution_count": 424,
   "id": "f84a92c4-b449-40cc-ab6e-bb4b712dc511",
   "metadata": {},
   "outputs": [],
   "source": [
    "mary.exercise()"
   ]
  },
  {
   "cell_type": "code",
   "execution_count": 425,
   "id": "cfd34902-baa6-4e12-88ec-77b8a0a857ef",
   "metadata": {},
   "outputs": [
    {
     "data": {
      "text/plain": [
       "22"
      ]
     },
     "execution_count": 425,
     "metadata": {},
     "output_type": "execute_result"
    }
   ],
   "source": [
    "mary.strength"
   ]
  },
  {
   "cell_type": "code",
   "execution_count": 431,
   "id": "800e26e2-e5ae-4ee2-b720-cc62c8be2d7d",
   "metadata": {},
   "outputs": [],
   "source": [
    "class Person:\n",
    "    # 눈 두 개, 코 하나, 입 하나...\n",
    "    eyes = 2\n",
    "    nose = 1\n",
    "    mouth = 1\n",
    "    ears = 2\n",
    "    arms = 2\n",
    "    legs = 2\n",
    "\n",
    "    # 듣고 느끼고 생각하고...\n",
    "    def hear(self):\n",
    "        print('쫑긋...')\n",
    "\n",
    "    def feel(self):\n",
    "        print('오오...')\n",
    "\n",
    "    def think(self):\n",
    "        print('흠...')"
   ]
  },
  {
   "cell_type": "code",
   "execution_count": 433,
   "id": "8e2ba599-7613-4c6d-9e86-0d60a833ccf3",
   "metadata": {},
   "outputs": [],
   "source": [
    "class WoL(Person):     # Person 클래스를 상속받음\n",
    "    def attack(self):\n",
    "        print('퍽퍽...')"
   ]
  },
  {
   "cell_type": "code",
   "execution_count": 434,
   "id": "20a00543-ec95-4f94-a44f-199d96b39048",
   "metadata": {},
   "outputs": [
    {
     "name": "stdout",
     "output_type": "stream",
     "text": [
      "흠...\n"
     ]
    }
   ],
   "source": [
    "mac2 = WoL()\n",
    "mac2.think()"
   ]
  },
  {
   "cell_type": "code",
   "execution_count": 435,
   "id": "72331606-b06b-48fb-93bd-790179c8a2bf",
   "metadata": {},
   "outputs": [
    {
     "name": "stdout",
     "output_type": "stream",
     "text": [
      "퍽퍽...\n"
     ]
    }
   ],
   "source": [
    "mac2.attack()"
   ]
  },
  {
   "cell_type": "code",
   "execution_count": 436,
   "id": "7d47161f-76e8-44e9-83f7-17d525a4dc13",
   "metadata": {},
   "outputs": [
    {
     "data": {
      "text/plain": [
       "1"
      ]
     },
     "execution_count": 436,
     "metadata": {},
     "output_type": "execute_result"
    }
   ],
   "source": [
    "mac2.mouth"
   ]
  },
  {
   "cell_type": "code",
   "execution_count": 438,
   "id": "c784c56f-8503-4317-8e3b-78bcdd506b7e",
   "metadata": {},
   "outputs": [],
   "source": [
    "class Fridge:\n",
    "    def __init__(self):\n",
    "        self.isOpened = False\n",
    "        self.foods = []\n",
    "    \n",
    "    def open(self):\n",
    "        self.isOpened = True\n",
    "        print('냉장고 문을 열었어요...')\n",
    "    \n",
    "    def put(self, thing):\n",
    "        if self.isOpened:\n",
    "            self.foods.append(thing)\n",
    "            print('냉장고 속에 음식이 들어갔네...')\n",
    "        else:\n",
    "            print('냉장고 문이 닫혀있어서 못넣겠어요...')\n",
    "    \n",
    "    def close(self):\n",
    "        self.isOpened = False\n",
    "        print('냉장고 문을 닫았어요...')\n",
    "\n",
    "class Food:\n",
    "    pass"
   ]
  },
  {
   "cell_type": "code",
   "execution_count": 439,
   "id": "5bc84d21-fabd-4b54-bf77-51f332b43c39",
   "metadata": {},
   "outputs": [],
   "source": [
    "f = Fridge()\n",
    "apple = Food()\n",
    "elephant = Food()"
   ]
  },
  {
   "cell_type": "code",
   "execution_count": 440,
   "id": "d6ab83e7-4771-4718-bd44-55e93aba3dcf",
   "metadata": {},
   "outputs": [
    {
     "name": "stdout",
     "output_type": "stream",
     "text": [
      "냉장고 문을 열었어요...\n"
     ]
    }
   ],
   "source": [
    "f.open()"
   ]
  },
  {
   "cell_type": "code",
   "execution_count": 441,
   "id": "16581cc4-ae21-413b-8da6-e4cc69ae0234",
   "metadata": {},
   "outputs": [
    {
     "name": "stdout",
     "output_type": "stream",
     "text": [
      "냉장고 속에 음식이 들어갔네...\n"
     ]
    }
   ],
   "source": [
    "f.put(apple)"
   ]
  },
  {
   "cell_type": "code",
   "execution_count": 442,
   "id": "54e09e2e-9451-4393-ba40-b6cd6d4f0eaa",
   "metadata": {},
   "outputs": [
    {
     "name": "stdout",
     "output_type": "stream",
     "text": [
      "냉장고 속에 음식이 들어갔네...\n"
     ]
    }
   ],
   "source": [
    "f.put(elephant)"
   ]
  },
  {
   "cell_type": "code",
   "execution_count": 451,
   "id": "394b0b2c-3f71-42f5-8f51-87e18222b30a",
   "metadata": {},
   "outputs": [
    {
     "name": "stdout",
     "output_type": "stream",
     "text": [
      "[<__main__.Food object at 0x000001DE1B950280>, <__main__.Food object at 0x000001DE1B950B80>]\n"
     ]
    }
   ],
   "source": [
    "print(f.foods) #내용물은 어떻게 봄?????????"
   ]
  },
  {
   "cell_type": "code",
   "execution_count": 453,
   "id": "09b194f7-32c7-4827-bd3c-a00d5be21cd9",
   "metadata": {},
   "outputs": [],
   "source": [
    "class Book:\n",
    "\n",
    "    def setData(self, title, price, author):\n",
    "        self.title = title\n",
    "        self.price = price\n",
    "        self.author = author\n",
    "\n",
    "    def printData(self):\n",
    "        print('제목 : ', self.title)\n",
    "        print('가격 : ', self.price)\n",
    "        print('저자 : ', self.author)\n",
    "\n",
    "    def __init__(self): #초기화 메서드 (생성자)\n",
    "        print('책 객체를 새로 만들었어요~')\n",
    "    \n",
    "    "
   ]
  },
  {
   "cell_type": "code",
   "execution_count": 454,
   "id": "019928f0-1a3b-478d-b3cf-51d7dc368179",
   "metadata": {},
   "outputs": [
    {
     "name": "stdout",
     "output_type": "stream",
     "text": [
      "책 객체를 새로 만들었어요~\n"
     ]
    }
   ],
   "source": [
    "b = Book()"
   ]
  },
  {
   "cell_type": "code",
   "execution_count": 455,
   "id": "df246f0e-bbb3-4e67-acc2-f4414f64777a",
   "metadata": {},
   "outputs": [
    {
     "name": "stdout",
     "output_type": "stream",
     "text": [
      "제목 :  누가 내 치즈를 먹었을까\n",
      "가격 :  300원\n",
      "저자 :  미키\n"
     ]
    }
   ],
   "source": [
    "b.setData('누가 내 치즈를 먹었을까', '300원', '미키')\n",
    "b.printData()"
   ]
  },
  {
   "cell_type": "code",
   "execution_count": 467,
   "id": "a0fa501b-21d7-4006-a841-ecb3f21fd12e",
   "metadata": {},
   "outputs": [],
   "source": [
    "class Book:\n",
    "\n",
    "    def setData(self, title, price, author):\n",
    "        self.title = title\n",
    "        self.price = price\n",
    "        self.author = author\n",
    "\n",
    "    def printData(self):\n",
    "        print('제목 : ', self.title)\n",
    "        print('가격 : ', self.price)\n",
    "        print('저자 : ', self.author)\n",
    "\n",
    "    def __init__(self, title, price, author):\n",
    "        self.setData(title, price, author)\n",
    "        print('책 객체를 새로 만들었어요~')\n",
    "        \n",
    "    def __del__(self): #소멸자\n",
    "        print('책 객체를 소멸시켜버렸어요~')\n",
    "        \n",
    "    def __repr__(self): #프린팅\n",
    "        return self.title"
   ]
  },
  {
   "cell_type": "code",
   "execution_count": 464,
   "id": "89eefe92-936f-4b5d-85a1-98ee51eb3c77",
   "metadata": {},
   "outputs": [
    {
     "name": "stdout",
     "output_type": "stream",
     "text": [
      "책 객체를 새로 만들었어요~\n"
     ]
    }
   ],
   "source": [
    "b2 = Book('내가 먹었지롱', '200원', '미니')"
   ]
  },
  {
   "cell_type": "code",
   "execution_count": 465,
   "id": "84cc0b11-074d-408b-bc95-7bc0a674e847",
   "metadata": {},
   "outputs": [
    {
     "name": "stdout",
     "output_type": "stream",
     "text": [
      "제목 :  내가 먹었지롱\n",
      "가격 :  200원\n",
      "저자 :  미니\n"
     ]
    }
   ],
   "source": [
    "b2.printData()"
   ]
  },
  {
   "cell_type": "code",
   "execution_count": 466,
   "id": "4990b405-054d-4d43-8ddf-2681501f5df0",
   "metadata": {},
   "outputs": [
    {
     "name": "stdout",
     "output_type": "stream",
     "text": [
      "책 객체를 소멸시켜버렸어요~\n"
     ]
    }
   ],
   "source": [
    "del b2"
   ]
  },
  {
   "cell_type": "code",
   "execution_count": 469,
   "id": "dd58e445-cf1c-4175-bfca-6d6e799d5d01",
   "metadata": {},
   "outputs": [
    {
     "name": "stdout",
     "output_type": "stream",
     "text": [
      "책 객체를 새로 만들었어요~\n"
     ]
    }
   ],
   "source": [
    "b3 = Book('나두 좀 줘', '100원', '쥐벼룩') "
   ]
  },
  {
   "cell_type": "code",
   "execution_count": 470,
   "id": "e038d772-b360-408d-8c54-62e3e11f6be7",
   "metadata": {},
   "outputs": [
    {
     "name": "stdout",
     "output_type": "stream",
     "text": [
      "나두 좀 줘\n"
     ]
    }
   ],
   "source": [
    "print(b3)"
   ]
  },
  {
   "cell_type": "code",
   "execution_count": 471,
   "id": "78076d80-05ca-4d6e-a3e0-158e28494ad4",
   "metadata": {},
   "outputs": [
    {
     "data": {
      "text/plain": [
       "나두 좀 줘"
      ]
     },
     "execution_count": 471,
     "metadata": {},
     "output_type": "execute_result"
    }
   ],
   "source": [
    "b3"
   ]
  },
  {
   "cell_type": "code",
   "execution_count": 517,
   "id": "b17d650e-2662-4a9d-bfc6-f932e47c10f4",
   "metadata": {},
   "outputs": [],
   "source": [
    "class Shape:\n",
    "\n",
    "    area = 0\n",
    "\n",
    "    def __add__(self, other): #연산자(+)가 하는 일 정의 : 연산자 중복\n",
    "        return self.area + other.area\n",
    "    def __sub__(self, other): #연산자(-)가 하는 일 정의 : 연산자 중복\n",
    "        return self.area - other.area\n",
    "    \n",
    "\n",
    "    def __lt__(self, other): #비교 메서드\n",
    "        return (self.area < other.area)\n",
    "    def __eq__(self, other): #비교 메서드\n",
    "        return (self.area == other.area)"
   ]
  },
  {
   "cell_type": "code",
   "execution_count": 522,
   "id": "112013c1-9681-4eea-a1ed-23d9c8a761a6",
   "metadata": {},
   "outputs": [
    {
     "data": {
      "text/plain": [
       "(50, 10)"
      ]
     },
     "execution_count": 522,
     "metadata": {},
     "output_type": "execute_result"
    }
   ],
   "source": [
    "a = Shape()\n",
    "a.area = 30\n",
    "b = Shape()\n",
    "b.area = 20\n",
    "a + b, a - b"
   ]
  },
  {
   "cell_type": "code",
   "execution_count": 523,
   "id": "19bdf484-6a52-45ef-9d94-f06380658b19",
   "metadata": {},
   "outputs": [
    {
     "data": {
      "text/plain": [
       "50"
      ]
     },
     "execution_count": 523,
     "metadata": {},
     "output_type": "execute_result"
    }
   ],
   "source": [
    "a.__add__(b)"
   ]
  },
  {
   "cell_type": "code",
   "execution_count": 524,
   "id": "c4dc56a9-e0a6-41d1-80c6-79d23e1ceec7",
   "metadata": {},
   "outputs": [
    {
     "data": {
      "text/plain": [
       "False"
      ]
     },
     "execution_count": 524,
     "metadata": {},
     "output_type": "execute_result"
    }
   ],
   "source": [
    "a == b"
   ]
  },
  {
   "cell_type": "code",
   "execution_count": 525,
   "id": "3f199348-ab9d-4415-948a-d4933e712239",
   "metadata": {},
   "outputs": [
    {
     "name": "stdout",
     "output_type": "stream",
     "text": [
      "a가 더 넓어요~\n"
     ]
    }
   ],
   "source": [
    "if a > b:\n",
    "    print('a가 더 넓어요~')"
   ]
  }
 ],
 "metadata": {
  "kernelspec": {
   "display_name": "Python 3",
   "language": "python",
   "name": "python3"
  },
  "language_info": {
   "codemirror_mode": {
    "name": "ipython",
    "version": 3
   },
   "file_extension": ".py",
   "mimetype": "text/x-python",
   "name": "python",
   "nbconvert_exporter": "python",
   "pygments_lexer": "ipython3",
   "version": "3.8.8"
  }
 },
 "nbformat": 4,
 "nbformat_minor": 5
}
