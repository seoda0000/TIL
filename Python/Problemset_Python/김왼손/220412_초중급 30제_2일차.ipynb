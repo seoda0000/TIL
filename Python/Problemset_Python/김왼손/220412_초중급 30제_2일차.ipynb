{
 "cells": [
  {
   "cell_type": "markdown",
   "id": "9ab6e390-840f-4b38-ba7f-fcc9a9e9314f",
   "metadata": {},
   "source": [
    "# 김왼손의 왼손코딩 1일 1파이썬 : 초중급자를 위한 파이썬 30제\n",
    "https://www.inflearn.com/course/%ED%8C%8C%EC%9D%B4%EC%8D%AC-%EC%98%88%EC%A0%9C\n",
    "## CheckiO : https://py.checkio.org/mission/search/\n",
    "#### 2022-04-12 2일차 seoda0000"
   ]
  },
  {
   "cell_type": "markdown",
   "id": "f376ec03-d275-44a9-82c9-4e5bde22f9b2",
   "metadata": {},
   "source": [
    "-------------------------"
   ]
  },
  {
   "cell_type": "markdown",
   "id": "861b1c36-f80e-47fb-b6b8-4f5fd9884c4b",
   "metadata": {},
   "source": [
    "### Review\n",
    "* ####  **str.format(a, b, c...)**\n",
    "    중괄호 이용 후 괄호에 순서대로 넣기."
   ]
  },
  {
   "cell_type": "code",
   "execution_count": 42,
   "id": "c951639a-31a0-4631-b509-cea998133c57",
   "metadata": {},
   "outputs": [
    {
     "data": {
      "text/plain": [
       "'오늘은 벚꽃이 폈네!'"
      ]
     },
     "execution_count": 42,
     "metadata": {},
     "output_type": "execute_result"
    }
   ],
   "source": [
    "a = \"오늘\"\n",
    "b = \"벚꽃\"\n",
    "\"{}은 {}이 폈네!\".format(a, b)"
   ]
  },
  {
   "cell_type": "markdown",
   "id": "fa9d089f-5a9b-4fa7-980a-031fb32260f7",
   "metadata": {},
   "source": [
    "## **Today I Learned** \n",
    "* ####  **assert 조건, False일 경우 출력할 메세지**\n",
    "    해당 조건이 True인지 간단하게 알아볼 수 있다. True라면 그냥 넘어간다.\n",
    "* #### **인덱스를 활용하여 str의 끝까지 출력하고 싶을 때, len(str)을 사용하면 좋다.**\n",
    "* #### **for key, value in zip(listKeys, listValues) :**\n",
    "     ####  **dict[key] = value**\n",
    "    \n",
    "    Iterate through two lists simultaneously using zip"
   ]
  },
  {
   "cell_type": "markdown",
   "id": "79a6f08d-a5e8-4463-b577-ae32535a7d8a",
   "metadata": {},
   "source": [
    "---------------"
   ]
  },
  {
   "cell_type": "markdown",
   "id": "88441af8-846d-41b7-bfc4-217cd11a9cba",
   "metadata": {},
   "source": [
    "## 5. Between Markers\n",
    "You are given a string and two markers (the initial and final). You have to find a substring enclosed between these two markers. But there are a few important conditions:\n",
    "\n",
    "The initial and final markers are always different.\n",
    "\n",
    "If there is no initial marker, then the first character should be considered the beginning of a string.\n",
    "\n",
    "If there is no final marker, then the last character should be considered the ending of a string.\n",
    "\n",
    "If the initial and final markers are missing then simply return the whole string.\n",
    "\n",
    "If the final marker comes before the initial marker, then return an empty string.\n",
    "* Input: Three arguments. All of them are strings. The second and third arguments are the initial and final markers.\n",
    "* Output: A string."
   ]
  },
  {
   "cell_type": "code",
   "execution_count": 16,
   "id": "b1f785e3-ade2-4de5-a6ed-9a2be3905f1c",
   "metadata": {},
   "outputs": [],
   "source": [
    "#try : 마커 전체의 인덱스가 아닌 마커의 가장 첫 글자의 인덱스를 출력해서 오류가 생겼다.\n",
    "\n",
    "def between_markers(text: str, m1 : str, m2 : str) -> str:\n",
    "#    if m1 == None & m2 == None : return text\n",
    "    \n",
    "    i1 = text.find(m1[-1])\n",
    "    i2 = text.find(m2[0])\n",
    "    \n",
    "    if i1 == -1 & i2 != -1: return text[:i2]\n",
    "    elif i1 != -1 & i2 == -1 : return text[i1 + 1:]\n",
    "    elif i1 == -1 & i2 == -1 : return text\n",
    "    elif i1 > i2 : return \"\"\n",
    "    else: return text[i1 +1:i2]"
   ]
  },
  {
   "cell_type": "markdown",
   "id": "fed715c7-7a01-40ba-aab1-0b4441620e79",
   "metadata": {},
   "source": [
    "* **인덱스를 활용하여 str의 끝까지 출력하고 싶을 때, len(str)을 사용하면 좋다.**"
   ]
  },
  {
   "cell_type": "code",
   "execution_count": 38,
   "id": "ef3fb98e-b222-4c95-bc2b-b9080ec02db2",
   "metadata": {},
   "outputs": [],
   "source": [
    "#answer\n",
    "\n",
    "def between_markers(text: str, m1 : str, m2 : str) -> str:\n",
    "    if m1 in text:\n",
    "        i1 = text.find(m1) + len(m1) # i1 : 출력할 text의 시작점\n",
    "    else:\n",
    "        i1 = 0\n",
    "    if m2 in text:\n",
    "        i2 = text.find(m2) # i2 : 출력할 text의 끝점 + 1\n",
    "    else:\n",
    "        i2 = len(text)\n",
    "    if i1 > i2 : return \"\"\n",
    "    else : return text[i1:i2]\n",
    "        "
   ]
  },
  {
   "cell_type": "markdown",
   "id": "8d9bd8e4-9edc-44de-bb81-633eeb1708e1",
   "metadata": {},
   "source": [
    "* ####  **assert 조건, False일 경우 출력할 메세지**\n",
    "    해당 조건이 True인지 간단하게 알아볼 수 있다. True라면 그냥 넘어간다."
   ]
  },
  {
   "cell_type": "code",
   "execution_count": 39,
   "id": "d7facf70-346a-48ca-a2a6-d701a5d969e9",
   "metadata": {},
   "outputs": [],
   "source": [
    "a = 2\n",
    "assert a == 2, \"Wow\""
   ]
  },
  {
   "cell_type": "code",
   "execution_count": 40,
   "id": "dbd9cb26-827b-45f8-9e79-4504004f8b8c",
   "metadata": {},
   "outputs": [
    {
     "ename": "AssertionError",
     "evalue": "Wow",
     "output_type": "error",
     "traceback": [
      "\u001b[1;31m---------------------------------------------------------------------------\u001b[0m",
      "\u001b[1;31mAssertionError\u001b[0m                            Traceback (most recent call last)",
      "\u001b[1;32m<ipython-input-40-17088439927e>\u001b[0m in \u001b[0;36m<module>\u001b[1;34m\u001b[0m\n\u001b[0;32m      1\u001b[0m \u001b[0ma\u001b[0m \u001b[1;33m=\u001b[0m \u001b[1;36m2\u001b[0m\u001b[1;33m\u001b[0m\u001b[1;33m\u001b[0m\u001b[0m\n\u001b[1;32m----> 2\u001b[1;33m \u001b[1;32massert\u001b[0m \u001b[0ma\u001b[0m \u001b[1;33m==\u001b[0m \u001b[1;36m3\u001b[0m\u001b[1;33m,\u001b[0m \u001b[1;34m\"Wow\"\u001b[0m\u001b[1;33m\u001b[0m\u001b[1;33m\u001b[0m\u001b[0m\n\u001b[0m",
      "\u001b[1;31mAssertionError\u001b[0m: Wow"
     ]
    }
   ],
   "source": [
    "a = 2\n",
    "assert a == 3, \"Wow\""
   ]
  },
  {
   "cell_type": "code",
   "execution_count": 41,
   "id": "10e89134-f08a-43c5-93fb-5c7cbea8d30c",
   "metadata": {},
   "outputs": [
    {
     "name": "stdout",
     "output_type": "stream",
     "text": [
      "Wow, you are doing pretty good. Time to check it!\n"
     ]
    }
   ],
   "source": [
    "assert between_markers('What is >apple<', '>', '<') == \"apple\", \"One sym\"\n",
    "assert between_markers(\"<head><title>My new site</title></head>\",\n",
    "                           \"<title>\", \"</title>\") == \"My new site\", \"HTML\"\n",
    "assert between_markers('No[/b] hi', '[b]', '[/b]') == 'No', 'No opened'\n",
    "assert between_markers('No [b]hi', '[b]', '[/b]') == 'hi', 'No close'\n",
    "assert between_markers('No hi', '[b]', '[/b]') == 'No hi', 'No markers at all'\n",
    "assert between_markers('No <hi>', '>', '<') == '', 'Wrong direction'\n",
    "print('Wow, you are doing pretty good. Time to check it!')"
   ]
  },
  {
   "cell_type": "markdown",
   "id": "bfd88e7a-afb9-4dfc-86e1-4654384c14d1",
   "metadata": {},
   "source": [
    "## 6. Best Stock\n",
    "You are given the current stock prices. You have to find out which stocks cost more.\n",
    "\n",
    "* Input: The dictionary where the market identifier code is a key and the value is a stock price.\n",
    "\n",
    "* Output: The market identifier code (ticker symbol) as a string."
   ]
  },
  {
   "cell_type": "code",
   "execution_count": 75,
   "id": "c3ccaccf-ce18-43d6-8d5c-8c868eb0a9e6",
   "metadata": {},
   "outputs": [],
   "source": [
    "#try\n",
    "def best_stock(dic):\n",
    "    m = max(dic.values())\n",
    "    return [code for code, price in zip(dic.keys(), dic.values()) if price == m][0]"
   ]
  },
  {
   "cell_type": "markdown",
   "id": "8a73035b-2c06-408a-b995-a69855df9ff2",
   "metadata": {},
   "source": [
    "* #### **for key, value in zip(listKeys, listValues) :**\n",
    "     ####  **dict[key] = value**\n",
    "    \n",
    "    Iterate through two lists simultaneously using zip"
   ]
  },
  {
   "cell_type": "code",
   "execution_count": 76,
   "id": "907e4a9a-27bf-4a95-8fa7-4bee3baf8337",
   "metadata": {},
   "outputs": [],
   "source": [
    "assert best_stock({\"CAC\": 10.0, \"ATX\": 390.2, \"WIG\": 1.2}) == \"ATX\"\n",
    "assert best_stock({\"CAC\": 91.1, \"ATX\": 1.01, \"TASI\": 120.9}) == \"TASI\""
   ]
  },
  {
   "cell_type": "code",
   "execution_count": 81,
   "id": "861f6c0e-7f50-43b5-beb1-82ae36baece8",
   "metadata": {},
   "outputs": [],
   "source": [
    "#answer\n",
    "def best_stock(data):\n",
    "    max_price = 0\n",
    "    answer = ''\n",
    "    for s in data:\n",
    "        if data[s] > max_price:\n",
    "            max_price = data[s] #max_price를 갱신하며 구하기\n",
    "            answer = s\n",
    "    return answer"
   ]
  },
  {
   "cell_type": "code",
   "execution_count": 82,
   "id": "926a0886-d1ae-4a80-9d6f-8c8d00173dea",
   "metadata": {},
   "outputs": [],
   "source": [
    "assert best_stock({\"CAC\": 10.0, \"ATX\": 390.2, \"WIG\": 1.2}) == \"ATX\"\n",
    "assert best_stock({\"CAC\": 91.1, \"ATX\": 1.01, \"TASI\": 120.9}) == \"TASI\""
   ]
  },
  {
   "cell_type": "code",
   "execution_count": 86,
   "id": "cef1483a-34df-4b43-88e5-978fb9103e06",
   "metadata": {},
   "outputs": [],
   "source": [
    "#try2\n",
    "def best_stock(dic):\n",
    "    for s in dic:\n",
    "        if dic[s] == max(dic.values()):\n",
    "            return s"
   ]
  },
  {
   "cell_type": "code",
   "execution_count": 87,
   "id": "52e72b63-4ddf-4cf4-8a30-f88771fd0d49",
   "metadata": {},
   "outputs": [],
   "source": [
    "assert best_stock({\"CAC\": 10.0, \"ATX\": 390.2, \"WIG\": 1.2}) == \"ATX\"\n",
    "assert best_stock({\"CAC\": 91.1, \"ATX\": 1.01, \"TASI\": 120.9}) == \"TASI\""
   ]
  },
  {
   "cell_type": "markdown",
   "id": "4ea33cb8-70d1-47fb-ab47-d4a25a08f896",
   "metadata": {},
   "source": [
    "## 7 Popular Words\n",
    "\n",
    "In this mission your task is to determine the popularity of certain words in the text.\n",
    "\n",
    "At the input of your function are given 2 arguments: the text and the array of words the popularity of which you need to determine.\n",
    "\n",
    "When solving this task pay attention to the following points:\n",
    "\n",
    "The words should be sought in all registers. This means that if you need to find a word \"one\" then words like \"one\", \"One\", \"oNe\", \"ONE\" etc. will do.\n",
    "The search words are always indicated in the lowercase.\n",
    "If the word wasn’t found even once, it has to be returned in the dictionary with 0 (zero) value.\n",
    "* Input: The text and the search words array.\n",
    "* Output: The dictionary where the search words are the keys and values are the number of times when those words are occurring in a given text."
   ]
  },
  {
   "cell_type": "code",
   "execution_count": 101,
   "id": "cbc35239-f8ea-47b4-9367-0b635b92676b",
   "metadata": {},
   "outputs": [],
   "source": [
    "#try\n",
    "def popular_words(text: str, lst: list) -> dict:\n",
    "    word = text.lower().split()\n",
    "    answer = {}\n",
    "    for i in lst:\n",
    "        answer[i] = word.count(i)\n",
    "    return answer"
   ]
  },
  {
   "cell_type": "code",
   "execution_count": 102,
   "id": "13d8eaf0-57eb-4f31-8486-28a7370c96c3",
   "metadata": {},
   "outputs": [
    {
     "name": "stdout",
     "output_type": "stream",
     "text": [
      "Coding complete? Click 'Check' to earn cool rewards!\n"
     ]
    }
   ],
   "source": [
    "assert popular_words('''\n",
    "When I was One\n",
    "I had just begun\n",
    "When I was Two\n",
    "I was nearly new\n",
    "''', ['i', 'was', 'three', 'near']) == {\n",
    "        'i': 4,\n",
    "        'was': 3,\n",
    "        'three': 0,\n",
    "        'near': 0\n",
    "    }\n",
    "print(\"Coding complete? Click 'Check' to earn cool rewards!\")"
   ]
  }
 ],
 "metadata": {
  "kernelspec": {
   "display_name": "Python 3",
   "language": "python",
   "name": "python3"
  },
  "language_info": {
   "codemirror_mode": {
    "name": "ipython",
    "version": 3
   },
   "file_extension": ".py",
   "mimetype": "text/x-python",
   "name": "python",
   "nbconvert_exporter": "python",
   "pygments_lexer": "ipython3",
   "version": "3.8.8"
  }
 },
 "nbformat": 4,
 "nbformat_minor": 5
}
