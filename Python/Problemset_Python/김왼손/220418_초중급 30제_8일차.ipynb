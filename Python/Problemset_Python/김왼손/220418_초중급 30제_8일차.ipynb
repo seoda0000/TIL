{
 "cells": [
  {
   "cell_type": "markdown",
   "id": "9ab6e390-840f-4b38-ba7f-fcc9a9e9314f",
   "metadata": {},
   "source": [
    "# 김왼손의 왼손코딩 1일 1파이썬 : 초중급자를 위한 파이썬 30제\n",
    "https://www.inflearn.com/course/%ED%8C%8C%EC%9D%B4%EC%8D%AC-%EC%98%88%EC%A0%9C\n",
    "## CheckiO : https://py.checkio.org/mission/search/\n",
    "#### 2022-04-18 8일차 seoda0000"
   ]
  },
  {
   "cell_type": "markdown",
   "id": "f376ec03-d275-44a9-82c9-4e5bde22f9b2",
   "metadata": {},
   "source": [
    "-------------------------"
   ]
  },
  {
   "cell_type": "markdown",
   "id": "fa9d089f-5a9b-4fa7-980a-031fb32260f7",
   "metadata": {},
   "source": [
    "## **Today I Learned**     \n",
    "* #### **max(array, key=array.count)**\n",
    "    key를 array.count로 설정하여 빈도수를 기준으로 최대값 도출. 다른 메서드도 가능한 것으로 추측된다."
   ]
  },
  {
   "cell_type": "markdown",
   "id": "79a6f08d-a5e8-4463-b577-ae32535a7d8a",
   "metadata": {},
   "source": [
    "---------------"
   ]
  },
  {
   "cell_type": "markdown",
   "id": "b6387247-da97-4d59-ae04-984c1f416e5a",
   "metadata": {},
   "source": [
    "## 20. Easy Unpack\n",
    "Your mission here is to create a function that gets a tuple and returns a tuple with 3 elements - the first, third and second element from the last for the given array.\n",
    "\n",
    "* Input: A tuple, at least 3 elements long.\n",
    "* Output: A tuple."
   ]
  },
  {
   "cell_type": "code",
   "execution_count": 6,
   "id": "22f5854a-d6e7-41cb-a803-0c0fa4eb5514",
   "metadata": {},
   "outputs": [],
   "source": [
    "#try\n",
    "def easy_unpack(num: tuple) -> tuple:\n",
    "    return num[0], num[2], num[-2]"
   ]
  },
  {
   "cell_type": "code",
   "execution_count": 7,
   "id": "80333e62-095e-47e4-b85c-b71e3d081eff",
   "metadata": {},
   "outputs": [],
   "source": [
    "assert easy_unpack((6, 2, 9, 4, 3, 9)) == (6, 9, 3)\n",
    "assert easy_unpack((1, 2, 3, 4, 5, 6, 7, 9)) == (1, 3, 7)\n",
    "assert easy_unpack((1, 1, 1, 1)) == (1, 1, 1)\n",
    "assert easy_unpack((6, 3, 7)) == (6, 7, 3)"
   ]
  },
  {
   "cell_type": "markdown",
   "id": "bf135574-fdb0-4c17-be94-ed0279c490ab",
   "metadata": {},
   "source": [
    "## 21. House Password\n",
    "Stephan and Sophia forget about security and use simple passwords for everything. Help Nikola develop a password security check module. The password will be considered strong enough if its length is greater than or equal to 10 symbols, it has at least one digit, as well as containing one uppercase letter and one lowercase letter in it. The password contains only ASCII latin letters or digits.\n",
    "\n",
    "* Input: A password as a string.\n",
    "* Output: Is the password safe or not as a boolean or any data type that can be converted and processed as a boolean. In the results you will see the converted results."
   ]
  },
  {
   "cell_type": "code",
   "execution_count": 21,
   "id": "5c9ef13a-a69f-4786-85e4-7739149c4c45",
   "metadata": {},
   "outputs": [],
   "source": [
    "#try\n",
    "def house_password(password: str) -> bool:\n",
    "    a = True\n",
    "    if len(password) < 10:\n",
    "        a = False\n",
    "    alow = False\n",
    "    aup = False\n",
    "    anum = False\n",
    "    for i in password:\n",
    "        if i.islower():\n",
    "            alow = True\n",
    "        if i.isupper():\n",
    "            aup = True\n",
    "        if i.isnumeric():\n",
    "            anum = True\n",
    "    if alow == False or aup == False or anum == False:\n",
    "        a = False\n",
    "    return a"
   ]
  },
  {
   "cell_type": "code",
   "execution_count": 22,
   "id": "7368f3b6-9446-49cf-a838-201be2f13c66",
   "metadata": {},
   "outputs": [],
   "source": [
    "assert house_password('A1213pokl') == False\n",
    "assert house_password('bAse730onE') == True\n",
    "assert house_password('asasasasasasasaas') == False\n",
    "assert house_password('QWERTYqwerty') == False\n",
    "assert house_password('123456123456') == False\n",
    "assert house_password('QwErTy911poqqqq') == True"
   ]
  },
  {
   "cell_type": "markdown",
   "id": "16be56c6-f6c2-4d98-a0cb-d4342943347a",
   "metadata": {},
   "source": [
    "* #### **any(c.메서드() for c in data)**\n",
    "안의 구성요소 중 하나라도 True이면 True를 return\n",
    "* #### **str.isdigit()**\n",
    "숫자인지 아닌지 알아보는 메서드"
   ]
  },
  {
   "cell_type": "code",
   "execution_count": 23,
   "id": "8b85cddf-6d70-49f7-9881-26db621b664c",
   "metadata": {},
   "outputs": [],
   "source": [
    "#answer\n",
    "def house_password(password: str) -> bool:\n",
    "    if len(password) < 10:\n",
    "        return False\n",
    "    \n",
    "    if password.upper() == password:\n",
    "        return False\n",
    "\n",
    "    if password.lower() == password:\n",
    "        return False\n",
    "    \n",
    "    return any(c.isdigit() for c in password)"
   ]
  },
  {
   "cell_type": "code",
   "execution_count": 24,
   "id": "4efc3ff6-50f2-4a9a-a8f6-e639a1102903",
   "metadata": {},
   "outputs": [],
   "source": [
    "assert house_password('A1213pokl') == False\n",
    "assert house_password('bAse730onE') == True\n",
    "assert house_password('asasasasasasasaas') == False\n",
    "assert house_password('QWERTYqwerty') == False\n",
    "assert house_password('123456123456') == False\n",
    "assert house_password('QwErTy911poqqqq') == True"
   ]
  },
  {
   "cell_type": "markdown",
   "id": "1b5e07ee-9e79-47b5-83dc-705bd9a4bd5c",
   "metadata": {},
   "source": [
    "## 22. Non-unique Elements\n",
    "You are given a non-empty list of integers (X). For this task, you should return a list consisting of only the non-unique elements in this list. To do so you will need to remove all unique elements (elements which are contained in a given list only once). When solving this task, do not change the order of the list. Example: [1, 2, 3, 1, 3] 1 and 3 non-unique elements and result will be [1, 3, 1, 3].\n",
    "\n",
    "* Input: A list of integers.\n",
    "* Output: An iterable of integers."
   ]
  },
  {
   "cell_type": "code",
   "execution_count": 39,
   "id": "30c5179d-e577-46e4-b5e6-60296b2a27a3",
   "metadata": {},
   "outputs": [],
   "source": [
    "#try\n",
    "def non_unique_elements(lst: list):\n",
    "    compo = list(set(lst))\n",
    "    unique = [c for c in compo if lst.count(c) == 1]\n",
    "    for i in unique:\n",
    "        lst.remove(i)\n",
    "    return lst"
   ]
  },
  {
   "cell_type": "code",
   "execution_count": 41,
   "id": "7156df7f-1e2b-492e-aced-109791b78b0d",
   "metadata": {},
   "outputs": [
    {
     "name": "stdout",
     "output_type": "stream",
     "text": [
      "It is all good. Let's check it now\n"
     ]
    }
   ],
   "source": [
    "assert non_unique_elements([1, 2, 3, 1, 3]) == [1, 3, 1, 3], \"1st example\"\n",
    "assert non_unique_elements([1, 2, 3, 4, 5]) == [], \"2nd example\"\n",
    "assert non_unique_elements([5, 5, 5, 5, 5]) == [5, 5, 5, 5, 5], \"3rd example\"\n",
    "assert non_unique_elements([10, 9, 10, 10, 9, 8]) == [10, 9, 10, 10, 9], \"4th example\"\n",
    "print(\"It is all good. Let's check it now\")"
   ]
  },
  {
   "cell_type": "code",
   "execution_count": 42,
   "id": "7addb54a-899d-46a5-867a-9f18ac8be30d",
   "metadata": {},
   "outputs": [],
   "source": [
    "#answer\n",
    "def non_unique_elements(lst: list):\n",
    "    return [a for a in lst if lst.count(a) > 1]"
   ]
  },
  {
   "cell_type": "code",
   "execution_count": 43,
   "id": "e2253bab-7a87-4931-a09c-0d867cea46fb",
   "metadata": {},
   "outputs": [
    {
     "name": "stdout",
     "output_type": "stream",
     "text": [
      "It is all good. Let's check it now\n"
     ]
    }
   ],
   "source": [
    "assert non_unique_elements([1, 2, 3, 1, 3]) == [1, 3, 1, 3], \"1st example\"\n",
    "assert non_unique_elements([1, 2, 3, 4, 5]) == [], \"2nd example\"\n",
    "assert non_unique_elements([5, 5, 5, 5, 5]) == [5, 5, 5, 5, 5], \"3rd example\"\n",
    "assert non_unique_elements([10, 9, 10, 10, 9, 8]) == [10, 9, 10, 10, 9], \"4th example\"\n",
    "print(\"It is all good. Let's check it now\")"
   ]
  },
  {
   "cell_type": "markdown",
   "id": "1b22ff9a-146b-4497-9413-3f7b338a98e7",
   "metadata": {},
   "source": [
    "## 23. Monkey Typing\n",
    "The infinite monkey theorem states that a monkey hitting keys at random on a typewriter keyboard for an infinite length of time will almost surely type out a given text, such as the complete works of John Wallis , or more likely, a Dan Brown novel.\n",
    "\n",
    "Let's suppose our monkeys are typing, typing and typing, and have produced a wide variety of short text segments. Let's try to check them for sensible word inclusions.\n",
    "\n",
    "You are given some text potentially including sensible words. You should count how many words are included in the given text. A word should be whole and may be a part of other word. Text letter case does not matter. Words are given in lowercase and don't repeat. If a word appears several times in the text, it should be counted only once.\n",
    "\n",
    "For example, text - \" How are sjfhdskfhskd you ?\", words - (\"how\", \"are\", \"you\", \"hello\"). The result will be 3.\n",
    "\n",
    "* Input: Two arguments. A text as a string (unicode for py2) and words as a set of strings (unicode for py2).\n",
    "* Output: The number of words in the text as an integer."
   ]
  },
  {
   "cell_type": "code",
   "execution_count": 55,
   "id": "3ce69165-6633-4197-a1ca-a03bd5f18f94",
   "metadata": {},
   "outputs": [],
   "source": [
    "#try\n",
    "def monkey_typing(text: str, word: set) -> int:\n",
    "    return len([i for i in word if i in text.lower()])"
   ]
  },
  {
   "cell_type": "code",
   "execution_count": 56,
   "id": "a458549c-d85a-4127-aca4-5db543e6ffe6",
   "metadata": {},
   "outputs": [],
   "source": [
    "assert monkey_typing(\"How aresjfhdskfhskd you?\", {\"how\", \"are\", \"you\", \"hello\"}) == 3, \"Example\"\n",
    "assert monkey_typing(\"Bananas, give me bananas!!!\", {\"banana\", \"bananas\"}) == 2, \"BANANAS!\"\n",
    "assert monkey_typing(\"Lorem ipsum dolor sit amet, consectetuer adipiscing elit.\",\n",
    "                       {\"sum\", \"hamlet\", \"infinity\", \"anything\"}) == 1, \"Weird text\""
   ]
  },
  {
   "cell_type": "markdown",
   "id": "5f59af9b-637e-4776-bed6-106d16e46d14",
   "metadata": {},
   "source": [
    "## 24. All the Same\n",
    "In this mission you should check if all elements in the given list are equal.\n",
    "\n",
    "* Input: List.\n",
    "* Output: Bool."
   ]
  },
  {
   "cell_type": "code",
   "execution_count": 65,
   "id": "d5574d1a-b169-49c2-854b-b1e9493216e1",
   "metadata": {},
   "outputs": [],
   "source": [
    "#try\n",
    "def all_the_same(lst: list) -> bool:\n",
    "    if len(lst) == 0:\n",
    "        return True\n",
    "    return len(set(lst)) == 1"
   ]
  },
  {
   "cell_type": "code",
   "execution_count": 66,
   "id": "e01bc716-3b47-4392-b607-b835e5b1367c",
   "metadata": {},
   "outputs": [
    {
     "name": "stdout",
     "output_type": "stream",
     "text": [
      "Coding complete? Click 'Check' to earn cool rewards!\n"
     ]
    }
   ],
   "source": [
    "assert all_the_same([1, 1, 1]) == True\n",
    "assert all_the_same([1, 2, 1]) == False\n",
    "assert all_the_same(['a', 'a', 'a']) == True\n",
    "assert all_the_same([]) == True\n",
    "assert all_the_same([1]) == True\n",
    "print(\"Coding complete? Click 'Check' to earn cool rewards!\")"
   ]
  },
  {
   "cell_type": "code",
   "execution_count": 67,
   "id": "e667e1e7-1840-4d22-abdc-2dcb7c09943c",
   "metadata": {},
   "outputs": [],
   "source": [
    "#answer\n",
    "def all_the_same(lst: list) -> bool:\n",
    "    return len(set(lst)) <= 1"
   ]
  },
  {
   "cell_type": "code",
   "execution_count": 68,
   "id": "654cfc4d-d890-4514-a844-603c06dee155",
   "metadata": {},
   "outputs": [
    {
     "name": "stdout",
     "output_type": "stream",
     "text": [
      "Coding complete? Click 'Check' to earn cool rewards!\n"
     ]
    }
   ],
   "source": [
    "assert all_the_same([1, 1, 1]) == True\n",
    "assert all_the_same([1, 2, 1]) == False\n",
    "assert all_the_same(['a', 'a', 'a']) == True\n",
    "assert all_the_same([]) == True\n",
    "assert all_the_same([1]) == True\n",
    "print(\"Coding complete? Click 'Check' to earn cool rewards!\")"
   ]
  }
 ],
 "metadata": {
  "kernelspec": {
   "display_name": "Python 3",
   "language": "python",
   "name": "python3"
  },
  "language_info": {
   "codemirror_mode": {
    "name": "ipython",
    "version": 3
   },
   "file_extension": ".py",
   "mimetype": "text/x-python",
   "name": "python",
   "nbconvert_exporter": "python",
   "pygments_lexer": "ipython3",
   "version": "3.8.8"
  }
 },
 "nbformat": 4,
 "nbformat_minor": 5
}
