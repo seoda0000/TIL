{
 "cells": [
  {
   "cell_type": "markdown",
   "id": "9ab6e390-840f-4b38-ba7f-fcc9a9e9314f",
   "metadata": {},
   "source": [
    "# 김왼손의 왼손코딩 1일 1파이썬 : 초급자를 위한 파이썬 50제\n",
    "## 30 seconds of code\n",
    "### 2022-04-07 3일차"
   ]
  },
  {
   "cell_type": "markdown",
   "id": "88441af8-846d-41b7-bfc4-217cd11a9cba",
   "metadata": {},
   "source": [
    "## 21 initial\n",
    "Returns all the elements of a list except the last one.\n",
    "\n",
    "Use lst[0:-1] to return all but the last element of the list"
   ]
  },
  {
   "cell_type": "code",
   "execution_count": 3,
   "id": "b12b7f48-895a-4841-b112-bcacd8a9d0f1",
   "metadata": {},
   "outputs": [],
   "source": [
    "def initial(lst):\n",
    "    return lst[0:-1]"
   ]
  },
  {
   "cell_type": "code",
   "execution_count": 4,
   "id": "21a7d14d-21be-4375-98e2-a8f3507075de",
   "metadata": {},
   "outputs": [
    {
     "data": {
      "text/plain": [
       "[1, 2, 3, 4]"
      ]
     },
     "execution_count": 4,
     "metadata": {},
     "output_type": "execute_result"
    }
   ],
   "source": [
    "initial([1, 2, 3, 4, 5])"
   ]
  },
  {
   "cell_type": "markdown",
   "id": "72785f25-6394-42ba-80a1-faced59b4056",
   "metadata": {},
   "source": [
    "## 22 initialize_list_with_range\n",
    "\n",
    "Initializes a list containing the numbers in the specified range where start and end are inclusive with their common difference step.\n",
    "\n",
    "Use list and range() to generate a list of the appropriate length, filled with the desired values in the given range. Omit start to use the default value of 0. Omit step to use the default value of 1."
   ]
  },
  {
   "cell_type": "code",
   "execution_count": 5,
   "id": "656064bd-806b-4773-95ed-f47d2f9e1024",
   "metadata": {},
   "outputs": [],
   "source": [
    "def initialize_list_with_range(end, start = 0, step = 1):\n",
    "    return list(range(start, end + 1, step))"
   ]
  },
  {
   "cell_type": "code",
   "execution_count": 6,
   "id": "514538e5-f54c-4bf8-8a2e-8840322076bd",
   "metadata": {},
   "outputs": [
    {
     "data": {
      "text/plain": [
       "[0, 1, 2, 3, 4, 5, 6, 7, 8, 9, 10]"
      ]
     },
     "execution_count": 6,
     "metadata": {},
     "output_type": "execute_result"
    }
   ],
   "source": [
    "initialize_list_with_range(10)"
   ]
  },
  {
   "cell_type": "code",
   "execution_count": 7,
   "id": "dec7047f-ff5e-4a79-a778-603a916f4e9e",
   "metadata": {},
   "outputs": [
    {
     "data": {
      "text/plain": [
       "[3, 4, 5, 6, 7, 8, 9, 10]"
      ]
     },
     "execution_count": 7,
     "metadata": {},
     "output_type": "execute_result"
    }
   ],
   "source": [
    "initialize_list_with_range(10, 3)"
   ]
  },
  {
   "cell_type": "code",
   "execution_count": 8,
   "id": "3e345b63-15e6-4cdb-84ba-e2030180de2c",
   "metadata": {},
   "outputs": [
    {
     "data": {
      "text/plain": [
       "[3, 5, 7, 9]"
      ]
     },
     "execution_count": 8,
     "metadata": {},
     "output_type": "execute_result"
    }
   ],
   "source": [
    "initialize_list_with_range(10, 3, 2)"
   ]
  },
  {
   "cell_type": "markdown",
   "id": "b0f7cdf1-a5f6-4bb4-b1b4-99c7b14231f7",
   "metadata": {},
   "source": [
    "## 23 initialize_list_with_values\n",
    "Initializes and fills a list with the specified value.\n",
    "\n",
    "Use list comprehension and range() to generate a list of length equal to n, filled with the desired values, Omit val to use the default value of 0."
   ]
  },
  {
   "cell_type": "code",
   "execution_count": 9,
   "id": "868fa719-1e25-45c9-985f-7cf7d7c97362",
   "metadata": {},
   "outputs": [],
   "source": [
    "def initialize_list_with_values (n, val = 0):\n",
    "    return [ val for i in range(n)]"
   ]
  },
  {
   "cell_type": "code",
   "execution_count": 10,
   "id": "f8ba012d-6111-4e99-b52f-31b2cf288d17",
   "metadata": {},
   "outputs": [
    {
     "data": {
      "text/plain": [
       "[0, 0, 0]"
      ]
     },
     "execution_count": 10,
     "metadata": {},
     "output_type": "execute_result"
    }
   ],
   "source": [
    "initialize_list_with_values(3)"
   ]
  },
  {
   "cell_type": "code",
   "execution_count": 11,
   "id": "ebd30aae-1208-4a5e-a322-fccb04330422",
   "metadata": {},
   "outputs": [
    {
     "data": {
      "text/plain": [
       "[1, 1, 1]"
      ]
     },
     "execution_count": 11,
     "metadata": {},
     "output_type": "execute_result"
    }
   ],
   "source": [
    "initialize_list_with_values(3, 1)"
   ]
  },
  {
   "cell_type": "markdown",
   "id": "79eaea71-c256-489e-86b5-ee4a580af570",
   "metadata": {},
   "source": [
    "## 24 intersection\n",
    "Returns a list of elements that exist in both lists.\n",
    "\n",
    "Create a set from a and b, then use the built-in set operator & to only keep values contained in both sets, then transform the set back into a list."
   ]
  },
  {
   "cell_type": "code",
   "execution_count": 12,
   "id": "520ac3b8-7d65-4989-a7ed-b415b9669501",
   "metadata": {},
   "outputs": [],
   "source": [
    "def intersection(lst1, lst2):\n",
    "    return list(set(lst1) & set(lst2))"
   ]
  },
  {
   "cell_type": "code",
   "execution_count": 13,
   "id": "19e1570b-1c68-48f8-bd74-96ed8996a820",
   "metadata": {},
   "outputs": [
    {
     "data": {
      "text/plain": [
       "[2, 4]"
      ]
     },
     "execution_count": 13,
     "metadata": {},
     "output_type": "execute_result"
    }
   ],
   "source": [
    "intersection([1, 2, 3, 4, 5], [2, 4, 6, 8])"
   ]
  },
  {
   "cell_type": "markdown",
   "id": "d520d0ab-3e25-41e0-b440-4aab3ac8d75d",
   "metadata": {},
   "source": [
    "## 25 is_divisible\n",
    "Cheks if the first numeric argument is divisible by the second one.\n",
    "\n",
    "Use the modulo operator(%) to check if the remainder is equal to 0."
   ]
  },
  {
   "cell_type": "code",
   "execution_count": 14,
   "id": "f16a6024-02e4-4f0b-a49b-c1c56f3106e1",
   "metadata": {},
   "outputs": [],
   "source": [
    "def is_divisible(num1, num2):\n",
    "    return num1 % num2 == 0"
   ]
  },
  {
   "cell_type": "code",
   "execution_count": 15,
   "id": "7816ced2-ea41-4727-b006-142f8e92d7d0",
   "metadata": {},
   "outputs": [
    {
     "data": {
      "text/plain": [
       "True"
      ]
     },
     "execution_count": 15,
     "metadata": {},
     "output_type": "execute_result"
    }
   ],
   "source": [
    "is_divisible(4, 2)"
   ]
  },
  {
   "cell_type": "code",
   "execution_count": 16,
   "id": "85879a4d-bf14-4e3a-a489-52b83425b170",
   "metadata": {},
   "outputs": [
    {
     "data": {
      "text/plain": [
       "False"
      ]
     },
     "execution_count": 16,
     "metadata": {},
     "output_type": "execute_result"
    }
   ],
   "source": [
    "is_divisible(5, 3)"
   ]
  },
  {
   "cell_type": "markdown",
   "id": "4ca1a7b8-f5a7-411d-9fc0-0fb0a8be552a",
   "metadata": {},
   "source": [
    "## 26 is_even\n",
    "\n",
    "Returns True if the given number is even, False otherwise.\n",
    "\n",
    "Checks whether a number is odd or even using the modulo(%) operator. Returns True if the number is even, False if the number is odd."
   ]
  },
  {
   "cell_type": "code",
   "execution_count": 17,
   "id": "615e6cc7-f42a-43e5-91cf-3c8a03ac4357",
   "metadata": {},
   "outputs": [],
   "source": [
    "def is_even(n):\n",
    "    return n % 2 == 0"
   ]
  },
  {
   "cell_type": "code",
   "execution_count": 18,
   "id": "e79fde52-dbfe-4966-af5d-378430000654",
   "metadata": {},
   "outputs": [
    {
     "data": {
      "text/plain": [
       "True"
      ]
     },
     "execution_count": 18,
     "metadata": {},
     "output_type": "execute_result"
    }
   ],
   "source": [
    "is_even(2)"
   ]
  },
  {
   "cell_type": "code",
   "execution_count": 19,
   "id": "a108de44-2786-4d53-97e0-52369eac6da6",
   "metadata": {},
   "outputs": [
    {
     "data": {
      "text/plain": [
       "False"
      ]
     },
     "execution_count": 19,
     "metadata": {},
     "output_type": "execute_result"
    }
   ],
   "source": [
    "is_even(3)"
   ]
  },
  {
   "cell_type": "markdown",
   "id": "0046dd64-fdd8-4cc2-a0eb-44855d781735",
   "metadata": {},
   "source": [
    "## 27 is_odd\n",
    "\n",
    "Returns True if the given number is odd, False otherwise.\n",
    "\n",
    "Checks whether a number is even or odd using the modulo(%) operator. Returns True if the number is odd, False if the number is even."
   ]
  },
  {
   "cell_type": "code",
   "execution_count": 20,
   "id": "85a42066-d037-4e9c-8641-1f0dd3a11764",
   "metadata": {},
   "outputs": [],
   "source": [
    "def is_odd(n):\n",
    "    return n % 2 != 0"
   ]
  },
  {
   "cell_type": "code",
   "execution_count": 21,
   "id": "b4849042-7b4d-46a0-b8ab-d831c1600d00",
   "metadata": {},
   "outputs": [
    {
     "data": {
      "text/plain": [
       "False"
      ]
     },
     "execution_count": 21,
     "metadata": {},
     "output_type": "execute_result"
    }
   ],
   "source": [
    "is_odd(2)"
   ]
  },
  {
   "cell_type": "code",
   "execution_count": 22,
   "id": "b0eae6c3-9110-42aa-af72-7576072169ae",
   "metadata": {},
   "outputs": [
    {
     "data": {
      "text/plain": [
       "True"
      ]
     },
     "execution_count": 22,
     "metadata": {},
     "output_type": "execute_result"
    }
   ],
   "source": [
    "is_odd(3)"
   ]
  },
  {
   "cell_type": "markdown",
   "id": "ba6fd87f-1987-4d4c-b45b-c3da847161e8",
   "metadata": {},
   "source": [
    "## 28 keys_only\n",
    "Returns a flat list of all the keys in a flat dictionary.\n",
    "\n",
    "Use dict.keys() to return the keys in the given dictionary. Return a list() of the previous result."
   ]
  },
  {
   "cell_type": "code",
   "execution_count": 23,
   "id": "4ad60744-de29-48c7-b0a5-def00251fa66",
   "metadata": {},
   "outputs": [],
   "source": [
    "def keys_only(dic):\n",
    "    return list(dic.keys())"
   ]
  },
  {
   "cell_type": "code",
   "execution_count": 26,
   "id": "e2eefc4e-d83a-463d-ab99-6f1b5c25dad0",
   "metadata": {},
   "outputs": [
    {
     "data": {
      "text/plain": [
       "['a', 'b']"
      ]
     },
     "execution_count": 26,
     "metadata": {},
     "output_type": "execute_result"
    }
   ],
   "source": [
    "keys_only({\"a\": 1, \"b\": 2})"
   ]
  },
  {
   "cell_type": "markdown",
   "id": "fd9266c9-b592-4442-9109-45bc61eae26d",
   "metadata": {},
   "source": [
    "## 29 last\n",
    "Returns the last element in a list.\n",
    "\n",
    "use lst[-1] to return the last element of the passed list."
   ]
  },
  {
   "cell_type": "code",
   "execution_count": 27,
   "id": "8c110321-634f-463d-9b58-1bd7822f6083",
   "metadata": {},
   "outputs": [],
   "source": [
    "def last(lst):\n",
    "    return lst[-1]"
   ]
  },
  {
   "cell_type": "code",
   "execution_count": 28,
   "id": "51ecb1a1-1d10-40d8-a0fd-bd57424e99fa",
   "metadata": {},
   "outputs": [
    {
     "data": {
      "text/plain": [
       "5"
      ]
     },
     "execution_count": 28,
     "metadata": {},
     "output_type": "execute_result"
    }
   ],
   "source": [
    "last([1, 2, 3, 4, 5])"
   ]
  },
  {
   "cell_type": "markdown",
   "id": "5ebbd01b-10af-4e54-93ce-e7e92354b4d0",
   "metadata": {},
   "source": [
    "## 30 max_by\n",
    "Returns the maximum value of a list, after mapping each element to a value using the provided function.\n",
    "\n",
    "Use map() with fn to each element to a value using the provided function, use max() to return rhe maximum value."
   ]
  },
  {
   "cell_type": "code",
   "execution_count": 29,
   "id": "06e699da-5004-4ee7-99d5-feb9691b23ca",
   "metadata": {},
   "outputs": [],
   "source": [
    "def max_by(lst, fn):\n",
    "    return max(map(fn, lst))"
   ]
  },
  {
   "cell_type": "code",
   "execution_count": 32,
   "id": "cef35c50-a3eb-43b0-95ed-d521022154fa",
   "metadata": {},
   "outputs": [
    {
     "data": {
      "text/plain": [
       "6"
      ]
     },
     "execution_count": 32,
     "metadata": {},
     "output_type": "execute_result"
    }
   ],
   "source": [
    "max_by([{\"n\":4}, {\"n\":2}, {\"n\":1, \"b\":8}, {\"n\":6}], lambda v : v[\"n\"])"
   ]
  },
  {
   "cell_type": "markdown",
   "id": "bfc2f26d-eac9-4d0f-a2ee-e6452b51b478",
   "metadata": {},
   "source": [
    "## 31 max_element_index\n",
    "Returns the index of the element with the maximum value in a list.\n",
    "\n",
    "Use max() and list.index() to get the maximum value in the list and return its index."
   ]
  },
  {
   "cell_type": "code",
   "execution_count": 33,
   "id": "42ca4f3c-c850-4ab5-9b90-daff6fae4434",
   "metadata": {},
   "outputs": [],
   "source": [
    "def max_element_index(lst):\n",
    "    return lst.index(max(lst))"
   ]
  },
  {
   "cell_type": "markdown",
   "id": "563ec3ca-d58e-40ca-9082-f4e5117f002c",
   "metadata": {},
   "source": [
    "* **index : 해당하는 값 중 가장 첫 값의 인덱스를 return**"
   ]
  },
  {
   "cell_type": "code",
   "execution_count": 37,
   "id": "48adbdbf-78b1-4200-8a5c-f7276272fa70",
   "metadata": {},
   "outputs": [
    {
     "data": {
      "text/plain": [
       "3"
      ]
     },
     "execution_count": 37,
     "metadata": {},
     "output_type": "execute_result"
    }
   ],
   "source": [
    "max_element_index([1, 2, 3, 5, 5, 1])"
   ]
  },
  {
   "cell_type": "markdown",
   "id": "8b241aec-2cbd-49d1-b2db-56e30dceea37",
   "metadata": {},
   "source": [
    "## 32 max_n\n",
    "Returns the n maximum elements from the provided list. If n is greater than or equal to the provided list's length, then return the original list (sorted in descending order).\n",
    "\n",
    "Use sorted() to sort the list, [:n] to get the specified number of elements. Omit the second argument, n, to get a one-element list."
   ]
  },
  {
   "cell_type": "code",
   "execution_count": 45,
   "id": "cda39396-625a-4727-ba48-0a10490acedb",
   "metadata": {},
   "outputs": [],
   "source": [
    "# try\n",
    "\n",
    "def max_n(lst, n = 1):\n",
    "    lst.sort(reverse = True)\n",
    "    if n > len(lst):\n",
    "        return lst\n",
    "    else:\n",
    "        return lst[:n]"
   ]
  },
  {
   "cell_type": "code",
   "execution_count": 46,
   "id": "76f848ce-9672-4bf7-8495-79ac68166254",
   "metadata": {},
   "outputs": [
    {
     "data": {
      "text/plain": [
       "[5, 4, 3]"
      ]
     },
     "execution_count": 46,
     "metadata": {},
     "output_type": "execute_result"
    }
   ],
   "source": [
    "A = [1, 2, 3, 4, 5]\n",
    "max_n(A, 3)"
   ]
  },
  {
   "cell_type": "code",
   "execution_count": 47,
   "id": "9cd214a2-b925-4a8e-a6b2-0cfabd9eeef5",
   "metadata": {},
   "outputs": [
    {
     "data": {
      "text/plain": [
       "[5, 4, 3, 2, 1]"
      ]
     },
     "execution_count": 47,
     "metadata": {},
     "output_type": "execute_result"
    }
   ],
   "source": [
    "max_n(A, 10)"
   ]
  },
  {
   "cell_type": "code",
   "execution_count": 48,
   "id": "4160d3a8-0ce7-471b-9276-a6c767b4b39f",
   "metadata": {},
   "outputs": [
    {
     "data": {
      "text/plain": [
       "[5]"
      ]
     },
     "execution_count": 48,
     "metadata": {},
     "output_type": "execute_result"
    }
   ],
   "source": [
    "max_n(A)"
   ]
  },
  {
   "cell_type": "code",
   "execution_count": 49,
   "id": "ac0d2669-ffa9-49fb-ab84-eef06224542a",
   "metadata": {},
   "outputs": [],
   "source": [
    "# answer\n",
    "\n",
    "def max_n(lst, n = 1):\n",
    "    return sorted(lst, reverse = True)[:n]"
   ]
  },
  {
   "cell_type": "code",
   "execution_count": 50,
   "id": "2e697abe-e170-4f4f-8c87-ef7dbc978ef8",
   "metadata": {},
   "outputs": [
    {
     "data": {
      "text/plain": [
       "[5, 4, 3, 2, 1]"
      ]
     },
     "execution_count": 50,
     "metadata": {},
     "output_type": "execute_result"
    }
   ],
   "source": [
    "max_n(A, 10)"
   ]
  },
  {
   "cell_type": "markdown",
   "id": "80fa0f33-3da1-4777-b630-7f901020c5a6",
   "metadata": {},
   "source": [
    "* **[:n] n값이 리스트 길이 보다 큰 경우 모든 값이 출력된다.**\n",
    "* **[:n] n값이 음수인 경우 절대값 숫자만큼 값이 뒤에서 빠진다.**\n",
    "* **[:n] n값이 음수이고, 절대값이 리스트 길이 보다 큰 경우 아무 값도 출력되지 않는다.**"
   ]
  },
  {
   "cell_type": "code",
   "execution_count": 55,
   "id": "6f85ef5d-47a1-4574-8e7d-0d1e22a1f336",
   "metadata": {},
   "outputs": [
    {
     "data": {
      "text/plain": [
       "[5, 4, 3]"
      ]
     },
     "execution_count": 55,
     "metadata": {},
     "output_type": "execute_result"
    }
   ],
   "source": [
    "A[:-2]"
   ]
  }
 ],
 "metadata": {
  "kernelspec": {
   "display_name": "Python 3",
   "language": "python",
   "name": "python3"
  },
  "language_info": {
   "codemirror_mode": {
    "name": "ipython",
    "version": 3
   },
   "file_extension": ".py",
   "mimetype": "text/x-python",
   "name": "python",
   "nbconvert_exporter": "python",
   "pygments_lexer": "ipython3",
   "version": "3.8.8"
  }
 },
 "nbformat": 4,
 "nbformat_minor": 5
}
