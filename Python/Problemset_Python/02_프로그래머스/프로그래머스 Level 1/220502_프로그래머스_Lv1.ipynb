{
 "cells": [
  {
   "cell_type": "markdown",
   "id": "efebf200-172f-4b4c-b31e-bd01af04f69c",
   "metadata": {},
   "source": [
    "#### **프로그래머스** https://programmers.co.kr/learn/challenges\n",
    "##### 코딩테스트 연습 2022-05-02 7일차 seoda0000"
   ]
  },
  {
   "cell_type": "markdown",
   "id": "01d2438b-9adb-4ff8-b35b-4f8fc349cfc7",
   "metadata": {},
   "source": [
    "--------------------"
   ]
  },
  {
   "cell_type": "markdown",
   "id": "6a01c2fa-0d12-45b8-96d3-e19f0f93f827",
   "metadata": {},
   "source": [
    "# **TIL**\n",
    "\n",
    "\n",
    "\n",
    "------------------\n",
    "#### 미래의 나에게...\n",
    "* 쉽게 생각하자. 잘 안 풀리면 조작하는 데이터의 관점을 바꿔보자.\n",
    "* 논리적으로 순차적으로 생각하기.\n",
    "* 코드를 짰으나 실행 시간이 오래 걸렸다. 간단히 코드를 짜는 방법을 알아두자.\n",
    "* 무작정 코드를 짧게 줄이는 건 도움이 되지 않는다. 개체를 단순하게 만들자.\n"
   ]
  },
  {
   "cell_type": "markdown",
   "id": "e158152f-113b-495f-aab3-421be8463340",
   "metadata": {},
   "source": [
    "---------------------\n",
    "2020 카카오 인턴십\n",
    "\n",
    "## **키패드 누르기**\n",
    "\n",
    "이 전화 키패드에서 왼손과 오른손의 엄지손가락만을 이용해서 숫자만을 입력하려고 합니다.\n",
    "맨 처음 왼손 엄지손가락은 * 키패드에 오른손 엄지손가락은 # 키패드 위치에서 시작하며, 엄지손가락을 사용하는 규칙은 다음과 같습니다.\n",
    "\n",
    "* 엄지손가락은 상하좌우 4가지 방향으로만 이동할 수 있으며 키패드 이동 한 칸은 거리로 1에 해당합니다.\n",
    "* 왼쪽 열의 3개의 숫자 1, 4, 7을 입력할 때는 왼손 엄지손가락을 사용합니다.\n",
    "* 오른쪽 열의 3개의 숫자 3, 6, 9를 입력할 때는 오른손 엄지손가락을 사용합니다.\n",
    "* 가운데 열의 4개의 숫자 2, 5, 8, 0을 입력할 때는 두 엄지손가락의 현재 키패드의 위치에서 더 가까운 엄지손가락을 사용합니다.\n",
    "* 만약 두 엄지손가락의 거리가 같다면, 오른손잡이는 오른손 엄지손가락, 왼손잡이는 왼손 엄지손가락을 사용합니다.\n",
    "\n",
    "순서대로 누를 번호가 담긴 배열 numbers, 왼손잡이인지 오른손잡이인 지를 나타내는 문자열 hand가 매개변수로 주어질 때, 각 번호를 누른 엄지손가락이 왼손인 지 오른손인 지를 나타내는 연속된 문자열 형태로 return 하도록 solution 함수를 완성해주세요."
   ]
  },
  {
   "cell_type": "code",
   "execution_count": 38,
   "id": "e8c9d279-ae97-4ac8-92e2-174284e4d6f7",
   "metadata": {},
   "outputs": [],
   "source": [
    "#try score 100/100\n",
    "def solution(numbers, hand):\n",
    "    \n",
    "    #번호 세로축 기준으로 구분\n",
    "    Lnum = {1:1, 4:2, 7:3}\n",
    "    Rnum = {3:1, 6:2, 9:3}\n",
    "    Cnum = {2:1, 5:2, 8:3, 0:4}\n",
    "    \n",
    "    #초기 좌표 지정. where은 세로축, C는 손가락이 가운데 라인에 있는지 여부\n",
    "    L_where = 4\n",
    "    L_C = 0\n",
    "    R_where = 4\n",
    "    R_C = 0\n",
    "    \n",
    "    answer = \"\"\n",
    "    \n",
    "    for i in numbers:\n",
    "        if i in Lnum.keys():\n",
    "            answer += \"L\"\n",
    "            L_where = Lnum[i]\n",
    "            L_C = 0\n",
    "        elif i in Rnum.keys():\n",
    "            answer += \"R\"\n",
    "            R_where = Rnum[i]\n",
    "            R_C = 0\n",
    "        else:\n",
    "            \n",
    "            #숫자와 더 가까운 손가락 찾기\n",
    "            \n",
    "            if abs(Cnum[i] - L_where) - L_C > abs(Cnum[i] - R_where) - R_C:\n",
    "                answer += \"R\"\n",
    "                R_where = Cnum[i]\n",
    "                R_C = 1\n",
    "            elif abs(Cnum[i] - L_where) - L_C < abs(Cnum[i] - R_where) - R_C:\n",
    "                answer += \"L\"\n",
    "                L_where = Cnum[i]\n",
    "                L_C = 1\n",
    "            else:\n",
    "                if hand == \"right\":\n",
    "                    answer += \"R\"\n",
    "                    R_where = Cnum[i]\n",
    "                    R_C = 1\n",
    "                else:\n",
    "                    answer += \"L\"\n",
    "                    L_where = Cnum[i]\n",
    "                    L_C = 1\n",
    "\n",
    "                \n",
    "            \n",
    "    return answer\n",
    "            \n",
    "    "
   ]
  },
  {
   "cell_type": "code",
   "execution_count": 36,
   "id": "46ca78dd-2fe6-4277-93a4-9504de179358",
   "metadata": {},
   "outputs": [],
   "source": [
    "assert solution([1, 3, 4, 5, 8, 2, 1, 4, 5, 9, 5], \"right\") == \"LRLLLRLLRRL\"\n",
    "assert solution([7, 0, 8, 2, 8, 3, 1, 5, 7, 6, 2], \"left\") == \"LRLLRRLLLRR\"\n",
    "assert solution([1, 2, 3, 4, 5, 6, 7, 8, 9, 0], \"right\") == \"LLRLLRLLRL\""
   ]
  },
  {
   "cell_type": "markdown",
   "id": "3f5218ae-82ec-4ce4-b842-90e1fad4e4c6",
   "metadata": {},
   "source": [
    "* 숫자를 각각 왼쪽, 가운데, 오른쪽으로 구분한다. 그리고 values에 세로축 위치(1, 2, 3, 4) 를 표시한다.\n",
    "* R_C와 L_C는 손가락이 가운데에 있는지 여부이다.\n",
    "* 숫자를 누르면서 손가락의 세로축 위치, 손가락이 가운데에 있는지 여부를 변화시킨다.\n",
    "* 손가락이 가운데에 있으면 1의 거리만큼 가까워지므로 식에 반영하였다.\n",
    "\n",
    "---------------\n",
    "\n",
    "values에 2차원 좌표를 등록하여 직관적으로 풀 수 있다."
   ]
  },
  {
   "cell_type": "code",
   "execution_count": 39,
   "id": "f4418517-5cdf-4f2d-8a8f-0f79c1a98efb",
   "metadata": {},
   "outputs": [],
   "source": [
    "#answer\n",
    "def solution(numbers, hand):\n",
    "    answer = ''\n",
    "    key_dict = {1:(0,0),2:(0,1),3:(0,2),\n",
    "                4:(1,0),5:(1,1),6:(1,2),\n",
    "                7:(2,0),8:(2,1),9:(2,2),\n",
    "                '*':(3,0),0:(3,1),'#':(3,2)}\n",
    "\n",
    "    left = [1,4,7]\n",
    "    right = [3,6,9]\n",
    "    lhand = '*'\n",
    "    rhand = '#'\n",
    "    for i in numbers:\n",
    "        if i in left:\n",
    "            answer += 'L'\n",
    "            lhand = i\n",
    "        elif i in right:\n",
    "            answer += 'R'\n",
    "            rhand = i\n",
    "        else:\n",
    "            curPos = key_dict[i]\n",
    "            lPos = key_dict[lhand]\n",
    "            rPos = key_dict[rhand]\n",
    "            ldist = abs(curPos[0]-lPos[0]) + abs(curPos[1]-lPos[1])\n",
    "            rdist = abs(curPos[0]-rPos[0]) + abs(curPos[1]-rPos[1])\n",
    "\n",
    "            if ldist < rdist:\n",
    "                answer += 'L'\n",
    "                lhand = i\n",
    "            elif ldist > rdist:\n",
    "                answer += 'R'\n",
    "                rhand = i\n",
    "            else:\n",
    "                if hand == 'left':\n",
    "                    answer += 'L'\n",
    "                    lhand = i\n",
    "                else:\n",
    "                    answer += 'R'\n",
    "                    rhand = i\n",
    "\n",
    "    return answer"
   ]
  }
 ],
 "metadata": {
  "kernelspec": {
   "display_name": "Python 3",
   "language": "python",
   "name": "python3"
  },
  "language_info": {
   "codemirror_mode": {
    "name": "ipython",
    "version": 3
   },
   "file_extension": ".py",
   "mimetype": "text/x-python",
   "name": "python",
   "nbconvert_exporter": "python",
   "pygments_lexer": "ipython3",
   "version": "3.8.8"
  }
 },
 "nbformat": 4,
 "nbformat_minor": 5
}
