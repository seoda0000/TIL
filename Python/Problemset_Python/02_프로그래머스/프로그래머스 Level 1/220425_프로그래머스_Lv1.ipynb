{
 "cells": [
  {
   "cell_type": "markdown",
   "id": "efebf200-172f-4b4c-b31e-bd01af04f69c",
   "metadata": {},
   "source": [
    "#### **프로그래머스** https://programmers.co.kr/learn/challenges\n",
    "##### 코딩테스트 연습 2022-04-25 4일차 seoda0000"
   ]
  },
  {
   "cell_type": "markdown",
   "id": "01d2438b-9adb-4ff8-b35b-4f8fc349cfc7",
   "metadata": {},
   "source": [
    "--------------------"
   ]
  },
  {
   "cell_type": "markdown",
   "id": "6a01c2fa-0d12-45b8-96d3-e19f0f93f827",
   "metadata": {},
   "source": [
    "# **TIL**\n",
    "\n",
    "* #### **dict의 value 값은 수정 가능하다.**\n",
    "\n",
    "\n",
    "------------------\n",
    "#### 미래의 나에게...\n",
    "* 쉽게 생각하자. 잘 안 풀리면 조작하는 데이터의 관점을 바꿔보자.\n",
    "* 논리적으로 순차적으로 생각하기.\n",
    "* 코드를 짰으나 실행 시간이 오래 걸렸다. 간단히 코드를 짜는 방법을 알아두자.\n",
    "* 무작정 코드를 짧게 줄이는 건 도움이 되지 않는다. 개체를 단순하게 만들자.\n"
   ]
  },
  {
   "cell_type": "markdown",
   "id": "e158152f-113b-495f-aab3-421be8463340",
   "metadata": {},
   "source": [
    "---------------------\n",
    "2022 KAKAO BLIND RECRUITMENT\n",
    "## **신고 결과 받기**\n",
    "\n",
    "이용자의 ID가 담긴 문자열 배열 id_list, 각 이용자가 신고한 이용자의 ID 정보가 담긴 문자열 배열 report, 정지 기준이 되는 신고 횟수 k가 매개변수로 주어질 때, 각 유저별로 처리 결과 메일을 받은 횟수를 배열에 담아 return 하도록 solution 함수를 완성해주세요."
   ]
  },
  {
   "cell_type": "code",
   "execution_count": 162,
   "id": "8177a01d-a895-4b9c-b847-e0cbe547f0c1",
   "metadata": {},
   "outputs": [],
   "source": [
    "#try1 score 87.5/100 (실행시간 초과)\n",
    "def solution(id_list, report, k):\n",
    "    \n",
    "    #신고자와 신도대상 분리\n",
    "    \n",
    "    report = [i.split() for i in list(set(report))]\n",
    "    \n",
    "    \n",
    "    id_report = {} #신고자:신고대상 딕셔너리\n",
    "    report_dic = {} #신고대상:신고당한 횟수 딕셔너리\n",
    "    for i in id_list:\n",
    "        id_report[i] = [r[1] for r in report if r[0] == i]\n",
    "        report_dic[i] = [i[1] for i in report].count(i)\n",
    "    \n",
    "    \n",
    "    ban = [key for key, value in report_dic.items() if value >= k] #정지 목록\n",
    "    \n",
    "    \n",
    "    result = [] #메일 발송 목록\n",
    "    for i in id_list:\n",
    "        count = 0\n",
    "        for j in ban:\n",
    "            if j in id_report[i]:\n",
    "                count += 1\n",
    "        result.append(count)\n",
    "                \n",
    "    return result"
   ]
  },
  {
   "cell_type": "code",
   "execution_count": 74,
   "id": "e58f52e5-d4dd-4990-a838-f4a0f3dea006",
   "metadata": {},
   "outputs": [],
   "source": [
    "#try2 score 66.7/100 (실행시간 초과)\n",
    "def solution(id_list, report, k):\n",
    "    \n",
    "    #신고자와 신도대상 분리\n",
    "    \n",
    "    report = [i.split() for i in list(set(report))]\n",
    "    \n",
    "    #정지 목록\n",
    "    \n",
    "    ban = [i[1] for i in report if [i[1] for i in report].count(i[1]) >= k]\n",
    "    \n",
    "    #메일 발송 목록\n",
    "    \n",
    "    return [[r[0] if r[1] in ban else 0 for r in report].count(i) for i in id_list]"
   ]
  },
  {
   "cell_type": "code",
   "execution_count": 163,
   "id": "6143a416-f864-4da3-9c58-6e505fa428d4",
   "metadata": {},
   "outputs": [],
   "source": [
    "#try3 score 87.5/100 (실행시간 초과)\n",
    "def solution(id_list, report, k):\n",
    "    report = [i.split() for i in list(set(report))]\n",
    "    \n",
    "    id_report = {}\n",
    "    report_dic = {}\n",
    "    for i in id_list:\n",
    "        id_report[i] = [r[1] for r in report if r[0] == i]\n",
    "        report_dic[i] = [i[1] for i in report].count(i)\n",
    "    \n",
    "    ban = [key for key, value in report_dic.items() if value >= k]\n",
    "    \n",
    "    result = [0] * len(id_list)\n",
    "    \n",
    "    #items를 활용해보려고 시도하였으나 헛수고였다.\n",
    "    \n",
    "    for i, j in id_report.items():\n",
    "        for b in ban:\n",
    "            if b in j:\n",
    "                result[id_list.index(i)] += 1\n",
    "                \n",
    "    return result"
   ]
  },
  {
   "cell_type": "code",
   "execution_count": 154,
   "id": "18350bd2-9fc0-4970-b27d-f9893d7cbf38",
   "metadata": {},
   "outputs": [],
   "source": [
    "#try4 score 66.7/100 (실행시간 초과)\n",
    "def solution(id_list, report, k):\n",
    "    \n",
    "    #신고자 목록, 신고 대상 목록, 신고자의 전체 인덱스 목록으로 분리\n",
    "    \n",
    "    reporter = []\n",
    "    target = []\n",
    "    report_index = []\n",
    "    for i in set(report):\n",
    "        a, b = i.split()\n",
    "        reporter.append(a)\n",
    "        target.append(b)\n",
    "        report_index.append(id_list.index(a))\n",
    "    \n",
    "    #정지 대상 목록\n",
    "    \n",
    "    ban =[b for b in target if target.count(b) >= k]\n",
    "    \n",
    "    #메일 발송 목록\n",
    "    result = [0] * len(id_list)\n",
    "    \n",
    "    for i in range(len(target)):\n",
    "        if target[i] in ban:\n",
    "            result[report_index[i]] += 1\n",
    "    return result"
   ]
  },
  {
   "cell_type": "code",
   "execution_count": 155,
   "id": "328f701e-e4a8-45e1-b036-b8747027d7a5",
   "metadata": {},
   "outputs": [
    {
     "data": {
      "text/plain": [
       "[2, 1, 1, 0]"
      ]
     },
     "execution_count": 155,
     "metadata": {},
     "output_type": "execute_result"
    }
   ],
   "source": [
    "solution(id_list = [\"muzi\", \"frodo\", \"apeach\", \"neo\"], report=[\"muzi frodo\",\"apeach frodo\",\"frodo neo\",\"muzi neo\",\"apeach muzi\"], k = 2)"
   ]
  },
  {
   "cell_type": "code",
   "execution_count": 156,
   "id": "aa62b9d3-752a-4561-8a12-925134d5dd6b",
   "metadata": {},
   "outputs": [
    {
     "data": {
      "text/plain": [
       "[0, 0]"
      ]
     },
     "execution_count": 156,
     "metadata": {},
     "output_type": "execute_result"
    }
   ],
   "source": [
    "solution(id_list = [\"con\", \"ryan\"], report = [\"ryan con\", \"ryan con\", \"ryan con\", \"ryan con\"], k = 3)"
   ]
  },
  {
   "cell_type": "markdown",
   "id": "9d9747e0-7811-4174-848f-6ee45d937aef",
   "metadata": {},
   "source": [
    "* 코드를 짰으나 실행 시간이 오래 걸렸다. 간단히 코드를 짜는 방법을 알아두자.\n",
    "* 무작정 코드를 짧게 줄이는 건 도움이 되지 않는다. 개체를 단순하게 만들자.\n",
    "* for문을 남발하지 말 것!\n",
    "----------------------------\n",
    "\n",
    "* 딕셔너리에 value를 우선 0으로 두고 Key를 채운다.\n",
    "* Case마다 Value의 값을 더한다."
   ]
  },
  {
   "cell_type": "code",
   "execution_count": 165,
   "id": "7355c2ed-203f-497a-bcad-ae797919b64f",
   "metadata": {},
   "outputs": [],
   "source": [
    "#answer\n",
    "def solution(id_list, report, k):\n",
    "    \n",
    "    # 신고 대상 목록 형성\n",
    "    answer = [0] * len(id_list)    \n",
    "    reports = {x : 0 for x in id_list}\n",
    "\n",
    "    for r in set(report):\n",
    "        reports[r.split()[1]] += 1\n",
    "        \n",
    "    \n",
    "    # 메일 발송 목록\n",
    "\n",
    "    for r in set(report):\n",
    "        if reports[r.split()[1]] >= k:\n",
    "            answer[id_list.index(r.split()[0])] += 1\n",
    "\n",
    "    return answer"
   ]
  },
  {
   "cell_type": "code",
   "execution_count": 161,
   "id": "d7eeae8c-583c-4812-8c1b-0122ae458904",
   "metadata": {},
   "outputs": [
    {
     "name": "stdout",
     "output_type": "stream",
     "text": [
      "{'muzi': 0, 'frodo': 0, 'apeach': 0, 'neo': 0}\n"
     ]
    },
    {
     "data": {
      "text/plain": [
       "[2, 1, 1, 0]"
      ]
     },
     "execution_count": 161,
     "metadata": {},
     "output_type": "execute_result"
    }
   ],
   "source": [
    "solution(id_list = [\"muzi\", \"frodo\", \"apeach\", \"neo\"], report=[\"muzi frodo\",\"apeach frodo\",\"frodo neo\",\"muzi neo\",\"apeach muzi\"], k = 2)"
   ]
  },
  {
   "cell_type": "code",
   "execution_count": 159,
   "id": "1f5b3cec-0f92-480d-9afc-66cfbb6b26db",
   "metadata": {},
   "outputs": [
    {
     "data": {
      "text/plain": [
       "[0, 0]"
      ]
     },
     "execution_count": 159,
     "metadata": {},
     "output_type": "execute_result"
    }
   ],
   "source": [
    "solution(id_list = [\"con\", \"ryan\"], report = [\"ryan con\", \"ryan con\", \"ryan con\", \"ryan con\"], k = 3)"
   ]
  }
 ],
 "metadata": {
  "kernelspec": {
   "display_name": "Python 3",
   "language": "python",
   "name": "python3"
  },
  "language_info": {
   "codemirror_mode": {
    "name": "ipython",
    "version": 3
   },
   "file_extension": ".py",
   "mimetype": "text/x-python",
   "name": "python",
   "nbconvert_exporter": "python",
   "pygments_lexer": "ipython3",
   "version": "3.8.8"
  }
 },
 "nbformat": 4,
 "nbformat_minor": 5
}
