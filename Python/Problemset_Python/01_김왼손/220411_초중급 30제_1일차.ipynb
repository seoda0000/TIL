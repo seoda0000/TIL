{
 "cells": [
  {
   "cell_type": "markdown",
   "id": "9ab6e390-840f-4b38-ba7f-fcc9a9e9314f",
   "metadata": {},
   "source": [
    "# 김왼손의 왼손코딩 1일 1파이썬 : 초중급자를 위한 파이썬 30제\n",
    "## CheckiO : https://py.checkio.org/mission/search/\n",
    "#### 2022-04-11 1일차 seoda0000"
   ]
  },
  {
   "cell_type": "markdown",
   "id": "f376ec03-d275-44a9-82c9-4e5bde22f9b2",
   "metadata": {},
   "source": [
    "-------------------------"
   ]
  },
  {
   "cell_type": "markdown",
   "id": "861b1c36-f80e-47fb-b6b8-4f5fd9884c4b",
   "metadata": {},
   "source": [
    "## **Today I Learned** \n",
    "* #### **if not**\n",
    "* ####  **str.format(a, b, c...)**\n",
    "    중괄호 이용 후 괄호에 순서대로 넣기.\n",
    "* ####  **str.endswith(\"\")**    \n",
    "    끝 글자가 해당 글자로 끝나는지 확인.\n",
    "* ####  **str.replace(a, b)**    \n",
    "    a를 b로 바꿔줌\n",
    "* ####  **str.strip()**    \n",
    "    앞뒤 공백 제거. 단어와 공백으로만 이루어져야 함\n",
    "* ####  **str.split() -> list**    \n",
    "    공백 단위로 분리\n",
    "* ####  **str.count(찾을 문자열)**    \n",
    "    문자열 중 해당 문자열의 개수를 구함\n",
    "* ####  **str.find(찾을 문자열, 검색 시작 위치)**"
   ]
  },
  {
   "cell_type": "markdown",
   "id": "79a6f08d-a5e8-4463-b577-ae32535a7d8a",
   "metadata": {},
   "source": [
    "---------------"
   ]
  },
  {
   "cell_type": "markdown",
   "id": "88441af8-846d-41b7-bfc4-217cd11a9cba",
   "metadata": {},
   "source": [
    "## 1. Say Hi\n",
    "In this mission you should write a function that introduce a person with a given parameters in attrubutes.\n",
    "\n",
    "* Input: Two arguments. String and positive integer.\n",
    "* Output: String."
   ]
  },
  {
   "cell_type": "code",
   "execution_count": 12,
   "id": "d88013f3-8eca-488c-a031-813ed0d3aff0",
   "metadata": {},
   "outputs": [],
   "source": [
    "#try\n",
    "def say_hi(name, age):\n",
    "    return f\"Hi, My name is {name} and I'm {age} years old\""
   ]
  },
  {
   "cell_type": "code",
   "execution_count": 13,
   "id": "6bb116ed-7009-4a78-862a-becfb1aadafa",
   "metadata": {},
   "outputs": [
    {
     "data": {
      "text/plain": [
       "\"Hi, My name is Liza and I'm 26 years old\""
      ]
     },
     "execution_count": 13,
     "metadata": {},
     "output_type": "execute_result"
    }
   ],
   "source": [
    "say_hi(\"Liza\", 26)"
   ]
  },
  {
   "cell_type": "markdown",
   "id": "ba32ea12-42c3-4b4b-936e-e33a98bdd2f9",
   "metadata": {},
   "source": [
    "* **format 메소드. 중괄호 이용 후 괄호에 순서대로 넣기.**"
   ]
  },
  {
   "cell_type": "code",
   "execution_count": 14,
   "id": "692226ae-eb64-4e86-8671-41eec68ee48b",
   "metadata": {},
   "outputs": [],
   "source": [
    "#answer\n",
    "def say_hi(name: str, age: int):\n",
    "    return \"Hi, My name is {} and I'm {} years old\".format(name, age)"
   ]
  },
  {
   "cell_type": "code",
   "execution_count": 15,
   "id": "a9437ae7-970f-4e79-b563-3785f391189f",
   "metadata": {},
   "outputs": [
    {
     "data": {
      "text/plain": [
       "\"Hi, My name is Liza and I'm 26 years old\""
      ]
     },
     "execution_count": 15,
     "metadata": {},
     "output_type": "execute_result"
    }
   ],
   "source": [
    "say_hi(\"Liza\", 26)"
   ]
  },
  {
   "cell_type": "markdown",
   "id": "6e8df067-3b4f-4111-bdd4-5b40d3178111",
   "metadata": {},
   "source": [
    "## 2. Correct Sentence\n",
    "For the input of your function, you will be given one sentence. You have to return a corrected version, that starts with a capital letter and ends with a period (dot).\n",
    "\n",
    "Pay attention to the fact that not all of the fixes are necessary. If a sentence already ends with a period (dot), then adding another one will be a mistake.\n",
    "\n",
    "* Input: A string.\n",
    "\n",
    "* Output: A string."
   ]
  },
  {
   "cell_type": "code",
   "execution_count": 31,
   "id": "690b072f-6a1d-450b-b8ae-f587caa024bb",
   "metadata": {},
   "outputs": [],
   "source": [
    "#try\n",
    "def correct_sentence(sentence: str):\n",
    "    sentence = sentence.capitalize()\n",
    "    if sentence[-1] != \".\":\n",
    "        sentence += \".\"\n",
    "    return sentence\n",
    "    "
   ]
  },
  {
   "cell_type": "code",
   "execution_count": 32,
   "id": "d2632f54-1a9b-40a6-bdf6-2f1ec41bd7a8",
   "metadata": {},
   "outputs": [
    {
     "data": {
      "text/plain": [
       "'Pay attention.'"
      ]
     },
     "execution_count": 32,
     "metadata": {},
     "output_type": "execute_result"
    }
   ],
   "source": [
    "correct_sentence(\"Pay attention.\")"
   ]
  },
  {
   "cell_type": "code",
   "execution_count": 33,
   "id": "122bc181-7a0e-411e-b2e1-f51843016c29",
   "metadata": {},
   "outputs": [
    {
     "data": {
      "text/plain": [
       "'Pay attention.'"
      ]
     },
     "execution_count": 33,
     "metadata": {},
     "output_type": "execute_result"
    }
   ],
   "source": [
    "correct_sentence(\"pay attention\")"
   ]
  },
  {
   "cell_type": "code",
   "execution_count": 34,
   "id": "8a39808b-5331-40c9-8760-106c15654bd8",
   "metadata": {},
   "outputs": [
    {
     "data": {
      "text/plain": [
       "'Pay attention.'"
      ]
     },
     "execution_count": 34,
     "metadata": {},
     "output_type": "execute_result"
    }
   ],
   "source": [
    "correct_sentence(\"pay attention.\")"
   ]
  },
  {
   "cell_type": "markdown",
   "id": "6670fa34-83e9-49ca-b1c5-e1ce992804e7",
   "metadata": {},
   "source": [
    "* **if not**\n",
    "* **endswith(\"\") 메서드. 끝 글자가 해당 글자로 끝나는지 확인.**"
   ]
  },
  {
   "cell_type": "code",
   "execution_count": 39,
   "id": "1ef59689-ead9-4373-9b7f-f70563e6d94b",
   "metadata": {},
   "outputs": [],
   "source": [
    "#answer\n",
    "def correct_sentence(sentence: str):\n",
    "    sentence = sentence[0].upper() + sentence[1:]\n",
    "    if not sentence.endswith('.'):\n",
    "        sentence += \".\"\n",
    "    return sentence"
   ]
  },
  {
   "cell_type": "code",
   "execution_count": 40,
   "id": "e7111ce0-f115-4738-b316-81d43c873cc8",
   "metadata": {},
   "outputs": [
    {
     "data": {
      "text/plain": [
       "'Pay attention.'"
      ]
     },
     "execution_count": 40,
     "metadata": {},
     "output_type": "execute_result"
    }
   ],
   "source": [
    "correct_sentence(\"Pay attention.\")"
   ]
  },
  {
   "cell_type": "code",
   "execution_count": 41,
   "id": "abd98a74-c470-4d75-ad06-e6bd1e63a553",
   "metadata": {},
   "outputs": [
    {
     "data": {
      "text/plain": [
       "'Pay attention.'"
      ]
     },
     "execution_count": 41,
     "metadata": {},
     "output_type": "execute_result"
    }
   ],
   "source": [
    "correct_sentence(\"pay attention\")"
   ]
  },
  {
   "cell_type": "code",
   "execution_count": 42,
   "id": "dbeb895b-3a68-4dde-8492-f11139885fa3",
   "metadata": {},
   "outputs": [
    {
     "data": {
      "text/plain": [
       "'Pay attention.'"
      ]
     },
     "execution_count": 42,
     "metadata": {},
     "output_type": "execute_result"
    }
   ],
   "source": [
    "correct_sentence(\"pay attention.\")"
   ]
  },
  {
   "cell_type": "markdown",
   "id": "d3c6e88c-5300-42d0-b06d-484ffcc6f44b",
   "metadata": {},
   "source": [
    "## 3. First Word\n",
    "You are given a string and you have to find its first word.\n",
    "\n",
    "This is a simplified version of the First Word mission, which can be solved later.\n",
    "\n",
    "The input string consists of only English letters and spaces.\n",
    "There aren’t any spaces at the beginning and the end of the string.\n",
    "\n",
    "* Input: A string.\n",
    "* Output: A string."
   ]
  },
  {
   "cell_type": "code",
   "execution_count": 48,
   "id": "68a06e3c-c762-4a8f-b77d-591efb0dab0f",
   "metadata": {},
   "outputs": [],
   "source": [
    "#try\n",
    "def first_word(text: str):\n",
    "    n = text.find(\" \")\n",
    "    return text[:n]"
   ]
  },
  {
   "cell_type": "code",
   "execution_count": 49,
   "id": "3cd1ecbe-46b0-4d0f-bfc1-d486d157005d",
   "metadata": {},
   "outputs": [
    {
     "data": {
      "text/plain": [
       "'hi'"
      ]
     },
     "execution_count": 49,
     "metadata": {},
     "output_type": "execute_result"
    }
   ],
   "source": [
    "first_word(\"hi hello\")"
   ]
  },
  {
   "cell_type": "markdown",
   "id": "bb65a853-3918-4c84-aca6-47cea456ce9d",
   "metadata": {},
   "source": [
    "* **replace(a, b) : a를 b로 바꿔주는 메서드**\n",
    "* **strip() : 앞뒤 공백 제거. 단어와 공백으로만 이루어져야 함.**\n",
    "* **split() : 공백 단위로 분리**"
   ]
  },
  {
   "cell_type": "code",
   "execution_count": 55,
   "id": "fc4e23fc-bd39-406a-911a-6dd71492ee2a",
   "metadata": {},
   "outputs": [],
   "source": [
    "#answer\n",
    "def first_word(text: str) -> str:\n",
    "    text = text.replace(\".\", \" \").replace(\",\", \" \").strip()\n",
    "    text = text.split()\n",
    "    \n",
    "    return text[0]"
   ]
  },
  {
   "cell_type": "code",
   "execution_count": 56,
   "id": "1d96a89d-ec39-404a-ba40-65fc5c3f050e",
   "metadata": {},
   "outputs": [
    {
     "data": {
      "text/plain": [
       "'hi'"
      ]
     },
     "execution_count": 56,
     "metadata": {},
     "output_type": "execute_result"
    }
   ],
   "source": [
    "first_word(\"hi hello\")"
   ]
  },
  {
   "cell_type": "markdown",
   "id": "7873cd52-6ae1-4b30-9d8b-7ab065b74941",
   "metadata": {},
   "source": [
    "## 4. Second Index\n",
    "\n",
    "You are given two strings and you have to find an index of the second occurrence of the second string in the first one.\n",
    "\n",
    "Let's go through the first example where you need to find the second occurrence of \"s\" in a word \"sims\". It’s easy to find its first occurrence with a function index or find which will point out that \"s\" is the first symbol in a word \"sims\" and therefore the index of the first occurrence is 0. But we have to find the second \"s\" which is 4th in a row and that means that the index of the second occurrence (and the answer to a question) is 3.\n",
    "\n",
    "* Input: Two strings.\n",
    "* Output: Int or None\n",
    "* ex. second_index(\"sims\", \"s\") == 3\n",
    "* ex. second_index(\"find the river\", \"e\") == 12\n",
    "* ex. second_index(\"hi\", \" \") is None"
   ]
  },
  {
   "cell_type": "code",
   "execution_count": 77,
   "id": "520c994c-922d-44cd-9f4a-e27d51d86039",
   "metadata": {},
   "outputs": [],
   "source": [
    "#try\n",
    "\n",
    "def second_index(text: str, l: str):\n",
    "    if text.find(l) == -1:\n",
    "        return None\n",
    "    else:\n",
    "        n = text.find(l) + 1\n",
    "        if text[n:].find(l) == -1:\n",
    "            return None\n",
    "        else:\n",
    "            return n + text[n:].find(l)"
   ]
  },
  {
   "cell_type": "code",
   "execution_count": 74,
   "id": "dbc2d286-3c81-4bf5-a4ea-ab0d7b65ad31",
   "metadata": {},
   "outputs": [
    {
     "data": {
      "text/plain": [
       "True"
      ]
     },
     "execution_count": 74,
     "metadata": {},
     "output_type": "execute_result"
    }
   ],
   "source": [
    "second_index(\"sims\", \"s\") == 3"
   ]
  },
  {
   "cell_type": "code",
   "execution_count": 75,
   "id": "a5725aba-b56e-412f-9b55-b015b379e693",
   "metadata": {},
   "outputs": [
    {
     "data": {
      "text/plain": [
       "True"
      ]
     },
     "execution_count": 75,
     "metadata": {},
     "output_type": "execute_result"
    }
   ],
   "source": [
    "second_index(\"find the river\", \"e\") == 12"
   ]
  },
  {
   "cell_type": "code",
   "execution_count": 76,
   "id": "e3c70170-6c91-4b15-9153-f12f2eb7a080",
   "metadata": {},
   "outputs": [
    {
     "data": {
      "text/plain": [
       "True"
      ]
     },
     "execution_count": 76,
     "metadata": {},
     "output_type": "execute_result"
    }
   ],
   "source": [
    "second_index(\"hi\", \" \") is None"
   ]
  },
  {
   "cell_type": "markdown",
   "id": "901b5cc0-72b1-435a-abdd-42fd3b196521",
   "metadata": {},
   "source": [
    "* **count(l) 문자열 중 l의 개수를 구하는 메서드.**\n",
    "* **find(l, 검색 시작 위치)**"
   ]
  },
  {
   "cell_type": "code",
   "execution_count": 80,
   "id": "7ecb1c04-45fc-4aab-a4f9-d35e94d44299",
   "metadata": {},
   "outputs": [],
   "source": [
    "#answer\n",
    "\n",
    "def second_index(text: str, l: str) -> [int, None]:\n",
    "    if text.count(l) < 2:\n",
    "        return None\n",
    "    first = text.find(l)\n",
    "    return text.find(l, first + 1)"
   ]
  }
 ],
 "metadata": {
  "kernelspec": {
   "display_name": "Python 3",
   "language": "python",
   "name": "python3"
  },
  "language_info": {
   "codemirror_mode": {
    "name": "ipython",
    "version": 3
   },
   "file_extension": ".py",
   "mimetype": "text/x-python",
   "name": "python",
   "nbconvert_exporter": "python",
   "pygments_lexer": "ipython3",
   "version": "3.8.8"
  }
 },
 "nbformat": 4,
 "nbformat_minor": 5
}
