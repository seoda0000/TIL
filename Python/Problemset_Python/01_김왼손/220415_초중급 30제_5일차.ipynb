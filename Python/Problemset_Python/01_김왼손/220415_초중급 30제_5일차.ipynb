{
 "cells": [
  {
   "cell_type": "markdown",
   "id": "9ab6e390-840f-4b38-ba7f-fcc9a9e9314f",
   "metadata": {},
   "source": [
    "# 김왼손의 왼손코딩 1일 1파이썬 : 초중급자를 위한 파이썬 30제\n",
    "https://www.inflearn.com/course/%ED%8C%8C%EC%9D%B4%EC%8D%AC-%EC%98%88%EC%A0%9C\n",
    "## CheckiO : https://py.checkio.org/mission/search/\n",
    "#### 2022-04-15 5일차 seoda0000"
   ]
  },
  {
   "cell_type": "markdown",
   "id": "f376ec03-d275-44a9-82c9-4e5bde22f9b2",
   "metadata": {},
   "source": [
    "-------------------------"
   ]
  },
  {
   "cell_type": "markdown",
   "id": "d0940c3b-70fa-4360-98f2-33ecd63a8789",
   "metadata": {},
   "source": [
    "### **Review**"
   ]
  },
  {
   "cell_type": "markdown",
   "id": "90e93711-5683-4ba5-a430-bc572a737c91",
   "metadata": {},
   "source": [
    "* #### **filter(함수, 대상)**\n",
    "    대상에 함수를 적용한 값이 True이면 Return"
   ]
  },
  {
   "cell_type": "code",
   "execution_count": 2,
   "id": "da035055-694c-4756-b95f-ce83e0cba8f7",
   "metadata": {},
   "outputs": [],
   "source": [
    "a = ['1', '2', 'a', 'bcdf', '3', 'f']"
   ]
  },
  {
   "cell_type": "code",
   "execution_count": 4,
   "id": "a7a258a3-86f9-4395-a9b0-97507f9fc4ae",
   "metadata": {},
   "outputs": [
    {
     "data": {
      "text/plain": [
       "['a', 'bcdf', 'f']"
      ]
     },
     "execution_count": 4,
     "metadata": {},
     "output_type": "execute_result"
    }
   ],
   "source": [
    "list(filter(str.isalpha, a))"
   ]
  },
  {
   "cell_type": "markdown",
   "id": "fa9d089f-5a9b-4fa7-980a-031fb32260f7",
   "metadata": {},
   "source": [
    "## **Today I Learned** \n",
    "* #### **먼저 str로 바꾼 후 replace 해도 된다. 항상 (요소->병합)할 필요 없이 (병합->요소)도 가능!**\n",
    "* #### **if int()**\n",
    "    0 : False, 0을 제외한 정수 : True\n",
    "* #### **radix : 진법**\n",
    "     0 1 2 3 4 5 6 7 8 9 A B C D... 두자리수 이상은 알파벳으로 표현된다.\n",
    "* #### **int(str숫자, 진법)**\n",
    "    n진법으로 str을 정수로 표현. 기본은 10진법이다.\n",
    "* #### **ValueError**\n",
    "    부적절한 값을 가진 인자를 받았을 때 발생하는 에러"
   ]
  },
  {
   "cell_type": "markdown",
   "id": "79a6f08d-a5e8-4463-b577-ae32535a7d8a",
   "metadata": {},
   "source": [
    "---------------"
   ]
  },
  {
   "cell_type": "markdown",
   "id": "88441af8-846d-41b7-bfc4-217cd11a9cba",
   "metadata": {},
   "source": [
    "## 14. Index_Power\n",
    "You are given an array with positive numbers and a number N. You should find the N-th power of the element in the array with the index N. If N is outside of the array, then return -1. Don't forget that the first element has the index 0.\n",
    "\n",
    "Let's look at a few examples:\n",
    "- array = [1, 2, 3, 4] and N = 2, then the result is 3 2 == 9;\n",
    "- array = [1, 2, 3] and N = 3, but N is outside of the array, so the result is -1.\n",
    "\n",
    "* Input: Two arguments. An array as a list of integers and a number as a integer.\n",
    "* Output: The result as an integer."
   ]
  },
  {
   "cell_type": "code",
   "execution_count": 79,
   "id": "9d560155-6f5a-41ce-a32b-5867152a4c1c",
   "metadata": {},
   "outputs": [],
   "source": [
    "#try\n",
    "def index_power(lst: list, N: int) -> int:\n",
    "    try:\n",
    "        return lst[N] ** N\n",
    "    except:\n",
    "        return -1"
   ]
  },
  {
   "cell_type": "code",
   "execution_count": 7,
   "id": "22578842-16fd-4250-87f6-2e6a8be4af3e",
   "metadata": {},
   "outputs": [
    {
     "data": {
      "text/plain": [
       "True"
      ]
     },
     "execution_count": 7,
     "metadata": {},
     "output_type": "execute_result"
    }
   ],
   "source": [
    "index_power([1, 2, 3, 4], 2) == 9"
   ]
  },
  {
   "cell_type": "code",
   "execution_count": 8,
   "id": "43818309-5023-4f73-a01d-02b96fdf1096",
   "metadata": {},
   "outputs": [
    {
     "data": {
      "text/plain": [
       "True"
      ]
     },
     "execution_count": 8,
     "metadata": {},
     "output_type": "execute_result"
    }
   ],
   "source": [
    "index_power([1, 3, 10, 100], 3) == 1000000"
   ]
  },
  {
   "cell_type": "code",
   "execution_count": 9,
   "id": "55365f69-2116-415c-8802-774eac26851a",
   "metadata": {},
   "outputs": [
    {
     "data": {
      "text/plain": [
       "True"
      ]
     },
     "execution_count": 9,
     "metadata": {},
     "output_type": "execute_result"
    }
   ],
   "source": [
    "index_power([0, 1], 0) == 1"
   ]
  },
  {
   "cell_type": "code",
   "execution_count": 10,
   "id": "3140a2e1-b724-472d-a283-461cf5922c50",
   "metadata": {},
   "outputs": [
    {
     "data": {
      "text/plain": [
       "True"
      ]
     },
     "execution_count": 10,
     "metadata": {},
     "output_type": "execute_result"
    }
   ],
   "source": [
    "index_power([1, 2], 3) == -1"
   ]
  },
  {
   "cell_type": "markdown",
   "id": "8cf1c96e-48cb-41b6-ace3-09270fe27d91",
   "metadata": {},
   "source": [
    "## 15. Right to Left\n",
    "One of the robots is charged with a simple task: to join a sequence of strings into one sentence to produce instructions on how to get around the ship. But this robot is left-handed and has a tendency to joke around and confuse its right-handed friends.\n",
    "\n",
    "You are given a sequence of strings. You should join these strings into a chunk of text where the initial strings are separated by commas. As a joke on the right handed robots, you should replace all cases of the words \"right\" with the word \"left\", even if it's a part of another word. All strings are given in lowercase.\n",
    "\n",
    "Input: A sequence of strings.\n",
    "\n",
    "Output: The text as a comma-separated string."
   ]
  },
  {
   "cell_type": "code",
   "execution_count": 44,
   "id": "d2e330cf-3ecc-4951-95ad-39122c7e1ceb",
   "metadata": {},
   "outputs": [],
   "source": [
    "#try\n",
    "def right_to_left(sequence: tuple) -> str:\n",
    "    lst = []\n",
    "    for i in sequence:\n",
    "        lst.append(i.replace(\"right\", \"left\"))\n",
    "    return \",\".join(lst)"
   ]
  },
  {
   "cell_type": "code",
   "execution_count": 43,
   "id": "a4dcad69-bb03-4647-a185-e820a62652b1",
   "metadata": {},
   "outputs": [],
   "source": [
    "assert right_to_left((\"left\", \"right\", \"left\", \"stop\")) == \"left,left,left,stop\", \"All to left\"\n",
    "assert right_to_left((\"bright aright\", \"ok\")) == \"bleft aleft,ok\", \"Bright Left\"\n",
    "assert right_to_left((\"brightness wright\",)) == \"bleftness wleft\", \"One phrase\"\n",
    "assert right_to_left((\"enough\", \"jokes\")) == \"enough,jokes\", \"Nothing to replace\""
   ]
  },
  {
   "cell_type": "markdown",
   "id": "46900d7b-2b61-4ec7-8f11-9918c2f50be9",
   "metadata": {},
   "source": [
    "* #### **먼저 str로 바꾼 후 replace 해도 된다. 항상 (요소->병합)할 필요 없이 (병합->요소)도 가능!**"
   ]
  },
  {
   "cell_type": "code",
   "execution_count": 47,
   "id": "d8dddd7d-5ab6-47c7-8c46-e8b475fb4413",
   "metadata": {},
   "outputs": [],
   "source": [
    "#answer\n",
    "def right_to_left(sequence: tuple) -> str:\n",
    "    return (','.join(sequence)).replace('right', 'left')"
   ]
  },
  {
   "cell_type": "code",
   "execution_count": 48,
   "id": "5f248f4f-5efc-4dd6-854d-b19d56af8504",
   "metadata": {},
   "outputs": [],
   "source": [
    "assert right_to_left((\"left\", \"right\", \"left\", \"stop\")) == \"left,left,left,stop\", \"All to left\"\n",
    "assert right_to_left((\"bright aright\", \"ok\")) == \"bleft aleft,ok\", \"Bright Left\"\n",
    "assert right_to_left((\"brightness wright\",)) == \"bleftness wleft\", \"One phrase\"\n",
    "assert right_to_left((\"enough\", \"jokes\")) == \"enough,jokes\", \"Nothing to replace\""
   ]
  },
  {
   "cell_type": "markdown",
   "id": "b95b9a80-eb7c-4d15-aaaa-6800bb69c96d",
   "metadata": {},
   "source": [
    "## 16. Digits Multiplication\n",
    "You are given a positive integer. Your function should calculate the product of the digits excluding any zeroes.\n",
    "\n",
    "For example: The number given is 123405. The result will be 1*2*3*4*5=120 (don't forget to exclude zeroes).\n",
    "\n",
    "* Input: A positive integer.\n",
    "* Output: The product of the digits as an integer."
   ]
  },
  {
   "cell_type": "code",
   "execution_count": 60,
   "id": "8eb61f36-ad80-446b-839a-d5ed5df568d0",
   "metadata": {},
   "outputs": [],
   "source": [
    "#try\n",
    "def digits_multiplication(i: int) -> int:\n",
    "    s = str(i).replace(\"0\", \"\")\n",
    "    a = 1\n",
    "    for d in s:\n",
    "        a *= int(d)\n",
    "    return a"
   ]
  },
  {
   "cell_type": "code",
   "execution_count": 61,
   "id": "0e46ac6d-1766-466b-8130-7e280ece7f4c",
   "metadata": {},
   "outputs": [
    {
     "name": "stdout",
     "output_type": "stream",
     "text": [
      "Coding complete? Click 'Check' to review your tests and earn cool rewards!\n"
     ]
    }
   ],
   "source": [
    "assert digits_multiplication(123405) == 120\n",
    "assert digits_multiplication(999) == 729\n",
    "assert digits_multiplication(1000) == 1\n",
    "assert digits_multiplication(1111) == 1\n",
    "print(\"Coding complete? Click 'Check' to review your tests and earn cool rewards!\")"
   ]
  },
  {
   "cell_type": "markdown",
   "id": "393bc6a0-f333-4064-a9de-84630674baed",
   "metadata": {},
   "source": [
    "* #### **if int()**\n",
    "    0 : False, 0을 제외한 정수 : True"
   ]
  },
  {
   "cell_type": "code",
   "execution_count": 64,
   "id": "2130e8b5-194a-4681-a6f9-21df49325f4d",
   "metadata": {},
   "outputs": [],
   "source": [
    "#answer\n",
    "def digits_multiplication(i: int) -> int:\n",
    "    a = 1\n",
    "    \n",
    "    for d in str(i):\n",
    "        if int(d):\n",
    "            a *= int(d)\n",
    "    return a"
   ]
  },
  {
   "cell_type": "code",
   "execution_count": 65,
   "id": "94267bf6-4e89-44d6-b673-9ebed6d02033",
   "metadata": {},
   "outputs": [
    {
     "name": "stdout",
     "output_type": "stream",
     "text": [
      "Coding complete? Click 'Check' to review your tests and earn cool rewards!\n"
     ]
    }
   ],
   "source": [
    "assert digits_multiplication(123405) == 120\n",
    "assert digits_multiplication(999) == 729\n",
    "assert digits_multiplication(1000) == 1\n",
    "assert digits_multiplication(1111) == 1\n",
    "print(\"Coding complete? Click 'Check' to review your tests and earn cool rewards!\")"
   ]
  },
  {
   "cell_type": "markdown",
   "id": "12826a95-274d-4814-ad1b-132a5ee5d7fb",
   "metadata": {},
   "source": [
    "## 17. Number Base\n",
    "Do you remember the radix and Numeral systems from math class? Let's practice with it.\n",
    "\n",
    "You are given a positive number as a string along with the radix for it. Your function should convert it into decimal form. The radix is less than 37 and greater than 1. The task uses digits and the letters A-Z for the strings.\n",
    "\n",
    "Watch out for cases when the number cannot be converted. For example: \"1A\" cannot be converted with radix 9. For these cases your function should return -1.\n",
    "\n",
    "* Input: Two arguments. A number as string and a radix as an integer.\n",
    "* Output: The converted number as an integer.\n",
    "\n",
    "* #### **radix : 진법**\n",
    "     0 1 2 3 4 5 6 7 8 9 A B C D... 두자리수 이상은 알파벳으로 표현된다."
   ]
  },
  {
   "cell_type": "markdown",
   "id": "6296a1e8-9ac7-4242-978b-bc2159cf9e0f",
   "metadata": {},
   "source": [
    "* #### **int(str숫자, 진법)**\n",
    "    n진법으로 str을 정수로 표현. 기본은 10진법이다.\n",
    "* #### **ValueError**\n",
    "    부적절한 값을 가진 인자를 받았을 때 발생하는 에러"
   ]
  },
  {
   "cell_type": "code",
   "execution_count": 78,
   "id": "78e8ffcc-4aa7-47e1-8a44-8b912df96ff8",
   "metadata": {},
   "outputs": [
    {
     "name": "stdout",
     "output_type": "stream",
     "text": [
      "10\n",
      "10\n",
      "10\n",
      "2\n"
     ]
    }
   ],
   "source": [
    "print(int(10))\n",
    "print(int('10'))\n",
    "print(int('10', 10))\n",
    "print(int('10', 2))"
   ]
  },
  {
   "cell_type": "code",
   "execution_count": 72,
   "id": "2df4fb22-7eee-4be7-b313-f1db659ad95f",
   "metadata": {},
   "outputs": [],
   "source": [
    "#answer\n",
    "def number_base(num: str, radix: int) -> int:\n",
    "    try:\n",
    "        return int(num, radix)\n",
    "    except ValueError:\n",
    "        return -1"
   ]
  },
  {
   "cell_type": "code",
   "execution_count": 71,
   "id": "2259912a-4cd5-4ad1-9175-6eb31b7d229b",
   "metadata": {},
   "outputs": [],
   "source": [
    "assert number_base(\"AF\", 16) == 175\n",
    "assert number_base(\"101\", 2) == 5\n",
    "assert number_base(\"101\", 5) == 26\n",
    "assert number_base(\"Z\", 36) == 35\n",
    "assert number_base(\"AB\", 10) == -1"
   ]
  }
 ],
 "metadata": {
  "kernelspec": {
   "display_name": "Python 3",
   "language": "python",
   "name": "python3"
  },
  "language_info": {
   "codemirror_mode": {
    "name": "ipython",
    "version": 3
   },
   "file_extension": ".py",
   "mimetype": "text/x-python",
   "name": "python",
   "nbconvert_exporter": "python",
   "pygments_lexer": "ipython3",
   "version": "3.8.8"
  }
 },
 "nbformat": 4,
 "nbformat_minor": 5
}
