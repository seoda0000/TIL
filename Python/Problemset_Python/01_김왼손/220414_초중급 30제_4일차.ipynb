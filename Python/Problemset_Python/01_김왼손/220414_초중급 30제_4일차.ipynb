{
 "cells": [
  {
   "cell_type": "markdown",
   "id": "9ab6e390-840f-4b38-ba7f-fcc9a9e9314f",
   "metadata": {},
   "source": [
    "# 김왼손의 왼손코딩 1일 1파이썬 : 초중급자를 위한 파이썬 30제\n",
    "https://www.inflearn.com/course/%ED%8C%8C%EC%9D%B4%EC%8D%AC-%EC%98%88%EC%A0%9C\n",
    "## CheckiO : https://py.checkio.org/mission/search/\n",
    "#### 2022-04-14 4일차 seoda0000"
   ]
  },
  {
   "cell_type": "markdown",
   "id": "f376ec03-d275-44a9-82c9-4e5bde22f9b2",
   "metadata": {},
   "source": [
    "-------------------------"
   ]
  },
  {
   "cell_type": "markdown",
   "id": "d0940c3b-70fa-4360-98f2-33ecd63a8789",
   "metadata": {},
   "source": [
    "### **Review**"
   ]
  },
  {
   "cell_type": "markdown",
   "id": "832c7722-9c22-46be-af28-f5784dd7b8c4",
   "metadata": {},
   "source": [
    "* #### **sorted(data, key=lambda x: x[정렬대상 값의 키])**\n",
    "    리스트를 key를 기준으로 정렬함. lambda를 통해 요소인 딕셔너리를 설정."
   ]
  },
  {
   "cell_type": "code",
   "execution_count": 21,
   "id": "9c6a500e-10b2-47c6-8c3d-873c4621a19b",
   "metadata": {},
   "outputs": [],
   "source": [
    "data = [{\"a\":1}, {\"a\":3, \"b\":2}, {\"a\":4, \"c\":2}, {\"a\":2, \"b\":1}]"
   ]
  },
  {
   "cell_type": "code",
   "execution_count": 23,
   "id": "a0ca4aff-c589-4044-8942-e7a39f92ccb2",
   "metadata": {},
   "outputs": [
    {
     "data": {
      "text/plain": [
       "[{'a': 1}, {'a': 2, 'b': 1}, {'a': 3, 'b': 2}, {'a': 4, 'c': 2}]"
      ]
     },
     "execution_count": 23,
     "metadata": {},
     "output_type": "execute_result"
    }
   ],
   "source": [
    "sorted(data, key = lambda x: x[\"a\"])"
   ]
  },
  {
   "cell_type": "markdown",
   "id": "fa9d089f-5a9b-4fa7-980a-031fb32260f7",
   "metadata": {},
   "source": [
    "## **Today I Learned** \n",
    "* #### **str.isupper()**\n",
    "    string이 대문자인지 알아보는 메소드\n",
    "* #### **filter(함수, 대상)**\n",
    "    대상에 함수를 적용한 값이 True이면 Return\n",
    "* #### **try: 구문1**\n",
    "#### **except: 구문2**\n",
    "    구문 1을 시도하고, 만약 에러가 뜨면 구문 2를 시도한다.\n",
    "* #### **str.isalpha()**\n",
    "    string이 알파벳만으로 구성되었는지 확인."
   ]
  },
  {
   "cell_type": "markdown",
   "id": "79a6f08d-a5e8-4463-b577-ae32535a7d8a",
   "metadata": {},
   "source": [
    "---------------"
   ]
  },
  {
   "cell_type": "markdown",
   "id": "88441af8-846d-41b7-bfc4-217cd11a9cba",
   "metadata": {},
   "source": [
    "## 12. Secret Message\n",
    "\"Where does a wise man hide a leaf? In the forest. But what does he do if there is no forest? ... He grows a forest to hide it in.\"\n",
    "-- Gilbert Keith Chesterton\n",
    "\n",
    "Ever tried to send a secret message to someone without using the postal service? You could use newspapers to tell your secret. Even if someone finds your message, it's easy to brush them off as paranoid and as a conspiracy theorist. One of the simplest ways to hide a secret message is to use capital letters. Let's find some of these secret messages.\n",
    "\n",
    "You are given a chunk of text. Gather all capital letters in one word in the order that they appear in the text.\n",
    "\n",
    "For example: text = \" H ow are you? E h, ok. L ow or L ower? O hhh.\", if we collect all of the capital letters, we get the message \"HELLO\".\n",
    "\n",
    "* Input: A text as a string (unicode).\n",
    "\n",
    "* Output: The secret message as a string or an empty string."
   ]
  },
  {
   "cell_type": "code",
   "execution_count": 11,
   "id": "19a691ac-36cc-49ae-aad5-507e7b63d465",
   "metadata": {},
   "outputs": [],
   "source": [
    "#try\n",
    "def secret_message(text: str) -> str:\n",
    "    s = \"\"\n",
    "    for i in text:\n",
    "        if i != i.lower():\n",
    "            s += i\n",
    "    return s"
   ]
  },
  {
   "cell_type": "code",
   "execution_count": 12,
   "id": "e3e5545c-bbf9-41e2-ba61-7745a5f580f2",
   "metadata": {},
   "outputs": [
    {
     "data": {
      "text/plain": [
       "'HELLO'"
      ]
     },
     "execution_count": 12,
     "metadata": {},
     "output_type": "execute_result"
    }
   ],
   "source": [
    "secret_message(\" H ow are you? E h, ok. L ow or L ower? O hhh.\")"
   ]
  },
  {
   "cell_type": "code",
   "execution_count": 16,
   "id": "b7abc993-177a-4ba8-827c-ca54d9aca37d",
   "metadata": {},
   "outputs": [
    {
     "data": {
      "text/plain": [
       "True"
      ]
     },
     "execution_count": 16,
     "metadata": {},
     "output_type": "execute_result"
    }
   ],
   "source": [
    "'A'.isupper()"
   ]
  },
  {
   "cell_type": "markdown",
   "id": "377402e5-dd59-4b87-879b-8a682a7b5335",
   "metadata": {},
   "source": [
    "* #### **str.isupper()**\n",
    "    string이 대문자인지 알아보는 메소드\n",
    "* #### **filter(함수, 대상)**\n",
    "    대상에 함수를 적용한 값이 True이면 Return"
   ]
  },
  {
   "cell_type": "code",
   "execution_count": 17,
   "id": "c0ab550d-bba9-4eb1-8c1c-faf698bfcc8d",
   "metadata": {},
   "outputs": [],
   "source": [
    "#answer\n",
    "def secret_message(text: str) -> str:\n",
    "    return ''.join(filter(str.isupper, text))"
   ]
  },
  {
   "cell_type": "code",
   "execution_count": 18,
   "id": "76f10746-325b-41c6-a819-dc439f7cf5ed",
   "metadata": {},
   "outputs": [
    {
     "data": {
      "text/plain": [
       "'HELLO'"
      ]
     },
     "execution_count": 18,
     "metadata": {},
     "output_type": "execute_result"
    }
   ],
   "source": [
    "secret_message(\" H ow are you? E h, ok. L ow or L ower? O hhh.\")"
   ]
  },
  {
   "cell_type": "markdown",
   "id": "29d59a22-6ee8-4b85-9407-3e8e121e997b",
   "metadata": {},
   "source": [
    "## 13. Three Words\n",
    "Let's teach the Robots to distinguish words and numbers.\n",
    "\n",
    "You are given a string with words and numbers separated by whitespaces (one space). The words contains only letters. You should check if the string contains three words in succession . For example, the string \"start 5 one two three 7 end\" contains three words in succession.\n",
    "\n",
    "* Input: A string with words.\n",
    "\n",
    "* Output: The answer as a boolean."
   ]
  },
  {
   "cell_type": "code",
   "execution_count": 68,
   "id": "ab6335d3-93cb-47a0-a395-fb26901cc2e8",
   "metadata": {},
   "outputs": [],
   "source": [
    "#try\n",
    "def three_words(text: str) -> bool:\n",
    "    lst = text.split()\n",
    "    for i in range(len(lst)):\n",
    "        try:\n",
    "            lst[i] = int(lst[i])\n",
    "        except:\n",
    "            pass\n",
    "        \n",
    "    count = 0\n",
    "    for i in lst:\n",
    "        if type(i) == str:\n",
    "            count += 1\n",
    "            if count == 3: return True\n",
    "        else:\n",
    "            count = 0\n",
    "    return count == 3"
   ]
  },
  {
   "cell_type": "code",
   "execution_count": 67,
   "id": "0621a9a8-654e-4a3a-97bf-b699b267b3a5",
   "metadata": {},
   "outputs": [
    {
     "name": "stdout",
     "output_type": "stream",
     "text": [
      "Coding complete? Click 'Check' to review your tests and earn cool rewards!\n"
     ]
    }
   ],
   "source": [
    "assert three_words(\"Hello World hello\") == True, \"Hello\"\n",
    "assert three_words(\"He is 123 man\") == False, \"123 man\"\n",
    "assert three_words(\"1 2 3 4\") == False, \"Digits\"\n",
    "assert three_words(\"bla bla bla bla\") == True, \"Bla Bla\"\n",
    "assert three_words(\"Hi\") == False, \"Hi\"\n",
    "print(\"Coding complete? Click 'Check' to review your tests and earn cool rewards!\")"
   ]
  },
  {
   "cell_type": "markdown",
   "id": "d7b7e8ac-f398-40cf-8650-6e064b3c212e",
   "metadata": {},
   "source": [
    "* #### **try: 구문1**\n",
    "#### **except: 구문2**\n",
    "    구문 1을 시도하고, 만약 에러가 뜨면 구문 2를 시도한다.\n",
    "* #### **str.isalpha()**\n",
    "    string이 알파벳만으로 구성되었는지 확인."
   ]
  },
  {
   "cell_type": "code",
   "execution_count": 71,
   "id": "c90752e9-0165-465d-b20e-cde32f56dfe8",
   "metadata": {},
   "outputs": [],
   "source": [
    "def three_words(text: str) -> bool:\n",
    "    count = 0\n",
    "    \n",
    "    for word in text.split():\n",
    "        if word.isalpha():\n",
    "            count += 1\n",
    "        else:\n",
    "            count = 0\n",
    "            \n",
    "        if count >= 3:\n",
    "            return True\n",
    "    return False"
   ]
  },
  {
   "cell_type": "code",
   "execution_count": 72,
   "id": "78e43a7a-1175-44c6-b8f2-2b2661184efb",
   "metadata": {},
   "outputs": [
    {
     "name": "stdout",
     "output_type": "stream",
     "text": [
      "Coding complete? Click 'Check' to review your tests and earn cool rewards!\n"
     ]
    }
   ],
   "source": [
    "assert three_words(\"Hello World hello\") == True, \"Hello\"\n",
    "assert three_words(\"He is 123 man\") == False, \"123 man\"\n",
    "assert three_words(\"1 2 3 4\") == False, \"Digits\"\n",
    "assert three_words(\"bla bla bla bla\") == True, \"Bla Bla\"\n",
    "assert three_words(\"Hi\") == False, \"Hi\"\n",
    "print(\"Coding complete? Click 'Check' to review your tests and earn cool rewards!\")"
   ]
  }
 ],
 "metadata": {
  "kernelspec": {
   "display_name": "Python 3",
   "language": "python",
   "name": "python3"
  },
  "language_info": {
   "codemirror_mode": {
    "name": "ipython",
    "version": 3
   },
   "file_extension": ".py",
   "mimetype": "text/x-python",
   "name": "python",
   "nbconvert_exporter": "python",
   "pygments_lexer": "ipython3",
   "version": "3.8.8"
  }
 },
 "nbformat": 4,
 "nbformat_minor": 5
}
