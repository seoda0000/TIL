{
 "cells": [
  {
   "cell_type": "markdown",
   "id": "9ab6e390-840f-4b38-ba7f-fcc9a9e9314f",
   "metadata": {},
   "source": [
    "# 김왼손의 왼손코딩 1일 1파이썬 : 초중급자를 위한 파이썬 30제\n",
    "https://www.inflearn.com/course/%ED%8C%8C%EC%9D%B4%EC%8D%AC-%EC%98%88%EC%A0%9C\n",
    "## CheckiO : https://py.checkio.org/mission/search/\n",
    "#### 2022-04-20 10일차 seoda0000"
   ]
  },
  {
   "cell_type": "markdown",
   "id": "f376ec03-d275-44a9-82c9-4e5bde22f9b2",
   "metadata": {},
   "source": [
    "-------------------------"
   ]
  },
  {
   "cell_type": "markdown",
   "id": "fa9d089f-5a9b-4fa7-980a-031fb32260f7",
   "metadata": {},
   "source": [
    "## **Today I Learned**     \n",
    "* #### **쉽게 생각하자...**"
   ]
  },
  {
   "cell_type": "markdown",
   "id": "79a6f08d-a5e8-4463-b577-ae32535a7d8a",
   "metadata": {},
   "source": [
    "---------------"
   ]
  },
  {
   "cell_type": "markdown",
   "id": "26192ffe-763a-4be3-815e-4ec917be081d",
   "metadata": {},
   "source": [
    "## 29. Conversion into CamelCase\n",
    "Your mission is to convert the name of a function (a string) from the Python format (for example \"my_function_name\") into CamelCase (\"MyFunctionName\"), where the first char of every word is in uppercase and all words are concatenated without any intervening characters.\n",
    "\n",
    "* Input: A function name as a string.\n",
    "* Output: The same string, but in CamelCase."
   ]
  },
  {
   "cell_type": "code",
   "execution_count": 71,
   "id": "2d6c0f8a-a5b6-472e-9ba7-0b072b9a8fb7",
   "metadata": {},
   "outputs": [],
   "source": [
    "#try\n",
    "def conversion_into_camelcase(name: str) -> str:\n",
    "    return name.title().replace(\"_\", \"\")"
   ]
  },
  {
   "cell_type": "code",
   "execution_count": 73,
   "id": "ba92fa02-572e-462a-a828-84ea8634c3da",
   "metadata": {},
   "outputs": [
    {
     "name": "stdout",
     "output_type": "stream",
     "text": [
      "Coding complete? Click 'Check' to earn cool rewards!\n"
     ]
    }
   ],
   "source": [
    "assert conversion_into_camelcase(\"my_function_name\") == \"MyFunctionName\"\n",
    "assert conversion_into_camelcase(\"i_phone\") == \"IPhone\"\n",
    "assert conversion_into_camelcase(\"this_function_is_empty\") == \"ThisFunctionIsEmpty\"\n",
    "assert conversion_into_camelcase(\"name\") == \"Name\"\n",
    "print(\"Coding complete? Click 'Check' to earn cool rewards!\")"
   ]
  },
  {
   "cell_type": "markdown",
   "id": "2e7093a1-db29-4285-91b6-e14200db7dfd",
   "metadata": {
    "tags": []
   },
   "source": [
    "## 30. Conversion from CamelCase\n",
    "Your mission is to convert the name of a function (a string) from CamelCase (\"MyFunctionName\") into the Python format (\"my_function_name\") where all chars are in lowercase and all words are concatenated with an intervening underscore symbol \"_\".\n",
    "\n",
    "* Input: A function name as a CamelCase string.\n",
    "* Output: The same string, but in under_score."
   ]
  },
  {
   "cell_type": "code",
   "execution_count": 74,
   "id": "85426d8e-1b57-4143-80b6-8a43c908ae78",
   "metadata": {},
   "outputs": [],
   "source": [
    "#try\n",
    "def conversion_from_camelcase(name: str) -> str:\n",
    "    uplist = [name.index(i) for i in name if i.isupper() == True][1:]\n",
    "    lstname = list(name)\n",
    "    a = 0\n",
    "    for i in uplist:\n",
    "        lstname.insert(i + a, \"_\")\n",
    "        a += 1\n",
    "    return \"\".join(lstname).lower()"
   ]
  },
  {
   "cell_type": "code",
   "execution_count": 75,
   "id": "767a183c-2b27-41b3-8718-eff4cf7796ce",
   "metadata": {},
   "outputs": [
    {
     "name": "stdout",
     "output_type": "stream",
     "text": [
      "Coding complete? Click 'Check' to earn cool rewards!\n"
     ]
    }
   ],
   "source": [
    "assert conversion_from_camelcase(\"MyFunctionName\") == \"my_function_name\"\n",
    "assert conversion_from_camelcase(\"IPhone\") == \"i_phone\"\n",
    "assert conversion_from_camelcase(\"ThisFunctionIsEmpty\") == \"this_function_is_empty\"\n",
    "assert conversion_from_camelcase(\"Name\") == \"name\"\n",
    "print(\"Coding complete? Click 'Check' to earn cool rewards!\")"
   ]
  },
  {
   "cell_type": "markdown",
   "id": "22be99d2-2d79-41d9-b4e8-109af3b24ec4",
   "metadata": {},
   "source": [
    "* #### **쉽게 생각하자...**"
   ]
  },
  {
   "cell_type": "code",
   "execution_count": 78,
   "id": "5b6877f2-76c0-4f1c-985e-36ede1c79978",
   "metadata": {},
   "outputs": [],
   "source": [
    "#answer\n",
    "def conversion_from_camelcase(name):\n",
    "    ans = \"\"\n",
    "    for i in name:\n",
    "        if i.isupper():\n",
    "            ans+=\"_\"\n",
    "            ans+=i.lower()\n",
    "        else:\n",
    "            ans+=i\n",
    "    return ans[1:]"
   ]
  },
  {
   "cell_type": "code",
   "execution_count": 79,
   "id": "cf375781-a0f9-400d-9389-d1d193c19798",
   "metadata": {},
   "outputs": [
    {
     "name": "stdout",
     "output_type": "stream",
     "text": [
      "Coding complete? Click 'Check' to earn cool rewards!\n"
     ]
    }
   ],
   "source": [
    "assert conversion_from_camelcase(\"MyFunctionName\") == \"my_function_name\"\n",
    "assert conversion_from_camelcase(\"IPhone\") == \"i_phone\"\n",
    "assert conversion_from_camelcase(\"ThisFunctionIsEmpty\") == \"this_function_is_empty\"\n",
    "assert conversion_from_camelcase(\"Name\") == \"name\"\n",
    "print(\"Coding complete? Click 'Check' to earn cool rewards!\")"
   ]
  }
 ],
 "metadata": {
  "kernelspec": {
   "display_name": "Python 3",
   "language": "python",
   "name": "python3"
  },
  "language_info": {
   "codemirror_mode": {
    "name": "ipython",
    "version": 3
   },
   "file_extension": ".py",
   "mimetype": "text/x-python",
   "name": "python",
   "nbconvert_exporter": "python",
   "pygments_lexer": "ipython3",
   "version": "3.8.8"
  }
 },
 "nbformat": 4,
 "nbformat_minor": 5
}
