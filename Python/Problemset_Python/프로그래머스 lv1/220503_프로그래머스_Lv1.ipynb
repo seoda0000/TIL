{
 "cells": [
  {
   "cell_type": "markdown",
   "id": "efebf200-172f-4b4c-b31e-bd01af04f69c",
   "metadata": {},
   "source": [
    "#### **프로그래머스** https://programmers.co.kr/learn/challenges\n",
    "##### 코딩테스트 연습 2022-05-03 8일차 seoda0000"
   ]
  },
  {
   "cell_type": "markdown",
   "id": "01d2438b-9adb-4ff8-b35b-4f8fc349cfc7",
   "metadata": {},
   "source": [
    "--------------------"
   ]
  },
  {
   "cell_type": "markdown",
   "id": "6a01c2fa-0d12-45b8-96d3-e19f0f93f827",
   "metadata": {},
   "source": [
    "# **TIL**\n",
    "\n",
    "* #### **sorted(dic.items(), key = lambda x: x[1], reverse = Ture**\n",
    "    * 딕셔너리의 value 기준으로 정렬하기\n",
    "* #### **try:**\n",
    "* #### **except:**\n",
    "    * 꼭 짝을 이루어서 사용해야 한다.\n",
    "* #### **sorted(dic, key = lambda x: dic[x], reverse = True)**\n",
    "    * 딕셔너리의 value 기준으로 정렬하기\n",
    "\n",
    "------------------\n",
    "#### 미래의 나에게...\n",
    "* 쉽게 생각하자. 잘 안 풀리면 조작하는 데이터의 관점을 바꿔보자.\n",
    "* 논리적으로 순차적으로 생각하기.\n",
    "* 무작정 코드를 짧게 줄이는 건 도움이 되지 않는다. 개체를 단순하게 만들자.\n",
    "* 리스트의 구성요소 기준으로 차례대로 생각해보자. (런타임을 줄여야 한다!)\n",
    "* for 구문은 되도록 필수적일 때만 사용하자."
   ]
  },
  {
   "cell_type": "markdown",
   "id": "e158152f-113b-495f-aab3-421be8463340",
   "metadata": {},
   "source": [
    "---------------------\n",
    "2019 KAKAO BLIND RECRUITMENT\n",
    "\n",
    "## **실패율**\n",
    "\n",
    "실패율은 다음과 같이 정의한다.\n",
    "* 스테이지에 도달했으나 아직 클리어하지 못한 플레이어의 수 / 스테이지에 도달한 플레이어 수\n",
    "* 전체 스테이지의 개수 N, 게임을 이용하는 사용자가 현재 멈춰있는 스테이지의 번호가 담긴 배열 stages가 매개변수로 주어질 때, 실패율이 높은 스테이지부터 내림차순으로 스테이지의 번호가 담겨있는 배열을 return 하도록 solution 함수를 완성하라."
   ]
  },
  {
   "cell_type": "code",
   "execution_count": 117,
   "id": "346d0c0e-c66f-4f34-8285-c877dc4fa43a",
   "metadata": {},
   "outputs": [],
   "source": [
    "#try score : 70.4\n",
    "\n",
    "def solution(N, stages):\n",
    "    result = {}\n",
    "    \n",
    "    #실패율을 values로 갖는 Dictionary 만들기\n",
    "    \n",
    "    for i in range(1, N+1):\n",
    "        result[i] = stages.count(i)/len([j for j in stages if j >= i])\n",
    "    \n",
    "    #정렬하기\n",
    "    \n",
    "    result = sorted(result.items(), key = lambda x: x[1], reverse = True)\n",
    "    return [i[0] for i in result]\n"
   ]
  },
  {
   "cell_type": "code",
   "execution_count": 118,
   "id": "46ca78dd-2fe6-4277-93a4-9504de179358",
   "metadata": {},
   "outputs": [],
   "source": [
    "assert solution(5, [2, 1, 2, 6, 2, 4, 3, 3]) == [3,4,2,1,5]\n",
    "assert solution(4, [4,4,4,4,4]) == [4,1,2,3]"
   ]
  },
  {
   "cell_type": "markdown",
   "id": "0426126e-7d51-4fb2-ac93-7f31c20cc86b",
   "metadata": {},
   "source": [
    "* 직관적으로 접근하여 딕셔너리를 이용하였으나 런타임이 너무 길어서 실패했다.\n",
    "* #### **sorted(dic.items(), key = lambda x: x[1], reverse = Ture**\n",
    "    * 딕셔너리의 value 기준으로 정렬하기"
   ]
  },
  {
   "cell_type": "code",
   "execution_count": 119,
   "id": "7540e1cf-2657-4490-89c7-f3939c22797b",
   "metadata": {},
   "outputs": [],
   "source": [
    "#try3 score:70.4\n",
    "def solution(N, stages):\n",
    "    \n",
    "    #분자와 분모 각각 딕셔너리 만들기\n",
    "    \n",
    "    denom = {x : 0 for x in range(1, N+1)}\n",
    "    nom = {x : 0 for x in range(1, N+1)}\n",
    "    \n",
    "    for i in stages:\n",
    "        try : nom[i] += 1\n",
    "        except : pass\n",
    "        for j in range(1, i+1):\n",
    "            try : denom[j] += 1\n",
    "            except : pass\n",
    "    \n",
    "    #실패율을 values로 갖는 Dictionary 만들기\n",
    "    \n",
    "    answer = {x : nom[x]/denom[x] for x in range(1, N+1)}\n",
    "    \n",
    "    #정렬하기\n",
    "    \n",
    "    answer = sorted(answer.items(), key = lambda x: x[1], reverse = True)\n",
    "    return [i[0] for i in answer]"
   ]
  },
  {
   "cell_type": "code",
   "execution_count": 120,
   "id": "17e4b653-c4af-4ec8-9545-026340efe27f",
   "metadata": {},
   "outputs": [],
   "source": [
    "assert solution(5, [2, 1, 2, 6, 2, 4, 3, 3]) == [3,4,2,1,5]\n",
    "assert solution(4, [4,4,4,4,4]) == [4,1,2,3]"
   ]
  },
  {
   "cell_type": "markdown",
   "id": "4a4c584c-2aaa-4b1e-8da0-e636bd231d63",
   "metadata": {},
   "source": [
    "* 리스트의 구성요소 기준으로 진행하려 하였으나 역시 런타임이 길어져서 실패했다.\n",
    "* for 구문은 되도록 필수적일 때만 사용하자.\n",
    "* #### **try:**\n",
    "* #### **except:**\n",
    "    * 꼭 짝을 이루어서 사용해야 한다.\n",
    "----------------\n",
    "\n",
    "* 분모와 분자의 조건을 파악하여, 계산 이후 해당되지 않은 값을 소거하여 간단하게 결과를 도출했다.\n",
    "* 리스트의 구성요소 기준으로 차례대로 생각해보자. (런타임을 줄여야 한다!)\n",
    "* #### **sorted(dic, key = lambda x: dic[x], reverse = True)**\n",
    "    * 딕셔너리의 value 기준으로 정렬하기"
   ]
  },
  {
   "cell_type": "code",
   "execution_count": 115,
   "id": "2741e1d5-5178-47bd-bca3-478a4d9b58e1",
   "metadata": {},
   "outputs": [],
   "source": [
    "#answer\n",
    "def solution(N, stages):\n",
    "    denom = len(stages)\n",
    "    answer = {}\n",
    "    for i in range(1, N+1):\n",
    "        if denom != 0:\n",
    "            answer[i] = stages.count(i)/denom\n",
    "            denom -= stages.count(i)\n",
    "        else :\n",
    "            answer[i] = 0\n",
    "    return sorted(answer, key = lambda x: answer[x], reverse = True)"
   ]
  },
  {
   "cell_type": "code",
   "execution_count": 116,
   "id": "a5800a87-e7b1-431c-b3ed-4925cd391845",
   "metadata": {},
   "outputs": [],
   "source": [
    "assert solution(5, [2, 1, 2, 6, 2, 4, 3, 3]) == [3,4,2,1,5]\n",
    "assert solution(4, [4,4,4,4,4]) == [4,1,2,3]"
   ]
  }
 ],
 "metadata": {
  "kernelspec": {
   "display_name": "Python 3",
   "language": "python",
   "name": "python3"
  },
  "language_info": {
   "codemirror_mode": {
    "name": "ipython",
    "version": 3
   },
   "file_extension": ".py",
   "mimetype": "text/x-python",
   "name": "python",
   "nbconvert_exporter": "python",
   "pygments_lexer": "ipython3",
   "version": "3.8.8"
  }
 },
 "nbformat": 4,
 "nbformat_minor": 5
}
