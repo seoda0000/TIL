{
 "cells": [
  {
   "cell_type": "code",
   "execution_count": 6,
   "id": "0fadbf6b",
   "metadata": {},
   "outputs": [
    {
     "name": "stdout",
     "output_type": "stream",
     "text": [
      "100 5\n",
      "124\n"
     ]
    }
   ],
   "source": [
    "\n",
    "chicken, c = map(int, input().split())\n",
    "sum_chicken = chicken\n",
    "coupon = chicken\n",
    "while coupon//c != 0:\n",
    "    sum_chicken += coupon//c\n",
    "    coupon = coupon//c + coupon%c\n",
    "print(sum_chicken)"
   ]
  },
  {
   "cell_type": "code",
   "execution_count": 14,
   "id": "6a190984",
   "metadata": {},
   "outputs": [
    {
     "name": "stdout",
     "output_type": "stream",
     "text": [
      "4 3 10 3 100 5\n"
     ]
    },
    {
     "data": {
      "text/plain": [
       "[4, 3, 10, 3, 100, 5]"
      ]
     },
     "execution_count": 14,
     "metadata": {},
     "output_type": "execute_result"
    }
   ],
   "source": [
    "list(map(int, input().split()))"
   ]
  },
  {
   "cell_type": "code",
   "execution_count": null,
   "id": "4f20b3fb",
   "metadata": {},
   "outputs": [],
   "source": [
    "while True:\n",
    "    try:\n",
    "        chicken, c = map(int, input().split())\n",
    "        sum_chicken = chicken\n",
    "        coupon = chicken\n",
    "        while coupon//c != 0:\n",
    "            sum_chicken += coupon//c\n",
    "            coupon = coupon//c + coupon%c\n",
    "        print(sum_chicken)\n",
    "    except EOFError:\n",
    "        break"
   ]
  }
 ],
 "metadata": {
  "kernelspec": {
   "display_name": "Python 3 (ipykernel)",
   "language": "python",
   "name": "python3"
  },
  "language_info": {
   "codemirror_mode": {
    "name": "ipython",
    "version": 3
   },
   "file_extension": ".py",
   "mimetype": "text/x-python",
   "name": "python",
   "nbconvert_exporter": "python",
   "pygments_lexer": "ipython3",
   "version": "3.9.13"
  },
  "toc": {
   "base_numbering": 1,
   "nav_menu": {},
   "number_sections": true,
   "sideBar": true,
   "skip_h1_title": false,
   "title_cell": "Table of Contents",
   "title_sidebar": "Contents",
   "toc_cell": false,
   "toc_position": {},
   "toc_section_display": true,
   "toc_window_display": false
  }
 },
 "nbformat": 4,
 "nbformat_minor": 5
}
