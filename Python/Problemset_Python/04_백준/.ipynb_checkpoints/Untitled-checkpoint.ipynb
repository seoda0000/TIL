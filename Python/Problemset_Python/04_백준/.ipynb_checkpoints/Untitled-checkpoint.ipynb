{
 "cells": [
  {
   "cell_type": "code",
   "execution_count": 3,
   "id": "834479f8",
   "metadata": {},
   "outputs": [
    {
     "name": "stdout",
     "output_type": "stream",
     "text": [
      "10 3\n"
     ]
    },
    {
     "ename": "KeyboardInterrupt",
     "evalue": "",
     "output_type": "error",
     "traceback": [
      "\u001b[1;31m---------------------------------------------------------------------------\u001b[0m",
      "\u001b[1;31mKeyboardInterrupt\u001b[0m                         Traceback (most recent call last)",
      "Input \u001b[1;32mIn [3]\u001b[0m, in \u001b[0;36m<cell line: 4>\u001b[1;34m()\u001b[0m\n\u001b[0;32m      4\u001b[0m \u001b[38;5;28;01mwhile\u001b[39;00m coupon \u001b[38;5;241m/\u001b[39m\u001b[38;5;241m/\u001b[39m c \u001b[38;5;241m!=\u001b[39m \u001b[38;5;241m0\u001b[39m:\n\u001b[0;32m      5\u001b[0m     sum_chicken \u001b[38;5;241m+\u001b[39m\u001b[38;5;241m=\u001b[39m coupon \u001b[38;5;241m/\u001b[39m\u001b[38;5;241m/\u001b[39m c\n\u001b[1;32m----> 6\u001b[0m     coupon \u001b[38;5;241m=\u001b[39m \u001b[43mchicken\u001b[49m \u001b[38;5;241m/\u001b[39m\u001b[38;5;241m/\u001b[39m c \u001b[38;5;241m+\u001b[39m chicken \u001b[38;5;241m%\u001b[39m c\n\u001b[0;32m      7\u001b[0m \u001b[38;5;28mprint\u001b[39m(sum_chicken)\n",
      "\u001b[1;31mKeyboardInterrupt\u001b[0m: "
     ]
    }
   ],
   "source": [
    "chicken, c = map(int, input().split())\n",
    "sum_chicken = chicken\n",
    "coupon = chicken\n",
    "while coupon // c != 0:\n",
    "    sum_chicken += coupon // c\n",
    "    coupon = coupon//c + coupon%c\n",
    "print(sum_chicken)"
   ]
  },
  {
   "cell_type": "code",
   "execution_count": null,
   "id": "61ad6416",
   "metadata": {},
   "outputs": [],
   "source": [
    "10\n",
    "10\n",
    "10 3\n",
    "10 + 3\n",
    "3+1=4\n",
    "14\n",
    "2"
   ]
  }
 ],
 "metadata": {
  "kernelspec": {
   "display_name": "Python 3 (ipykernel)",
   "language": "python",
   "name": "python3"
  },
  "language_info": {
   "codemirror_mode": {
    "name": "ipython",
    "version": 3
   },
   "file_extension": ".py",
   "mimetype": "text/x-python",
   "name": "python",
   "nbconvert_exporter": "python",
   "pygments_lexer": "ipython3",
   "version": "3.9.13"
  },
  "toc": {
   "base_numbering": 1,
   "nav_menu": {},
   "number_sections": true,
   "sideBar": true,
   "skip_h1_title": false,
   "title_cell": "Table of Contents",
   "title_sidebar": "Contents",
   "toc_cell": false,
   "toc_position": {},
   "toc_section_display": true,
   "toc_window_display": false
  }
 },
 "nbformat": 4,
 "nbformat_minor": 5
}
