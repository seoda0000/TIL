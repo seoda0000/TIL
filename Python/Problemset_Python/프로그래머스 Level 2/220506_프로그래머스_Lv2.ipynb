{
 "cells": [
  {
   "cell_type": "markdown",
   "id": "efebf200-172f-4b4c-b31e-bd01af04f69c",
   "metadata": {},
   "source": [
    "#### **프로그래머스** https://programmers.co.kr/learn/challenges\n",
    "##### 코딩테스트 연습 2022-05-06 11일차 seoda0000"
   ]
  },
  {
   "cell_type": "markdown",
   "id": "01d2438b-9adb-4ff8-b35b-4f8fc349cfc7",
   "metadata": {},
   "source": [
    "--------------------"
   ]
  },
  {
   "cell_type": "markdown",
   "id": "6a01c2fa-0d12-45b8-96d3-e19f0f93f827",
   "metadata": {},
   "source": [
    "# **TIL**\n",
    "\n",
    "* break \n",
    "    * while 루프를 벗어난다.\n",
    "    \n",
    "* 마크다운에서 줄바꿈 쓰기 : 문장 끝에서 spacebar 두번 누르기\n",
    "* 마크다운에서 space 여러번 쓰기 : 공백(전각문자) 사용하기\n",
    "\n",
    "--------------------\n",
    "\n",
    "heapq\n",
    "============\n",
    "파이썬의 힙은 최소힙을 사용한다. 가장 작은 요소가 root(인덱스0)에 위치하게 된다. (자동 정렬)\n",
    "\n",
    "내부적으로 min heap 내의 모든 원소(k)는 항상 자식 원소들(2k+1, 2k+2) 보다 크기가 작거나 같도록 원소가 추가되고 삭제된다.\n",
    "* heap[k] <= heap[2*k+1] and heap[k] <= heap[2*k+2]  \n",
    "\n",
    "　　　1  ---> root   \n",
    "　　/　\\  \n",
    "　3　　 5  \n",
    "　/\\　　/  \n",
    " 4　8　7  \n",
    "\n",
    "* heapify(list)\n",
    "    * 리스트를 힙으로 만들 수 있다. \n",
    "* heappop(heap)\n",
    "    * 힙에서 가장 작은 데이터를 뺄 수 있다.\n",
    "* heappush(heap, x)\n",
    "    * 힙에서 데이터를 넣을 수 있다.\n",
    "\n",
    "------------------\n",
    "#### 미래의 나에게...\n",
    "* 쉽게 생각하자. 잘 안 풀리면 조작하는 데이터의 관점을 바꿔보자.\n",
    "* 논리적으로 순차적으로 생각하기.\n",
    "* 무작정 코드를 짧게 줄이는 건 도움이 되지 않는다. 개체를 단순하게 만들자.\n",
    "* 리스트의 구성요소 기준으로 차례대로 생각해보자. (런타임을 줄여야 한다!)\n",
    "* for 구문은 되도록 필수적일 때만 사용하자.\n",
    "* 인덱스를 활용하자."
   ]
  },
  {
   "cell_type": "markdown",
   "id": "e158152f-113b-495f-aab3-421be8463340",
   "metadata": {},
   "source": [
    "---------------------\n",
    "힙(Heap)\n",
    "\n",
    "## **더 맵게**\n",
    "\n",
    "* 섞은 음식의 스코빌 지수 = 가장 맵지 않은 음식의 스코빌 지수 + (두 번째로 맵지 않은 음식의 스코빌 지수 * 2)\n",
    "\n",
    "* Leo는 모든 음식의 스코빌 지수가 K 이상이 될 때까지 반복하여 섞습니다.\n",
    "* Leo가 가진 음식의 스코빌 지수를 담은 배열 scoville과 원하는 스코빌 지수 K가 주어질 때, 모든 음식의 스코빌 지수를 K 이상으로 만들기 위해 섞어야 하는 최소 횟수를 return 하도록 solution 함수를 작성해주세요."
   ]
  },
  {
   "cell_type": "code",
   "execution_count": 21,
   "id": "346d0c0e-c66f-4f34-8285-c877dc4fa43a",
   "metadata": {},
   "outputs": [],
   "source": [
    "#try1 score: 정확성 57.1 효율성 0.0 \n",
    "def solution(scoville, K):\n",
    "    solution = 0\n",
    "    \n",
    "    #리스트끼리 비교\n",
    "    \n",
    "    while [i for i in scoville if i >= K] != scoville:\n",
    "        scoville = sorted(scoville)\n",
    "        new = scoville[0] + scoville[1] * 2\n",
    "        scoville.pop(0)\n",
    "        scoville.pop(0)\n",
    "        scoville.append(new)\n",
    "        solution += 1\n",
    "        \n",
    "    return solution"
   ]
  },
  {
   "cell_type": "code",
   "execution_count": 22,
   "id": "f0f9c0fd-b2a3-4f5c-8cd2-310df955e09f",
   "metadata": {},
   "outputs": [],
   "source": [
    "assert solution([1, 2, 3, 9, 10, 12], 7) == 2"
   ]
  },
  {
   "cell_type": "code",
   "execution_count": 30,
   "id": "34d1ecd9-c401-488e-bfee-1226d4cc4290",
   "metadata": {},
   "outputs": [],
   "source": [
    "#try2 score: 정확성 76.2 효율성 0.0 \n",
    "def solution(scoville, K):\n",
    "    scoville = sorted(scoville)\n",
    "    solution = 0\n",
    "    \n",
    "    #초기값 기준 비교\n",
    "    while scoville[0] < K:\n",
    "        new = scoville[0] + scoville[1] * 2\n",
    "        scoville.pop(0)\n",
    "        scoville.pop(0)\n",
    "        scoville.append(new)\n",
    "        solution += 1\n",
    "        scoville = sorted(scoville)\n",
    "        \n",
    "        #계산 불가능할 때 -1 리턴하기\n",
    "        \n",
    "        if len(scoville) == 1 and scoville[0] < K : \n",
    "            solution = -1\n",
    "            break\n",
    "        \n",
    "        \n",
    "    return solution"
   ]
  },
  {
   "cell_type": "code",
   "execution_count": 31,
   "id": "43d5a1b0-6863-4de8-a6f2-7b1b68ff20a6",
   "metadata": {},
   "outputs": [],
   "source": [
    "assert solution([1, 2, 3, 9, 10, 12], 7) == 2"
   ]
  },
  {
   "cell_type": "markdown",
   "id": "cd397614-1c41-4e09-b4ee-b524ad779a56",
   "metadata": {},
   "source": [
    "* break \n",
    "    * while 루프를 벗어난다.\n",
    "    \n",
    "* while을 사용해서 풀었다. 정확성은 충족하였으나 효율성을 충족하지 못했다. heap을 배워야 한다.\n",
    "\n",
    "--------------------\n",
    "\n",
    "heapq\n",
    "============\n",
    "파이썬의 힙은 최소힙을 사용한다. 가장 작은 요소가 root(인덱스0)에 위치하게 된다. (자동 정렬)\n",
    "\n",
    "내부적으로 min heap 내의 모든 원소(k)는 항상 자식 원소들(2k+1, 2k+2) 보다 크기가 작거나 같도록 원소가 추가되고 삭제된다.\n",
    "* heap[k] <= heap[2*k+1] and heap[k] <= heap[2*k+2]  \n",
    "\n",
    "　　　1  ---> root   \n",
    "　　/　\\  \n",
    "　3　　 5  \n",
    "　/\\　　/  \n",
    " 4　8　7  \n",
    "\n",
    "* heapify(list)\n",
    "    * 리스트를 힙으로 만들 수 있다. \n",
    "* heappop(heap)\n",
    "    * 힙에서 가장 작은 데이터를 뺄 수 있다.\n",
    "* heappush(heap, x)\n",
    "    * 힙에서 데이터를 넣을 수 있다."
   ]
  },
  {
   "cell_type": "code",
   "execution_count": 36,
   "id": "1f7cc3f0-f362-4ee8-b556-fd006d7d7289",
   "metadata": {},
   "outputs": [],
   "source": [
    "#answer\n",
    "from heapq import *\n",
    "\n",
    "def solution(scoville, K):\n",
    "    count = 0\n",
    "    heapify(scoville)\n",
    "    while scoville[0] < K and len(scoville) > 1:\n",
    "        num1 = heappop(scoville)\n",
    "        num2 = heappop(scoville)\n",
    "        heappush(scoville, num1 + num2 * 2)\n",
    "        count += 1\n",
    "    return count if scoville[0] >= K else -1"
   ]
  },
  {
   "cell_type": "code",
   "execution_count": 29,
   "id": "cb5c6de2-7706-41af-bc57-ac91928b123e",
   "metadata": {},
   "outputs": [],
   "source": [
    "assert solution([1, 2, 3, 9, 10, 12], 7) == 2"
   ]
  },
  {
   "cell_type": "markdown",
   "id": "e97145bf-6475-44d1-ba7b-183a9ca712c3",
   "metadata": {},
   "source": [
    "* while 조건 안에 len을 넣어 간단하게 구현했다.\n",
    "* heap을 이용하여 자동으로 정렬되게 했다."
   ]
  }
 ],
 "metadata": {
  "kernelspec": {
   "display_name": "Python 3",
   "language": "python",
   "name": "python3"
  },
  "language_info": {
   "codemirror_mode": {
    "name": "ipython",
    "version": 3
   },
   "file_extension": ".py",
   "mimetype": "text/x-python",
   "name": "python",
   "nbconvert_exporter": "python",
   "pygments_lexer": "ipython3",
   "version": "3.8.8"
  }
 },
 "nbformat": 4,
 "nbformat_minor": 5
}
