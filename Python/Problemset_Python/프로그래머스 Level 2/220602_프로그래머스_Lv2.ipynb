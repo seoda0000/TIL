{
 "cells": [
  {
   "cell_type": "markdown",
   "id": "efebf200-172f-4b4c-b31e-bd01af04f69c",
   "metadata": {},
   "source": [
    "#### **프로그래머스** https://programmers.co.kr/learn/challenges\n",
    "##### 코딩테스트 연습 2022-06-02 18일차 seoda0000"
   ]
  },
  {
   "cell_type": "markdown",
   "id": "01d2438b-9adb-4ff8-b35b-4f8fc349cfc7",
   "metadata": {},
   "source": [
    "--------------------"
   ]
  },
  {
   "cell_type": "markdown",
   "id": "7b013e9c-4d1b-4e40-b722-4bb0f9b573df",
   "metadata": {},
   "source": [
    "### Review"
   ]
  },
  {
   "cell_type": "markdown",
   "id": "6a01c2fa-0d12-45b8-96d3-e19f0f93f827",
   "metadata": {},
   "source": [
    "# **TIL**\n",
    "\n",
    "* list(map(함수, lst))\n",
    "    * lst에 함수를 적용하여 새로운 리스트를 만든다.\n",
    "\n",
    "    \n",
    "------------------\n",
    "#### 미래의 나에게...\n",
    "* 쉽게 생각하자. 잘 안 풀리면 조작하는 데이터의 관점을 바꿔보자.\n",
    "* 논리적으로 순차적으로 생각하기.\n",
    "* 무작정 코드를 짧게 줄이는 건 도움이 되지 않는다. 개체를 단순하게 만들자.\n",
    "* 리스트의 구성요소 기준으로 차례대로 생각해보자. (런타임을 줄여야 한다!)\n",
    "* for 구문은 되도록 필수적일 때만 사용하자.\n",
    "* 인덱스를 활용하자.\n",
    "* 최대값과 최소값에 유의하자.\n",
    "* 보조 리스트를 만들어 사용하는 것이 효율성이 더 높다."
   ]
  },
  {
   "cell_type": "markdown",
   "id": "e158152f-113b-495f-aab3-421be8463340",
   "metadata": {},
   "source": [
    "---------------------\n",
    "연습문제\n",
    "\n",
    "\n",
    "## **최댓값과 최솟값**\n",
    "\n",
    "문자열 s에는 공백으로 구분된 숫자들이 저장되어 있습니다. str에 나타나는 숫자 중 최소값과 최대값을 찾아 이를 \"(최소값) (최대값)\"형태의 문자열을 반환하는 함수, solution을 완성하세요.\n",
    "예를들어 s가 \"1 2 3 4\"라면 \"1 4\"를 리턴하고, \"-1 -2 -3 -4\"라면 \"-4 -1\"을 리턴하면 됩니다."
   ]
  },
  {
   "cell_type": "code",
   "execution_count": 54,
   "id": "8f921021-d0b9-495d-a545-a1a2cd03944e",
   "metadata": {},
   "outputs": [],
   "source": [
    "#try1 score 100/100\n",
    "def solution(s):\n",
    "    lst = [int(i) for i in s.split()]\n",
    "    return str(min(lst)) + \" \" + str(max(lst))"
   ]
  },
  {
   "cell_type": "code",
   "execution_count": 55,
   "id": "a6bfe899-94ab-4165-91d0-7aa3d7f2f458",
   "metadata": {},
   "outputs": [],
   "source": [
    "assert solution(\"1 2 3 4\") == \"1 4\"\n",
    "assert solution(\"-1 -2 -3 -4\") == \"-4 -1\"\n",
    "assert solution(\"-1 -1\") == \"-1 -1\""
   ]
  },
  {
   "cell_type": "markdown",
   "id": "ee127ba4-b839-49e6-b77e-4881169788aa",
   "metadata": {},
   "source": [
    "* 리스트를 활용하여 풀었다.\n",
    "---------------------------------\n",
    "* list(map(함수, lst))\n",
    "    * lst에 함수를 적용하여 새로운 리스트를 만든다."
   ]
  },
  {
   "cell_type": "code",
   "execution_count": 56,
   "id": "7cf6e359-6f35-40db-bf44-664ee040b6c4",
   "metadata": {},
   "outputs": [],
   "source": [
    "#answer\n",
    "def solution(s):\n",
    "    s = list(map(int,s.split()))\n",
    "    return str(min(s)) + \" \" + str(max(s))"
   ]
  },
  {
   "cell_type": "code",
   "execution_count": 57,
   "id": "090c2a8c-2afd-474f-b18a-edcffc7d1fc3",
   "metadata": {},
   "outputs": [],
   "source": [
    "assert solution(\"1 2 3 4\") == \"1 4\"\n",
    "assert solution(\"-1 -2 -3 -4\") == \"-4 -1\"\n",
    "assert solution(\"-1 -1\") == \"-1 -1\""
   ]
  }
 ],
 "metadata": {
  "kernelspec": {
   "display_name": "Python 3",
   "language": "python",
   "name": "python3"
  },
  "language_info": {
   "codemirror_mode": {
    "name": "ipython",
    "version": 3
   },
   "file_extension": ".py",
   "mimetype": "text/x-python",
   "name": "python",
   "nbconvert_exporter": "python",
   "pygments_lexer": "ipython3",
   "version": "3.8.8"
  }
 },
 "nbformat": 4,
 "nbformat_minor": 5
}
