{
 "cells": [
  {
   "cell_type": "markdown",
   "id": "efebf200-172f-4b4c-b31e-bd01af04f69c",
   "metadata": {},
   "source": [
    "#### **프로그래머스** https://programmers.co.kr/learn/challenges\n",
    "##### 코딩테스트 연습 2022-05-10 15일차 seoda0000"
   ]
  },
  {
   "cell_type": "markdown",
   "id": "01d2438b-9adb-4ff8-b35b-4f8fc349cfc7",
   "metadata": {},
   "source": [
    "--------------------"
   ]
  },
  {
   "cell_type": "markdown",
   "id": "7b013e9c-4d1b-4e40-b722-4bb0f9b573df",
   "metadata": {},
   "source": [
    "### Review"
   ]
  },
  {
   "cell_type": "code",
   "execution_count": 1,
   "id": "d39a05b2-2b41-4ed6-af35-78b278f4560e",
   "metadata": {},
   "outputs": [],
   "source": [
    "from fractions import gcd"
   ]
  },
  {
   "cell_type": "code",
   "execution_count": 2,
   "id": "00dc3c54-31c0-4b1f-91a5-f5064fd8647f",
   "metadata": {},
   "outputs": [
    {
     "name": "stderr",
     "output_type": "stream",
     "text": [
      "<ipython-input-2-526555546b94>:1: DeprecationWarning: fractions.gcd() is deprecated. Use math.gcd() instead.\n",
      "  gcd(5, 40)\n"
     ]
    },
    {
     "data": {
      "text/plain": [
       "5"
      ]
     },
     "execution_count": 2,
     "metadata": {},
     "output_type": "execute_result"
    }
   ],
   "source": [
    "gcd(5, 40)"
   ]
  },
  {
   "cell_type": "markdown",
   "id": "6a01c2fa-0d12-45b8-96d3-e19f0f93f827",
   "metadata": {},
   "source": [
    "# **TIL**\n",
    "\n",
    "* a, b = n1, n2\n",
    "    * 파이썬에서는 2개 이상의 복수의 변수를 동시에 상호 할당할 수 있다.\n",
    "    \n",
    "------------------\n",
    "#### 미래의 나에게...\n",
    "* 쉽게 생각하자. 잘 안 풀리면 조작하는 데이터의 관점을 바꿔보자.\n",
    "* 논리적으로 순차적으로 생각하기.\n",
    "* 무작정 코드를 짧게 줄이는 건 도움이 되지 않는다. 개체를 단순하게 만들자.\n",
    "* 리스트의 구성요소 기준으로 차례대로 생각해보자. (런타임을 줄여야 한다!)\n",
    "* for 구문은 되도록 필수적일 때만 사용하자.\n",
    "* 인덱스를 활용하자."
   ]
  },
  {
   "cell_type": "markdown",
   "id": "e158152f-113b-495f-aab3-421be8463340",
   "metadata": {},
   "source": [
    "---------------------\n",
    "연습문제\n",
    "\n",
    "## **피보나치 수**\n",
    "\n",
    "* 2 이상의 n이 입력되었을 때, n번째 피보나치 수를 1234567으로 나눈 나머지를 리턴하는 함수, solution을 완성해 주세요."
   ]
  },
  {
   "cell_type": "code",
   "execution_count": 3,
   "id": "2ff3d470-bef2-4ae7-a293-546b3cc146ee",
   "metadata": {},
   "outputs": [],
   "source": [
    "#try score:100/100\n",
    "def solution(n):\n",
    "    \n",
    "    lst = [0, 1]\n",
    "    \n",
    "    for i in range(n-1):\n",
    "        lst.append(lst[-1] + lst[-2])\n",
    "    \n",
    "    return lst[-1] % 1234567"
   ]
  },
  {
   "cell_type": "code",
   "execution_count": 4,
   "id": "4d9800da-ddf1-4ed0-b3c8-d938029092a7",
   "metadata": {},
   "outputs": [],
   "source": [
    "assert solution(3) == 2\n",
    "assert solution(5) == 5"
   ]
  },
  {
   "cell_type": "markdown",
   "id": "91b34a9b-1487-4780-9dcf-632c8fa36795",
   "metadata": {},
   "source": [
    "* 피보나치 수의 정의를 이용하여, 주어진 숫자만큼 가장 마지막 수와 마지막에서 두번째 수를 더하여 피보나치 수를 출력했다.\n",
    "\n",
    "------------------------\n",
    "\n",
    "* a, b = n1, n2\n",
    "    * 파이썬에서는 2개 이상의 복수의 변수를 동시에 상호 할당할 수 있다."
   ]
  },
  {
   "cell_type": "code",
   "execution_count": 7,
   "id": "215d2309-10ae-4ff8-9c4c-70835f52ad51",
   "metadata": {},
   "outputs": [],
   "source": [
    "#answer\n",
    "def fibonacci(num):\n",
    "    a, b = 0, 1\n",
    "    for i in range(num):\n",
    "        a, b = b, a+b\n",
    "    return a % 1234567"
   ]
  },
  {
   "cell_type": "code",
   "execution_count": 8,
   "id": "067cb136-3739-4d2a-a384-367eeafd1bd3",
   "metadata": {},
   "outputs": [],
   "source": [
    "assert solution(3) == 2\n",
    "assert solution(5) == 5"
   ]
  }
 ],
 "metadata": {
  "kernelspec": {
   "display_name": "Python 3",
   "language": "python",
   "name": "python3"
  },
  "language_info": {
   "codemirror_mode": {
    "name": "ipython",
    "version": 3
   },
   "file_extension": ".py",
   "mimetype": "text/x-python",
   "name": "python",
   "nbconvert_exporter": "python",
   "pygments_lexer": "ipython3",
   "version": "3.8.8"
  }
 },
 "nbformat": 4,
 "nbformat_minor": 5
}
