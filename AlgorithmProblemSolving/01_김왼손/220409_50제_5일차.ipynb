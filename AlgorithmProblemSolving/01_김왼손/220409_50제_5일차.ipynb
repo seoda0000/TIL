{
 "cells": [
  {
   "cell_type": "markdown",
   "id": "9ab6e390-840f-4b38-ba7f-fcc9a9e9314f",
   "metadata": {},
   "source": [
    "# 김왼손의 왼손코딩 1일 1파이썬 : 초급자를 위한 파이썬 50제\n",
    "## 30 seconds of code\n",
    "### 2022-04-09 5일차"
   ]
  },
  {
   "cell_type": "markdown",
   "id": "88441af8-846d-41b7-bfc4-217cd11a9cba",
   "metadata": {},
   "source": [
    "## 35 min_n\n",
    "Returns the n minimum elements from the provided list. If n is greater than or equal to the provided list's length, then return the original list (sorted in ascending order).\n",
    "\n",
    "Use sorted() to sort the list, [:n] to get the specified number of elements Omit the second argument, n, to get a one-element list."
   ]
  },
  {
   "cell_type": "code",
   "execution_count": 5,
   "id": "27a0d03b-ae72-4f66-81a0-fbf2d9f0f256",
   "metadata": {},
   "outputs": [],
   "source": [
    "def min_n(lst, n = 1):\n",
    "    return sorted(lst)[:n]"
   ]
  },
  {
   "cell_type": "code",
   "execution_count": 6,
   "id": "8f9bbee5-cf9e-4090-95b8-969ce0e77ffd",
   "metadata": {},
   "outputs": [
    {
     "data": {
      "text/plain": [
       "[1, 2, 4]"
      ]
     },
     "execution_count": 6,
     "metadata": {},
     "output_type": "execute_result"
    }
   ],
   "source": [
    "min_n([5, 2, 1, 4], 3)"
   ]
  },
  {
   "cell_type": "code",
   "execution_count": 7,
   "id": "4d55751b-52ee-465a-b483-04e5c55c14ec",
   "metadata": {},
   "outputs": [
    {
     "data": {
      "text/plain": [
       "[1]"
      ]
     },
     "execution_count": 7,
     "metadata": {},
     "output_type": "execute_result"
    }
   ],
   "source": [
    "min_n([5, 2, 1, 4])"
   ]
  },
  {
   "cell_type": "markdown",
   "id": "80ce5082-54a0-44c0-a265-c9352180baaf",
   "metadata": {},
   "source": [
    "## 36 most_frequent\n",
    "Returns the most frequent element in a list.\n",
    "\n",
    "Use set(list) to get the unique values in the list combined with max() to find the element that has the most appearance."
   ]
  },
  {
   "cell_type": "markdown",
   "id": "4a232d31-42c2-472e-909e-046422ce3c21",
   "metadata": {},
   "source": [
    "* **list.count : 요소의 개수를 구하는 메서드**\n",
    "* **list.count(i) : 요소 i의 개수를 구함**\n",
    "* **fn(set, key) : key 값에 fn을 적용하여 set 요소를 도출함**"
   ]
  },
  {
   "cell_type": "code",
   "execution_count": 15,
   "id": "ac2c8ffc-e751-43db-bf6e-c762ba89a3d1",
   "metadata": {},
   "outputs": [],
   "source": [
    "def most_frequent(lst):\n",
    "    return max(set(lst), key = lst.count)"
   ]
  },
  {
   "cell_type": "code",
   "execution_count": 18,
   "id": "ef70e989-a115-4f2d-90dc-b1a72079296e",
   "metadata": {},
   "outputs": [
    {
     "data": {
      "text/plain": [
       "1"
      ]
     },
     "execution_count": 18,
     "metadata": {},
     "output_type": "execute_result"
    }
   ],
   "source": [
    "a = [1, 1, 1, 2, 3, 4, 4, 5, 5, 5, 6, 6]\n",
    "most_frequent(a)"
   ]
  },
  {
   "cell_type": "code",
   "execution_count": 24,
   "id": "b4c5b5e0-adc4-4908-a9b0-7282a539368d",
   "metadata": {},
   "outputs": [
    {
     "data": {
      "text/plain": [
       "3"
      ]
     },
     "execution_count": 24,
     "metadata": {},
     "output_type": "execute_result"
    }
   ],
   "source": [
    "a.count(1)"
   ]
  },
  {
   "cell_type": "markdown",
   "id": "ad27012f-ef1f-4d72-b89d-27ddb64b3ca3",
   "metadata": {},
   "source": [
    "## 37 n_times_string\n",
    "Prints out the same string a defined number of times.\n",
    "\n",
    "Repeat the string n times, using the * operator."
   ]
  },
  {
   "cell_type": "code",
   "execution_count": 25,
   "id": "defdaa96-f1ee-413a-b951-8e92976e84f4",
   "metadata": {},
   "outputs": [],
   "source": [
    "def n_times_string(s, n):\n",
    "    return s * n"
   ]
  },
  {
   "cell_type": "code",
   "execution_count": 26,
   "id": "857f76f4-1bf9-433e-9809-b7e8b508de77",
   "metadata": {},
   "outputs": [
    {
     "data": {
      "text/plain": [
       "'NoNoNoNoNoNoNoNoNoNo'"
      ]
     },
     "execution_count": 26,
     "metadata": {},
     "output_type": "execute_result"
    }
   ],
   "source": [
    "n_times_string(\"No\", 10)"
   ]
  },
  {
   "cell_type": "markdown",
   "id": "a5313a86-02e8-4d3d-bd85-2cf9b7565ba6",
   "metadata": {},
   "source": [
    "## 38 offset\n",
    "Moves the specified amount of elements to the end of the list.\n",
    "\n",
    "Use lst[offset:] and lst[:offset] to get the two slices of the list and combine them before returning."
   ]
  },
  {
   "cell_type": "code",
   "execution_count": 27,
   "id": "f207740d-214e-4947-b1f8-620dc745ce86",
   "metadata": {},
   "outputs": [],
   "source": [
    "def offset(lst, offset):\n",
    "    return lst[offset:] + lst[:offset]"
   ]
  },
  {
   "cell_type": "code",
   "execution_count": 28,
   "id": "34468ae3-49fc-42c5-8b66-477c5f78a52a",
   "metadata": {},
   "outputs": [
    {
     "data": {
      "text/plain": [
       "[4, 5, 6, 1, 2, 3]"
      ]
     },
     "execution_count": 28,
     "metadata": {},
     "output_type": "execute_result"
    }
   ],
   "source": [
    "offset([1, 2, 3, 4, 5, 6], 3)"
   ]
  },
  {
   "cell_type": "markdown",
   "id": "89a2c657-2979-4108-bb7c-c8dff0f2831e",
   "metadata": {},
   "source": [
    "## 39 rads_to_degrees\n",
    "Converts an angle from radians to degrees.\n",
    "\n",
    "Use math.pi and the radian to degree formula to convert the angle from radians to degrees."
   ]
  },
  {
   "cell_type": "code",
   "execution_count": 42,
   "id": "3ef35dd4-3bb6-47dd-b013-c83ddbdceaae",
   "metadata": {},
   "outputs": [],
   "source": [
    "from math import pi # import pi 니까 math.pi를 안 쓰고 pi로 써야한다. math.pi로 쓰면 안 먹힘."
   ]
  },
  {
   "cell_type": "code",
   "execution_count": 43,
   "id": "bf58e292-744f-4822-bd56-758a47ae89ab",
   "metadata": {},
   "outputs": [],
   "source": [
    "def rads_to_degrees(r):\n",
    "    return (r * 180) / pi"
   ]
  },
  {
   "cell_type": "code",
   "execution_count": 44,
   "id": "e41842b9-234c-423c-bb14-266248d23dd0",
   "metadata": {},
   "outputs": [
    {
     "data": {
      "text/plain": [
       "180.0"
      ]
     },
     "execution_count": 44,
     "metadata": {},
     "output_type": "execute_result"
    }
   ],
   "source": [
    "rads_to_degrees(pi)"
   ]
  },
  {
   "cell_type": "markdown",
   "id": "04d816cb-4039-46d1-8e60-1499fb0aeb37",
   "metadata": {},
   "source": [
    "## 40 reverse_string\n",
    "Returns the reverse of a string.\n",
    "\n",
    "Use string slicing to reverse the string."
   ]
  },
  {
   "cell_type": "code",
   "execution_count": 50,
   "id": "e4b91837-5067-4d45-b08a-a55e83dc388e",
   "metadata": {},
   "outputs": [],
   "source": [
    "#try\n",
    "def reverse_string(s):\n",
    "    a = list(s)\n",
    "    a.reverse()\n",
    "    return \"\".join(a)"
   ]
  },
  {
   "cell_type": "code",
   "execution_count": 51,
   "id": "286bbc24-7d14-4f82-ade4-53cb64fc0076",
   "metadata": {},
   "outputs": [
    {
     "data": {
      "text/plain": [
       "'gfedcba'"
      ]
     },
     "execution_count": 51,
     "metadata": {},
     "output_type": "execute_result"
    }
   ],
   "source": [
    "reverse_string(\"abcdefg\")"
   ]
  },
  {
   "cell_type": "markdown",
   "id": "618584dd-28c7-4c90-8a83-594082b4ab7a",
   "metadata": {},
   "source": [
    "* **string에도 -1 스텝 슬라이싱이 먹힌다! [::-1] 붙이면 거꾸로 출력.**"
   ]
  },
  {
   "cell_type": "code",
   "execution_count": 55,
   "id": "1d1cff42-5c60-44a4-8247-54ee6fd57e61",
   "metadata": {},
   "outputs": [],
   "source": [
    "#answer\n",
    "def reverse_string(s):\n",
    "    return s[::-1]"
   ]
  },
  {
   "cell_type": "code",
   "execution_count": 56,
   "id": "a595a32e-c357-4d5d-8251-dfd55337f853",
   "metadata": {},
   "outputs": [
    {
     "data": {
      "text/plain": [
       "'gfedcba'"
      ]
     },
     "execution_count": 56,
     "metadata": {},
     "output_type": "execute_result"
    }
   ],
   "source": [
    "reverse_string(\"abcdefg\")"
   ]
  },
  {
   "cell_type": "markdown",
   "id": "c6715d9c-47d0-4740-91f2-d42d8a65b41a",
   "metadata": {},
   "source": [
    "## 41 sample\n",
    "Returns a random element from a list.\n",
    "Use random.randint() to generate a random number that corresponds to an index in the list, return the element at that index.\n",
    "\n",
    "random.sample() provides similar functionality to this snippet."
   ]
  },
  {
   "cell_type": "code",
   "execution_count": 58,
   "id": "c95831fa-4642-4213-85ce-fc4e44363a47",
   "metadata": {},
   "outputs": [],
   "source": [
    "from random import randint"
   ]
  },
  {
   "cell_type": "markdown",
   "id": "7737f720-1db2-4bb4-b745-3e9ce2087708",
   "metadata": {},
   "source": [
    "* **random.randint(a, b) : a부터 b-1까지의 정수 중 하나를 랜덤 출력**\n",
    "* **위 함수로 index를 랜덤 출력한 후 lst에서 해당되는 값을 출력한다.**"
   ]
  },
  {
   "cell_type": "code",
   "execution_count": 71,
   "id": "1faa01ef-11c5-44ef-937d-7f308474ca1f",
   "metadata": {},
   "outputs": [],
   "source": [
    "def sample(lst):\n",
    "    return lst[randint(0, len(lst) - 1)]"
   ]
  },
  {
   "cell_type": "code",
   "execution_count": 72,
   "id": "9da9d38f-cf9c-417e-9a02-1bf73dea9690",
   "metadata": {},
   "outputs": [
    {
     "data": {
      "text/plain": [
       "2"
      ]
     },
     "execution_count": 72,
     "metadata": {},
     "output_type": "execute_result"
    }
   ],
   "source": [
    "sample([1, 2, 3, 4, 5])"
   ]
  },
  {
   "cell_type": "markdown",
   "id": "11405a1f-e1f6-49c4-a080-c108bd2c5499",
   "metadata": {},
   "source": [
    "* **random.sample(lst, k) : lst요소 중 k개를 랜덤 출력.**"
   ]
  },
  {
   "cell_type": "code",
   "execution_count": 93,
   "id": "49f8cb73-113a-49ca-8535-d8077623017a",
   "metadata": {},
   "outputs": [],
   "source": [
    "import random"
   ]
  },
  {
   "cell_type": "code",
   "execution_count": 94,
   "id": "1070c46d-4791-40f8-a9e9-163f34d23abc",
   "metadata": {},
   "outputs": [
    {
     "data": {
      "text/plain": [
       "[1, 3, 0]"
      ]
     },
     "execution_count": 94,
     "metadata": {},
     "output_type": "execute_result"
    }
   ],
   "source": [
    "random.sample([0, 1, 2, 3], 3)"
   ]
  },
  {
   "cell_type": "markdown",
   "id": "90721339-984f-4746-be80-bfe0e1b42182",
   "metadata": {},
   "source": [
    "## 42 similarity\n",
    "Returns a list of elements that exist in both lists.\n",
    "\n",
    "Use list comprehension on a to only keep values contained in both lists."
   ]
  },
  {
   "cell_type": "code",
   "execution_count": 82,
   "id": "e0178c98-6114-46b7-bc81-4c4d5967122a",
   "metadata": {},
   "outputs": [],
   "source": [
    "def similarity(a, b):\n",
    "    return [item for item in a if item in b]"
   ]
  },
  {
   "cell_type": "code",
   "execution_count": 83,
   "id": "ffaa2c37-987c-4626-ac79-dca63ec2bc84",
   "metadata": {},
   "outputs": [],
   "source": [
    "a = [1, 2, 2, 3, 4, 5]\n",
    "b = [2, 2, 4, 6, 8, 10]"
   ]
  },
  {
   "cell_type": "code",
   "execution_count": 84,
   "id": "4be43d29-5055-4461-90ab-7c4c110bdd4b",
   "metadata": {},
   "outputs": [
    {
     "data": {
      "text/plain": [
       "[2, 2, 4]"
      ]
     },
     "execution_count": 84,
     "metadata": {},
     "output_type": "execute_result"
    }
   ],
   "source": [
    "similarity(a, b)"
   ]
  },
  {
   "cell_type": "markdown",
   "id": "eacdfd09-86ce-4723-8362-25a4ec352bc4",
   "metadata": {},
   "source": [
    "## 43 split_lines\n",
    "Splits a multiline string into a list of lines.\n",
    "\n",
    "Use s.split() and '/n' to match line breaks and create a list.\n",
    "\n",
    "str.splitlines() provides similar functionality to this snippet."
   ]
  },
  {
   "cell_type": "markdown",
   "id": "df77477a-97bf-4a24-8534-a5b55bbd1222",
   "metadata": {},
   "source": [
    "* **역스래쉬 구분 잘하기!**\n",
    "* **엔터 : \\n**\n",
    "* **str.split(x) : x를 기준으로 str을 슬라이싱**"
   ]
  },
  {
   "cell_type": "code",
   "execution_count": 107,
   "id": "31a8612c-d73d-4d64-9744-9f7327e5c417",
   "metadata": {},
   "outputs": [],
   "source": [
    "def split_lines(s):\n",
    "    return s.split('\\n')"
   ]
  },
  {
   "cell_type": "code",
   "execution_count": 108,
   "id": "1298da88-292b-4879-b79d-1b6e1e015d55",
   "metadata": {},
   "outputs": [],
   "source": [
    "s = \"\"\"Hi~~~~~~\n",
    "Hey~~~~~~~\n",
    "How are you~~~~~\"\"\""
   ]
  },
  {
   "cell_type": "code",
   "execution_count": 109,
   "id": "99d3c9b2-407b-47a9-be12-ebddfc0d537e",
   "metadata": {},
   "outputs": [
    {
     "data": {
      "text/plain": [
       "['Hi~~~~~~', 'Hey~~~~~~~', 'How are you~~~~~']"
      ]
     },
     "execution_count": 109,
     "metadata": {},
     "output_type": "execute_result"
    }
   ],
   "source": [
    "split_lines(s)"
   ]
  },
  {
   "cell_type": "markdown",
   "id": "27aff5b9-5a02-45c5-acbb-85b0c41caedf",
   "metadata": {},
   "source": [
    "* **str.splitlines() : 엔터 기준으로 str을 슬라이싱하는 메서드**"
   ]
  },
  {
   "cell_type": "code",
   "execution_count": 112,
   "id": "bfde7ca8-0a48-4834-b695-0dcf7fac6020",
   "metadata": {},
   "outputs": [
    {
     "data": {
      "text/plain": [
       "['Hi~~~~~~', 'Hey~~~~~~~', 'How are you~~~~~']"
      ]
     },
     "execution_count": 112,
     "metadata": {},
     "output_type": "execute_result"
    }
   ],
   "source": [
    "s.splitlines()"
   ]
  }
 ],
 "metadata": {
  "kernelspec": {
   "display_name": "Python 3",
   "language": "python",
   "name": "python3"
  },
  "language_info": {
   "codemirror_mode": {
    "name": "ipython",
    "version": 3
   },
   "file_extension": ".py",
   "mimetype": "text/x-python",
   "name": "python",
   "nbconvert_exporter": "python",
   "pygments_lexer": "ipython3",
   "version": "3.8.8"
  }
 },
 "nbformat": 4,
 "nbformat_minor": 5
}
