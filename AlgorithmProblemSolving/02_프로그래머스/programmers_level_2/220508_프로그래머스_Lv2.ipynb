{
 "cells": [
  {
   "cell_type": "markdown",
   "id": "efebf200-172f-4b4c-b31e-bd01af04f69c",
   "metadata": {},
   "source": [
    "#### **프로그래머스** https://programmers.co.kr/learn/challenges\n",
    "##### 코딩테스트 연습 2022-05-08 13일차 seoda0000"
   ]
  },
  {
   "cell_type": "markdown",
   "id": "01d2438b-9adb-4ff8-b35b-4f8fc349cfc7",
   "metadata": {},
   "source": [
    "--------------------"
   ]
  },
  {
   "cell_type": "markdown",
   "id": "6a01c2fa-0d12-45b8-96d3-e19f0f93f827",
   "metadata": {},
   "source": [
    "# **TIL**\n",
    "\n",
    "    \n",
    "\n",
    "\n",
    "------------------\n",
    "#### 미래의 나에게...\n",
    "* 쉽게 생각하자. 잘 안 풀리면 조작하는 데이터의 관점을 바꿔보자.\n",
    "* 논리적으로 순차적으로 생각하기.\n",
    "* 무작정 코드를 짧게 줄이는 건 도움이 되지 않는다. 개체를 단순하게 만들자.\n",
    "* 리스트의 구성요소 기준으로 차례대로 생각해보자. (런타임을 줄여야 한다!)\n",
    "* for 구문은 되도록 필수적일 때만 사용하자.\n",
    "* 인덱스를 활용하자."
   ]
  },
  {
   "cell_type": "markdown",
   "id": "e158152f-113b-495f-aab3-421be8463340",
   "metadata": {},
   "source": [
    "---------------------\n",
    "2022 KAKAO BLIND RECRUITMENT\n",
    "\n",
    "## **양궁대회**\n",
    "\n",
    "* 어피치가 화살 n발을 다 쏜 후에 라이언이 화살 n발을 쏩니다.\n",
    "* 점수를 계산합니다.\n",
    "* 과녁판은 아래 사진처럼 생겼으며 가장 작은 원의 과녁 점수는 10점이고 가장 큰 원의 바깥쪽은 과녁 점수가 0점입니다.\n",
    "\n",
    "* 만약, k(k는 1~10사이의 자연수)점을 어피치가 a발을 맞혔고 라이언이 b발을 맞혔을 경우 더 많은 화살을 k점에 맞힌 선수가 k 점을 가져갑니다. \n",
    "* 단, a = b일 경우는 어피치가 k점을 가져갑니다. k점을 여러 발 맞혀도 k점 보다 많은 점수를 가져가는 게 아니고 k점만 가져가는 것을 유의하세요. \n",
    "* 또한 a = b = 0 인 경우, 즉, 라이언과 어피치 모두 k점에 단 하나의 화살도 맞히지 못한 경우는 어느 누구도 k점을 가져가지 않습니다.\n",
    "* 모든 과녁 점수에 대하여 각 선수의 최종 점수를 계산합니다.\n",
    "* 최종 점수가 더 높은 선수를 우승자로 결정합니다. 단, 최종 점수가 같을 경우 어피치를 우승자로 결정합니다.\n",
    "\n",
    "* 화살의 개수를 담은 자연수 n, 어피치가 맞힌 과녁 점수의 개수를 10점부터 0점까지 순서대로 담은 정수 배열 info가 매개변수로 주어집니다. \n",
    "* 이때, 라이언이 가장 큰 점수 차이로 우승하기 위해 n발의 화살을 어떤 과녁 점수에 맞혀야 하는지를 10점부터 0점까지 순서대로 정수 배열에 담아 return 하도록 solution 함수를 완성해 주세요. 만약, 라이언이 우승할 수 없는 경우(무조건 지거나 비기는 경우)는 [-1]을 return 해주세요."
   ]
  },
  {
   "cell_type": "code",
   "execution_count": 187,
   "id": "2ff3d470-bef2-4ae7-a293-546b3cc146ee",
   "metadata": {},
   "outputs": [],
   "source": [
    "#try1 score: 50/100\n",
    "def solution(n, info):\n",
    "    \n",
    "    if n == 1: return [-1]\n",
    "    \n",
    "    solution = []\n",
    "    \n",
    "\n",
    "    for i in range(10):\n",
    "        if info[i] >= 2:\n",
    "            solution.append(0)\n",
    "        elif info[i] == 1 and n >= 2:\n",
    "            solution.append(2)\n",
    "            n -= 2\n",
    "        elif info[i] == 1 and n < 2:\n",
    "            solution.append(0)\n",
    "        elif info[i] == 0 and n > 0:\n",
    "            solution.append(1)\n",
    "            n -= 1\n",
    "        else:\n",
    "            solution.append(0)\n",
    "    solution.append(n)\n",
    "    \n",
    "    return solution"
   ]
  },
  {
   "cell_type": "code",
   "execution_count": 188,
   "id": "71d630ae-0af0-466a-8818-431a3b12e97c",
   "metadata": {},
   "outputs": [],
   "source": [
    "assert solution(5, [2,1,1,1,0,0,0,0,0,0,0]) == [0,2,2,0,1,0,0,0,0,0,0]\n",
    "assert solution(1, [1,0,0,0,0,0,0,0,0,0,0]) == [-1]\n",
    "assert solution(9, [0,0,1,2,0,1,1,1,1,1,1]) == [1,1,2,0,1,2,2,0,0,0,0]\n",
    "assert solution(10, [0,0,0,0,0,0,0,0,3,4,3]) == [1,1,1,1,1,1,1,1,0,0,2]"
   ]
  },
  {
   "cell_type": "code",
   "execution_count": 193,
   "id": "c3119030-6036-4ddc-82e4-08dd0e7f1996",
   "metadata": {},
   "outputs": [],
   "source": [
    "#try2 score : 60.7/100\n",
    "def solution(n, info):\n",
    "    if n == 1 and info[0] == 1: return [-1]\n",
    "    lst = {}\n",
    "    for i in range(11):\n",
    "        lst[10-i] = (10-i)/(info[i]+1)\n",
    "        if info[i] > 0:\n",
    "            lst[10-i] += (10-i)/(info[i]+1)\n",
    "    \n",
    "    #print(lst.items())\n",
    "    \n",
    "    score_lst = sorted(lst.items(), key = lambda x: x[1], reverse = True)\n",
    "    \n",
    "    #print(score_lst)\n",
    "    lion_lst = {}\n",
    "    for i in score_lst:\n",
    "        if n - info[10 - i[0]] - 1 >= 0:\n",
    "            n -= info[10 - i[0]] + 1\n",
    "            lion_lst[i[0]] = info[10 - i[0]] + 1\n",
    "            if n < 0 : break\n",
    "            \n",
    "    #print(lion_lst, n)\n",
    "    answer = []\n",
    "    for i in range(10):\n",
    "        if (10 - i) in lion_lst.keys():\n",
    "            answer.append(lion_lst[10-i])\n",
    "            \n",
    "        else:\n",
    "            answer.append(0)\n",
    "    \n",
    "    answer.append(n)\n",
    "    \n",
    "    return answer"
   ]
  },
  {
   "cell_type": "code",
   "execution_count": 194,
   "id": "a6381913-1b23-40a8-bcc0-9d7a73edd64f",
   "metadata": {},
   "outputs": [],
   "source": [
    "assert solution(5, [2,1,1,1,0,0,0,0,0,0,0]) == [0,2,2,0,1,0,0,0,0,0,0]\n",
    "assert solution(1, [1,0,0,0,0,0,0,0,0,0,0]) == [-1]\n",
    "assert solution(9, [0,0,1,2,0,1,1,1,1,1,1]) == [1,1,2,0,1,2,2,0,0,0,0]\n",
    "assert solution(10, [0,0,0,0,0,0,0,0,3,4,3]) == [1,1,1,1,1,1,1,1,0,0,2]"
   ]
  }
 ],
 "metadata": {
  "kernelspec": {
   "display_name": "Python 3",
   "language": "python",
   "name": "python3"
  },
  "language_info": {
   "codemirror_mode": {
    "name": "ipython",
    "version": 3
   },
   "file_extension": ".py",
   "mimetype": "text/x-python",
   "name": "python",
   "nbconvert_exporter": "python",
   "pygments_lexer": "ipython3",
   "version": "3.8.8"
  }
 },
 "nbformat": 4,
 "nbformat_minor": 5
}
