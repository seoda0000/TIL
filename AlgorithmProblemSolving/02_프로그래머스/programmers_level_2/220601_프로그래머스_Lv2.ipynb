{
 "cells": [
  {
   "cell_type": "markdown",
   "id": "efebf200-172f-4b4c-b31e-bd01af04f69c",
   "metadata": {},
   "source": [
    "#### **프로그래머스** https://programmers.co.kr/learn/challenges\n",
    "##### 코딩테스트 연습 2022-06-01 17일차 seoda0000"
   ]
  },
  {
   "cell_type": "markdown",
   "id": "01d2438b-9adb-4ff8-b35b-4f8fc349cfc7",
   "metadata": {},
   "source": [
    "--------------------"
   ]
  },
  {
   "cell_type": "markdown",
   "id": "7b013e9c-4d1b-4e40-b722-4bb0f9b573df",
   "metadata": {},
   "source": [
    "### Review"
   ]
  },
  {
   "cell_type": "code",
   "execution_count": 3,
   "id": "a92f8a79-b331-4f0e-91f7-6ca6c18a29d1",
   "metadata": {},
   "outputs": [
    {
     "data": {
      "text/plain": [
       "[[1], [6, 7], [3, 4, 5]]"
      ]
     },
     "execution_count": 3,
     "metadata": {},
     "output_type": "execute_result"
    }
   ],
   "source": [
    "a = [[1], [3, 4, 5], [6, 7]]\n",
    "a.sort(key = len)\n",
    "a"
   ]
  },
  {
   "cell_type": "code",
   "execution_count": 4,
   "id": "2376186a-ca84-4366-b9fe-2c3855bc729c",
   "metadata": {},
   "outputs": [
    {
     "data": {
      "text/plain": [
       "'bcdddddddddddd'"
      ]
     },
     "execution_count": 4,
     "metadata": {},
     "output_type": "execute_result"
    }
   ],
   "source": [
    "\"aaaaaaaaaaaaaabcdddddddddddd\".lstrip(\"a\")"
   ]
  },
  {
   "cell_type": "code",
   "execution_count": 5,
   "id": "43958252-306c-408d-95d6-507e5a27df76",
   "metadata": {},
   "outputs": [
    {
     "data": {
      "text/plain": [
       "'aaaaaaaaaaaaaabc'"
      ]
     },
     "execution_count": 5,
     "metadata": {},
     "output_type": "execute_result"
    }
   ],
   "source": [
    "\"aaaaaaaaaaaaaabcdddddddddddd\".rstrip(\"d\")"
   ]
  },
  {
   "cell_type": "markdown",
   "id": "6a01c2fa-0d12-45b8-96d3-e19f0f93f827",
   "metadata": {},
   "source": [
    "# **TIL**\n",
    "\n",
    "* continue에서 while의 조건판단 시점으로 돌아간다.\n",
    "    \n",
    "------------------\n",
    "#### 미래의 나에게...\n",
    "* 쉽게 생각하자. 잘 안 풀리면 조작하는 데이터의 관점을 바꿔보자.\n",
    "* 논리적으로 순차적으로 생각하기.\n",
    "* 무작정 코드를 짧게 줄이는 건 도움이 되지 않는다. 개체를 단순하게 만들자.\n",
    "* 리스트의 구성요소 기준으로 차례대로 생각해보자. (런타임을 줄여야 한다!)\n",
    "* for 구문은 되도록 필수적일 때만 사용하자.\n",
    "* 인덱스를 활용하자.\n",
    "* 최대값과 최소값에 유의하자.\n",
    "* 보조 리스트를 만들어 사용하는 것이 효율성이 더 높다."
   ]
  },
  {
   "cell_type": "markdown",
   "id": "e158152f-113b-495f-aab3-421be8463340",
   "metadata": {},
   "source": [
    "---------------------\n",
    "2017 팁스타운\n",
    "\n",
    "\n",
    "## **짝지어 제거하기**\n",
    "\n",
    "짝지어 제거하기는, 알파벳 소문자로 이루어진 문자열을 가지고 시작합니다. 먼저 문자열에서 같은 알파벳이 2개 붙어 있는 짝을 찾습니다. 그다음, 그 둘을 제거한 뒤, 앞뒤로 문자열을 이어 붙입니다. 이 과정을 반복해서 문자열을 모두 제거한다면 짝지어 제거하기가 종료됩니다.  \n",
    "문자열 S가 주어졌을 때, 짝지어 제거하기를 성공적으로 수행할 수 있는지 반환하는 함수를 완성해 주세요.성공적으로 수행할 수 있으면 1을, 아닐 경우 0을 리턴해주면 됩니다."
   ]
  },
  {
   "cell_type": "code",
   "execution_count": 132,
   "id": "b342eb7b-01e6-4df3-831f-ff3ca4f14238",
   "metadata": {},
   "outputs": [],
   "source": [
    "#try1 score 60.2/100\n",
    "def solution(s):\n",
    "    s = list(s)\n",
    "    i = 0\n",
    "\n",
    "    while i < len(s)-1:\n",
    "        if s[i] == s[i+1]:\n",
    "            s.pop(i)\n",
    "            s.pop(i)\n",
    "            if i > 0 : i -= 1\n",
    "            continue\n",
    "        i += 1\n",
    "    \n",
    "\n",
    "    return 1 if len(s) == 0 else 0"
   ]
  },
  {
   "cell_type": "code",
   "execution_count": 133,
   "id": "d9b3bf17-8cf4-47e3-a0ad-98215fff4d3f",
   "metadata": {},
   "outputs": [],
   "source": [
    "assert solution(\"baabaa\") == 1\n",
    "assert solution(\"cdcd\") == 0"
   ]
  },
  {
   "cell_type": "markdown",
   "id": "dcc0db83-7706-405a-a4f4-ea81439a5f2d",
   "metadata": {},
   "source": [
    "* while과 continue를 이용했다. \n",
    "* continue에서 while의 조건판단 시점으로 돌아간다.\n",
    "* 인덱스 0부터 바로 뒷 개체와 같은 값인지 판단한다. 같을 시 둘을 제거하고 바로 앞 인덱스로 간다. 같지 않다면 뒤로 넘어간다.\n",
    "* 정확성 테스트는 통과하였으나 효율성 테스트를 통과하지 못했다. 긴 길이의 리스트를 수정하는 데에 오랜 시간이 걸린다고 한다.\n",
    "--------------------\n",
    "* satck을 사용하였다. answer 리스트에 첫 값을 넣는다. 다음 문자와 같으면 answer 리스트의 값을 제거하고, 다르면 해당 문자를 answer 리스트에 추가한다.\n",
    "* 보조 리스트를 만들어 사용하는 것이 효율성이 더 높다."
   ]
  },
  {
   "cell_type": "code",
   "execution_count": 135,
   "id": "bff79cfa-1b35-4c56-b005-4e238d67fa8c",
   "metadata": {},
   "outputs": [],
   "source": [
    "#answer \n",
    "def solution(s):\n",
    "    \n",
    "    answer = [s[0]]\n",
    "    for i in s[1:]:\n",
    "        if len(answer) > 0 and i == answer[-1]:\n",
    "            answer.pop()\n",
    "        else:\n",
    "            answer.append(i)\n",
    "    \n",
    "\n",
    "    return not answer"
   ]
  },
  {
   "cell_type": "code",
   "execution_count": 136,
   "id": "8386e4b0-4af5-4845-8dea-41c0d4608738",
   "metadata": {},
   "outputs": [],
   "source": [
    "assert solution(\"baabaa\") == 1\n",
    "assert solution(\"cdcd\") == 0"
   ]
  }
 ],
 "metadata": {
  "kernelspec": {
   "display_name": "Python 3",
   "language": "python",
   "name": "python3"
  },
  "language_info": {
   "codemirror_mode": {
    "name": "ipython",
    "version": 3
   },
   "file_extension": ".py",
   "mimetype": "text/x-python",
   "name": "python",
   "nbconvert_exporter": "python",
   "pygments_lexer": "ipython3",
   "version": "3.8.8"
  }
 },
 "nbformat": 4,
 "nbformat_minor": 5
}
