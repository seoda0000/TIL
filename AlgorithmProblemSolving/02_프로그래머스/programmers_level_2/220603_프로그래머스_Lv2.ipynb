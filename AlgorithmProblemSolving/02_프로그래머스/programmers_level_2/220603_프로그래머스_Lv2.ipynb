{
 "cells": [
  {
   "cell_type": "markdown",
   "id": "efebf200-172f-4b4c-b31e-bd01af04f69c",
   "metadata": {},
   "source": [
    "#### **프로그래머스** https://programmers.co.kr/learn/challenges\n",
    "##### 코딩테스트 연습 2022-06-03 19일차 seoda0000"
   ]
  },
  {
   "cell_type": "markdown",
   "id": "01d2438b-9adb-4ff8-b35b-4f8fc349cfc7",
   "metadata": {},
   "source": [
    "--------------------"
   ]
  },
  {
   "cell_type": "markdown",
   "id": "7b013e9c-4d1b-4e40-b722-4bb0f9b573df",
   "metadata": {},
   "source": [
    "### Review"
   ]
  },
  {
   "cell_type": "code",
   "execution_count": 1,
   "id": "07779ff9-24f7-4ec8-b68b-40d7deb06938",
   "metadata": {},
   "outputs": [
    {
     "data": {
      "text/plain": [
       "[1, 2, 3]"
      ]
     },
     "execution_count": 1,
     "metadata": {},
     "output_type": "execute_result"
    }
   ],
   "source": [
    "a = [\"1\", \"2\", \"3\"]\n",
    "list(map(int, a))"
   ]
  },
  {
   "cell_type": "markdown",
   "id": "6a01c2fa-0d12-45b8-96d3-e19f0f93f827",
   "metadata": {},
   "source": [
    "# **TIL**\n",
    "\n",
    "* 미지수로 두고 법칙을 발견하자.\n",
    "\n",
    "    \n",
    "------------------\n",
    "#### 미래의 나에게...\n",
    "* 쉽게 생각하자. 잘 안 풀리면 조작하는 데이터의 관점을 바꿔보자.\n",
    "* 논리적으로 순차적으로 생각하기.\n",
    "* 무작정 코드를 짧게 줄이는 건 도움이 되지 않는다. 개체를 단순하게 만들자.\n",
    "* 리스트의 구성요소 기준으로 차례대로 생각해보자. (런타임을 줄여야 한다!)\n",
    "* for 구문은 되도록 필수적일 때만 사용하자.\n",
    "* 인덱스를 활용하자.\n",
    "* 최대값과 최소값에 유의하자.\n",
    "* 보조 리스트를 만들어 사용하는 것이 효율성이 더 높다."
   ]
  },
  {
   "cell_type": "markdown",
   "id": "e158152f-113b-495f-aab3-421be8463340",
   "metadata": {},
   "source": [
    "---------------------\n",
    "연습문제\n",
    "\n",
    "## **숫자의 표현**\n",
    "\n",
    "자연수 n이 매개변수로 주어질 때, 연속된 자연수들로 n을 표현하는 방법의 수를 return하는 solution를 완성해주세요."
   ]
  },
  {
   "cell_type": "code",
   "execution_count": 31,
   "id": "8f921021-d0b9-495d-a545-a1a2cd03944e",
   "metadata": {},
   "outputs": [],
   "source": [
    "#try1 score 100/100\n",
    "def solution(n):\n",
    "    answer = 0\n",
    "    \n",
    "    for i in range(1, n+1):\n",
    "        \n",
    "        if sum(range(1,i+1)) > n : break\n",
    "\n",
    "        if i % 2 == 0:\n",
    "            if n % i == i/2:\n",
    "                answer += 1\n",
    "                \n",
    "        else:\n",
    "            if n % i == 0:\n",
    "                answer += 1\n",
    "                \n",
    "    return answer"
   ]
  },
  {
   "cell_type": "code",
   "execution_count": 32,
   "id": "a6bfe899-94ab-4165-91d0-7aa3d7f2f458",
   "metadata": {},
   "outputs": [],
   "source": [
    "assert solution(15) == 4"
   ]
  },
  {
   "cell_type": "markdown",
   "id": "ee127ba4-b839-49e6-b77e-4881169788aa",
   "metadata": {},
   "source": [
    "* 미지수를 두고 규칙을 파악하여 풀었다. 홀수는 자신의 배수만 가능하고, 짝수는 자신을 절반으로 나눈 나머지가 나와야 가능하다.\n",
    "* ex) 3 : a-1 + a + a+1 = 3a / 4 : a-1 + a + a+1 + a+2 = 4a +2\n",
    "* 연속된 자연수이므로 n이 i까지의 합보다 작으면 안된다. 이때 break하도록 하였다.\n",
    "---------------------------------\n",
    "* 약수 중 홀수의 개수로 구할 수 있다.\n",
    "* 증명  \n",
    "    a+(a+1)+⋯+(a+k−1) = k(2a+k−1)/2 = n  \n",
    "    a≤n  \n",
    "    k<n  \n",
    "    a,k:자연수  \n",
    "    이때 a를 제외한 값을 모두 우변으로 넘기면  \n",
    "    a = n/k + (1−k)/2  \n",
    "        \n",
    "    n/k가 자연수가 되기 위한 조건 : k는 n의 약수  \n",
    "    (1−k)/2가 정수가 되기 위해선 짝수가 되어야 하므로 k는 홀수  \n",
    "    k < n  \n",
    "    \n",
    "    위 조건을 만족하는 k의 개수만큼 a의 개수가 결정된다."
   ]
  },
  {
   "cell_type": "code",
   "execution_count": 37,
   "id": "7cf6e359-6f35-40db-bf44-664ee040b6c4",
   "metadata": {},
   "outputs": [],
   "source": [
    "#solution\n",
    "def solution(num):\n",
    "    return len([i for i in range(1,num+1,2) if num % i == 0])"
   ]
  },
  {
   "cell_type": "code",
   "execution_count": 36,
   "id": "090c2a8c-2afd-474f-b18a-edcffc7d1fc3",
   "metadata": {},
   "outputs": [],
   "source": [
    "assert solution(15) == 4"
   ]
  }
 ],
 "metadata": {
  "kernelspec": {
   "display_name": "Python 3",
   "language": "python",
   "name": "python3"
  },
  "language_info": {
   "codemirror_mode": {
    "name": "ipython",
    "version": 3
   },
   "file_extension": ".py",
   "mimetype": "text/x-python",
   "name": "python",
   "nbconvert_exporter": "python",
   "pygments_lexer": "ipython3",
   "version": "3.8.8"
  }
 },
 "nbformat": 4,
 "nbformat_minor": 5
}
