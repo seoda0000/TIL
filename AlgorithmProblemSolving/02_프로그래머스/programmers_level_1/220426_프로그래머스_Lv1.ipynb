{
 "cells": [
  {
   "cell_type": "markdown",
   "id": "efebf200-172f-4b4c-b31e-bd01af04f69c",
   "metadata": {},
   "source": [
    "#### **프로그래머스** https://programmers.co.kr/learn/challenges\n",
    "##### 코딩테스트 연습 2022-04-26 5일차 seoda0000"
   ]
  },
  {
   "cell_type": "markdown",
   "id": "01d2438b-9adb-4ff8-b35b-4f8fc349cfc7",
   "metadata": {},
   "source": [
    "--------------------"
   ]
  },
  {
   "cell_type": "markdown",
   "id": "6a01c2fa-0d12-45b8-96d3-e19f0f93f827",
   "metadata": {},
   "source": [
    "# **TIL**\n",
    "\n",
    "* #### **'\\n' : 엔터**\n",
    "\n",
    "\n",
    "------------------\n",
    "#### 미래의 나에게...\n",
    "* 쉽게 생각하자. 잘 안 풀리면 조작하는 데이터의 관점을 바꿔보자.\n",
    "* 논리적으로 순차적으로 생각하기.\n",
    "* 코드를 짰으나 실행 시간이 오래 걸렸다. 간단히 코드를 짜는 방법을 알아두자.\n",
    "* 무작정 코드를 짧게 줄이는 건 도움이 되지 않는다. 개체를 단순하게 만들자.\n"
   ]
  },
  {
   "cell_type": "markdown",
   "id": "e158152f-113b-495f-aab3-421be8463340",
   "metadata": {},
   "source": [
    "---------------------\n",
    "2021 Dev-Matching: 웹 백엔드 개발자\n",
    "## **로또의 최고 순위와 최저 순위**\n",
    "\n",
    "민우가 구매한 로또 번호를 담은 배열 lottos, 당첨 번호를 담은 배열 win_nums가 매개변수로 주어집니다. 이때, 당첨 가능한 최고 순위와 최저 순위를 차례대로 배열에 담아서 return 하도록 solution 함수를 완성해주세요.\n",
    "* 1등 : 6개 일치 \n",
    "* 0 : 모르는 숫자"
   ]
  },
  {
   "cell_type": "code",
   "execution_count": 9,
   "id": "18350bd2-9fc0-4970-b27d-f9893d7cbf38",
   "metadata": {},
   "outputs": [],
   "source": [
    "#try1 score 100/100\n",
    "def solution(lottos, win_nums):\n",
    "    \n",
    "    #모르는 숫자 구하기\n",
    "    zero_ = lottos.count(0)\n",
    "    \n",
    "    #집합으로 만들기\n",
    "    lottos = set(lottos)\n",
    "    win_nums = set(win_nums)\n",
    "    \n",
    "    min_ = len(lottos & win_nums)\n",
    "    max_ = min_ + zero_\n",
    "    \n",
    "    \n",
    "    #등수 도출\n",
    "    answer = [min(7-max_, 6), min(7-min_, 6)]\n",
    "    return answer"
   ]
  },
  {
   "cell_type": "code",
   "execution_count": 4,
   "id": "328f701e-e4a8-45e1-b036-b8747027d7a5",
   "metadata": {},
   "outputs": [
    {
     "data": {
      "text/plain": [
       "[3, 5]"
      ]
     },
     "execution_count": 4,
     "metadata": {},
     "output_type": "execute_result"
    }
   ],
   "source": [
    "solution([44, 1, 0, 0, 31, 25], [31, 10, 45, 1, 6, 19])"
   ]
  },
  {
   "cell_type": "code",
   "execution_count": 5,
   "id": "609af9b8-6362-413c-9878-0a13fc8d2f51",
   "metadata": {},
   "outputs": [
    {
     "data": {
      "text/plain": [
       "[1, 6]"
      ]
     },
     "execution_count": 5,
     "metadata": {},
     "output_type": "execute_result"
    }
   ],
   "source": [
    "solution([0, 0, 0, 0, 0, 0], [38, 19, 20, 40, 15, 25])"
   ]
  },
  {
   "cell_type": "code",
   "execution_count": 6,
   "id": "e5a4c919-2a4b-4b4d-8f6f-380a859f4fff",
   "metadata": {},
   "outputs": [
    {
     "data": {
      "text/plain": [
       "[1, 1]"
      ]
     },
     "execution_count": 6,
     "metadata": {},
     "output_type": "execute_result"
    }
   ],
   "source": [
    "solution([45, 4, 35, 20, 3, 9], [20, 9, 3, 45, 4, 35])"
   ]
  },
  {
   "cell_type": "markdown",
   "id": "9d9747e0-7811-4174-848f-6ee45d937aef",
   "metadata": {},
   "source": [
    "* set을 이용하여 일치하는 번호를 구한 뒤, 등수와의 관계식으로 풀었다.\n",
    "----------------------------\n",
    "\n",
    "* rank라는 리스트를 만들어둔 후, 결과를 도출한다."
   ]
  },
  {
   "cell_type": "code",
   "execution_count": 10,
   "id": "ffc885bb-bd52-41db-9f11-7bc9efe975eb",
   "metadata": {},
   "outputs": [],
   "source": [
    "#answer\n",
    "def solution(lottos, win_nums):\n",
    "\n",
    "    rank=[6,6,5,4,3,2,1]\n",
    "\n",
    "    cnt_0 = lottos.count(0)\n",
    "    ans = 0\n",
    "    for x in win_nums:\n",
    "        if x in lottos:\n",
    "            ans += 1\n",
    "    return rank[cnt_0 + ans],rank[ans]"
   ]
  },
  {
   "cell_type": "markdown",
   "id": "a9354f6b-1745-4d51-b010-a2bd7cf1ceb0",
   "metadata": {},
   "source": [
    "---------------------\n",
    "연습 문제\n",
    "## **직사각형 별찍기**\n",
    "\n",
    "이 문제에는 표준 입력으로 두 개의 정수 n과 m이 주어집니다.\n",
    "별(*) 문자를 이용해 가로의 길이가 n, 세로의 길이가 m인 직사각형 형태를 출력해보세요."
   ]
  },
  {
   "cell_type": "code",
   "execution_count": 12,
   "id": "cd150704-6bfc-44e8-84a8-4ded20ab29d1",
   "metadata": {},
   "outputs": [
    {
     "name": "stdin",
     "output_type": "stream",
     "text": [
      " 3 5\n"
     ]
    },
    {
     "name": "stdout",
     "output_type": "stream",
     "text": [
      "***\n",
      "***\n",
      "***\n",
      "***\n",
      "***\n"
     ]
    }
   ],
   "source": [
    "#try1\n",
    "\n",
    "a, b = map(int, input().strip().split(' '))\n",
    "\n",
    "for i in range(b):\n",
    "    print(\"*\" * a)"
   ]
  },
  {
   "cell_type": "markdown",
   "id": "354b97cb-a43f-473a-af25-4102378ca404",
   "metadata": {},
   "source": [
    "* '\\n' : 엔터"
   ]
  },
  {
   "cell_type": "code",
   "execution_count": 13,
   "id": "c098466d-2b55-49d9-9d1e-4946147d0595",
   "metadata": {},
   "outputs": [
    {
     "name": "stdin",
     "output_type": "stream",
     "text": [
      " 3 5\n"
     ]
    },
    {
     "name": "stdout",
     "output_type": "stream",
     "text": [
      "***\n",
      "***\n",
      "***\n",
      "***\n",
      "***\n",
      "\n"
     ]
    }
   ],
   "source": [
    "#answer\n",
    "a, b = map(int, input().strip().split(' '))\n",
    "\n",
    "answer = ('*'*a +'\\n')*b\n",
    "print(answer)"
   ]
  }
 ],
 "metadata": {
  "kernelspec": {
   "display_name": "Python 3",
   "language": "python",
   "name": "python3"
  },
  "language_info": {
   "codemirror_mode": {
    "name": "ipython",
    "version": 3
   },
   "file_extension": ".py",
   "mimetype": "text/x-python",
   "name": "python",
   "nbconvert_exporter": "python",
   "pygments_lexer": "ipython3",
   "version": "3.8.8"
  }
 },
 "nbformat": 4,
 "nbformat_minor": 5
}
