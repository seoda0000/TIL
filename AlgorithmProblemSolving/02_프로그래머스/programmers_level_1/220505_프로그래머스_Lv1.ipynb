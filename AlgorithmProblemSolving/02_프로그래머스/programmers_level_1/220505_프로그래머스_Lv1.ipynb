{
 "cells": [
  {
   "cell_type": "markdown",
   "id": "efebf200-172f-4b4c-b31e-bd01af04f69c",
   "metadata": {},
   "source": [
    "#### **프로그래머스** https://programmers.co.kr/learn/challenges\n",
    "##### 코딩테스트 연습 2022-05-05 10일차 seoda0000"
   ]
  },
  {
   "cell_type": "markdown",
   "id": "01d2438b-9adb-4ff8-b35b-4f8fc349cfc7",
   "metadata": {},
   "source": [
    "--------------------"
   ]
  },
  {
   "cell_type": "markdown",
   "id": "6a01c2fa-0d12-45b8-96d3-e19f0f93f827",
   "metadata": {},
   "source": [
    "# **TIL**\n",
    "\n",
    "\n",
    "\n",
    "------------------\n",
    "#### 미래의 나에게...\n",
    "* 쉽게 생각하자. 잘 안 풀리면 조작하는 데이터의 관점을 바꿔보자.\n",
    "* 논리적으로 순차적으로 생각하기.\n",
    "* 무작정 코드를 짧게 줄이는 건 도움이 되지 않는다. 개체를 단순하게 만들자.\n",
    "* 리스트의 구성요소 기준으로 차례대로 생각해보자. (런타임을 줄여야 한다!)\n",
    "* for 구문은 되도록 필수적일 때만 사용하자.\n",
    "* 인덱스를 활용하자."
   ]
  },
  {
   "cell_type": "markdown",
   "id": "e158152f-113b-495f-aab3-421be8463340",
   "metadata": {},
   "source": [
    "---------------------\n",
    "2021 KAKAO BLIND RECRUITMENT\n",
    "\n",
    "## **신규 아이디 추천**\n",
    "\n",
    "* 1단계 new_id의 모든 대문자를 대응되는 소문자로 치환합니다.\n",
    "* 2단계 new_id에서 알파벳 소문자, 숫자, 빼기(-), 밑줄(_), 마침표(.)를 제외한 모든 문자를 제거합니다.\n",
    "* 3단계 new_id에서 마침표(.)가 2번 이상 연속된 부분을 하나의 마침표(.)로 치환합니다.\n",
    "* 4단계 new_id에서 마침표(.)가 처음이나 끝에 위치한다면 제거합니다.\n",
    "* 5단계 new_id가 빈 문자열이라면, new_id에 \"a\"를 대입합니다.\n",
    "* 6단계 new_id의 길이가 16자 이상이면, new_id의 첫 15개의 문자를 제외한 나머지 문자들을 모두 제거합니다.\n",
    "     * 만약 제거 후 마침표(.)가 new_id의 끝에 위치한다면 끝에 위치한 마침표(.) 문자를 제거합니다.\n",
    "* 7단계 new_id의 길이가 2자 이하라면, new_id의 마지막 문자를 new_id의 길이가 3이 될 때까지 반복해서 끝에 붙입니다."
   ]
  },
  {
   "cell_type": "code",
   "execution_count": 58,
   "id": "346d0c0e-c66f-4f34-8285-c877dc4fa43a",
   "metadata": {},
   "outputs": [],
   "source": [
    "#try score : 100\n",
    "\n",
    "def solution(new_id):\n",
    "    \n",
    "    #1단계\n",
    "    new_id = new_id.lower()\n",
    "\n",
    "    \n",
    "    #2단계\n",
    "    lst = list(\"qwertyuioplkjhgfdsazxcvbnm1234567890-_.\")\n",
    "    for i in new_id:\n",
    "        if i not in lst:\n",
    "            new_id = new_id.replace(i, \"\")\n",
    "\n",
    "    \n",
    "    #3단계\n",
    "    while \"..\" in new_id:\n",
    "        new_id = new_id.replace(\"..\", \".\")\n",
    "\n",
    "    \n",
    "    #4단계\n",
    "    if new_id == \".\":\n",
    "        new_id = \"\"\n",
    "        \n",
    "    elif new_id[0] == \".\" : \n",
    "        new_id = new_id[1:]\n",
    "\n",
    "    elif new_id[-1] == \".\" : \n",
    "        new_id == new_id[:-1]\n",
    "\n",
    "\n",
    "    \n",
    "    #5단계\n",
    "    if len(new_id) == 0:\n",
    "        new_id = \"a\"\n",
    "\n",
    "    \n",
    "    #6단계\n",
    "    if len(new_id) >= 16:\n",
    "        new_id = new_id[:15]\n",
    "    if new_id[-1] == \".\" : \n",
    "        try : new_id = new_id[:-1]\n",
    "        except : new_id = \"\"\n",
    "  \n",
    "    \n",
    "    #7단계\n",
    "    while len(new_id) <= 2:\n",
    "        new_id = new_id + new_id[-1]\n",
    "        \n",
    "    return new_id"
   ]
  },
  {
   "cell_type": "code",
   "execution_count": 60,
   "id": "e63a9f42-eebe-460b-9766-dc959c3cf58e",
   "metadata": {},
   "outputs": [],
   "source": [
    "assert solution(\"...!@BaT#*..y.abcdefghijklm\") == \"bat.y.abcdefghi\"\n",
    "assert solution(\"z-+.^.\") == \"z--\"\n",
    "assert solution(\"=.=\") == \"aaa\"\n",
    "assert solution(\"123_.def\") == \"123_.def\"\n",
    "assert solution(\"abcdefghijklmn.p\") == \"abcdefghijklmn\""
   ]
  },
  {
   "cell_type": "markdown",
   "id": "226b807b-deca-4364-b66f-03a2d8d3e584",
   "metadata": {},
   "source": [
    "* 단계를 차례대로 구현했다. 나름 간단하게 잘 짠 듯!\n",
    "* 다른 사람들은 정규식을 쓰던데 다음에 공부해봐야겠다."
   ]
  },
  {
   "cell_type": "markdown",
   "id": "d67a1557-913c-48b4-9a88-739e63794239",
   "metadata": {},
   "source": [
    "---------------------\n",
    "2019 카카오 개발자 겨울 인턴십\n",
    "\n",
    "\n",
    "## **크레인 인형뽑기 게임**\n",
    "* 게임 화면은 \"1 x 1\" 크기의 칸들로 이루어진 \"N x N\" 크기의 정사각 격자이며 위쪽에는 크레인이 있고 오른쪽에는 바구니가 있습니다. 모든 인형은 \"1 x 1\" 크기의 격자 한 칸을 차지하며 격자의 가장 아래 칸부터 차곡차곡 쌓여 있습니다.\n",
    "* 게임 사용자는 크레인을 좌우로 움직여서 멈춘 위치에서 가장 위에 있는 인형을 집어 올릴 수 있습니다. 집어 올린 인형은 바구니에 쌓이게 되는 데, 이때 바구니의 가장 아래 칸부터 인형이 순서대로 쌓이게 됩니다. \n",
    "* 만약 같은 모양의 인형 두 개가 바구니에 연속해서 쌓이게 되면 두 인형은 터뜨려지면서 바구니에서 사라지게 됩니다. \n",
    "* 게임 화면의 격자의 상태가 담긴 2차원 배열 board와 인형을 집기 위해 크레인을 작동시킨 위치가 담긴 배열 moves가 매개변수로 주어질 때, 크레인을 모두 작동시킨 후 터트려져 사라진 인형의 개수를 return 하도록 solution 함수를 완성해주세요."
   ]
  },
  {
   "cell_type": "code",
   "execution_count": 97,
   "id": "301d21fc-a5a4-43b8-9bdb-35582302ecd6",
   "metadata": {},
   "outputs": [],
   "source": [
    "#try score:100\n",
    "def solution(board, moves):\n",
    "    n = len(board[0])\n",
    "    \n",
    "    \n",
    "    #열별로 리스트 만들기\n",
    "    \n",
    "    clmns = []\n",
    "    \n",
    "    for i in range(n):\n",
    "        lst = []\n",
    "        for j in range(n):\n",
    "            if board[j][i] != 0:\n",
    "                lst.append(board[j][i])\n",
    "        clmns.append(lst)\n",
    "\n",
    "    line = []\n",
    "    answer = 0\n",
    "    \n",
    "    #moves대로 line 채우고 clmns 줄이기\n",
    "    #채울 때 겹치자마자 요소 지우고 answer + 2 하기\n",
    "    \n",
    "    for i in moves:\n",
    "        try : line.append(clmns[i-1].pop(0))\n",
    "        except : pass\n",
    "\n",
    "        if len(line) > 1 and line[-1] == line[-2]:\n",
    "            answer += 2\n",
    "            line.pop(-1)\n",
    "            line.pop(-1)\n",
    "        \n",
    "        \n",
    "    return answer"
   ]
  },
  {
   "cell_type": "code",
   "execution_count": 98,
   "id": "7743c0b3-94b3-4bdb-bde8-2d0b769e198d",
   "metadata": {},
   "outputs": [],
   "source": [
    "assert solution([[0,0,0,0,0],[0,0,1,0,3],[0,2,5,0,1],[4,2,4,4,2],[3,5,1,3,1]], [1,5,3,5,1,2,1,4]) == 4"
   ]
  },
  {
   "cell_type": "markdown",
   "id": "46eaf719-7451-4bc8-86c6-c0762ddd680f",
   "metadata": {},
   "source": [
    "* 열별로 리스트를 만들었다. 차례대로 요소를 옮기고 answer의 값을 늘렸다.\n",
    "* 리스트에서는 인덱싱보다 pop이 편하다.\n",
    "-------------\n",
    "* 굳이 열별로 리스트를 새로 만들 필요가 없었다."
   ]
  },
  {
   "cell_type": "code",
   "execution_count": 102,
   "id": "d77f6dbe-e99b-4a3a-ae99-1688cf93b8ab",
   "metadata": {},
   "outputs": [],
   "source": [
    "#answer\n",
    "def solution(board, moves):\n",
    "    stacklist = []\n",
    "    answer = 0\n",
    "\n",
    "    for i in moves:\n",
    "        for j in range(len(board)):\n",
    "            if board[j][i-1] != 0:\n",
    "                stacklist.append(board[j][i-1])\n",
    "                board[j][i-1] = 0\n",
    "\n",
    "\n",
    "                if len(stacklist) > 1:\n",
    "                    if stacklist[-1] == stacklist[-2]:\n",
    "                        stacklist.pop(-1)\n",
    "                        stacklist.pop(-1)\n",
    "                        answer += 2     \n",
    "                break\n",
    "\n",
    "    return answer"
   ]
  },
  {
   "cell_type": "code",
   "execution_count": 103,
   "id": "8947a630-c9cb-4ca2-a9c7-82608e9dc1ed",
   "metadata": {},
   "outputs": [],
   "source": [
    "assert solution([[0,0,0,0,0],[0,0,1,0,3],[0,2,5,0,1],[4,2,4,4,2],[3,5,1,3,1]], [1,5,3,5,1,2,1,4]) == 4"
   ]
  }
 ],
 "metadata": {
  "kernelspec": {
   "display_name": "Python 3",
   "language": "python",
   "name": "python3"
  },
  "language_info": {
   "codemirror_mode": {
    "name": "ipython",
    "version": 3
   },
   "file_extension": ".py",
   "mimetype": "text/x-python",
   "name": "python",
   "nbconvert_exporter": "python",
   "pygments_lexer": "ipython3",
   "version": "3.8.8"
  }
 },
 "nbformat": 4,
 "nbformat_minor": 5
}
