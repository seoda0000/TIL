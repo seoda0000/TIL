{
 "cells": [
  {
   "cell_type": "markdown",
   "id": "efebf200-172f-4b4c-b31e-bd01af04f69c",
   "metadata": {},
   "source": [
    "#### **프로그래머스** https://programmers.co.kr/learn/challenges\n",
    "##### 코딩테스트 연습 2022-05-04 9일차 seoda0000"
   ]
  },
  {
   "cell_type": "markdown",
   "id": "01d2438b-9adb-4ff8-b35b-4f8fc349cfc7",
   "metadata": {},
   "source": [
    "--------------------"
   ]
  },
  {
   "cell_type": "markdown",
   "id": "6a01c2fa-0d12-45b8-96d3-e19f0f93f827",
   "metadata": {},
   "source": [
    "# **TIL**\n",
    "\n",
    "\n",
    "\n",
    "------------------\n",
    "#### 미래의 나에게...\n",
    "* 쉽게 생각하자. 잘 안 풀리면 조작하는 데이터의 관점을 바꿔보자.\n",
    "* 논리적으로 순차적으로 생각하기.\n",
    "* 무작정 코드를 짧게 줄이는 건 도움이 되지 않는다. 개체를 단순하게 만들자.\n",
    "* 리스트의 구성요소 기준으로 차례대로 생각해보자. (런타임을 줄여야 한다!)\n",
    "* for 구문은 되도록 필수적일 때만 사용하자.\n",
    "* 인덱스를 활용하자."
   ]
  },
  {
   "cell_type": "markdown",
   "id": "e158152f-113b-495f-aab3-421be8463340",
   "metadata": {},
   "source": [
    "---------------------\n",
    "2018 KAKAO BLIND RECRUITMENT\n",
    "\n",
    "## **다트게임**\n",
    "\n",
    "* 다트 게임은 총 3번의 기회로 구성된다.\n",
    "* 각 기회마다 얻을 수 있는 점수는 0점에서 10점까지이다.\n",
    "* 점수와 함께 Single(S), Double(D), Triple(T) 영역이 존재하고 각 영역 당첨 시 점수에서 1제곱, 2제곱, 3제곱 (점수1 , 점수2 , 점수3 )으로 계산된다.\n",
    "* 옵션으로 스타상(\\*) , 아차상(#)이 존재하며 스타상(*) 당첨 시 해당 점수와 바로 전에 얻은 점수를 각 2배로 만든다. 아차상(#) 당첨 시 해당 점수는 마이너스된다.\n",
    "* 스타상(\\*)은 첫 번째 기회에서도 나올 수 있다. 이 경우 첫 번째 스타상(\\*)의 점수만 2배가 된다. (예제 4번 참고)\n",
    "* 스타상(\\*)의 효과는 다른 스타상(\\*)의 효과와 중첩될 수 있다. 이 경우 중첩된 스타상(\\*) 점수는 4배가 된다. (예제 4번 참고)\n",
    "* 스타상(\\*)의 효과는 아차상(#)의 효과와 중첩될 수 있다. 이 경우 중첩된 아차상(#)의 점수는 -2배가 된다. (예제 5번 참고)\n",
    "* Single(S), Double(D), Triple(T)은 점수마다 하나씩 존재한다.\n",
    "* 스타상(\\*), 아차상(#)은 점수마다 둘 중 하나만 존재할 수 있으며, 존재하지 않을 수도 있다.\n",
    "* 0~10의 정수와 문자 S, D, T, \\*, #로 구성된 문자열이 입력될 시 총점수를 반환하는 함수를 작성하라."
   ]
  },
  {
   "cell_type": "code",
   "execution_count": 56,
   "id": "346d0c0e-c66f-4f34-8285-c877dc4fa43a",
   "metadata": {},
   "outputs": [],
   "source": [
    "#try score : 100\n",
    "\n",
    "def solution(dartResult):\n",
    "    \n",
    "    #데이터 10 처리 후 리스트 만들기\n",
    "    dartResult = dartResult.replace(\"10\", \"a\")\n",
    "    lst = list(dartResult)\n",
    "    lst = [i if i != \"a\" else 10 for i in lst] \n",
    "    \n",
    "    #계산 도출\n",
    "    \n",
    "    answer = []\n",
    "    for i in range(len(lst)):\n",
    "        if lst[i] == \"S\":\n",
    "            answer.append(int(lst[i-1]))\n",
    "        elif lst[i] == \"D\":\n",
    "            answer.append(int(lst[i-1]) ** 2)\n",
    "        elif lst[i] == \"T\":\n",
    "            answer.append(int(lst[i-1]) ** 3)\n",
    "            \n",
    "        #마지막 숫자를 두배하여 요소 교체\n",
    "        #마지막에서 두번째의 숫자를 두배하여 요소 교체 (존재한다면=가능하다면)\n",
    "        \n",
    "        elif lst[i] == \"*\":\n",
    "            answer[-1] = answer[-1] * 2\n",
    "            try : answer[-2] = answer[-2] * 2\n",
    "            except : pass\n",
    "        \n",
    "        #마지막 숫자를 음수로 요소 교체\n",
    "        \n",
    "        elif lst[i] == \"#\":\n",
    "            answer[-1] = -answer[-1]\n",
    "            \n",
    "\n",
    "    return sum(answer)"
   ]
  },
  {
   "cell_type": "code",
   "execution_count": 49,
   "id": "e63a9f42-eebe-460b-9766-dc959c3cf58e",
   "metadata": {},
   "outputs": [],
   "source": [
    "assert solution(\"1S2D*3T\") == 37\n",
    "assert solution(\"1D2S#10S\") == 9\n",
    "assert solution(\"1D2S0T\") == 3\n",
    "assert solution(\"1S*2T*3S\") == 23\n",
    "assert solution(\"1D#2S*3S\") == 5\n",
    "assert solution(\"1T2D3D#\") == -4\n",
    "assert solution(\"1D2S3T*\") == 59"
   ]
  },
  {
   "cell_type": "markdown",
   "id": "59cbd102-cf91-41dd-a0e2-428087e26658",
   "metadata": {},
   "source": [
    "* 한글자씩 분리할 때, 10을 어떻게 처리할지 고민했다. 임의의 알파벳으로 변환 후 다시 숫자 10으로 바꿨는데 괜찮은 생각 같다. 다만 두자리 숫자가 많을 때는 어떻게 분리할지 고민이다.\n",
    "* 이후 문자에 따라 계산결과를 리스트에 추가하였다. 문자에 대해 하나하나 규정하였으므로 이를 어찌 줄일 수 있을지 생각해봐야 할 것 같다.\n",
    "------------------------------------------------------------\n",
    "* 문자열에 대한 리스트를 만들고, 각각의 인덱스를 활용하여 코드를 짠 답안이다."
   ]
  },
  {
   "cell_type": "code",
   "execution_count": 57,
   "id": "d2f0c37d-9849-4b77-ab6d-d2310df3c263",
   "metadata": {},
   "outputs": [],
   "source": [
    "#answer\n",
    "def solution(dartResult):\n",
    "    point = []\n",
    "    answer = []\n",
    "    dartResult = dartResult.replace('10','k')\n",
    "    point = ['10' if i == 'k' else i for i in dartResult]\n",
    "\n",
    "    i = -1\n",
    "    sdt = ['S', 'D', 'T']\n",
    "    for j in point:\n",
    "        if j in sdt :\n",
    "            answer[i] = answer[i] ** (sdt.index(j)+1)\n",
    "        elif j == '*':\n",
    "            answer[i] = answer[i] * 2\n",
    "            if i != 0 :\n",
    "                answer[i - 1] = answer[i - 1] * 2\n",
    "        elif j == '#':\n",
    "            answer[i] = answer[i] * (-1)\n",
    "        else:\n",
    "            answer.append(int(j))\n",
    "            i += 1\n",
    "    return sum(answer)"
   ]
  },
  {
   "cell_type": "code",
   "execution_count": 58,
   "id": "981e9813-156a-490f-8424-9eba2184829e",
   "metadata": {},
   "outputs": [],
   "source": [
    "assert solution(\"1S2D*3T\") == 37\n",
    "assert solution(\"1D2S#10S\") == 9\n",
    "assert solution(\"1D2S0T\") == 3\n",
    "assert solution(\"1S*2T*3S\") == 23\n",
    "assert solution(\"1D#2S*3S\") == 5\n",
    "assert solution(\"1T2D3D#\") == -4\n",
    "assert solution(\"1D2S3T*\") == 59"
   ]
  }
 ],
 "metadata": {
  "kernelspec": {
   "display_name": "Python 3",
   "language": "python",
   "name": "python3"
  },
  "language_info": {
   "codemirror_mode": {
    "name": "ipython",
    "version": 3
   },
   "file_extension": ".py",
   "mimetype": "text/x-python",
   "name": "python",
   "nbconvert_exporter": "python",
   "pygments_lexer": "ipython3",
   "version": "3.8.8"
  }
 },
 "nbformat": 4,
 "nbformat_minor": 5
}
