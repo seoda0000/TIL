{
 "cells": [
  {
   "cell_type": "markdown",
   "id": "9ab6e390-840f-4b38-ba7f-fcc9a9e9314f",
   "metadata": {},
   "source": [
    "# 김왼손의 왼손코딩 1일 1파이썬 : 초급자를 위한 파이썬 50제\n",
    "## 30 seconds of code\n",
    "### 2022-04-05 1일차"
   ]
  },
  {
   "cell_type": "markdown",
   "id": "205713aa-14eb-41ff-b057-91c476ebc140",
   "metadata": {},
   "source": [
    "## 02 all_unique / List\n",
    "Return True if all the values in a list are unique, False otherwise.\n",
    "\n",
    "Use set() on the given list to remove duplicates, use len() to compare its length with the length of the list."
   ]
  },
  {
   "cell_type": "code",
   "execution_count": 1,
   "id": "ec9955b9-99de-44f5-a6fc-d262ed237b80",
   "metadata": {},
   "outputs": [],
   "source": [
    "def all_unique(lst):\n",
    "    return len(lst) == len(set(lst))"
   ]
  },
  {
   "cell_type": "code",
   "execution_count": 2,
   "id": "da4d60d7-5089-4ef9-9508-67cde3752ba1",
   "metadata": {},
   "outputs": [
    {
     "data": {
      "text/plain": [
       "True"
      ]
     },
     "execution_count": 2,
     "metadata": {},
     "output_type": "execute_result"
    }
   ],
   "source": [
    "all_unique([1, 2, 3, 4, 5])"
   ]
  },
  {
   "cell_type": "code",
   "execution_count": 3,
   "id": "0791e6ae-30da-44f9-a3dd-15b7af2ad67a",
   "metadata": {},
   "outputs": [
    {
     "data": {
      "text/plain": [
       "False"
      ]
     },
     "execution_count": 3,
     "metadata": {},
     "output_type": "execute_result"
    }
   ],
   "source": [
    "all_unique([1, 2, 3, 3, 5])"
   ]
  },
  {
   "cell_type": "markdown",
   "id": "c112efa3-9253-4a1e-af36-b89da0767c28",
   "metadata": {},
   "source": [
    "## 03 capitalize_every_word\n",
    "Capitalizes the first letter of every word in a string.\n",
    "\n",
    "Use s.title() to capitalize first letter of every word in the string."
   ]
  },
  {
   "cell_type": "code",
   "execution_count": 9,
   "id": "2f31b1f9-ec01-4662-9f3c-1345a4b420e1",
   "metadata": {},
   "outputs": [],
   "source": [
    "def capitalize_every_word(s):\n",
    "    return s.title()"
   ]
  },
  {
   "cell_type": "code",
   "execution_count": 11,
   "id": "b2551770-22e0-43b8-aa94-0cab156e38a4",
   "metadata": {},
   "outputs": [
    {
     "data": {
      "text/plain": [
       "'Hello World'"
      ]
     },
     "execution_count": 11,
     "metadata": {},
     "output_type": "execute_result"
    }
   ],
   "source": [
    "capitalize_every_word('hello world')"
   ]
  },
  {
   "cell_type": "markdown",
   "id": "f721eacb-6945-48d6-9afb-e80b8394e2ab",
   "metadata": {},
   "source": [
    "## 04 celsius_to_fahrenheit\n",
    "converts Celsius to Farenheit.\n",
    "\n",
    "Use the formula fahrenheit = (celsius * 1.8) + 32 to convert from Celsius to Fareheit."
   ]
  },
  {
   "cell_type": "code",
   "execution_count": 12,
   "id": "1cc2ede8-e147-4563-9647-30f0973067e9",
   "metadata": {},
   "outputs": [],
   "source": [
    "def celsius_to_fahrenheit(celsius):\n",
    "    return (celsius * 1.8) + 32"
   ]
  },
  {
   "cell_type": "code",
   "execution_count": 15,
   "id": "eb34b721-e5c4-4049-9e80-98a2221063f7",
   "metadata": {},
   "outputs": [
    {
     "data": {
      "text/plain": [
       "212.0"
      ]
     },
     "execution_count": 15,
     "metadata": {},
     "output_type": "execute_result"
    }
   ],
   "source": [
    "celsius_to_fahrenheit(100)"
   ]
  },
  {
   "cell_type": "markdown",
   "id": "c42ca4d8-9d2a-4129-be98-ccb846e52c69",
   "metadata": {},
   "source": [
    "## 05 compact\n",
    "\n",
    "Removes falsey values from a list.\n",
    "Use filter() to filter out **falsey values (False, None, 0, and \"\").**\n",
    "\n",
    "**filter(None, lst) : 리스트에서 None 값을 제거해주는 함수. 원래는 첫 항목이 참이 되게 하는 값만 반환함.**"
   ]
  },
  {
   "cell_type": "code",
   "execution_count": 20,
   "id": "895bdd40-5767-476a-a3e1-b7a00fad12da",
   "metadata": {},
   "outputs": [],
   "source": [
    "def compact(lst):\n",
    "    return list(filter(None, lst))"
   ]
  },
  {
   "cell_type": "code",
   "execution_count": 23,
   "id": "570483b1-3138-4a42-a1ad-22a49ec435d8",
   "metadata": {},
   "outputs": [
    {
     "data": {
      "text/plain": [
       "[1, 2, 3, ' ', 'v']"
      ]
     },
     "execution_count": 23,
     "metadata": {},
     "output_type": "execute_result"
    }
   ],
   "source": [
    "a = [1, 2, 3, False, None, 0, \" \", \"v\", \"\"]\n",
    "compact(a)"
   ]
  },
  {
   "cell_type": "markdown",
   "id": "98aec040-ee21-4558-892c-7365e7574239",
   "metadata": {},
   "source": [
    "## 06 count_occurences\n",
    "Counts the occurences of a value in a list.\n",
    "\n",
    "Increment a counter for every item in the list that has the given value and is of the same type."
   ]
  },
  {
   "cell_type": "code",
   "execution_count": 28,
   "id": "980e811f-6b6e-4cf7-9500-4647a34a3ac5",
   "metadata": {},
   "outputs": [],
   "source": [
    "def count_occurences(lst, val):\n",
    "    return len([x for x in lst if x == val and type(x) == type(val)])"
   ]
  },
  {
   "cell_type": "markdown",
   "id": "50093d27-f897-4ddf-8602-787f644b49b4",
   "metadata": {},
   "source": [
    "**list 안에 for와 if를 동시에 사용할 수 있다!**"
   ]
  },
  {
   "cell_type": "code",
   "execution_count": 31,
   "id": "cea3244a-b759-4a31-9dd7-97ee480ad064",
   "metadata": {},
   "outputs": [
    {
     "data": {
      "text/plain": [
       "5"
      ]
     },
     "execution_count": 31,
     "metadata": {},
     "output_type": "execute_result"
    }
   ],
   "source": [
    "count_occurences([1, 2, 3, 1, 2, 3, 3, 3, 3], 3)"
   ]
  },
  {
   "cell_type": "markdown",
   "id": "d297bb2f-48e7-4eca-a55f-65280dd3f813",
   "metadata": {},
   "source": [
    "## 07 degrees_to_rads\n",
    "Converts an angle from degrees to radians.\n",
    "\n",
    "Use math.pi and the degrees to radians formula to convert the angle from degrees to radians.\n",
    "\n",
    "**(각도/180) * pi , 180도는 pi라디안**"
   ]
  },
  {
   "cell_type": "code",
   "execution_count": 36,
   "id": "7e17af69-4b24-4cc0-8b5e-4098f65a56a3",
   "metadata": {},
   "outputs": [],
   "source": [
    "from math import pi\n",
    "\n",
    "def degrees_to_rads(deg):\n",
    "    return (deg * pi) / 180.0"
   ]
  },
  {
   "cell_type": "code",
   "execution_count": 37,
   "id": "c5c2bceb-c91e-45ef-97f1-5e4a7adb6190",
   "metadata": {},
   "outputs": [
    {
     "data": {
      "text/plain": [
       "3.141592653589793"
      ]
     },
     "execution_count": 37,
     "metadata": {},
     "output_type": "execute_result"
    }
   ],
   "source": [
    "degrees_to_rads(180)"
   ]
  },
  {
   "cell_type": "markdown",
   "id": "3f8640a1-68f2-4a2d-92ec-0aa588ad8798",
   "metadata": {},
   "source": [
    "## 08 difference\n",
    "Returns the difference between two iterables.\n",
    "\n",
    "Create a set from b, then use list comprehension on a to only keep values not contained in the previously created set, _b."
   ]
  },
  {
   "cell_type": "code",
   "execution_count": 38,
   "id": "5c724723-053e-4b78-8e14-a6dc4b9e7974",
   "metadata": {},
   "outputs": [],
   "source": [
    "def difference(a, b):\n",
    "    _b = set(b)\n",
    "    return [x for x in a if x not in _b]"
   ]
  },
  {
   "cell_type": "code",
   "execution_count": 39,
   "id": "2ec95429-585f-455c-974a-84dd05574b3f",
   "metadata": {},
   "outputs": [
    {
     "data": {
      "text/plain": [
       "[1, 2]"
      ]
     },
     "execution_count": 39,
     "metadata": {},
     "output_type": "execute_result"
    }
   ],
   "source": [
    "difference([1, 2, 3], [3, 4, 5])"
   ]
  },
  {
   "cell_type": "markdown",
   "id": "443de1cd-051f-4b62-8046-751eba3b57e2",
   "metadata": {},
   "source": [
    "## 09 digitize\n",
    "Converts a number to a list of digits.\n",
    "\n",
    "Use map() combined with int on the string repreentation of n and return a list from the result.\n",
    "\n",
    "숫자를 하나하나 쪼개어서 리스트로 만들기."
   ]
  },
  {
   "cell_type": "code",
   "execution_count": 44,
   "id": "80208819-4a51-46fc-a794-eeb88d0675c1",
   "metadata": {},
   "outputs": [],
   "source": [
    "def digitize(n):\n",
    "    return list(map(int, str(n)))"
   ]
  },
  {
   "cell_type": "markdown",
   "id": "bff8556b-96d6-4cae-ae50-405c5f2ebefe",
   "metadata": {},
   "source": [
    "**map : str(n)에 int 함수를 적용.**"
   ]
  },
  {
   "cell_type": "code",
   "execution_count": 46,
   "id": "0fdfbd81-860c-4e82-b8f7-1268f1854f05",
   "metadata": {},
   "outputs": [
    {
     "data": {
      "text/plain": [
       "[1, 2, 3]"
      ]
     },
     "execution_count": 46,
     "metadata": {},
     "output_type": "execute_result"
    }
   ],
   "source": [
    "digitize(123)"
   ]
  },
  {
   "cell_type": "markdown",
   "id": "2a3dfefc-4445-40bd-82db-4935a7ed6799",
   "metadata": {},
   "source": [
    "## 10 drop\n",
    "\n",
    "Returns a list with n elements removed from the left.\n",
    "\n",
    "Use slice notation to remove the specified number of elements from the left."
   ]
  },
  {
   "cell_type": "code",
   "execution_count": 52,
   "id": "f14339e3-18a1-4510-943d-8c4fc778d568",
   "metadata": {},
   "outputs": [],
   "source": [
    "def drop(lst, n = 1): #기본값 1로 지정\n",
    "    return lst[n:]"
   ]
  },
  {
   "cell_type": "code",
   "execution_count": 53,
   "id": "5183a2d2-07ac-4f0e-96b9-3c267be486a0",
   "metadata": {},
   "outputs": [
    {
     "data": {
      "text/plain": [
       "[3, 4, 5]"
      ]
     },
     "execution_count": 53,
     "metadata": {},
     "output_type": "execute_result"
    }
   ],
   "source": [
    "drop([1, 2, 3, 4, 5], 2)"
   ]
  },
  {
   "cell_type": "markdown",
   "id": "c3b693e7-7ecf-4ea0-9e5d-44b36a8347ff",
   "metadata": {},
   "source": [
    "## 11 drop_right\n",
    "\n",
    "Returns a list with n elements removed from the right.\n",
    "\n",
    "Use slice notation to remove the specified number of elements from the right."
   ]
  },
  {
   "cell_type": "code",
   "execution_count": 54,
   "id": "dee916ea-8684-44ae-b5d2-df8568583d6b",
   "metadata": {},
   "outputs": [],
   "source": [
    "def drop_right(lst, n = 1): #기본값 1로 지정\n",
    "    return lst[:-n]"
   ]
  },
  {
   "cell_type": "code",
   "execution_count": 55,
   "id": "28e6eb5f-84dc-40f1-a9d3-df44dacd291c",
   "metadata": {},
   "outputs": [
    {
     "data": {
      "text/plain": [
       "[1, 2, 3]"
      ]
     },
     "execution_count": 55,
     "metadata": {},
     "output_type": "execute_result"
    }
   ],
   "source": [
    "drop_right([1, 2, 3, 4, 5], 2)"
   ]
  },
  {
   "cell_type": "markdown",
   "id": "88441af8-846d-41b7-bfc4-217cd11a9cba",
   "metadata": {},
   "source": [
    "## 12 every_nth"
   ]
  },
  {
   "cell_type": "markdown",
   "id": "72785f25-6394-42ba-80a1-faced59b4056",
   "metadata": {},
   "source": [
    "## 13 fahrenheit_to_celsius"
   ]
  },
  {
   "cell_type": "code",
   "execution_count": null,
   "id": "856006fa-ca2e-46dd-9ec1-1888b346a5de",
   "metadata": {},
   "outputs": [],
   "source": []
  }
 ],
 "metadata": {
  "kernelspec": {
   "display_name": "Python 3",
   "language": "python",
   "name": "python3"
  },
  "language_info": {
   "codemirror_mode": {
    "name": "ipython",
    "version": 3
   },
   "file_extension": ".py",
   "mimetype": "text/x-python",
   "name": "python",
   "nbconvert_exporter": "python",
   "pygments_lexer": "ipython3",
   "version": "3.8.8"
  }
 },
 "nbformat": 4,
 "nbformat_minor": 5
}
