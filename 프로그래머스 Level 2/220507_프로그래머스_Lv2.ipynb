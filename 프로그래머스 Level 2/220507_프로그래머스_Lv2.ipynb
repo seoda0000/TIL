{
 "cells": [
  {
   "cell_type": "markdown",
   "id": "efebf200-172f-4b4c-b31e-bd01af04f69c",
   "metadata": {},
   "source": [
    "#### **프로그래머스** https://programmers.co.kr/learn/challenges\n",
    "##### 코딩테스트 연습 2022-05-07 12일차 seoda0000"
   ]
  },
  {
   "cell_type": "markdown",
   "id": "01d2438b-9adb-4ff8-b35b-4f8fc349cfc7",
   "metadata": {},
   "source": [
    "--------------------"
   ]
  },
  {
   "cell_type": "markdown",
   "id": "93490ebd-26c7-4434-835e-854b0fa42692",
   "metadata": {},
   "source": [
    "### **Review**"
   ]
  },
  {
   "cell_type": "code",
   "execution_count": 88,
   "id": "c76ac63b-5199-471a-a1af-704b50d05563",
   "metadata": {},
   "outputs": [
    {
     "data": {
      "text/plain": [
       "1"
      ]
     },
     "execution_count": 88,
     "metadata": {},
     "output_type": "execute_result"
    }
   ],
   "source": [
    "import heapq\n",
    "lst = [3, 4, 5, 1]\n",
    "heapq.heapify(lst) #리스트를 heap으로 만들기\n",
    "heapq.heappop(lst) #heap의 가장 작은 요소 빼기"
   ]
  },
  {
   "cell_type": "code",
   "execution_count": 89,
   "id": "972c1439-68f5-44af-bc47-c7728f899c07",
   "metadata": {},
   "outputs": [
    {
     "data": {
      "text/plain": [
       "[3, 4, 5, 100]"
      ]
     },
     "execution_count": 89,
     "metadata": {},
     "output_type": "execute_result"
    }
   ],
   "source": [
    "heapq.heappush(lst, 100)\n",
    "lst"
   ]
  },
  {
   "cell_type": "markdown",
   "id": "6a01c2fa-0d12-45b8-96d3-e19f0f93f827",
   "metadata": {},
   "source": [
    "# **TIL**\n",
    "\n",
    "    \n",
    "    \n",
    "* **a //= n**\n",
    "    * a = a//n\n",
    "\n",
    "------------------\n",
    "#### 미래의 나에게...\n",
    "* 쉽게 생각하자. 잘 안 풀리면 조작하는 데이터의 관점을 바꿔보자.\n",
    "* 논리적으로 순차적으로 생각하기.\n",
    "* 무작정 코드를 짧게 줄이는 건 도움이 되지 않는다. 개체를 단순하게 만들자.\n",
    "* 리스트의 구성요소 기준으로 차례대로 생각해보자. (런타임을 줄여야 한다!)\n",
    "* for 구문은 되도록 필수적일 때만 사용하자.\n",
    "* 인덱스를 활용하자."
   ]
  },
  {
   "cell_type": "markdown",
   "id": "e158152f-113b-495f-aab3-421be8463340",
   "metadata": {},
   "source": [
    "---------------------\n",
    "연습문제\n",
    "\n",
    "## **최솟값 만들기**\n",
    "\n",
    "* 길이가 같은 배열 A, B 두개가 있습니다. 각 배열은 자연수로 이루어져 있습니다.\n",
    "* 배열 A, B에서 각각 한 개의 숫자를 뽑아 두 수를 곱합니다. 이러한 과정을 배열의 길이만큼 반복하며, 두 수를 곱한 값을 누적하여 더합니다. \n",
    "* 이때 최종적으로 누적된 값이 최소가 되도록 만드는 것이 목표입니다.   \n",
    "(단, 각 배열에서 k번째 숫자를 뽑았다면 다음에 k번째 숫자는 다시 뽑을 수 없습니다.)"
   ]
  },
  {
   "cell_type": "code",
   "execution_count": 1,
   "id": "346d0c0e-c66f-4f34-8285-c877dc4fa43a",
   "metadata": {},
   "outputs": [],
   "source": [
    "#try score:100/100\n",
    "def solution(A,B):\n",
    "    A = sorted(A)\n",
    "    B = sorted(B, reverse = True)\n",
    "    \n",
    "    answer = 0\n",
    "    for i, j in zip(A, B):\n",
    "        answer += i*j\n",
    "\n",
    "    return answer"
   ]
  },
  {
   "cell_type": "code",
   "execution_count": 4,
   "id": "748e02a4-eae8-4a32-85d0-4595fb910a74",
   "metadata": {},
   "outputs": [],
   "source": [
    "assert solution([1, 4, 2], [5, 4, 4]) == 29\n",
    "assert solution([1,2], [3,4]) ==10"
   ]
  },
  {
   "cell_type": "markdown",
   "id": "3a101571-9db2-4080-87c3-3f44bbd35194",
   "metadata": {},
   "source": [
    "* 두 배열의 곱이 가장 작아지려면, 최솟값과 최대값을 짝지어 곱해야 한다는 것을 이용했다.\n",
    "* 하나는 오름차순으로, 다른 배열은 내림차순으로 정렬한 뒤 zip을 사용하여 각각 곱했다."
   ]
  },
  {
   "cell_type": "markdown",
   "id": "9034de93-3100-44f5-9220-5d0d122ac5c3",
   "metadata": {},
   "source": [
    "---------------------\n",
    "연습문제\n",
    "\n",
    "## **124 나라의 숫자**\n",
    "\n",
    "* 124 나라에는 자연수만 존재합니다.\n",
    "* 124 나라에는 모든 수를 표현할 때 1, 2, 4만 사용합니다.  \n",
    "10진법 -> 124 나라  \n",
    "1 -> 1  \n",
    "2 -> 2  \n",
    "3 -> 4  \n",
    "4 -> 11  \n",
    "5 -> 12  \n",
    "6 -> 14  \n",
    "7 -> 21  \n",
    "8 -> 22  \n",
    "9 -> 24  \n",
    "10 -> 41"
   ]
  },
  {
   "cell_type": "code",
   "execution_count": 54,
   "id": "abcb2822-a611-40dc-a8d3-e4dd67031743",
   "metadata": {},
   "outputs": [],
   "source": [
    "#try1 score : 95/100\n",
    "def solution(n):\n",
    "    \n",
    "    answer = []\n",
    "    \n",
    "    if n % 3 == 0:\n",
    "        answer.append(\"4\")\n",
    "        n = n // 3 - 1\n",
    "    else:\n",
    "        answer.append(str(n % 3))\n",
    "        n = n // 3\n",
    "    \n",
    "    while n != 0:\n",
    "        if n <= 3:\n",
    "            answer.insert(0, str(n))\n",
    "            n = 0\n",
    "        else:\n",
    "            if n % 3 == 0:\n",
    "                answer.insert(0, \"4\")\n",
    "                n = n // 3 - 1\n",
    "            else:\n",
    "                answer.insert(0, str(n % 3))\n",
    "                n = n // 3\n",
    "    \n",
    "\n",
    "    return \"\".join(answer).replace(\"3\", \"4\")"
   ]
  },
  {
   "cell_type": "code",
   "execution_count": 55,
   "id": "fae96093-852c-4475-a27b-b9afbdcce2f8",
   "metadata": {},
   "outputs": [
    {
     "data": {
      "text/plain": [
       "'41'"
      ]
     },
     "execution_count": 55,
     "metadata": {},
     "output_type": "execute_result"
    }
   ],
   "source": [
    "solution(10)"
   ]
  },
  {
   "cell_type": "markdown",
   "id": "d962f112-e5b7-456e-80d9-d6ca77a016b6",
   "metadata": {},
   "source": [
    "* 3의 배수일 때와 아닐 때를 구분하여, 나머지를 뒤에서부터 추가하였다.\n",
    "* 3의 배수인 경우 몫과 나머지의 법칙이 어긋나기 때문이다. 나머지가 0이고 몫만 있기 때문에 몫의 자리가 하나 더해진다. 이걸 반영해야 한다.\n",
    "* 마지막에 3을 4로 교체했다.\n",
    "---------------------------\n",
    "* 숫자를 구분하지 않고, 3의 배수인 케이스만 if를 이용하여 몫에서 1을 뺐다.\n",
    "* num 리스트를 만들어서 인덱싱을 활용했다.\n",
    "* 훨씬 간단해졌다!"
   ]
  },
  {
   "cell_type": "code",
   "execution_count": 70,
   "id": "894c2915-1683-4bf1-bf2d-9c1a17ffd31c",
   "metadata": {},
   "outputs": [],
   "source": [
    "#try2 score 100/100\n",
    "def solution(n):\n",
    "    \n",
    "    answer = \"\"\n",
    "    \n",
    "    num = [\"4\", \"1\", \"2\"]\n",
    "    \n",
    "    while n != 0:\n",
    "        answer = num[n % 3] + answer\n",
    "        n = n // 3\n",
    "        if answer[0] == \"4\": n -= 1\n",
    "        \n",
    "    return answer"
   ]
  },
  {
   "cell_type": "code",
   "execution_count": 71,
   "id": "94ea5321-f375-460c-ac20-572a444ae070",
   "metadata": {},
   "outputs": [
    {
     "data": {
      "text/plain": [
       "'124'"
      ]
     },
     "execution_count": 71,
     "metadata": {},
     "output_type": "execute_result"
    }
   ],
   "source": [
    "solution(18)"
   ]
  },
  {
   "cell_type": "code",
   "execution_count": 74,
   "id": "52f5c75f-d000-4045-b055-7014386fe7e7",
   "metadata": {},
   "outputs": [],
   "source": [
    "#answer\n",
    "def solution(n):\n",
    "    num = ['1','2','4']\n",
    "    answer = \"\"\n",
    "\n",
    "\n",
    "    while n > 0:\n",
    "        n -= 1\n",
    "        answer = num[n % 3] + answer\n",
    "        n //= 3\n",
    "\n",
    "    return answer"
   ]
  },
  {
   "cell_type": "markdown",
   "id": "614298b2-2b3b-4fd1-b593-d73ebe3d54b1",
   "metadata": {},
   "source": [
    "* 인덱싱 방법을 달리 하여 if문을 사용하지 않더라도 계산되도록 했다.\n",
    "* **a //= n**\n",
    "    * a = a//n"
   ]
  }
 ],
 "metadata": {
  "kernelspec": {
   "display_name": "Python 3",
   "language": "python",
   "name": "python3"
  },
  "language_info": {
   "codemirror_mode": {
    "name": "ipython",
    "version": 3
   },
   "file_extension": ".py",
   "mimetype": "text/x-python",
   "name": "python",
   "nbconvert_exporter": "python",
   "pygments_lexer": "ipython3",
   "version": "3.8.8"
  }
 },
 "nbformat": 4,
 "nbformat_minor": 5
}
