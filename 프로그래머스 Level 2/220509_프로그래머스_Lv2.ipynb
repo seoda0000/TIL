{
 "cells": [
  {
   "cell_type": "markdown",
   "id": "efebf200-172f-4b4c-b31e-bd01af04f69c",
   "metadata": {},
   "source": [
    "#### **프로그래머스** https://programmers.co.kr/learn/challenges\n",
    "##### 코딩테스트 연습 2022-05-09 14일차 seoda0000"
   ]
  },
  {
   "cell_type": "markdown",
   "id": "01d2438b-9adb-4ff8-b35b-4f8fc349cfc7",
   "metadata": {},
   "source": [
    "--------------------"
   ]
  },
  {
   "cell_type": "markdown",
   "id": "6a01c2fa-0d12-45b8-96d3-e19f0f93f827",
   "metadata": {},
   "source": [
    "# **TIL**\n",
    "\n",
    "* from fractions import gcd\n",
    "    * fraction 모듈의 gcd : 최소공배수 구하기\n",
    "* gcd(a, b)\n",
    "    * a와 b의 최소공배수\n",
    "    \n",
    "------------------\n",
    "#### 미래의 나에게...\n",
    "* 쉽게 생각하자. 잘 안 풀리면 조작하는 데이터의 관점을 바꿔보자.\n",
    "* 논리적으로 순차적으로 생각하기.\n",
    "* 무작정 코드를 짧게 줄이는 건 도움이 되지 않는다. 개체를 단순하게 만들자.\n",
    "* 리스트의 구성요소 기준으로 차례대로 생각해보자. (런타임을 줄여야 한다!)\n",
    "* for 구문은 되도록 필수적일 때만 사용하자.\n",
    "* 인덱스를 활용하자."
   ]
  },
  {
   "cell_type": "markdown",
   "id": "e158152f-113b-495f-aab3-421be8463340",
   "metadata": {},
   "source": [
    "---------------------\n",
    "연습문제\n",
    "\n",
    "## **n개의 최소공배수**\n",
    "\n",
    "* 두 수의 최소공배수(Least Common Multiple)란 입력된 두 수의 배수 중 공통이 되는 가장 작은 숫자를 의미합니다. 예를 들어 2와 7의 최소공배수는 14가 됩니다.\n",
    "* 정의를 확장해서, n개의 수의 최소공배수는 n 개의 수들의 배수 중 공통이 되는 가장 작은 숫자가 됩니다.\n",
    "* n개의 숫자를 담은 배열 arr이 입력되었을 때 이 수들의 최소공배수를 반환하는 함수, solution을 완성해 주세요."
   ]
  },
  {
   "cell_type": "code",
   "execution_count": 20,
   "id": "2ff3d470-bef2-4ae7-a293-546b3cc146ee",
   "metadata": {},
   "outputs": [],
   "source": [
    "#try score 100/100\n",
    "def solution(arr):\n",
    "    \n",
    "    #내림차순 정렬 후 최대값을 a로 설정\n",
    "    arr.sort(reverse = True)\n",
    "    a = arr[0]\n",
    "    \n",
    "    #a와 다음 수의 최소공배수를 구하고, 그 최소공배수와 다음 수의 최소공배수를 반복적으로 구함. \n",
    "    for i in range(1, len(arr)-1):\n",
    "        b = arr[i]\n",
    "        nom = a*b\n",
    "        \n",
    "        while a % b != 0:\n",
    "            temp = b\n",
    "            b = a % b\n",
    "            a = temp\n",
    "\n",
    "        a = nom / b\n",
    "            \n",
    "            \n",
    "    return int(a)"
   ]
  },
  {
   "cell_type": "code",
   "execution_count": 21,
   "id": "4d9800da-ddf1-4ed0-b3c8-d938029092a7",
   "metadata": {},
   "outputs": [],
   "source": [
    "assert solution([2,6,8,14]) == 168\n",
    "assert solution([1,2,3]) == 6"
   ]
  },
  {
   "cell_type": "markdown",
   "id": "91b34a9b-1487-4780-9dcf-632c8fa36795",
   "metadata": {},
   "source": [
    "* A x B = A와 B의 최대공약수 x A와 B의 최소공배수 임을 이용하여 풀었다.\n",
    "\n",
    "------------------------\n",
    "\n",
    "* from fractions import gcd\n",
    "    * fraction 모듈의 gcd : 최소공배수 구하기\n",
    "* gcd(a, b)\n",
    "    * a와 b의 최소공배수"
   ]
  },
  {
   "cell_type": "code",
   "execution_count": 22,
   "id": "215d2309-10ae-4ff8-9c4c-70835f52ad51",
   "metadata": {},
   "outputs": [],
   "source": [
    "#answer\n",
    "from fractions import gcd\n",
    "\n",
    "\n",
    "def nlcm(num):      \n",
    "    answer = num[0]\n",
    "    for n in num:\n",
    "        answer = n * answer / gcd(n, answer)\n",
    "\n",
    "    return answer"
   ]
  }
 ],
 "metadata": {
  "kernelspec": {
   "display_name": "Python 3",
   "language": "python",
   "name": "python3"
  },
  "language_info": {
   "codemirror_mode": {
    "name": "ipython",
    "version": 3
   },
   "file_extension": ".py",
   "mimetype": "text/x-python",
   "name": "python",
   "nbconvert_exporter": "python",
   "pygments_lexer": "ipython3",
   "version": "3.8.8"
  }
 },
 "nbformat": 4,
 "nbformat_minor": 5
}
