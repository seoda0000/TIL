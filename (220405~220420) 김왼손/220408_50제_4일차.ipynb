{
 "cells": [
  {
   "cell_type": "markdown",
   "id": "9ab6e390-840f-4b38-ba7f-fcc9a9e9314f",
   "metadata": {},
   "source": [
    "# 김왼손의 왼손코딩 1일 1파이썬 : 초급자를 위한 파이썬 50제\n",
    "## 30 seconds of code\n",
    "### 2022-04-08 4일차"
   ]
  },
  {
   "cell_type": "markdown",
   "id": "88441af8-846d-41b7-bfc4-217cd11a9cba",
   "metadata": {},
   "source": [
    "## 33 median\n",
    "Returns the n maximum elements from the provided list. If n is greater than or equal to the provided list's length, then return the original list (sorted in descending order).\n",
    "\n",
    "Use sorted() to sort the list, [:n] to get the specified number of elements. Omit the second argument, n, to get a one-element list."
   ]
  },
  {
   "cell_type": "code",
   "execution_count": 4,
   "id": "e0422323-685c-4a2e-acfc-aa1529fae494",
   "metadata": {},
   "outputs": [],
   "source": [
    "#try\n",
    "\n",
    "def median(lst, n = 1):\n",
    "    lst.sort(reverse = True)\n",
    "    return lst[:n]"
   ]
  },
  {
   "cell_type": "code",
   "execution_count": 5,
   "id": "ade01eb1-2578-466b-8057-f525012e5ff0",
   "metadata": {},
   "outputs": [
    {
     "data": {
      "text/plain": [
       "[5]"
      ]
     },
     "execution_count": 5,
     "metadata": {},
     "output_type": "execute_result"
    }
   ],
   "source": [
    "median([1, 2, 3, 4, 5])"
   ]
  },
  {
   "cell_type": "code",
   "execution_count": 6,
   "id": "5fd2e4c0-3fe6-40f3-a19e-a51bffff2481",
   "metadata": {},
   "outputs": [
    {
     "data": {
      "text/plain": [
       "[5, 4, 3]"
      ]
     },
     "execution_count": 6,
     "metadata": {},
     "output_type": "execute_result"
    }
   ],
   "source": [
    "median([1, 2, 3, 4, 5], 3)"
   ]
  },
  {
   "cell_type": "code",
   "execution_count": 7,
   "id": "7a565c69-0b5a-4de5-8e86-cea274d45ce6",
   "metadata": {},
   "outputs": [
    {
     "data": {
      "text/plain": [
       "[5, 4, 3, 2, 1]"
      ]
     },
     "execution_count": 7,
     "metadata": {},
     "output_type": "execute_result"
    }
   ],
   "source": [
    "median([1, 2, 3, 4, 5], 10)"
   ]
  },
  {
   "cell_type": "markdown",
   "id": "9a21aba4-72bf-4b80-9a0e-c28fc7fab595",
   "metadata": {},
   "source": [
    "* **sorted(list, reverse 여부) -> sort된 리스트 생성됨.**"
   ]
  },
  {
   "cell_type": "code",
   "execution_count": 9,
   "id": "c48ab5c2-b98c-4e6d-864a-10bed1f2d07f",
   "metadata": {},
   "outputs": [],
   "source": [
    "#answer\n",
    "def median(lst, n = 1):\n",
    "    return sorted(lst, reverse = True)[:n]"
   ]
  },
  {
   "cell_type": "code",
   "execution_count": 10,
   "id": "7270fb9f-cceb-4457-a570-726c09a6500a",
   "metadata": {},
   "outputs": [
    {
     "data": {
      "text/plain": [
       "[5]"
      ]
     },
     "execution_count": 10,
     "metadata": {},
     "output_type": "execute_result"
    }
   ],
   "source": [
    "median([1, 2, 3, 4, 5])"
   ]
  },
  {
   "cell_type": "markdown",
   "id": "e334e110-b3bf-41a5-9b7a-450fbab1348a",
   "metadata": {},
   "source": [
    "## 34 min_by\n",
    "Returns the minimum value of a list, after mapping each element to a value using the provided function.\n",
    "\n",
    "Use map() with fn to map each element to a value using the provided function, use min() to return the minimum value."
   ]
  },
  {
   "cell_type": "code",
   "execution_count": 11,
   "id": "36ba01fa-2c86-48dd-8f8d-8d2c30618691",
   "metadata": {},
   "outputs": [],
   "source": [
    "def min_by(lst, fn):\n",
    "    return min(map(fn, lst))"
   ]
  },
  {
   "cell_type": "code",
   "execution_count": 12,
   "id": "8c0234b4-8bb0-432e-9036-de95124a0d56",
   "metadata": {},
   "outputs": [
    {
     "data": {
      "text/plain": [
       "2"
      ]
     },
     "execution_count": 12,
     "metadata": {},
     "output_type": "execute_result"
    }
   ],
   "source": [
    "min_by([{\"n\":4}, {\"n\":3}, {\"n\":2}, {\"n\":4, \"m\":1}], lambda v : v['n'])"
   ]
  }
 ],
 "metadata": {
  "kernelspec": {
   "display_name": "Python 3",
   "language": "python",
   "name": "python3"
  },
  "language_info": {
   "codemirror_mode": {
    "name": "ipython",
    "version": 3
   },
   "file_extension": ".py",
   "mimetype": "text/x-python",
   "name": "python",
   "nbconvert_exporter": "python",
   "pygments_lexer": "ipython3",
   "version": "3.8.8"
  }
 },
 "nbformat": 4,
 "nbformat_minor": 5
}
