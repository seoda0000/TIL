{
 "cells": [
  {
   "cell_type": "markdown",
   "id": "9ab6e390-840f-4b38-ba7f-fcc9a9e9314f",
   "metadata": {},
   "source": [
    "# 김왼손의 왼손코딩 1일 1파이썬 : 초급자를 위한 파이썬 50제\n",
    "## 30 seconds of code\n",
    "### 2022-04-06 2일차"
   ]
  },
  {
   "cell_type": "markdown",
   "id": "88441af8-846d-41b7-bfc4-217cd11a9cba",
   "metadata": {},
   "source": [
    "## 12 every_nth\n",
    "Returns every nth element in a list.\n",
    "\n",
    "Use [nth-1::nth] to create a new list that contains every nth element of the given list.\n",
    "\n",
    "모든 n번째 값을 return해보자."
   ]
  },
  {
   "cell_type": "code",
   "execution_count": 8,
   "id": "c464d325-67c1-4fcb-87d3-540a6e463e7b",
   "metadata": {},
   "outputs": [],
   "source": [
    "def every_nth(lst, n):\n",
    "    return lst[n-1::n] # n-1번째 인덱스부터 끝까지, n step씩 건너뛰기."
   ]
  },
  {
   "cell_type": "code",
   "execution_count": 10,
   "id": "e84cc276-3c1c-4015-840b-ece39f983f36",
   "metadata": {},
   "outputs": [
    {
     "data": {
      "text/plain": [
       "[2, 4, 6]"
      ]
     },
     "execution_count": 10,
     "metadata": {},
     "output_type": "execute_result"
    }
   ],
   "source": [
    "every_nth([1, 2, 3, 4, 5, 6], 2)"
   ]
  },
  {
   "cell_type": "markdown",
   "id": "72785f25-6394-42ba-80a1-faced59b4056",
   "metadata": {},
   "source": [
    "## 13 fahrenheit_to_celsius\n",
    "\n",
    "Converts Fahrenheit to Celsius.\n",
    "\n",
    "Use the formula celsius = (fahrenheit - 32) / 1.8 to convert from Fahrenheit to Celsius."
   ]
  },
  {
   "cell_type": "code",
   "execution_count": 11,
   "id": "856006fa-ca2e-46dd-9ec1-1888b346a5de",
   "metadata": {},
   "outputs": [],
   "source": [
    "def fahrenheit_to_celsius(fah):\n",
    "    return (fah - 32) / 1.8"
   ]
  },
  {
   "cell_type": "code",
   "execution_count": 13,
   "id": "66db4017-02b4-4680-a45e-4cb865bcbd4e",
   "metadata": {},
   "outputs": [
    {
     "data": {
      "text/plain": [
       "25.0"
      ]
     },
     "execution_count": 13,
     "metadata": {},
     "output_type": "execute_result"
    }
   ],
   "source": [
    "fahrenheit_to_celsius(77)"
   ]
  },
  {
   "cell_type": "markdown",
   "id": "684dadb1-c201-43e2-b722-67b7d475f9c9",
   "metadata": {},
   "source": [
    "## 14 filter_non_unique\n",
    "Filters out the non_unique values in a list.\n",
    "\n",
    "Use a collections.Counter to get the count of each value in the list. Use list comprehension to create a list containing only the unique values.\n",
    "\n",
    "* filter : 거르다.\n",
    "유일하지 않은 값을 필터링해보자."
   ]
  },
  {
   "cell_type": "code",
   "execution_count": 23,
   "id": "8655edc2-d198-4662-bf7b-3c9a8b0973ef",
   "metadata": {},
   "outputs": [
    {
     "name": "stdout",
     "output_type": "stream",
     "text": [
      "Counter({2: 2, 1: 1, 3: 1})\n",
      "dict_items([(1, 1), (2, 2), (3, 1)])\n",
      "dict_keys([1, 2, 3])\n",
      "dict_values([1, 2, 1])\n"
     ]
    }
   ],
   "source": [
    "from collections import Counter\n",
    "\n",
    "print(Counter([1, 2, 3, 2]))\n",
    "#각 원소의 갯수를 세는 함수. Dictionary 형태로 나옴.\n",
    "print(Counter([1, 2, 3, 2]).items())\n",
    "print(Counter([1, 2, 3, 2]).keys())\n",
    "print(Counter([1, 2, 3, 2]).values())"
   ]
  },
  {
   "cell_type": "code",
   "execution_count": 26,
   "id": "7f8206ed-8e39-43fb-b775-832ffb1c1452",
   "metadata": {},
   "outputs": [],
   "source": [
    "def filter_non_unique(lst):\n",
    "    return [i for i, count in Counter(lst).items() if count == 1]"
   ]
  },
  {
   "cell_type": "code",
   "execution_count": 27,
   "id": "177dc240-a28d-4eb5-bb92-76ab11f31ea5",
   "metadata": {},
   "outputs": [
    {
     "data": {
      "text/plain": [
       "[1, 3, 4]"
      ]
     },
     "execution_count": 27,
     "metadata": {},
     "output_type": "execute_result"
    }
   ],
   "source": [
    "filter_non_unique([1, 2, 3, 4, 2])"
   ]
  },
  {
   "cell_type": "markdown",
   "id": "9eb5a1c0-026c-4644-9362-885d86661e36",
   "metadata": {},
   "source": [
    "## 15 filter_unique\n",
    "Filters out the unique values in a list.\n",
    "\n",
    "Use a collections.Counter to get the count of each value in the list. Use list comprehension to create a list containing only the non-unique values."
   ]
  },
  {
   "cell_type": "code",
   "execution_count": 28,
   "id": "7d5d76ef-2c40-4f2a-ad65-8566cf21230d",
   "metadata": {},
   "outputs": [],
   "source": [
    "def filter_unique(lst):\n",
    "    return [i for i, count in Counter(lst).items() if count > 1]"
   ]
  },
  {
   "cell_type": "code",
   "execution_count": 29,
   "id": "e8c74ca2-8737-4cc3-9b97-a8626ab056fd",
   "metadata": {},
   "outputs": [
    {
     "data": {
      "text/plain": [
       "[2]"
      ]
     },
     "execution_count": 29,
     "metadata": {},
     "output_type": "execute_result"
    }
   ],
   "source": [
    "filter_unique([1, 2, 3, 4, 2])"
   ]
  },
  {
   "cell_type": "markdown",
   "id": "ec72d48b-76ee-4b9e-9a2e-05b4429118fc",
   "metadata": {},
   "source": [
    "## 16 for_each\n",
    "Executes the provided function once for each list element.\n",
    "\n",
    "Use a for loop to execute fn for each element in itr."
   ]
  },
  {
   "cell_type": "code",
   "execution_count": 30,
   "id": "a204c538-7997-47d7-904f-61cfa4c9026a",
   "metadata": {},
   "outputs": [],
   "source": [
    "def for_each(itr, fn):\n",
    "    for i in itr:\n",
    "        fn(i)"
   ]
  },
  {
   "cell_type": "code",
   "execution_count": 31,
   "id": "e36b3c49-2a34-4adf-87b0-df5dd7e41770",
   "metadata": {},
   "outputs": [
    {
     "name": "stdout",
     "output_type": "stream",
     "text": [
      "1\n",
      "2\n",
      "3\n"
     ]
    }
   ],
   "source": [
    "for_each([1, 2, 3], print)"
   ]
  },
  {
   "cell_type": "markdown",
   "id": "eb5ee979-f68d-4949-9cf1-a70de41071f0",
   "metadata": {},
   "source": [
    "## 17 for_each_right\n",
    "Executes the provided function once for each list element, starting from the list's last element.\n",
    "\n",
    "Use a for loop in combination with slice notation to execute fn for each element in itr, starting from the last one."
   ]
  },
  {
   "cell_type": "code",
   "execution_count": 36,
   "id": "0232245b-10e5-41aa-a8d0-e71711a9ad29",
   "metadata": {},
   "outputs": [],
   "source": [
    "#풀이\n",
    "def for_each_right(itr, fn):\n",
    "    n = len(itr)\n",
    "    for i in range(1, n+1):\n",
    "        fn(itr[-i])"
   ]
  },
  {
   "cell_type": "code",
   "execution_count": 37,
   "id": "4e26cded-2668-406f-a936-fdc8e180eb4c",
   "metadata": {},
   "outputs": [
    {
     "name": "stdout",
     "output_type": "stream",
     "text": [
      "3\n",
      "2\n",
      "1\n"
     ]
    }
   ],
   "source": [
    "for_each_right([1, 2, 3], print)"
   ]
  },
  {
   "cell_type": "markdown",
   "id": "ec91c3ec-088d-4188-aa07-69c1c76001fb",
   "metadata": {},
   "source": [
    "* **[::-1] : 역순으로**"
   ]
  },
  {
   "cell_type": "code",
   "execution_count": 38,
   "id": "afab49b4-1e19-4aed-8e92-6e7f9d618150",
   "metadata": {},
   "outputs": [],
   "source": [
    "#답\n",
    "def for_each_right(itr, fn):\n",
    "    for i in itr[::-1]: \n",
    "        fn(i)"
   ]
  },
  {
   "cell_type": "code",
   "execution_count": 39,
   "id": "e44e7bd0-166e-44cb-8d0f-cea671fb9455",
   "metadata": {},
   "outputs": [
    {
     "name": "stdout",
     "output_type": "stream",
     "text": [
      "3\n",
      "2\n",
      "1\n"
     ]
    }
   ],
   "source": [
    "for_each_right([1, 2, 3], print)"
   ]
  },
  {
   "cell_type": "markdown",
   "id": "3c056654-517e-418d-b5ad-4cd8ed27002f",
   "metadata": {},
   "source": [
    "## 18 has_duplicates\n",
    "Returns True if there are duplicate values in a flat list, False otherwise.\n",
    "\n",
    "Use set() on the given list to remove duplicates, compare its length with the length of the list."
   ]
  },
  {
   "cell_type": "code",
   "execution_count": 42,
   "id": "f5964193-9cb5-4504-be6c-1d71c19a6837",
   "metadata": {},
   "outputs": [],
   "source": [
    "def has_duplicates(lst):\n",
    "    return len(lst) != len(set(lst))"
   ]
  },
  {
   "cell_type": "code",
   "execution_count": 43,
   "id": "777a99c5-38aa-4532-acc0-34d0c87e3bac",
   "metadata": {},
   "outputs": [
    {
     "data": {
      "text/plain": [
       "False"
      ]
     },
     "execution_count": 43,
     "metadata": {},
     "output_type": "execute_result"
    }
   ],
   "source": [
    "has_duplicates([1, 2, 3, 4, 5])"
   ]
  },
  {
   "cell_type": "code",
   "execution_count": 44,
   "id": "1ba49ed3-8747-400b-a90f-cfd7d42462d1",
   "metadata": {},
   "outputs": [
    {
     "data": {
      "text/plain": [
       "True"
      ]
     },
     "execution_count": 44,
     "metadata": {},
     "output_type": "execute_result"
    }
   ],
   "source": [
    "has_duplicates([1, 2, 3, 4, 4])"
   ]
  },
  {
   "cell_type": "markdown",
   "id": "d8ed60a8-5a89-47bd-98b2-45a08eb3ef96",
   "metadata": {},
   "source": [
    "## 19 head\n",
    "Returns the head of a list.\n",
    "\n",
    "Use lst[0] to return the first element of the passed list."
   ]
  },
  {
   "cell_type": "code",
   "execution_count": 45,
   "id": "c43a142c-eeb7-4e30-93e7-5bb5d9ab91c5",
   "metadata": {},
   "outputs": [],
   "source": [
    "def head(lst):\n",
    "    return lst[0]"
   ]
  },
  {
   "cell_type": "code",
   "execution_count": 46,
   "id": "cb9f6470-0170-46c5-b2c6-4c3fd5935aa6",
   "metadata": {},
   "outputs": [
    {
     "data": {
      "text/plain": [
       "1"
      ]
     },
     "execution_count": 46,
     "metadata": {},
     "output_type": "execute_result"
    }
   ],
   "source": [
    "head([1, 2, 3, 4, 5])"
   ]
  },
  {
   "cell_type": "markdown",
   "id": "94681f4b-0f93-4a69-9ce9-b9e5fcc63bbc",
   "metadata": {},
   "source": [
    "## 20 in_range\n",
    "Checks if the given number falls within given range.\n",
    "\n",
    "Use arithmetice comparision to check if the given number is in the specified range. If the second parameter, end, is not specified, the range is considered to be from 0 to start."
   ]
  },
  {
   "cell_type": "code",
   "execution_count": 53,
   "id": "e40ea226-c996-4ba7-9f00-a794e912b37a",
   "metadata": {},
   "outputs": [],
   "source": [
    "def in_range(num, start, end = 0):\n",
    "    return end <= num <= start if end == 0 else start <= num <= end"
   ]
  },
  {
   "cell_type": "code",
   "execution_count": 54,
   "id": "7949a97a-48f3-4d03-9405-ffedafdb9bf8",
   "metadata": {},
   "outputs": [
    {
     "data": {
      "text/plain": [
       "True"
      ]
     },
     "execution_count": 54,
     "metadata": {},
     "output_type": "execute_result"
    }
   ],
   "source": [
    "in_range(3, 2, 4)"
   ]
  },
  {
   "cell_type": "code",
   "execution_count": 55,
   "id": "9e02655c-d967-4819-b8b0-705a1cc89131",
   "metadata": {},
   "outputs": [
    {
     "data": {
      "text/plain": [
       "False"
      ]
     },
     "execution_count": 55,
     "metadata": {},
     "output_type": "execute_result"
    }
   ],
   "source": [
    "in_range(5, 2, 4)"
   ]
  },
  {
   "cell_type": "code",
   "execution_count": 56,
   "id": "a590f4e4-32dc-4051-a3c9-db621c7b2647",
   "metadata": {},
   "outputs": [
    {
     "data": {
      "text/plain": [
       "False"
      ]
     },
     "execution_count": 56,
     "metadata": {},
     "output_type": "execute_result"
    }
   ],
   "source": [
    "in_range(3, 2)"
   ]
  },
  {
   "cell_type": "code",
   "execution_count": 57,
   "id": "0b48ee56-452a-414e-a4f9-296064e58b07",
   "metadata": {},
   "outputs": [
    {
     "data": {
      "text/plain": [
       "True"
      ]
     },
     "execution_count": 57,
     "metadata": {},
     "output_type": "execute_result"
    }
   ],
   "source": [
    "in_range(3, 5)"
   ]
  }
 ],
 "metadata": {
  "kernelspec": {
   "display_name": "Python 3",
   "language": "python",
   "name": "python3"
  },
  "language_info": {
   "codemirror_mode": {
    "name": "ipython",
    "version": 3
   },
   "file_extension": ".py",
   "mimetype": "text/x-python",
   "name": "python",
   "nbconvert_exporter": "python",
   "pygments_lexer": "ipython3",
   "version": "3.8.8"
  }
 },
 "nbformat": 4,
 "nbformat_minor": 5
}
