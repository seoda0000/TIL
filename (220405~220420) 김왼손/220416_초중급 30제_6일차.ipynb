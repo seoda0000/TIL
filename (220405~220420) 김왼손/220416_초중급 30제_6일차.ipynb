{
 "cells": [
  {
   "cell_type": "markdown",
   "id": "9ab6e390-840f-4b38-ba7f-fcc9a9e9314f",
   "metadata": {},
   "source": [
    "# 김왼손의 왼손코딩 1일 1파이썬 : 초중급자를 위한 파이썬 30제\n",
    "https://www.inflearn.com/course/%ED%8C%8C%EC%9D%B4%EC%8D%AC-%EC%98%88%EC%A0%9C\n",
    "## CheckiO : https://py.checkio.org/mission/search/\n",
    "#### 2022-04-16 6일차 seoda0000"
   ]
  },
  {
   "cell_type": "markdown",
   "id": "f376ec03-d275-44a9-82c9-4e5bde22f9b2",
   "metadata": {},
   "source": [
    "-------------------------"
   ]
  },
  {
   "cell_type": "markdown",
   "id": "fa9d089f-5a9b-4fa7-980a-031fb32260f7",
   "metadata": {},
   "source": [
    "## **Today I Learned**     \n",
    "* #### **sorted(array, key=abs)**\n",
    "    key를 abs로 설정하여 절대값을 기준으로 정렬."
   ]
  },
  {
   "cell_type": "markdown",
   "id": "79a6f08d-a5e8-4463-b577-ae32535a7d8a",
   "metadata": {},
   "source": [
    "---------------"
   ]
  },
  {
   "cell_type": "markdown",
   "id": "88441af8-846d-41b7-bfc4-217cd11a9cba",
   "metadata": {},
   "source": [
    "## 18. Absolute Sorting\n",
    "Let's try some sorting. Here is an array with the specific rules.\n",
    "\n",
    "The array (a list) has various numbers. You should sort it, but sort it by absolute value in ascending order. For example, the sequence (-20, -5, 10, 15) will be sorted like so: (-5, 10, 15, -20). Your function should return the sorted list or tuple.\n",
    "\n",
    "* Precondition: The numbers in the array are unique by their absolute values.\n",
    "* Input: An array of numbers , a tuple..\n",
    "* Output: The list or tuple (but not a generator) sorted by absolute values in ascending order."
   ]
  },
  {
   "cell_type": "code",
   "execution_count": 41,
   "id": "aece44a3-8609-4841-a3f6-5b5dc0295422",
   "metadata": {},
   "outputs": [],
   "source": [
    "#try\n",
    "def absolute_sorting(array):\n",
    "    b = {}\n",
    "    for item in array:\n",
    "        b[abs(item)] = item\n",
    "    c = []\n",
    "    return [b[i] for i in sorted(b.keys())]\n",
    "    "
   ]
  },
  {
   "cell_type": "code",
   "execution_count": 42,
   "id": "437a9642-ccff-4f90-835f-9ab021e0d84c",
   "metadata": {},
   "outputs": [
    {
     "name": "stdout",
     "output_type": "stream",
     "text": [
      "Coding complete? Click 'Check' to review your tests and earn cool rewards!\n"
     ]
    }
   ],
   "source": [
    "assert absolute_sorting((-20, -5, 10, 15)) == [-5, 10, 15, -20], \"Example\"  # or (-5, 10, 15, -20)\n",
    "assert absolute_sorting((1, 2, 3, 0)) == [0, 1, 2, 3], \"Positive numbers\"\n",
    "assert absolute_sorting((-1, -2, -3, 0)) == [0, -1, -2, -3], \"Negative numbers\"\n",
    "print(\"Coding complete? Click 'Check' to review your tests and earn cool rewards!\")"
   ]
  },
  {
   "cell_type": "markdown",
   "id": "b62c4f28-85fb-4ab5-bec1-34239aa6d7ea",
   "metadata": {},
   "source": [
    "* #### **sorted(array, key=abs)**\n",
    "    key를 abs로 설정하여 절대값을 기준으로 정렬."
   ]
  },
  {
   "cell_type": "code",
   "execution_count": 47,
   "id": "58e4542e-2a6e-4316-933b-a9b150956d7c",
   "metadata": {},
   "outputs": [],
   "source": [
    "#answer\n",
    "def absolute_sorting(array: tuple) -> list:\n",
    "    return list(sorted(array, key=abs))"
   ]
  },
  {
   "cell_type": "code",
   "execution_count": 48,
   "id": "9d4dd2c4-5472-4f3a-8440-f638338653d8",
   "metadata": {},
   "outputs": [
    {
     "name": "stdout",
     "output_type": "stream",
     "text": [
      "Coding complete? Click 'Check' to review your tests and earn cool rewards!\n"
     ]
    }
   ],
   "source": [
    "assert absolute_sorting((-20, -5, 10, 15)) == [-5, 10, 15, -20], \"Example\"  # or (-5, 10, 15, -20)\n",
    "assert absolute_sorting((1, 2, 3, 0)) == [0, 1, 2, 3], \"Positive numbers\"\n",
    "assert absolute_sorting((-1, -2, -3, 0)) == [0, -1, -2, -3], \"Negative numbers\"\n",
    "print(\"Coding complete? Click 'Check' to review your tests and earn cool rewards!\")"
   ]
  }
 ],
 "metadata": {
  "kernelspec": {
   "display_name": "Python 3",
   "language": "python",
   "name": "python3"
  },
  "language_info": {
   "codemirror_mode": {
    "name": "ipython",
    "version": 3
   },
   "file_extension": ".py",
   "mimetype": "text/x-python",
   "name": "python",
   "nbconvert_exporter": "python",
   "pygments_lexer": "ipython3",
   "version": "3.8.8"
  }
 },
 "nbformat": 4,
 "nbformat_minor": 5
}
