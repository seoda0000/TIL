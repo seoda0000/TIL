{
 "cells": [
  {
   "cell_type": "markdown",
   "id": "efebf200-172f-4b4c-b31e-bd01af04f69c",
   "metadata": {},
   "source": [
    "#### **프로그래머스** https://programmers.co.kr/learn/challenges\n",
    "##### 코딩테스트 연습 2022-06-13 20일차 seoda0000"
   ]
  },
  {
   "cell_type": "markdown",
   "id": "01d2438b-9adb-4ff8-b35b-4f8fc349cfc7",
   "metadata": {},
   "source": [
    "--------------------"
   ]
  },
  {
   "cell_type": "markdown",
   "id": "7b013e9c-4d1b-4e40-b722-4bb0f9b573df",
   "metadata": {},
   "source": [
    "### Review"
   ]
  },
  {
   "cell_type": "markdown",
   "id": "6a01c2fa-0d12-45b8-96d3-e19f0f93f827",
   "metadata": {},
   "source": [
    "# **TIL**\n",
    "\n",
    "* str.isdigit()\n",
    "    * 문자열이 숫자로 이루어졌는지 판별하는 메서드.\n",
    "* itemgetter(숫자나 dic의 key)\n",
    "    * from operator import itemgetter\n",
    "    * 정렬에 사용. 순서대로 적용된다.\n",
    "* re.findall(\"\\d+\", x)\n",
    "    * import re\n",
    "    * x 중 모든 정수를 찾아준다.\n",
    "* 논리의 순서를 뒤바꾸어 더욱 쉽게 구현할 수 있다.\n",
    "    \n",
    "------------------\n",
    "#### 미래의 나에게...\n",
    "* 쉽게 생각하자. 잘 안 풀리면 조작하는 데이터의 관점을 바꿔보자.\n",
    "* 논리적으로 순차적으로 생각하기.\n",
    "* 무작정 코드를 짧게 줄이는 건 도움이 되지 않는다. 개체를 단순하게 만들자.\n",
    "* 리스트의 구성요소 기준으로 차례대로 생각해보자. (런타임을 줄여야 한다!)\n",
    "* for 구문은 되도록 필수적일 때만 사용하자.\n",
    "* 인덱스를 활용하자.\n",
    "* 최대값과 최소값에 유의하자.\n",
    "* 보조 리스트를 만들어 사용하는 것이 효율성이 더 높다.\n",
    "* 미지수로 두고 법칙을 발견하자."
   ]
  },
  {
   "cell_type": "markdown",
   "id": "e158152f-113b-495f-aab3-421be8463340",
   "metadata": {},
   "source": [
    "---------------------\n",
    "2018 KAKAO BLIND RECRUITMENT\n",
    "\n",
    "## **파일명 정렬**\n",
    "\n",
    "파일명은 크게 HEAD, NUMBER, TAIL의 세 부분으로 구성된다.\n",
    "\n",
    "* HEAD는 숫자가 아닌 문자로 이루어져 있으며, 최소한 한 글자 이상이다.\n",
    "* NUMBER는 한 글자에서 최대 다섯 글자 사이의 연속된 숫자로 이루어져 있으며, 앞쪽에 0이 올 수 있다. 0부터 99999 사이의 숫자로, 00000이나 0101 등도 가능하다.\n",
    "* TAIL은 그 나머지 부분으로, 여기에는 숫자가 다시 나타날 수도 있으며, 아무 글자도 없을 수 있다.\n",
    "\n",
    "파일명을 세 부분으로 나눈 후, 다음 기준에 따라 파일명을 정렬한다.\n",
    "\n",
    "* 파일명은 우선 HEAD 부분을 기준으로 사전 순으로 정렬한다. 이때, 문자열 비교 시 대소문자 구분을 하지 않는다. MUZI와 muzi, MuZi는 정렬 시에 같은 순서로 취급된다.\n",
    "* 파일명의 HEAD 부분이 대소문자 차이 외에는 같을 경우, NUMBER의 숫자 순으로 정렬한다. 9 < 10 < 0011 < 012 < 13 < 014 순으로 정렬된다. 숫자 앞의 0은 무시되며, 012와 12는 정렬 시에 같은 같은 값으로 처리된다.\n",
    "* 두 파일의 HEAD 부분과, NUMBER의 숫자도 같을 경우, 원래 입력에 주어진 순서를 유지한다. MUZI01.zip과 muzi1.png가 입력으로 들어오면, 정렬 후에도 입력 시 주어진 두 파일의 순서가 바뀌어서는 안 된다.\n",
    "\n",
    "무지를 도와 파일명 정렬 프로그램을 구현하라."
   ]
  },
  {
   "cell_type": "code",
   "execution_count": 162,
   "id": "8f921021-d0b9-495d-a545-a1a2cd03944e",
   "metadata": {},
   "outputs": [],
   "source": [
    "#try1 score 100/100\n",
    "\n",
    "from operator import itemgetter\n",
    "\n",
    "def solution(files):\n",
    "    lst = []\n",
    "    n = 0\n",
    "    for i in files:\n",
    "        n1, n2 = 0, 0\n",
    "        \n",
    "        for j in range(len(i)):\n",
    "            if i[j].isdigit():\n",
    "                n1 = j\n",
    "                break\n",
    "        for j in range(n1+1, len(i)):\n",
    "            if i[j].isdigit() == False:\n",
    "                n2 = j\n",
    "                break\n",
    "        dic = {}\n",
    "        dic[\"word\"] = i\n",
    "        dic[\"head\"] = i[:n1].lower()\n",
    "        if n2 == 0:\n",
    "            dic[\"num\"] = int(i[n1:])\n",
    "        else:\n",
    "            dic[\"num\"] = int(i[n1:n2])\n",
    "        dic[\"st\"] = n\n",
    "        lst.append(dic)\n",
    "        n += 1\n",
    "        \n",
    "    return [i[\"word\"] for i in sorted(lst, key = itemgetter(\"head\", \"num\", \"st\"))]"
   ]
  },
  {
   "cell_type": "code",
   "execution_count": 168,
   "id": "a6bfe899-94ab-4165-91d0-7aa3d7f2f458",
   "metadata": {},
   "outputs": [],
   "source": [
    "assert solution([\"img12.png\", \"img10.png\", \"img02.png\", \"img1.png\", \"IMG01.GIF\", \"img2.JPG\"]) == [\n",
    "    \"img1.png\", \"IMG01.GIF\", \"img02.png\", \"img2.JPG\", \"img10.png\", \"img12.png\"]\n",
    "assert solution([\"F-5 Freedom Fighter\", \"B-50 Superfortress\", \"A-10 Thunderbolt II\", \"F-14 Tomcat\"]) == [\n",
    "    \"A-10 Thunderbolt II\", \"B-50 Superfortress\", \"F-5 Freedom Fighter\", \"F-14 Tomcat\"]"
   ]
  },
  {
   "cell_type": "markdown",
   "id": "dcb34f26-6e80-49a6-804d-77e14d205c8d",
   "metadata": {},
   "source": [
    "* str.isdigit()\n",
    "    * 문자열이 숫자로 이루어졌는지 판별하는 메서드.\n",
    "* itemgetter(숫자나 dic의 key)\n",
    "    * from operator import itemgetter\n",
    "    * 정렬에 사용. 순서대로 적용된다.\n",
    "\n",
    "파일명에서 head, number을 추출하고, 원래 순서인 n을 붙여 딕셔너리 형태로 만들었다.  \n",
    "itemgetter을 이용하여 정렬하고 원래 파일명을 출력하였다.  \n",
    "풀긴 풀었는데 너무 복잡하다!\n",
    "\n",
    "-------------------------\n",
    "\n",
    "### re 정규표현식\n",
    "#### findall\n",
    "* re.findall(\"\\d+\", x)\n",
    "    * import re\n",
    "    * x 중 모든 정수를 찾아준다.\n",
    "* 논리를 거꾸로 생각해서 더욱 쉽게 구현하였다."
   ]
  },
  {
   "cell_type": "code",
   "execution_count": 159,
   "id": "090c2a8c-2afd-474f-b18a-edcffc7d1fc3",
   "metadata": {},
   "outputs": [],
   "source": [
    "import re\n",
    "\n",
    "def solution(files):\n",
    "    a = sorted(files, key=lambda file : int(re.findall('\\d+', file)[0]))\n",
    "    b = sorted(a, key=lambda file : re.split('\\d+', file.lower())[0])\n",
    "    return b"
   ]
  },
  {
   "cell_type": "code",
   "execution_count": 169,
   "id": "cc861fe4-770b-4bc5-aaa0-ec5a95268e67",
   "metadata": {},
   "outputs": [],
   "source": [
    "assert solution([\"img12.png\", \"img10.png\", \"img02.png\", \"img1.png\", \"IMG01.GIF\", \"img2.JPG\"]) == [\n",
    "    \"img1.png\", \"IMG01.GIF\", \"img02.png\", \"img2.JPG\", \"img10.png\", \"img12.png\"]\n",
    "assert solution([\"F-5 Freedom Fighter\", \"B-50 Superfortress\", \"A-10 Thunderbolt II\", \"F-14 Tomcat\"]) == [\n",
    "    \"A-10 Thunderbolt II\", \"B-50 Superfortress\", \"F-5 Freedom Fighter\", \"F-14 Tomcat\"]"
   ]
  }
 ],
 "metadata": {
  "kernelspec": {
   "display_name": "Python 3",
   "language": "python",
   "name": "python3"
  },
  "language_info": {
   "codemirror_mode": {
    "name": "ipython",
    "version": 3
   },
   "file_extension": ".py",
   "mimetype": "text/x-python",
   "name": "python",
   "nbconvert_exporter": "python",
   "pygments_lexer": "ipython3",
   "version": "3.8.8"
  }
 },
 "nbformat": 4,
 "nbformat_minor": 5
}
