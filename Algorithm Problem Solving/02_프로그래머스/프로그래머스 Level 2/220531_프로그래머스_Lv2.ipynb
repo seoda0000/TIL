{
 "cells": [
  {
   "cell_type": "markdown",
   "id": "efebf200-172f-4b4c-b31e-bd01af04f69c",
   "metadata": {},
   "source": [
    "#### **프로그래머스** https://programmers.co.kr/learn/challenges\n",
    "##### 코딩테스트 연습 2022-05-31 16일차 seoda0000"
   ]
  },
  {
   "cell_type": "markdown",
   "id": "01d2438b-9adb-4ff8-b35b-4f8fc349cfc7",
   "metadata": {},
   "source": [
    "--------------------"
   ]
  },
  {
   "cell_type": "markdown",
   "id": "7b013e9c-4d1b-4e40-b722-4bb0f9b573df",
   "metadata": {},
   "source": [
    "### Review"
   ]
  },
  {
   "cell_type": "markdown",
   "id": "6a01c2fa-0d12-45b8-96d3-e19f0f93f827",
   "metadata": {},
   "source": [
    "# **TIL**\n",
    "\n",
    "* sort(list, key = len)\n",
    "    * 요소의 길이순으로 정렬\n",
    "* 겹치지 않은 요소를 구할 때는 not in을 활용하자.\n",
    "* str.lstrip(\"a\") \n",
    "    * 왼쪽에서 특정문자 제거. 아무것도 안 쓰면 공백 제거.\n",
    "* str.rstrip(\"a\") \n",
    "    * 오른쪽에서 특정문자 제거. 아무것도 안 쓰면 공백 제거.\n",
    "    \n",
    "------------------\n",
    "#### 미래의 나에게...\n",
    "* 쉽게 생각하자. 잘 안 풀리면 조작하는 데이터의 관점을 바꿔보자.\n",
    "* 논리적으로 순차적으로 생각하기.\n",
    "* 무작정 코드를 짧게 줄이는 건 도움이 되지 않는다. 개체를 단순하게 만들자.\n",
    "* 리스트의 구성요소 기준으로 차례대로 생각해보자. (런타임을 줄여야 한다!)\n",
    "* for 구문은 되도록 필수적일 때만 사용하자.\n",
    "* 인덱스를 활용하자.\n",
    "* 최대값과 최소값에 유의하자."
   ]
  },
  {
   "cell_type": "markdown",
   "id": "e158152f-113b-495f-aab3-421be8463340",
   "metadata": {},
   "source": [
    "---------------------\n",
    "2019 카카오 개발자 겨울 인턴십\n",
    "\n",
    "\n",
    "## **튜플**\n",
    "\n",
    "* s의 형식 : {{a1}, {a1, a2}, {a1, a2, a3}, {a1, a2, a3, a4}, ... {a1, a2, a3, a4, ..., an}}\n",
    "* 특정 튜플을 표현하는 집합이 담긴 문자열 s가 매개변수로 주어질 때, s가 표현하는 튜플을 배열에 담아 return 하도록 solution 함수를 완성해주세요."
   ]
  },
  {
   "cell_type": "code",
   "execution_count": 75,
   "id": "cd109476-3b39-442e-96f6-7deb07c798e2",
   "metadata": {},
   "outputs": [],
   "source": [
    "#try1 score 100/100\n",
    "def solution(s):\n",
    "    \n",
    "    #리스트로 만들기\n",
    "    \n",
    "    s = s.split(\"},\")\n",
    "    for i in range(len(s)):\n",
    "        s[i] = s[i].replace(\"}\", \"\")\n",
    "        s[i] = s[i].replace(\"{\", \"\")\n",
    "        s[i] = s[i].split(\",\")\n",
    "    \n",
    "    #길이 기준으로 정렬\n",
    "    s = sorted(s, key = len)\n",
    "    \n",
    "    #첫 요소를 추가하고 다른 리스트에서 삭제. 반복.\n",
    "    answer = []\n",
    "    while len(s) > 0 :\n",
    "        answer.append(int(s[0][0]))\n",
    "        s.pop(0)\n",
    "        for i in range(len(s)):\n",
    "            s[i].remove(str(answer[-1]))\n",
    "        \n",
    "    return answer"
   ]
  },
  {
   "cell_type": "code",
   "execution_count": 78,
   "id": "8386e4b0-4af5-4845-8dea-41c0d4608738",
   "metadata": {},
   "outputs": [],
   "source": [
    "assert solution(\"{{2},{2,1},{2,1,3},{2,1,3,4}}\") == [2, 1, 3, 4]\n",
    "assert solution(\"{{1,2,3},{2,1},{1,2,4,3},{2}}\") == [2, 1, 3, 4]\n",
    "assert solution(\"{{20,111},{111}}\") == [111, 20]\n",
    "assert solution(\"{{123}}\") == [123]\n",
    "assert solution(\"{{4,2,3},{3},{2,3,4,1},{2,3}}\") == [3, 2, 4, 1]"
   ]
  },
  {
   "cell_type": "markdown",
   "id": "efb426e4-e350-41e5-adfa-4daabdb88d01",
   "metadata": {},
   "source": [
    "* len으로 정렬 후 첫 요소를 answer에 추가하고, 다른 요소에서 순차적으로 뺀다. 이 과정을 반복했다.\n",
    "* sort(list, key = len)\n",
    "    * 요소의 길이순으로 정렬\n",
    "------------------\n",
    "* not in을 사용하면 굳이 일일이 뺄 필요가 없다.\n",
    "* 겹치지 않은 요소를 구할 때는 not in을 활용하자.\n",
    "* str.lstrip(\"a\") \n",
    "    * 왼쪽에서 특정문자 제거. 아무것도 안 쓰면 공백 제거.\n",
    "* str.rstrip(\"a\") \n",
    "    * 오른쪽에서 특정문자 제거. 아무것도 안 쓰면 공백 제거."
   ]
  },
  {
   "cell_type": "code",
   "execution_count": 84,
   "id": "cd193c20-bb97-4aa2-bba9-c1ba2729bc8c",
   "metadata": {},
   "outputs": [],
   "source": [
    "#answer\n",
    "def solution(s):\n",
    "    answer = []\n",
    "\n",
    "    s1 = s.lstrip('{').rstrip('}').split('},{')\n",
    "\n",
    "    new_s = []\n",
    "    for i in s1:\n",
    "        new_s.append(i.split(','))\n",
    "\n",
    "    new_s.sort(key = len)\n",
    "\n",
    "    for i in new_s:\n",
    "        for j in range(len(i)):\n",
    "            if int(i[j]) not in answer:\n",
    "                answer.append(int(i[j]))\n",
    "\n",
    "    return answer"
   ]
  }
 ],
 "metadata": {
  "kernelspec": {
   "display_name": "Python 3",
   "language": "python",
   "name": "python3"
  },
  "language_info": {
   "codemirror_mode": {
    "name": "ipython",
    "version": 3
   },
   "file_extension": ".py",
   "mimetype": "text/x-python",
   "name": "python",
   "nbconvert_exporter": "python",
   "pygments_lexer": "ipython3",
   "version": "3.8.8"
  }
 },
 "nbformat": 4,
 "nbformat_minor": 5
}
