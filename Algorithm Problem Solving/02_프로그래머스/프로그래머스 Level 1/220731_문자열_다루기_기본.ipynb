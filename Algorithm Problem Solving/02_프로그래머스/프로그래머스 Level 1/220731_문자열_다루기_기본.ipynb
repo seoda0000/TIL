{
 "cells": [
  {
   "cell_type": "markdown",
   "id": "c3ea1102-9f1c-448f-b771-5c1248ac2307",
   "metadata": {},
   "source": [
    "### 프로그래머스 https://school.programmers.co.kr/learn/courses/30/lessons/82612\n",
    "코딩테스트 연습 2022-07-24 seoda0000\n",
    "\n",
    "---"
   ]
  },
  {
   "cell_type": "markdown",
   "id": "a2ef9bd7-7e33-4cc4-99d2-a33b6e626203",
   "metadata": {},
   "source": [
    "## Review"
   ]
  },
  {
   "cell_type": "markdown",
   "id": "dda28ae9-f4a8-447d-a531-f5e0c5a4f6e2",
   "metadata": {
    "jp-MarkdownHeadingCollapsed": true,
    "tags": []
   },
   "source": [
    "\n",
    "## TIL\n",
    "### 미래의 나에게...\n",
    "* 쉽게 생각하자. 잘 안 풀리면 조작하는 데이터의 관점을 바꿔보자.\n",
    "* 논리적으로 순차적으로 생각하기.\n",
    "* 무작정 코드를 짧게 줄이는 건 도움이 되지 않는다. 개체를 단순하게 만들자.\n",
    "* 리스트의 구성요소 기준으로 차례대로 생각해보자. (런타임을 줄여야 한다!)\n",
    "* for 구문은 되도록 필수적일 때만 사용하자.\n",
    "* 인덱스를 활용하자.\n",
    "* 최대값과 최소값에 유의하자.\n",
    "* 보조 리스트를 만들어 사용하는 것이 효율성이 더 높다.\n",
    "* 미지수로 두고 법칙을 발견하자.\n",
    "* 논리의 순서를 뒤바꾸어 더욱 쉽게 구현할 수 있다.\n",
    "\n",
    "---"
   ]
  },
  {
   "cell_type": "markdown",
   "id": "b0bae9ed-aa24-4350-912f-5c6584068920",
   "metadata": {
    "tags": []
   },
   "source": [
    "연습문제\n",
    "# 문자열 다루기 기본\n",
    "\n",
    "문자열 s의 길이가 4 혹은 6이고, 숫자로만 구성돼있는지 확인해주는 함수, solution을 완성하세요. 예를 들어 s가 \"a234\"이면 False를 리턴하고 \"1234\"라면 True를 리턴하면 됩니다."
   ]
  },
  {
   "cell_type": "code",
   "execution_count": 3,
   "id": "3e623897-5fb3-468b-bd64-35d277777e46",
   "metadata": {},
   "outputs": [],
   "source": [
    "def solution(s):\n",
    "    answer = (len(s)==4) or (len(s)==6)\n",
    "    for word in s:\n",
    "        if not word.isdigit():\n",
    "            return False\n",
    "    return answer"
   ]
  },
  {
   "cell_type": "markdown",
   "id": "009073fd",
   "metadata": {},
   "source": [
    "* isdigit은 굳이 한글자씩 나눠서 적용할 필요가 없다."
   ]
  },
  {
   "cell_type": "code",
   "execution_count": 1,
   "id": "af02ccc1-6a55-4aae-8d9e-950c2abd00f0",
   "metadata": {},
   "outputs": [],
   "source": [
    "def alpha_string46(s):\n",
    "    return s.isdigit() and len(s) in (4, 6)"
   ]
  }
 ],
 "metadata": {
  "kernelspec": {
   "display_name": "Python 3.10.5 64-bit (windows store)",
   "language": "python",
   "name": "python3"
  },
  "language_info": {
   "codemirror_mode": {
    "name": "ipython",
    "version": 3
   },
   "file_extension": ".py",
   "mimetype": "text/x-python",
   "name": "python",
   "nbconvert_exporter": "python",
   "pygments_lexer": "ipython3",
   "version": "3.10.5"
  },
  "vscode": {
   "interpreter": {
    "hash": "ab55b09708d965912931001553b79d0bedbbe128afe9be945c509bb9518a427e"
   }
  }
 },
 "nbformat": 4,
 "nbformat_minor": 5
}
